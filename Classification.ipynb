{
 "cells": [
  {
   "cell_type": "code",
   "execution_count": 1,
   "metadata": {},
   "outputs": [],
   "source": [
    "%matplotlib inline\n",
    "import pandas as pd\n",
    "import numpy as np\n",
    "import matplotlib.pyplot as plt\n",
    "from sklearn.model_selection import GridSearchCV\n",
    "from scipy.stats import randint as sp_randint\n",
    "from sklearn.metrics import make_scorer\n",
    "from sklearn.metrics import accuracy_score\n",
    "from sklearn.model_selection import train_test_split\n",
    "from sklearn.metrics import classification_report\n",
    "from sklearn import metrics\n",
    "\n",
    "plt.style.use('seaborn-white')"
   ]
  },
  {
   "cell_type": "code",
   "execution_count": 2,
   "metadata": {},
   "outputs": [
    {
     "data": {
      "text/html": [
       "<div>\n",
       "<style scoped>\n",
       "    .dataframe tbody tr th:only-of-type {\n",
       "        vertical-align: middle;\n",
       "    }\n",
       "\n",
       "    .dataframe tbody tr th {\n",
       "        vertical-align: top;\n",
       "    }\n",
       "\n",
       "    .dataframe thead th {\n",
       "        text-align: right;\n",
       "    }\n",
       "</style>\n",
       "<table border=\"1\" class=\"dataframe\">\n",
       "  <thead>\n",
       "    <tr style=\"text-align: right;\">\n",
       "      <th></th>\n",
       "      <th>Imax</th>\n",
       "      <th>Recency</th>\n",
       "      <th>Frequency</th>\n",
       "      <th>MonetaryValue</th>\n",
       "      <th>EntropyProducts</th>\n",
       "    </tr>\n",
       "    <tr>\n",
       "      <th>CustomerID</th>\n",
       "      <th></th>\n",
       "      <th></th>\n",
       "      <th></th>\n",
       "      <th></th>\n",
       "      <th></th>\n",
       "    </tr>\n",
       "  </thead>\n",
       "  <tbody>\n",
       "    <tr>\n",
       "      <th>12347</th>\n",
       "      <td>676</td>\n",
       "      <td>1</td>\n",
       "      <td>182</td>\n",
       "      <td>4310.00</td>\n",
       "      <td>4.464578</td>\n",
       "    </tr>\n",
       "    <tr>\n",
       "      <th>12348</th>\n",
       "      <td>1248</td>\n",
       "      <td>74</td>\n",
       "      <td>27</td>\n",
       "      <td>1437.24</td>\n",
       "      <td>2.987771</td>\n",
       "    </tr>\n",
       "    <tr>\n",
       "      <th>12349</th>\n",
       "      <td>630</td>\n",
       "      <td>18</td>\n",
       "      <td>72</td>\n",
       "      <td>1457.55</td>\n",
       "      <td>4.276666</td>\n",
       "    </tr>\n",
       "  </tbody>\n",
       "</table>\n",
       "</div>"
      ],
      "text/plain": [
       "            Imax  Recency  Frequency  MonetaryValue  EntropyProducts\n",
       "CustomerID                                                          \n",
       "12347        676        1        182        4310.00         4.464578\n",
       "12348       1248       74         27        1437.24         2.987771\n",
       "12349        630       18         72        1457.55         4.276666"
      ]
     },
     "execution_count": 2,
     "metadata": {},
     "output_type": "execute_result"
    }
   ],
   "source": [
    "# Leggiamo il dataframe dal file csv 'clienti.csv'\n",
    "clienti = pd.read_csv('clienti.csv', sep=',', index_col='CustomerID')\n",
    "clienti.head(3)"
   ]
  },
  {
   "cell_type": "code",
   "execution_count": 3,
   "metadata": {},
   "outputs": [
    {
     "data": {
      "text/html": [
       "<div>\n",
       "<style scoped>\n",
       "    .dataframe tbody tr th:only-of-type {\n",
       "        vertical-align: middle;\n",
       "    }\n",
       "\n",
       "    .dataframe tbody tr th {\n",
       "        vertical-align: top;\n",
       "    }\n",
       "\n",
       "    .dataframe thead th {\n",
       "        text-align: right;\n",
       "    }\n",
       "</style>\n",
       "<table border=\"1\" class=\"dataframe\">\n",
       "  <thead>\n",
       "    <tr style=\"text-align: right;\">\n",
       "      <th></th>\n",
       "      <th>Imax</th>\n",
       "      <th>Recency</th>\n",
       "      <th>Frequency</th>\n",
       "      <th>MonetaryValue</th>\n",
       "      <th>EntropyProducts</th>\n",
       "    </tr>\n",
       "  </thead>\n",
       "  <tbody>\n",
       "    <tr>\n",
       "      <th>count</th>\n",
       "      <td>4324.000000</td>\n",
       "      <td>4324.000000</td>\n",
       "      <td>4324.000000</td>\n",
       "      <td>4324.000000</td>\n",
       "      <td>4324.000000</td>\n",
       "    </tr>\n",
       "    <tr>\n",
       "      <th>mean</th>\n",
       "      <td>360.635060</td>\n",
       "      <td>91.966698</td>\n",
       "      <td>89.553654</td>\n",
       "      <td>1885.037886</td>\n",
       "      <td>3.428550</td>\n",
       "    </tr>\n",
       "    <tr>\n",
       "      <th>std</th>\n",
       "      <td>653.166449</td>\n",
       "      <td>100.364060</td>\n",
       "      <td>219.930129</td>\n",
       "      <td>8164.189549</td>\n",
       "      <td>1.186899</td>\n",
       "    </tr>\n",
       "    <tr>\n",
       "      <th>min</th>\n",
       "      <td>1.000000</td>\n",
       "      <td>0.000000</td>\n",
       "      <td>1.000000</td>\n",
       "      <td>2.900000</td>\n",
       "      <td>0.000000</td>\n",
       "    </tr>\n",
       "    <tr>\n",
       "      <th>25%</th>\n",
       "      <td>120.000000</td>\n",
       "      <td>17.000000</td>\n",
       "      <td>17.000000</td>\n",
       "      <td>299.665000</td>\n",
       "      <td>2.708050</td>\n",
       "    </tr>\n",
       "    <tr>\n",
       "      <th>50%</th>\n",
       "      <td>221.500000</td>\n",
       "      <td>50.000000</td>\n",
       "      <td>40.000000</td>\n",
       "      <td>652.770000</td>\n",
       "      <td>3.515740</td>\n",
       "    </tr>\n",
       "    <tr>\n",
       "      <th>75%</th>\n",
       "      <td>401.250000</td>\n",
       "      <td>143.000000</td>\n",
       "      <td>97.000000</td>\n",
       "      <td>1601.487500</td>\n",
       "      <td>4.276078</td>\n",
       "    </tr>\n",
       "    <tr>\n",
       "      <th>max</th>\n",
       "      <td>14964.000000</td>\n",
       "      <td>373.000000</td>\n",
       "      <td>7302.000000</td>\n",
       "      <td>277460.420000</td>\n",
       "      <td>7.185612</td>\n",
       "    </tr>\n",
       "  </tbody>\n",
       "</table>\n",
       "</div>"
      ],
      "text/plain": [
       "               Imax      Recency    Frequency  MonetaryValue  EntropyProducts\n",
       "count   4324.000000  4324.000000  4324.000000    4324.000000      4324.000000\n",
       "mean     360.635060    91.966698    89.553654    1885.037886         3.428550\n",
       "std      653.166449   100.364060   219.930129    8164.189549         1.186899\n",
       "min        1.000000     0.000000     1.000000       2.900000         0.000000\n",
       "25%      120.000000    17.000000    17.000000     299.665000         2.708050\n",
       "50%      221.500000    50.000000    40.000000     652.770000         3.515740\n",
       "75%      401.250000   143.000000    97.000000    1601.487500         4.276078\n",
       "max    14964.000000   373.000000  7302.000000  277460.420000         7.185612"
      ]
     },
     "execution_count": 3,
     "metadata": {},
     "output_type": "execute_result"
    }
   ],
   "source": [
    "clienti.describe()"
   ]
  },
  {
   "cell_type": "markdown",
   "metadata": {},
   "source": [
    "## Creazione dei label usando l'attributo MonetaryValue"
   ]
  },
  {
   "cell_type": "markdown",
   "metadata": {},
   "source": [
    "Suddividiamo i clienti in tre gruppi distinti, in base al valore dell'attributo MonetaryValue. Se un cliente ha MonetaryValue $\\leq$ 300 allora è considerato \"low-spending\", se ha 300 $<$ MonetaryValue $\\leq$ 1600 allora è considerato \"medium-spending\" altrimenti, se ha MonetaryValue $>$ 1600 allora è considerato \"high-spending\"."
   ]
  },
  {
   "cell_type": "code",
   "execution_count": 4,
   "metadata": {},
   "outputs": [],
   "source": [
    "# Questa funzione dato il valore di MonetaryValue, restituisce la corrispondende etichetta\n",
    "def calculate_label(m):\n",
    "    if m <= 300:\n",
    "        return 0 # low-spending\n",
    "    if 300 < m <= 1600:\n",
    "        return 1 # medium-spending\n",
    "    if m > 1600:\n",
    "        return 2 # high-spending\n",
    "    \n",
    "labels = clienti['MonetaryValue'].apply(calculate_label)"
   ]
  },
  {
   "cell_type": "code",
   "execution_count": 5,
   "metadata": {},
   "outputs": [],
   "source": [
    "# Eliminiamo la colonna MonetaryValue, in quanto utilizzata per fare binning \n",
    "clienti.drop(columns=['MonetaryValue'], inplace=True)"
   ]
  },
  {
   "cell_type": "code",
   "execution_count": 6,
   "metadata": {},
   "outputs": [
    {
     "data": {
      "text/html": [
       "<div>\n",
       "<style scoped>\n",
       "    .dataframe tbody tr th:only-of-type {\n",
       "        vertical-align: middle;\n",
       "    }\n",
       "\n",
       "    .dataframe tbody tr th {\n",
       "        vertical-align: top;\n",
       "    }\n",
       "\n",
       "    .dataframe thead th {\n",
       "        text-align: right;\n",
       "    }\n",
       "</style>\n",
       "<table border=\"1\" class=\"dataframe\">\n",
       "  <thead>\n",
       "    <tr style=\"text-align: right;\">\n",
       "      <th></th>\n",
       "      <th>Imax</th>\n",
       "      <th>Recency</th>\n",
       "      <th>Frequency</th>\n",
       "      <th>EntropyProducts</th>\n",
       "    </tr>\n",
       "    <tr>\n",
       "      <th>CustomerID</th>\n",
       "      <th></th>\n",
       "      <th></th>\n",
       "      <th></th>\n",
       "      <th></th>\n",
       "    </tr>\n",
       "  </thead>\n",
       "  <tbody>\n",
       "    <tr>\n",
       "      <th>12347</th>\n",
       "      <td>676</td>\n",
       "      <td>1</td>\n",
       "      <td>182</td>\n",
       "      <td>4.464578</td>\n",
       "    </tr>\n",
       "    <tr>\n",
       "      <th>12348</th>\n",
       "      <td>1248</td>\n",
       "      <td>74</td>\n",
       "      <td>27</td>\n",
       "      <td>2.987771</td>\n",
       "    </tr>\n",
       "    <tr>\n",
       "      <th>12349</th>\n",
       "      <td>630</td>\n",
       "      <td>18</td>\n",
       "      <td>72</td>\n",
       "      <td>4.276666</td>\n",
       "    </tr>\n",
       "  </tbody>\n",
       "</table>\n",
       "</div>"
      ],
      "text/plain": [
       "            Imax  Recency  Frequency  EntropyProducts\n",
       "CustomerID                                           \n",
       "12347        676        1        182         4.464578\n",
       "12348       1248       74         27         2.987771\n",
       "12349        630       18         72         4.276666"
      ]
     },
     "execution_count": 6,
     "metadata": {},
     "output_type": "execute_result"
    }
   ],
   "source": [
    "clienti.head(3)"
   ]
  },
  {
   "cell_type": "markdown",
   "metadata": {},
   "source": [
    "## Creazione del Training Set e Test Set"
   ]
  },
  {
   "cell_type": "markdown",
   "metadata": {},
   "source": [
    "Creiamo quattro dataframe che rappresentano il training set, il test set e i rispettivi labels."
   ]
  },
  {
   "cell_type": "code",
   "execution_count": 7,
   "metadata": {},
   "outputs": [],
   "source": [
    "train_set, test_set, train_label, test_label = train_test_split(clienti, labels, stratify =labels, test_size=0.30)"
   ]
  },
  {
   "cell_type": "markdown",
   "metadata": {},
   "source": [
    "Inoltre definiamo due funzioni che ci serviranno per stampare i risultati ottenuti dalla classificazione."
   ]
  },
  {
   "cell_type": "code",
   "execution_count": 8,
   "metadata": {},
   "outputs": [],
   "source": [
    "# Funzioni che useremo per stampare i risultati della classificazione\n",
    "def report_scores(test_label, test_pred):\n",
    "    print(classification_report(test_label, \n",
    "                            test_pred, \n",
    "                            target_names=['low-spending', 'medium-spending', 'high-spending']))\n",
    "    \n",
    "\n",
    "def print_metrics(train_label, train_pred_dt, test_label, test_pred_dt):\n",
    "    print('Accuracy train set ', metrics.accuracy_score(train_label, train_pred_dt))\n",
    "    print('Accuracy test set ', metrics.accuracy_score(test_label, test_pred_dt))\n",
    "    print('Precision train set ', metrics.precision_score(train_label, train_pred_dt, average='weighted'))\n",
    "    print('Recall train set ', metrics.recall_score(train_label, train_pred_dt, average='weighted'))\n",
    "    print('F1 score train set ', metrics.f1_score(train_label, train_pred_dt, average='weighted'))\n",
    "    print('Support train set ', metrics.precision_recall_fscore_support(train_label, train_pred_dt))"
   ]
  },
  {
   "cell_type": "markdown",
   "metadata": {},
   "source": [
    "# Standardizzazione/Normalizzazione del dataset"
   ]
  },
  {
   "cell_type": "markdown",
   "metadata": {},
   "source": [
    "In seguito normalizziamo il dataset, che utilizzeremo se l'algoritmo di classificazione necessita di un dataset normalizzato."
   ]
  },
  {
   "cell_type": "code",
   "execution_count": 9,
   "metadata": {},
   "outputs": [],
   "source": [
    "#from sklearn.preprocessing import MinMaxScaler\n",
    "from sklearn.preprocessing import StandardScaler\n",
    "#scaler = MinMaxScaler()\n",
    "scaler = StandardScaler()\n",
    "clienti_normalized = scaler.fit_transform(clienti.values)\n",
    "train_set_normalized, test_set_normalized, train_label_normalized , test_label_normalized = train_test_split(clienti_normalized, labels, stratify=labels, test_size=0.30)"
   ]
  },
  {
   "cell_type": "markdown",
   "metadata": {},
   "source": [
    "# Decision Tree"
   ]
  },
  {
   "cell_type": "code",
   "execution_count": 10,
   "metadata": {},
   "outputs": [],
   "source": [
    "from sklearn import tree"
   ]
  },
  {
   "cell_type": "markdown",
   "metadata": {},
   "source": [
    "## Grid Search per la scelta dei parametri del Decision Tree"
   ]
  },
  {
   "cell_type": "markdown",
   "metadata": {},
   "source": [
    "Applichiamo la Grid Search per la scelta dei migliori parametri per il Decision Tree."
   ]
  },
  {
   "cell_type": "code",
   "execution_count": 11,
   "metadata": {},
   "outputs": [
    {
     "name": "stdout",
     "output_type": "stream",
     "text": [
      "Migliori parametri:\n",
      "   * criterion = gini\n",
      "   * max_depth = 6\n",
      "   * min_samples_leaf = 1\n",
      "   * min_samples_split = 6\n",
      "   * splitter = best\n"
     ]
    }
   ],
   "source": [
    "# Dizionario che contiene il valore i parametri da testare e i rispettivi valori\n",
    "dict_parametri = {\n",
    "    \"criterion\": ['gini', 'entropy'],\n",
    "    \"splitter\" : ['best'],\n",
    "    \"max_depth\": [2, 4, 6, 8, 10, 12, None],\n",
    "    \"min_samples_split\": [1, 2, 4, 6], # Non funziona se faccio come la prof, ma questi sono valori a caso\n",
    "    \"min_samples_leaf\": [1, 2, 4, 6] # Non funziona se faccio come la prof, ma questi sono valori a caso\n",
    "}\n",
    "# Massimo grado di parallelismo (così usa tutti i processori)\n",
    "n_jobs= -1\n",
    "# Creiamo il modello\n",
    "classifier = tree.DecisionTreeClassifier()\n",
    "# Indica il numero di folds da fare per la cross-validation\n",
    "cv = 5\n",
    "# Creiamo la grid search\n",
    "grid_search = GridSearchCV(estimator=classifier,\n",
    "                           param_grid=dict_parametri,\n",
    "                           scoring=make_scorer(accuracy_score),\n",
    "                           n_jobs=n_jobs,\n",
    "                           cv=cv)\n",
    "# Facciamo la grid search sul train_set\n",
    "grid_search.fit(train_set, train_label)\n",
    "# La variabile best_params contiene i miglior parametri trovati usando la grid seatch\n",
    "best_params = grid_search.best_params_\n",
    "\n",
    "print(\"Migliori parametri:\")\n",
    "for param in best_params:\n",
    "    print(\"   *\", param, \"=\", best_params[param])"
   ]
  },
  {
   "cell_type": "markdown",
   "metadata": {},
   "source": [
    "Applichiamo il Decision Tree usando i parametri trovati e lo alleniamo sul training set."
   ]
  },
  {
   "cell_type": "code",
   "execution_count": 12,
   "metadata": {},
   "outputs": [],
   "source": [
    "decision_tree = tree.DecisionTreeClassifier()\n",
    "# Usiamo i parametri trovati con la grid seatch\n",
    "decision_tree.set_params(**best_params)\n",
    "\n",
    "# Alleniamo il modello sul training set\n",
    "decision_tree = decision_tree.fit(train_set, train_label)"
   ]
  },
  {
   "cell_type": "markdown",
   "metadata": {},
   "source": [
    "Applichiamo il Decision Tree al training set e al test set."
   ]
  },
  {
   "cell_type": "code",
   "execution_count": 13,
   "metadata": {},
   "outputs": [],
   "source": [
    "# Labels ottenuti facendo predizione sul training set\n",
    "train_prediction_decision_tree = decision_tree.predict(train_set)\n",
    "# Labels ottenuti facendo predizione sul test set\n",
    "test_prediction_decision_tree = decision_tree.predict(test_set)"
   ]
  },
  {
   "cell_type": "markdown",
   "metadata": {},
   "source": [
    "## Evaluation: metriche e confusion matrix"
   ]
  },
  {
   "cell_type": "code",
   "execution_count": 14,
   "metadata": {},
   "outputs": [
    {
     "name": "stdout",
     "output_type": "stream",
     "text": [
      "Accuracy train set  0.8189028420356906\n",
      "Accuracy test set  0.7688751926040062\n",
      "Precision train set  0.8209800462907739\n",
      "Recall train set  0.8189028420356906\n",
      "F1 score train set  0.8185599667571467\n",
      "Support train set  (array([0.81556196, 0.79510703, 0.87804878]), array([0.74670185, 0.86035738, 0.80845443]), array([0.77961433, 0.82644628, 0.84181568]), array([ 758, 1511,  757], dtype=int64))\n"
     ]
    }
   ],
   "source": [
    "print_metrics(train_label, train_prediction_decision_tree, test_label, test_prediction_decision_tree)"
   ]
  },
  {
   "cell_type": "code",
   "execution_count": 15,
   "metadata": {},
   "outputs": [
    {
     "name": "stdout",
     "output_type": "stream",
     "text": [
      "                 precision    recall  f1-score   support\n",
      "\n",
      "   low-spending       0.76      0.70      0.73       325\n",
      "medium-spending       0.74      0.82      0.78       648\n",
      "  high-spending       0.84      0.73      0.78       325\n",
      "\n",
      "       accuracy                           0.77      1298\n",
      "      macro avg       0.78      0.75      0.76      1298\n",
      "   weighted avg       0.77      0.77      0.77      1298\n",
      "\n"
     ]
    }
   ],
   "source": [
    "report_scores(test_label, test_prediction_decision_tree)"
   ]
  },
  {
   "cell_type": "markdown",
   "metadata": {},
   "source": [
    "Visualizziamo la Confusion Matrix."
   ]
  },
  {
   "cell_type": "code",
   "execution_count": 16,
   "metadata": {},
   "outputs": [
    {
     "data": {
      "image/png": "[encoded data removed]",
      "text/plain": [
       "<Figure size 432x288 with 2 Axes>"
      ]
     },
     "metadata": {},
     "output_type": "display_data"
    }
   ],
   "source": [
    "from sklearn.metrics import confusion_matrix\n",
    "from sklearn.metrics import plot_confusion_matrix\n",
    "\n",
    "plot_confusion_matrix(decision_tree, test_set, test_label)\n",
    "plt.show() "
   ]
  },
  {
   "cell_type": "markdown",
   "metadata": {},
   "source": [
    "# KNN"
   ]
  },
  {
   "cell_type": "code",
   "execution_count": 17,
   "metadata": {},
   "outputs": [],
   "source": [
    "from sklearn.neighbors import KNeighborsClassifier"
   ]
  },
  {
   "cell_type": "markdown",
   "metadata": {},
   "source": [
    "## Grid Search per la scelta dei parametri di KNN"
   ]
  },
  {
   "cell_type": "code",
   "execution_count": 18,
   "metadata": {},
   "outputs": [
    {
     "name": "stdout",
     "output_type": "stream",
     "text": [
      "Migliori parametri:\n",
      "   * algorithm = ball_tree\n",
      "   * metric = minkowski\n",
      "   * n_jobs = -1\n",
      "   * n_neighbors = 10\n",
      "   * p = 1\n",
      "   * weights = distance\n"
     ]
    }
   ],
   "source": [
    "# Dizionario che contiene il valore i parametri da testare e i rispettivi valori\n",
    "# Ha senso scegliere weights, p e algorithm diversi?\n",
    "\n",
    "dict_parametri = {\n",
    "    \"n_neighbors\" : [2, 4, 6, 8, 10],\n",
    "    \"weights\" : ['uniform', 'distance'], # vedi documentazione\n",
    "    \"algorithm\" : ['ball_tree', 'kd_tree'], # Alternative: auto (sceglie lui il migliore), brute -> fa brute-force search\n",
    "    \"metric\" : ['minkowski'], # è usata di default, lo metto per chiarezza. il tipo di distanza cambia in base al valore di p\n",
    "    \"p\" : [1, 2], # 1 -> manhattan distance, 2 -> eclidean distance, \n",
    "    \"n_jobs\" : [-1] # Così usa il massimo grado di parallelismo possibile per fare KNN\n",
    "}\n",
    "# Massimo grado di parallelismo (così usa tutti i processori)\n",
    "n_jobs= -1\n",
    "# Creiamo il modello\n",
    "classifier = KNeighborsClassifier()\n",
    "# Indica il numero di folds da fare per la cross-validation\n",
    "cv = 5\n",
    "# Creiamo la grid search\n",
    "grid_search = GridSearchCV(estimator=classifier,\n",
    "                           param_grid=dict_parametri,\n",
    "                           scoring=make_scorer(accuracy_score),\n",
    "                           n_jobs=n_jobs,\n",
    "                           cv=cv)\n",
    "# Facciamo la grid search sul train_set\n",
    "grid_search.fit(train_set, train_label)\n",
    "# La variabile best_params contiene i miglior parametri trovati usando la grid seatch\n",
    "best_params = grid_search.best_params_\n",
    "\n",
    "print(\"Migliori parametri:\")\n",
    "for param in best_params:\n",
    "    print(\"   *\", param, \"=\", best_params[param])"
   ]
  },
  {
   "cell_type": "markdown",
   "metadata": {},
   "source": [
    "Applichiamo KNN usando i parametri trovati e lo alleniamo sul training set."
   ]
  },
  {
   "cell_type": "code",
   "execution_count": 19,
   "metadata": {},
   "outputs": [
    {
     "data": {
      "text/plain": [
       "KNeighborsClassifier(algorithm='ball_tree', n_jobs=-1, n_neighbors=10, p=1,\n",
       "                     weights='distance')"
      ]
     },
     "execution_count": 19,
     "metadata": {},
     "output_type": "execute_result"
    }
   ],
   "source": [
    "knn = KNeighborsClassifier()\n",
    "# Usiamo i parametri trovati con la grid seatch\n",
    "knn.set_params(**best_params)\n",
    "knn.fit(train_set, train_label)"
   ]
  },
  {
   "cell_type": "markdown",
   "metadata": {},
   "source": [
    "Applichiamo il KNN al training set e al test set."
   ]
  },
  {
   "cell_type": "code",
   "execution_count": 20,
   "metadata": {},
   "outputs": [],
   "source": [
    "# Labels ottenuti facendo predizione sul test set\n",
    "test_prediction_knn = knn.predict(test_set)"
   ]
  },
  {
   "cell_type": "markdown",
   "metadata": {},
   "source": [
    "## Evaluation: metriche e confusion matrix"
   ]
  },
  {
   "cell_type": "code",
   "execution_count": 21,
   "metadata": {},
   "outputs": [
    {
     "name": "stdout",
     "output_type": "stream",
     "text": [
      "                 precision    recall  f1-score   support\n",
      "\n",
      "   low-spending       0.74      0.70      0.72       325\n",
      "medium-spending       0.75      0.81      0.78       648\n",
      "  high-spending       0.85      0.76      0.80       325\n",
      "\n",
      "       accuracy                           0.77      1298\n",
      "      macro avg       0.78      0.75      0.76      1298\n",
      "   weighted avg       0.77      0.77      0.77      1298\n",
      "\n"
     ]
    }
   ],
   "source": [
    "report_scores(test_label, test_prediction_knn)"
   ]
  },
  {
   "cell_type": "markdown",
   "metadata": {},
   "source": [
    "Visualizziamo la Confusion Matrix."
   ]
  },
  {
   "cell_type": "code",
   "execution_count": 22,
   "metadata": {},
   "outputs": [
    {
     "data": {
      "image/png": "[encoded data removed]",
      "text/plain": [
       "<Figure size 432x288 with 2 Axes>"
      ]
     },
     "metadata": {},
     "output_type": "display_data"
    }
   ],
   "source": [
    "from sklearn.metrics import confusion_matrix\n",
    "from sklearn.metrics import plot_confusion_matrix\n",
    "\n",
    "plot_confusion_matrix(knn, test_set, test_label)\n",
    "plt.show() "
   ]
  },
  {
   "cell_type": "markdown",
   "metadata": {},
   "source": [
    "# KNN con dataset normalizzato"
   ]
  },
  {
   "cell_type": "code",
   "execution_count": 23,
   "metadata": {},
   "outputs": [
    {
     "name": "stdout",
     "output_type": "stream",
     "text": [
      "Migliori parametri:\n",
      "   * algorithm = ball_tree\n",
      "   * metric = minkowski\n",
      "   * n_jobs = -1\n",
      "   * n_neighbors = 10\n",
      "   * p = 1\n",
      "   * weights = distance\n"
     ]
    }
   ],
   "source": [
    "# Dizionario che contiene il valore i parametri da testare e i rispettivi valori\n",
    "# Ha senso scegliere weights, p e algorithm diversi?\n",
    "\n",
    "dict_parametri = {\n",
    "    \"n_neighbors\" : [2, 4, 6, 8, 10],\n",
    "    \"weights\" : ['uniform', 'distance'], # vedi documentazione\n",
    "    \"algorithm\" : ['ball_tree', 'kd_tree'], # Alternative: auto (sceglie lui il migliore), brute -> fa brute-force search\n",
    "    \"metric\" : ['minkowski'], # è usata di default, lo metto per chiarezza. il tipo di distanza cambia in base al valore di p\n",
    "    \"p\" : [1, 2], # 1 -> manhattan distance, 2 -> eclidean distance, \n",
    "    \"n_jobs\" : [-1] # Così usa il massimo grado di parallelismo possibile per fare KNN\n",
    "}\n",
    "# Massimo grado di parallelismo (così usa tutti i processori)\n",
    "n_jobs= -1\n",
    "# Creiamo il modello\n",
    "classifier = KNeighborsClassifier()\n",
    "# Indica il numero di folds da fare per la cross-validation\n",
    "cv = 5\n",
    "# Creiamo la grid search\n",
    "grid_search = GridSearchCV(estimator=classifier,\n",
    "                           param_grid=dict_parametri,\n",
    "                           scoring=make_scorer(accuracy_score),\n",
    "                           n_jobs=n_jobs,\n",
    "                           cv=cv)\n",
    "# Facciamo la grid search sul train_set\n",
    "grid_search.fit(train_set_normalized, train_label_normalized)\n",
    "# La variabile best_params contiene i miglior parametri trovati usando la grid seatch\n",
    "best_params = grid_search.best_params_\n",
    "\n",
    "print(\"Migliori parametri:\")\n",
    "for param in best_params:\n",
    "    print(\"   *\", param, \"=\", best_params[param])"
   ]
  },
  {
   "cell_type": "code",
   "execution_count": 24,
   "metadata": {},
   "outputs": [
    {
     "data": {
      "text/plain": [
       "KNeighborsClassifier(algorithm='ball_tree', n_jobs=-1, n_neighbors=10, p=1,\n",
       "                     weights='distance')"
      ]
     },
     "execution_count": 24,
     "metadata": {},
     "output_type": "execute_result"
    }
   ],
   "source": [
    "knn = KNeighborsClassifier()\n",
    "# Usiamo i parametri trovati con la grid seatch\n",
    "knn.set_params(**best_params)\n",
    "knn.fit(train_set_normalized, train_label_normalized)"
   ]
  },
  {
   "cell_type": "code",
   "execution_count": 25,
   "metadata": {},
   "outputs": [],
   "source": [
    "# Labels ottenuti facendo predizione sul test set\n",
    "test_prediction_knn = knn.predict(test_set_normalized)"
   ]
  },
  {
   "cell_type": "code",
   "execution_count": 26,
   "metadata": {},
   "outputs": [
    {
     "name": "stdout",
     "output_type": "stream",
     "text": [
      "                 precision    recall  f1-score   support\n",
      "\n",
      "   low-spending       0.74      0.70      0.72       325\n",
      "medium-spending       0.75      0.82      0.78       648\n",
      "  high-spending       0.85      0.74      0.79       325\n",
      "\n",
      "       accuracy                           0.77      1298\n",
      "      macro avg       0.78      0.75      0.76      1298\n",
      "   weighted avg       0.77      0.77      0.77      1298\n",
      "\n"
     ]
    }
   ],
   "source": [
    "report_scores(test_label_normalized, test_prediction_knn)"
   ]
  },
  {
   "cell_type": "code",
   "execution_count": 27,
   "metadata": {},
   "outputs": [
    {
     "data": {
      "image/png": "[encoded data removed]",
      "text/plain": [
       "<Figure size 432x288 with 2 Axes>"
      ]
     },
     "metadata": {},
     "output_type": "display_data"
    }
   ],
   "source": [
    "from sklearn.metrics import confusion_matrix\n",
    "from sklearn.metrics import plot_confusion_matrix\n",
    "\n",
    "plot_confusion_matrix(knn, test_set_normalized, test_label_normalized)\n",
    "plt.show() "
   ]
  },
  {
   "cell_type": "markdown",
   "metadata": {},
   "source": [
    "# Naive Bayesian Classifier"
   ]
  },
  {
   "cell_type": "markdown",
   "metadata": {},
   "source": [
    "Dato che il Naive Bayesian Classifier non necessita di particolari parametri, non occorre effettuale la grid search."
   ]
  },
  {
   "cell_type": "code",
   "execution_count": 53,
   "metadata": {},
   "outputs": [],
   "source": [
    "from sklearn.naive_bayes import GaussianNB\n",
    "gnb = GaussianNB()\n",
    "# Alleniamo il modello sul training set\n",
    "gnb.fit(train_set, train_label)\n",
    "# Perché qui la prof non prova a fare predizione sul training set?\n",
    "# Labels ottenuti facendo predizione sul test set\n",
    "test_prediction_gnb = gnb.predict(test_set)"
   ]
  },
  {
   "cell_type": "markdown",
   "metadata": {},
   "source": [
    "## Evaluation: metriche e confusion matrix"
   ]
  },
  {
   "cell_type": "code",
   "execution_count": 54,
   "metadata": {},
   "outputs": [
    {
     "name": "stdout",
     "output_type": "stream",
     "text": [
      "                 precision    recall  f1-score   support\n",
      "\n",
      "   low-spending       0.60      0.85      0.70       325\n",
      "medium-spending       0.70      0.69      0.69       648\n",
      "  high-spending       0.88      0.54      0.67       325\n",
      "\n",
      "       accuracy                           0.69      1298\n",
      "      macro avg       0.73      0.69      0.69      1298\n",
      "   weighted avg       0.72      0.69      0.69      1298\n",
      "\n"
     ]
    }
   ],
   "source": [
    "report_scores(test_label, test_prediction_gnb)"
   ]
  },
  {
   "cell_type": "markdown",
   "metadata": {},
   "source": [
    "Visualizziamo la Confusion Matrix."
   ]
  },
  {
   "cell_type": "code",
   "execution_count": 31,
   "metadata": {},
   "outputs": [
    {
     "data": {
      "image/png": "[encoded data removed]",
      "text/plain": [
       "<Figure size 432x288 with 2 Axes>"
      ]
     },
     "metadata": {},
     "output_type": "display_data"
    }
   ],
   "source": [
    "from sklearn.metrics import confusion_matrix\n",
    "from sklearn.metrics import plot_confusion_matrix\n",
    "# Perché la prof la calcola se poi non la usa?\n",
    "confusion_matrix = confusion_matrix(test_label, test_prediction_knn)\n",
    "\n",
    "plot_confusion_matrix(gnb, test_set, test_label)\n",
    "plt.show() "
   ]
  },
  {
   "cell_type": "markdown",
   "metadata": {},
   "source": [
    "# Random Forest"
   ]
  },
  {
   "cell_type": "code",
   "execution_count": 32,
   "metadata": {},
   "outputs": [],
   "source": [
    "from sklearn.ensemble import RandomForestClassifier"
   ]
  },
  {
   "cell_type": "markdown",
   "metadata": {},
   "source": [
    "## Grid Search per la scelta dei parametri di Random Forest"
   ]
  },
  {
   "cell_type": "code",
   "execution_count": 33,
   "metadata": {},
   "outputs": [
    {
     "name": "stdout",
     "output_type": "stream",
     "text": [
      "Migliori parametri:\n",
      "   * criterion = entropy\n",
      "   * max_depth = 32\n",
      "   * min_samples_leaf = 4\n",
      "   * min_samples_split = 2\n",
      "   * n_estimators = 100\n",
      "   * n_jobs = -1\n"
     ]
    }
   ],
   "source": [
    "# Dizionario che contiene il valore i parametri da testare e i rispettivi valori\n",
    "dict_parametri = {\n",
    "    \"n_estimators\" : [100],\n",
    "    \"criterion\" : ['gini', 'entropy'],\n",
    "    \"max_depth\": [8, 16, 32, None],\n",
    "    \"min_samples_split\": [1, 2, 4, 6],\n",
    "    \"min_samples_leaf\": [1, 2, 4, 6],\n",
    "    \"n_jobs\" : [-1]\n",
    "}\n",
    "# Massimo grado di parallelismo (così usa tutti i processori)\n",
    "n_jobs= -1\n",
    "# Creiamo il modello\n",
    "classifier = RandomForestClassifier()\n",
    "# Indica il numero di folds da fare per la cross-validation\n",
    "cv = 5\n",
    "# Creiamo la grid search\n",
    "grid_search = GridSearchCV(estimator=classifier,\n",
    "                           param_grid=dict_parametri,\n",
    "                           scoring=make_scorer(accuracy_score),\n",
    "                           n_jobs=n_jobs,\n",
    "                           cv=cv)\n",
    "# Facciamo la grid search sul train_set\n",
    "grid_search.fit(train_set, train_label)\n",
    "# La variabile best_params contiene i miglior parametri trovati usando la grid seatch\n",
    "best_params = grid_search.best_params_\n",
    "\n",
    "print(\"Migliori parametri:\")\n",
    "for param in best_params:\n",
    "    print(\"   *\", param, \"=\", best_params[param])"
   ]
  },
  {
   "cell_type": "markdown",
   "metadata": {},
   "source": [
    "Applichiamo la Random Forest usando i parametri trovati e lo alleniamo sul training set."
   ]
  },
  {
   "cell_type": "code",
   "execution_count": 34,
   "metadata": {},
   "outputs": [],
   "source": [
    "random_forest = RandomForestClassifier()\n",
    "# Usiamo i parametri trovati con la grid seatch\n",
    "random_forest.set_params(**best_params)\n",
    "\n",
    "# Alleniamo il modello sul training set\n",
    "random_forest = random_forest.fit(train_set, train_label)"
   ]
  },
  {
   "cell_type": "code",
   "execution_count": 35,
   "metadata": {},
   "outputs": [],
   "source": [
    "# Labels ottenuti facendo predizione sul training set\n",
    "train_prediction_random_forest = random_forest.predict(train_set)\n",
    "# Labels ottenuti facendo predizione sul test set\n",
    "test_prediction_random_forest = random_forest.predict(test_set)"
   ]
  },
  {
   "cell_type": "markdown",
   "metadata": {},
   "source": [
    "## Evaluation: metriche e confusion matrix"
   ]
  },
  {
   "cell_type": "code",
   "execution_count": 36,
   "metadata": {},
   "outputs": [
    {
     "name": "stdout",
     "output_type": "stream",
     "text": [
      "Accuracy train set  0.9038334434897555\n",
      "Accuracy test set  0.7919876733436055\n",
      "Precision train set  0.9041393598497188\n",
      "Recall train set  0.9038334434897555\n",
      "F1 score train set  0.9038121689913474\n",
      "Support train set  (array([0.89823609, 0.89311011, 0.93206522]), array([0.87335092, 0.91793514, 0.90620872]), array([0.88561873, 0.90535248, 0.91895512]), array([ 758, 1511,  757], dtype=int64))\n"
     ]
    }
   ],
   "source": [
    "print_metrics(train_label, train_prediction_random_forest, test_label, test_prediction_random_forest)"
   ]
  },
  {
   "cell_type": "code",
   "execution_count": 37,
   "metadata": {},
   "outputs": [
    {
     "name": "stdout",
     "output_type": "stream",
     "text": [
      "                 precision    recall  f1-score   support\n",
      "\n",
      "   low-spending       0.77      0.71      0.74       325\n",
      "medium-spending       0.77      0.83      0.80       648\n",
      "  high-spending       0.87      0.79      0.83       325\n",
      "\n",
      "       accuracy                           0.79      1298\n",
      "      macro avg       0.80      0.78      0.79      1298\n",
      "   weighted avg       0.79      0.79      0.79      1298\n",
      "\n"
     ]
    }
   ],
   "source": [
    "report_scores(test_label, test_prediction_random_forest)"
   ]
  },
  {
   "cell_type": "markdown",
   "metadata": {},
   "source": [
    "Visualizziamo la Confusion Matrix."
   ]
  },
  {
   "cell_type": "code",
   "execution_count": 38,
   "metadata": {},
   "outputs": [
    {
     "data": {
      "image/png": "[encoded data removed]",
      "text/plain": [
       "<Figure size 432x288 with 2 Axes>"
      ]
     },
     "metadata": {},
     "output_type": "display_data"
    }
   ],
   "source": [
    "from sklearn.metrics import confusion_matrix\n",
    "from sklearn.metrics import plot_confusion_matrix\n",
    "# Perché la prof la calcola se poi non la usa?\n",
    "confusion_matrix = confusion_matrix(test_label, test_prediction_random_forest)\n",
    "\n",
    "plot_confusion_matrix(random_forest, test_set, test_label)\n",
    "plt.show() "
   ]
  },
  {
   "cell_type": "markdown",
   "metadata": {},
   "source": [
    "# Rule Based (RIPPER)"
   ]
  },
  {
   "cell_type": "code",
   "execution_count": 39,
   "metadata": {},
   "outputs": [],
   "source": [
    "# è necessario installare wittgenstein"
   ]
  },
  {
   "cell_type": "code",
   "execution_count": 40,
   "metadata": {},
   "outputs": [],
   "source": [
    "import wittgenstein as lw"
   ]
  },
  {
   "cell_type": "code",
   "execution_count": 41,
   "metadata": {},
   "outputs": [
    {
     "data": {
      "text/plain": [
       "'\\n# Dizionario che contiene il valore i parametri da testare e i rispettivi valori\\ndict_parametri = {\\n    \"prune_size\": [0.5, 0.6],\\n    \"k\": [1, 3, 5]\\n}\\n# Massimo grado di parallelismo (così usa tutti i processori)\\nn_jobs= -1\\n# Creiamo il modello\\nclassifier = lw.RIPPER()\\n# Indica il numero di folds da fare per la cross-validation\\ncv = 5\\n# Creiamo la grid search\\ngrid_search = GridSearchCV(estimator=classifier,\\n                           param_grid=dict_parametri,\\n                           scoring=make_scorer(accuracy_score),\\n                           n_jobs=n_jobs,\\n                           cv=cv)\\n# Facciamo la grid search sul train_set\\ngrid_search.fit(train_set, train_label)\\n# La variabile best_params contiene i miglior parametri trovati usando la grid seatch\\nbest_params = grid_search.best_params_\\n\\nprint(\"Migliori parametri:\")\\nfor param in best_params:\\n    print(\"   *\", param, \"=\", best_params[param])\\n'"
      ]
     },
     "execution_count": 41,
     "metadata": {},
     "output_type": "execute_result"
    }
   ],
   "source": [
    "\"\"\"\n",
    "# Dizionario che contiene il valore i parametri da testare e i rispettivi valori\n",
    "dict_parametri = {\n",
    "    \"prune_size\": [0.5, 0.6],\n",
    "    \"k\": [1, 3, 5]\n",
    "}\n",
    "# Massimo grado di parallelismo (così usa tutti i processori)\n",
    "n_jobs= -1\n",
    "# Creiamo il modello\n",
    "classifier = lw.RIPPER()\n",
    "# Indica il numero di folds da fare per la cross-validation\n",
    "cv = 5\n",
    "# Creiamo la grid search\n",
    "grid_search = GridSearchCV(estimator=classifier,\n",
    "                           param_grid=dict_parametri,\n",
    "                           scoring=make_scorer(accuracy_score),\n",
    "                           n_jobs=n_jobs,\n",
    "                           cv=cv)\n",
    "# Facciamo la grid search sul train_set\n",
    "grid_search.fit(train_set, train_label)\n",
    "# La variabile best_params contiene i miglior parametri trovati usando la grid seatch\n",
    "best_params = grid_search.best_params_\n",
    "\n",
    "print(\"Migliori parametri:\")\n",
    "for param in best_params:\n",
    "    print(\"   *\", param, \"=\", best_params[param])\n",
    "\"\"\""
   ]
  },
  {
   "cell_type": "markdown",
   "metadata": {},
   "source": [
    "# SVM"
   ]
  },
  {
   "cell_type": "code",
   "execution_count": 92,
   "metadata": {},
   "outputs": [],
   "source": [
    "from sklearn.svm import SVC"
   ]
  },
  {
   "cell_type": "markdown",
   "metadata": {},
   "source": [
    "## Grid Search per la scelta dei parametri di SVM"
   ]
  },
  {
   "cell_type": "code",
   "execution_count": 93,
   "metadata": {},
   "outputs": [
    {
     "name": "stdout",
     "output_type": "stream",
     "text": [
      "Migliori parametri:\n",
      "   * C = 100\n",
      "   * gamma = scale\n",
      "   * kernel = rbf\n"
     ]
    }
   ],
   "source": [
    "# Dizionario che contiene il valore i parametri da testare e i rispettivi valori\n",
    "dict_parametri = {\n",
    "    \"C\" : [1, 10, 100],\n",
    "    \"kernel\" : ['rbf', 'sigmoid'],\n",
    "    \"gamma\" : ['scale', 'auto']\n",
    "}\n",
    "\n",
    "# Massimo grado di parallelismo (così usa tutti i processori)\n",
    "n_jobs= -1\n",
    "# Creiamo il modello\n",
    "classifier = SVC()\n",
    "# Indica il numero di folds da fare per la cross-validation\n",
    "cv = 5\n",
    "# Creiamo la grid search\n",
    "grid_search = GridSearchCV(estimator=classifier,\n",
    "                           param_grid=dict_parametri,\n",
    "                           scoring=make_scorer(accuracy_score),\n",
    "                           n_jobs=n_jobs,\n",
    "                           cv=cv)\n",
    "# Facciamo la grid search sul train_set\n",
    "grid_search.fit(train_set, train_label)\n",
    "# La variabile best_params contiene i miglior parametri trovati usando la grid seatch\n",
    "best_params = grid_search.best_params_\n",
    "\n",
    "print(\"Migliori parametri:\")\n",
    "for param in best_params:\n",
    "    print(\"   *\", param, \"=\", best_params[param])"
   ]
  },
  {
   "cell_type": "markdown",
   "metadata": {},
   "source": [
    "Applichiamo l'SVM usando i parametri trovati e lo alleniamo sul training set."
   ]
  },
  {
   "cell_type": "code",
   "execution_count": 94,
   "metadata": {},
   "outputs": [],
   "source": [
    "svm = SVC()\n",
    "# Usiamo i parametri trovati con la grid seatch\n",
    "svm.set_params(**best_params)\n",
    "\n",
    "# Alleniamo il modello sul training set\n",
    "svm = svm.fit(train_set, train_label)"
   ]
  },
  {
   "cell_type": "code",
   "execution_count": 95,
   "metadata": {},
   "outputs": [],
   "source": [
    "# Labels ottenuti facendo predizione sul training set\n",
    "train_prediction_svm = svm.predict(train_set)\n",
    "# Labels ottenuti facendo predizione sul test set\n",
    "test_prediction_svm = svm.predict(test_set)"
   ]
  },
  {
   "cell_type": "markdown",
   "metadata": {},
   "source": [
    "## Evaluation: metriche e confusion matrix"
   ]
  },
  {
   "cell_type": "code",
   "execution_count": 96,
   "metadata": {},
   "outputs": [
    {
     "name": "stdout",
     "output_type": "stream",
     "text": [
      "Accuracy train set  0.7683410442828817\n",
      "Accuracy test set  0.7580893682588598\n",
      "Precision train set  0.7727975996650348\n",
      "Recall train set  0.7683410442828817\n",
      "F1 score train set  0.7674541321061332\n",
      "Support train set  (array([0.76946108, 0.73854289, 0.8445122 ]), array([0.67810026, 0.8318994 , 0.7318362 ]), array([0.72089762, 0.78244631, 0.7841472 ]), array([ 758, 1511,  757], dtype=int64))\n"
     ]
    }
   ],
   "source": [
    "print_metrics(train_label, train_prediction_svm, test_label, test_prediction_svm)"
   ]
  },
  {
   "cell_type": "code",
   "execution_count": 97,
   "metadata": {},
   "outputs": [
    {
     "name": "stdout",
     "output_type": "stream",
     "text": [
      "                 precision    recall  f1-score   support\n",
      "\n",
      "   low-spending       0.76      0.66      0.70       325\n",
      "medium-spending       0.72      0.85      0.78       648\n",
      "  high-spending       0.88      0.68      0.77       325\n",
      "\n",
      "       accuracy                           0.76      1298\n",
      "      macro avg       0.79      0.73      0.75      1298\n",
      "   weighted avg       0.77      0.76      0.76      1298\n",
      "\n"
     ]
    }
   ],
   "source": [
    "report_scores(test_label, test_prediction_svm)"
   ]
  },
  {
   "cell_type": "markdown",
   "metadata": {},
   "source": [
    "Notiamo che le classi low-spending e high-spending hanno recall più bassa, quindi proviamo a migliorare la capacità predittiva del modello aggiungendo dei pesi alle classi."
   ]
  },
  {
   "cell_type": "code",
   "execution_count": 98,
   "metadata": {},
   "outputs": [],
   "source": [
    "class_weights = {\n",
    "    0 : 0.375,\n",
    "    1 : 0.25,\n",
    "    2 : 0.375,\n",
    "}\n",
    "svm = SVC()\n",
    "# Usiamo i parametri trovati con la grid seatch\n",
    "svm.set_params(**best_params, class_weight=class_weights)\n",
    "\n",
    "# Alleniamo il modello sul training set\n",
    "svm = svm.fit(train_set, train_label)"
   ]
  },
  {
   "cell_type": "code",
   "execution_count": 99,
   "metadata": {},
   "outputs": [],
   "source": [
    "# Labels ottenuti facendo predizione sul training set\n",
    "train_prediction_svm = svm.predict(train_set)\n",
    "# Labels ottenuti facendo predizione sul test set\n",
    "test_prediction_svm = svm.predict(test_set)"
   ]
  },
  {
   "cell_type": "markdown",
   "metadata": {},
   "source": [
    "## Evaluation SVM (pesi alle classi): metriche e confusion matrix"
   ]
  },
  {
   "cell_type": "code",
   "execution_count": 100,
   "metadata": {},
   "outputs": [
    {
     "name": "stdout",
     "output_type": "stream",
     "text": [
      "Accuracy train set  0.7633840052875083\n",
      "Accuracy test set  0.7542372881355932\n",
      "Precision train set  0.7648966634216573\n",
      "Recall train set  0.7633840052875083\n",
      "F1 score train set  0.7633932458435037\n",
      "Support train set  (array([0.71221282, 0.78043631, 0.78663239]), array([0.77704485, 0.73395103, 0.80845443]), array([0.74321767, 0.75648022, 0.79739414]), array([ 758, 1511,  757], dtype=int64))\n"
     ]
    }
   ],
   "source": [
    "print_metrics(train_label, train_prediction_svm, test_label, test_prediction_svm)"
   ]
  },
  {
   "cell_type": "code",
   "execution_count": 101,
   "metadata": {},
   "outputs": [
    {
     "name": "stdout",
     "output_type": "stream",
     "text": [
      "                 precision    recall  f1-score   support\n",
      "\n",
      "   low-spending       0.70      0.77      0.73       325\n",
      "medium-spending       0.76      0.74      0.75       648\n",
      "  high-spending       0.81      0.76      0.79       325\n",
      "\n",
      "       accuracy                           0.75      1298\n",
      "      macro avg       0.76      0.76      0.76      1298\n",
      "   weighted avg       0.76      0.75      0.75      1298\n",
      "\n"
     ]
    }
   ],
   "source": [
    "report_scores(test_label, test_prediction_svm)"
   ]
  },
  {
   "cell_type": "markdown",
   "metadata": {},
   "source": [
    "Visualizziamo la Confusion Matrix."
   ]
  },
  {
   "cell_type": "code",
   "execution_count": 102,
   "metadata": {},
   "outputs": [
    {
     "data": {
      "image/png": "[encoded data removed]",
      "text/plain": [
       "<Figure size 432x288 with 2 Axes>"
      ]
     },
     "metadata": {},
     "output_type": "display_data"
    }
   ],
   "source": [
    "from sklearn.metrics import confusion_matrix\n",
    "from sklearn.metrics import plot_confusion_matrix\n",
    "\n",
    "plot_confusion_matrix(svm, test_set, test_label)\n",
    "plt.show() "
   ]
  },
  {
   "cell_type": "markdown",
   "metadata": {},
   "source": [
    "# SVM con dataset normalizzato"
   ]
  },
  {
   "cell_type": "markdown",
   "metadata": {},
   "source": [
    "## Grid Search per la scelta dei parametri di SVM"
   ]
  },
  {
   "cell_type": "code",
   "execution_count": 103,
   "metadata": {},
   "outputs": [
    {
     "name": "stdout",
     "output_type": "stream",
     "text": [
      "Migliori parametri:\n",
      "   * C = 100\n",
      "   * gamma = auto\n",
      "   * kernel = rbf\n"
     ]
    }
   ],
   "source": [
    "# Dizionario che contiene il valore i parametri da testare e i rispettivi valori\n",
    "dict_parametri = {\n",
    "    \"C\" : [1, 10, 100],\n",
    "    \"kernel\" : ['rbf', 'sigmoid'],\n",
    "    \"gamma\" : ['scale', 'auto']\n",
    "}\n",
    "\n",
    "# Massimo grado di parallelismo (così usa tutti i processori)\n",
    "n_jobs= -1\n",
    "# Creiamo il modello\n",
    "classifier = SVC()\n",
    "# Indica il numero di folds da fare per la cross-validation\n",
    "cv = 5\n",
    "# Creiamo la grid search\n",
    "grid_search = GridSearchCV(estimator=classifier,\n",
    "                           param_grid=dict_parametri,\n",
    "                           scoring=make_scorer(accuracy_score),\n",
    "                           n_jobs=n_jobs,\n",
    "                           cv=cv)\n",
    "# Facciamo la grid search sul train_set\n",
    "grid_search.fit(train_set_normalized, train_label_normalized)\n",
    "# La variabile best_params contiene i miglior parametri trovati usando la grid seatch\n",
    "best_params = grid_search.best_params_\n",
    "\n",
    "print(\"Migliori parametri:\")\n",
    "for param in best_params:\n",
    "    print(\"   *\", param, \"=\", best_params[param])"
   ]
  },
  {
   "cell_type": "markdown",
   "metadata": {},
   "source": [
    "Applichiamo l'SVM usando i parametri trovati e lo alleniamo sul training set."
   ]
  },
  {
   "cell_type": "code",
   "execution_count": 104,
   "metadata": {},
   "outputs": [],
   "source": [
    "svm = SVC()\n",
    "# Usiamo i parametri trovati con la grid seatch\n",
    "svm.set_params(**best_params, class_weight=class_weights)\n",
    "\n",
    "# Alleniamo il modello sul training set\n",
    "svm = svm.fit(train_set_normalized, train_label_normalized)"
   ]
  },
  {
   "cell_type": "code",
   "execution_count": 105,
   "metadata": {},
   "outputs": [],
   "source": [
    "# Labels ottenuti facendo predizione sul training set\n",
    "train_prediction_svm = svm.predict(train_set_normalized)\n",
    "# Labels ottenuti facendo predizione sul test set\n",
    "test_prediction_svm = svm.predict(test_set_normalized)"
   ]
  },
  {
   "cell_type": "code",
   "execution_count": 106,
   "metadata": {},
   "outputs": [
    {
     "name": "stdout",
     "output_type": "stream",
     "text": [
      "Accuracy train set  0.7957699933906147\n",
      "Accuracy test set  0.8035439137134053\n",
      "Precision train set  0.7984558682395718\n",
      "Recall train set  0.7957699933906147\n",
      "F1 score train set  0.7961409684222811\n",
      "Support train set  (array([0.71919431, 0.81638418, 0.84203655]), array([0.80079156, 0.76505625, 0.85204756]), array([0.75780275, 0.78988726, 0.84701248]), array([ 758, 1511,  757], dtype=int64))\n"
     ]
    }
   ],
   "source": [
    "print_metrics(train_label_normalized, train_prediction_svm, test_label_normalized, test_prediction_svm)"
   ]
  },
  {
   "cell_type": "code",
   "execution_count": 107,
   "metadata": {},
   "outputs": [
    {
     "name": "stdout",
     "output_type": "stream",
     "text": [
      "                 precision    recall  f1-score   support\n",
      "\n",
      "   low-spending       0.75      0.79      0.77       325\n",
      "medium-spending       0.81      0.79      0.80       648\n",
      "  high-spending       0.85      0.84      0.84       325\n",
      "\n",
      "       accuracy                           0.80      1298\n",
      "      macro avg       0.80      0.81      0.80      1298\n",
      "   weighted avg       0.80      0.80      0.80      1298\n",
      "\n"
     ]
    }
   ],
   "source": [
    "report_scores(test_label_normalized, test_prediction_svm)"
   ]
  },
  {
   "cell_type": "markdown",
   "metadata": {},
   "source": [
    "Visualizziamo la Confusion Matrix."
   ]
  },
  {
   "cell_type": "code",
   "execution_count": 114,
   "metadata": {},
   "outputs": [
    {
     "data": {
      "image/png": "[encoded data removed]",
      "text/plain": [
       "<Figure size 432x288 with 2 Axes>"
      ]
     },
     "metadata": {},
     "output_type": "display_data"
    }
   ],
   "source": [
    "from sklearn.metrics import confusion_matrix\n",
    "from sklearn.metrics import plot_confusion_matrix\n",
    "\n",
    "plot_confusion_matrix(svm, test_set_normalized, test_label_normalized)\n",
    "plt.show() "
   ]
  },
  {
   "cell_type": "markdown",
   "metadata": {},
   "source": [
    "# SVM con dataset normalizzato (con pesi alle classi)"
   ]
  },
  {
   "cell_type": "code",
   "execution_count": 109,
   "metadata": {},
   "outputs": [],
   "source": [
    "svm = SVC()\n",
    "# Usiamo i parametri trovati con la grid seatch\n",
    "class_weights = {\n",
    "    0 : 0.375,\n",
    "    1 : 0.25,\n",
    "    2 : 0.375,\n",
    "}\n",
    "svm.set_params(**best_params, class_weight=class_weights)\n",
    "\n",
    "# Alleniamo il modello sul training set\n",
    "svm = svm.fit(train_set_normalized, train_label_normalized)"
   ]
  },
  {
   "cell_type": "code",
   "execution_count": 110,
   "metadata": {},
   "outputs": [],
   "source": [
    "# Labels ottenuti facendo predizione sul training set\n",
    "train_prediction_svm = svm.predict(train_set_normalized)\n",
    "# Labels ottenuti facendo predizione sul test set\n",
    "test_prediction_svm = svm.predict(test_set_normalized)"
   ]
  },
  {
   "cell_type": "code",
   "execution_count": 111,
   "metadata": {},
   "outputs": [
    {
     "name": "stdout",
     "output_type": "stream",
     "text": [
      "Accuracy train set  0.7957699933906147\n",
      "Accuracy test set  0.8035439137134053\n",
      "Precision train set  0.7984558682395718\n",
      "Recall train set  0.7957699933906147\n",
      "F1 score train set  0.7961409684222811\n",
      "Support train set  (array([0.71919431, 0.81638418, 0.84203655]), array([0.80079156, 0.76505625, 0.85204756]), array([0.75780275, 0.78988726, 0.84701248]), array([ 758, 1511,  757], dtype=int64))\n"
     ]
    }
   ],
   "source": [
    "print_metrics(train_label_normalized, train_prediction_svm, test_label_normalized, test_prediction_svm)"
   ]
  },
  {
   "cell_type": "code",
   "execution_count": 112,
   "metadata": {},
   "outputs": [
    {
     "name": "stdout",
     "output_type": "stream",
     "text": [
      "                 precision    recall  f1-score   support\n",
      "\n",
      "   low-spending       0.75      0.79      0.77       325\n",
      "medium-spending       0.81      0.79      0.80       648\n",
      "  high-spending       0.85      0.84      0.84       325\n",
      "\n",
      "       accuracy                           0.80      1298\n",
      "      macro avg       0.80      0.81      0.80      1298\n",
      "   weighted avg       0.80      0.80      0.80      1298\n",
      "\n"
     ]
    }
   ],
   "source": [
    "report_scores(test_label_normalized, test_prediction_svm)"
   ]
  },
  {
   "cell_type": "markdown",
   "metadata": {},
   "source": [
    "Visualizziamo la Confusion Matrix."
   ]
  },
  {
   "cell_type": "code",
   "execution_count": 115,
   "metadata": {},
   "outputs": [
    {
     "data": {
      "image/png": "[encoded data removed]",
      "text/plain": [
       "<Figure size 432x288 with 2 Axes>"
      ]
     },
     "metadata": {},
     "output_type": "display_data"
    }
   ],
   "source": [
    "from sklearn.metrics import confusion_matrix\n",
    "from sklearn.metrics import plot_confusion_matrix\n",
    "\n",
    "plot_confusion_matrix(svm, test_set_normalized, test_label_normalized)\n",
    "plt.show() "
   ]
  },
  {
   "cell_type": "code",
   "execution_count": null,
   "metadata": {},
   "outputs": [],
   "source": []
  }
 ],
 "metadata": {
  "kernelspec": {
   "display_name": "Python 3",
   "language": "python",
   "name": "python3"
  },
  "language_info": {
   "codemirror_mode": {
    "name": "ipython",
    "version": 3
   },
   "file_extension": ".py",
   "mimetype": "text/x-python",
   "name": "python",
   "nbconvert_exporter": "python",
   "pygments_lexer": "ipython3",
   "version": "3.8.3"
  }
 },
 "nbformat": 4,
 "nbformat_minor": 4
}
