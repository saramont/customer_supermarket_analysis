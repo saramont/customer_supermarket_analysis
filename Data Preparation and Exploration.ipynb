{
 "cells": [
  {
   "cell_type": "code",
   "execution_count": 281,
   "metadata": {},
   "outputs": [],
   "source": [
    "%matplotlib inline\n",
    "import pandas as pd\n",
    "import numpy as np\n",
    "import matplotlib.pyplot as plt\n",
    "import squarify\n",
    "plt.style.use('seaborn-white')"
   ]
  },
  {
   "cell_type": "markdown",
   "metadata": {},
   "source": [
    "# Data Preparation"
   ]
  },
  {
   "cell_type": "code",
   "execution_count": 282,
   "metadata": {},
   "outputs": [
    {
     "data": {
      "text/html": [
       "<div>\n",
       "<style scoped>\n",
       "    .dataframe tbody tr th:only-of-type {\n",
       "        vertical-align: middle;\n",
       "    }\n",
       "\n",
       "    .dataframe tbody tr th {\n",
       "        vertical-align: top;\n",
       "    }\n",
       "\n",
       "    .dataframe thead th {\n",
       "        text-align: right;\n",
       "    }\n",
       "</style>\n",
       "<table border=\"1\" class=\"dataframe\">\n",
       "  <thead>\n",
       "    <tr style=\"text-align: right;\">\n",
       "      <th></th>\n",
       "      <th>Unnamed: 0</th>\n",
       "      <th>BasketID</th>\n",
       "      <th>BasketDate</th>\n",
       "      <th>Sale</th>\n",
       "      <th>CustomerID</th>\n",
       "      <th>CustomerCountry</th>\n",
       "      <th>ProdID</th>\n",
       "      <th>ProdDescr</th>\n",
       "      <th>Qta</th>\n",
       "    </tr>\n",
       "  </thead>\n",
       "  <tbody>\n",
       "    <tr>\n",
       "      <th>0</th>\n",
       "      <td>0</td>\n",
       "      <td>536365</td>\n",
       "      <td>01/12/10 08:26</td>\n",
       "      <td>2,55</td>\n",
       "      <td>17850.0</td>\n",
       "      <td>United Kingdom</td>\n",
       "      <td>85123A</td>\n",
       "      <td>WHITE HANGING HEART T-LIGHT HOLDER</td>\n",
       "      <td>6</td>\n",
       "    </tr>\n",
       "    <tr>\n",
       "      <th>1</th>\n",
       "      <td>1</td>\n",
       "      <td>536365</td>\n",
       "      <td>01/12/10 08:26</td>\n",
       "      <td>3,39</td>\n",
       "      <td>17850.0</td>\n",
       "      <td>United Kingdom</td>\n",
       "      <td>71053</td>\n",
       "      <td>WHITE METAL LANTERN</td>\n",
       "      <td>6</td>\n",
       "    </tr>\n",
       "    <tr>\n",
       "      <th>2</th>\n",
       "      <td>2</td>\n",
       "      <td>536365</td>\n",
       "      <td>01/12/10 08:26</td>\n",
       "      <td>2,75</td>\n",
       "      <td>17850.0</td>\n",
       "      <td>United Kingdom</td>\n",
       "      <td>84406B</td>\n",
       "      <td>CREAM CUPID HEARTS COAT HANGER</td>\n",
       "      <td>8</td>\n",
       "    </tr>\n",
       "  </tbody>\n",
       "</table>\n",
       "</div>"
      ],
      "text/plain": [
       "   Unnamed: 0 BasketID      BasketDate  Sale  CustomerID CustomerCountry  \\\n",
       "0           0   536365  01/12/10 08:26  2,55     17850.0  United Kingdom   \n",
       "1           1   536365  01/12/10 08:26  3,39     17850.0  United Kingdom   \n",
       "2           2   536365  01/12/10 08:26  2,75     17850.0  United Kingdom   \n",
       "\n",
       "   ProdID                           ProdDescr  Qta  \n",
       "0  85123A  WHITE HANGING HEART T-LIGHT HOLDER    6  \n",
       "1   71053                 WHITE METAL LANTERN    6  \n",
       "2  84406B      CREAM CUPID HEARTS COAT HANGER    8  "
      ]
     },
     "execution_count": 282,
     "metadata": {},
     "output_type": "execute_result"
    }
   ],
   "source": [
    "# Creo il dataframe leggendo il file csv\n",
    "df = pd.read_csv('customer_supermarket.csv', sep='\\t')\n",
    "df.head(3)"
   ]
  },
  {
   "cell_type": "code",
   "execution_count": 283,
   "metadata": {},
   "outputs": [
    {
     "data": {
      "text/html": [
       "<div>\n",
       "<style scoped>\n",
       "    .dataframe tbody tr th:only-of-type {\n",
       "        vertical-align: middle;\n",
       "    }\n",
       "\n",
       "    .dataframe tbody tr th {\n",
       "        vertical-align: top;\n",
       "    }\n",
       "\n",
       "    .dataframe thead th {\n",
       "        text-align: right;\n",
       "    }\n",
       "</style>\n",
       "<table border=\"1\" class=\"dataframe\">\n",
       "  <thead>\n",
       "    <tr style=\"text-align: right;\">\n",
       "      <th></th>\n",
       "      <th>BasketID</th>\n",
       "      <th>BasketDate</th>\n",
       "      <th>Sale</th>\n",
       "      <th>CustomerID</th>\n",
       "      <th>CustomerCountry</th>\n",
       "      <th>ProdID</th>\n",
       "      <th>ProdDescr</th>\n",
       "      <th>Qta</th>\n",
       "    </tr>\n",
       "  </thead>\n",
       "  <tbody>\n",
       "    <tr>\n",
       "      <th>0</th>\n",
       "      <td>536365</td>\n",
       "      <td>01/12/10 08:26</td>\n",
       "      <td>2,55</td>\n",
       "      <td>17850.0</td>\n",
       "      <td>United Kingdom</td>\n",
       "      <td>85123A</td>\n",
       "      <td>WHITE HANGING HEART T-LIGHT HOLDER</td>\n",
       "      <td>6</td>\n",
       "    </tr>\n",
       "    <tr>\n",
       "      <th>1</th>\n",
       "      <td>536365</td>\n",
       "      <td>01/12/10 08:26</td>\n",
       "      <td>3,39</td>\n",
       "      <td>17850.0</td>\n",
       "      <td>United Kingdom</td>\n",
       "      <td>71053</td>\n",
       "      <td>WHITE METAL LANTERN</td>\n",
       "      <td>6</td>\n",
       "    </tr>\n",
       "    <tr>\n",
       "      <th>2</th>\n",
       "      <td>536365</td>\n",
       "      <td>01/12/10 08:26</td>\n",
       "      <td>2,75</td>\n",
       "      <td>17850.0</td>\n",
       "      <td>United Kingdom</td>\n",
       "      <td>84406B</td>\n",
       "      <td>CREAM CUPID HEARTS COAT HANGER</td>\n",
       "      <td>8</td>\n",
       "    </tr>\n",
       "  </tbody>\n",
       "</table>\n",
       "</div>"
      ],
      "text/plain": [
       "  BasketID      BasketDate  Sale  CustomerID CustomerCountry  ProdID  \\\n",
       "0   536365  01/12/10 08:26  2,55     17850.0  United Kingdom  85123A   \n",
       "1   536365  01/12/10 08:26  3,39     17850.0  United Kingdom   71053   \n",
       "2   536365  01/12/10 08:26  2,75     17850.0  United Kingdom  84406B   \n",
       "\n",
       "                            ProdDescr  Qta  \n",
       "0  WHITE HANGING HEART T-LIGHT HOLDER    6  \n",
       "1                 WHITE METAL LANTERN    6  \n",
       "2      CREAM CUPID HEARTS COAT HANGER    8  "
      ]
     },
     "execution_count": 283,
     "metadata": {},
     "output_type": "execute_result"
    }
   ],
   "source": [
    "# Elimino la colonna chiamata'Unnamed: 0' perché è superflua (alla lettura del dataset, pandas ha già assegnato un indice\n",
    "# ad ogni riga)\n",
    "df.drop(columns=['Unnamed: 0'], inplace=True)\n",
    "df.head(3)"
   ]
  },
  {
   "cell_type": "code",
   "execution_count": 284,
   "metadata": {},
   "outputs": [
    {
     "name": "stdout",
     "output_type": "stream",
     "text": [
      "<class 'pandas.core.frame.DataFrame'>\n",
      "RangeIndex: 471910 entries, 0 to 471909\n",
      "Data columns (total 8 columns):\n",
      " #   Column           Non-Null Count   Dtype  \n",
      "---  ------           --------------   -----  \n",
      " 0   BasketID         471910 non-null  object \n",
      " 1   BasketDate       471910 non-null  object \n",
      " 2   Sale             471910 non-null  object \n",
      " 3   CustomerID       406830 non-null  float64\n",
      " 4   CustomerCountry  471910 non-null  object \n",
      " 5   ProdID           471910 non-null  object \n",
      " 6   ProdDescr        471157 non-null  object \n",
      " 7   Qta              471910 non-null  int64  \n",
      "dtypes: float64(1), int64(1), object(6)\n",
      "memory usage: 28.8+ MB\n"
     ]
    }
   ],
   "source": [
    "df.info()"
   ]
  },
  {
   "cell_type": "markdown",
   "metadata": {},
   "source": [
    "Da df.info() si nota che le colonne CustomerID e ProdDescr hanno alcuni valori NaN."
   ]
  },
  {
   "cell_type": "markdown",
   "metadata": {},
   "source": [
    "### Gestione delle righe duplicate"
   ]
  },
  {
   "cell_type": "markdown",
   "metadata": {},
   "source": [
    "Nel dataframe df sono presenti delle righe duplicate. Dato che il dataset sembra essere un storico degli acquisti fatti su un sito web, posso supporre che i duplicati siano dovuti ad degli errori e quindi possano essere eliminati. Escludo la possibilità che l'utente possa aggiungere al carrello lo stesso prodotto più volte (come acquisti separati). Ad esempio, su Amazon se si prova ad aggiungere al carrello lo stesso oggetto più volte, viene incrementata la quantità dell'oggetto senza aggiungere un nuovo acquisto."
   ]
  },
  {
   "cell_type": "code",
   "execution_count": 285,
   "metadata": {},
   "outputs": [
    {
     "name": "stdout",
     "output_type": "stream",
     "text": [
      "Righe duplicate (esclusa la prima occorrenza) all'interno di df:  5232\n"
     ]
    }
   ],
   "source": [
    "print(\"Righe duplicate (esclusa la prima occorrenza) all'interno di df: \", df.duplicated().value_counts()[1])"
   ]
  },
  {
   "cell_type": "code",
   "execution_count": 286,
   "metadata": {},
   "outputs": [
    {
     "data": {
      "text/html": [
       "<div>\n",
       "<style scoped>\n",
       "    .dataframe tbody tr th:only-of-type {\n",
       "        vertical-align: middle;\n",
       "    }\n",
       "\n",
       "    .dataframe tbody tr th {\n",
       "        vertical-align: top;\n",
       "    }\n",
       "\n",
       "    .dataframe thead th {\n",
       "        text-align: right;\n",
       "    }\n",
       "</style>\n",
       "<table border=\"1\" class=\"dataframe\">\n",
       "  <thead>\n",
       "    <tr style=\"text-align: right;\">\n",
       "      <th></th>\n",
       "      <th>BasketID</th>\n",
       "      <th>BasketDate</th>\n",
       "      <th>Sale</th>\n",
       "      <th>CustomerID</th>\n",
       "      <th>CustomerCountry</th>\n",
       "      <th>ProdID</th>\n",
       "      <th>ProdDescr</th>\n",
       "      <th>Qta</th>\n",
       "    </tr>\n",
       "  </thead>\n",
       "  <tbody>\n",
       "    <tr>\n",
       "      <th>517</th>\n",
       "      <td>536409</td>\n",
       "      <td>01/12/10 11:45</td>\n",
       "      <td>1,25</td>\n",
       "      <td>17908.0</td>\n",
       "      <td>United Kingdom</td>\n",
       "      <td>21866</td>\n",
       "      <td>UNION JACK FLAG LUGGAGE TAG</td>\n",
       "      <td>1</td>\n",
       "    </tr>\n",
       "    <tr>\n",
       "      <th>527</th>\n",
       "      <td>536409</td>\n",
       "      <td>01/12/10 11:45</td>\n",
       "      <td>2,1</td>\n",
       "      <td>17908.0</td>\n",
       "      <td>United Kingdom</td>\n",
       "      <td>22866</td>\n",
       "      <td>HAND WARMER SCOTTY DOG DESIGN</td>\n",
       "      <td>1</td>\n",
       "    </tr>\n",
       "    <tr>\n",
       "      <th>537</th>\n",
       "      <td>536409</td>\n",
       "      <td>01/12/10 11:45</td>\n",
       "      <td>2,95</td>\n",
       "      <td>17908.0</td>\n",
       "      <td>United Kingdom</td>\n",
       "      <td>22900</td>\n",
       "      <td>SET 2 TEA TOWELS I LOVE LONDON</td>\n",
       "      <td>1</td>\n",
       "    </tr>\n",
       "  </tbody>\n",
       "</table>\n",
       "</div>"
      ],
      "text/plain": [
       "    BasketID      BasketDate  Sale  CustomerID CustomerCountry ProdID  \\\n",
       "517   536409  01/12/10 11:45  1,25     17908.0  United Kingdom  21866   \n",
       "527   536409  01/12/10 11:45   2,1     17908.0  United Kingdom  22866   \n",
       "537   536409  01/12/10 11:45  2,95     17908.0  United Kingdom  22900   \n",
       "\n",
       "                            ProdDescr  Qta  \n",
       "517       UNION JACK FLAG LUGGAGE TAG    1  \n",
       "527     HAND WARMER SCOTTY DOG DESIGN    1  \n",
       "537   SET 2 TEA TOWELS I LOVE LONDON     1  "
      ]
     },
     "execution_count": 286,
     "metadata": {},
     "output_type": "execute_result"
    }
   ],
   "source": [
    "df[df.duplicated()].head(3)"
   ]
  },
  {
   "cell_type": "code",
   "execution_count": 287,
   "metadata": {},
   "outputs": [],
   "source": [
    "df.drop_duplicates(inplace=True)"
   ]
  },
  {
   "cell_type": "markdown",
   "metadata": {},
   "source": [
    "Per ogni colonna controllo che i valori siano in formato corretto, diversi da NaN, sensati, ecc."
   ]
  },
  {
   "cell_type": "markdown",
   "metadata": {},
   "source": [
    "### CustomerID"
   ]
  },
  {
   "cell_type": "markdown",
   "metadata": {},
   "source": [
    "Da df.info() si nota che ci sono delle righe con CustomerID = NaN. Dato che l'analisi successiva si concentrerà sull'analisi del comportamento degli utenti, se non è possibile recuperare il CustomerID di queste righe esse andranno eliminate.\n",
    "\n",
    "Per provare a recuperare questi CustomerID faccio così: per ogni riga $r_1$ con CustomerID = NaN, controllo nel dataframe se esiste una riga $r_2$ con $r_1$.BasketID = $r_2$.BasketID e con $r_2$.CustomerID $\\neq$ NaN. Allora, posso assegnare ad $r_1$ il CustomerID di $r_2$."
   ]
  },
  {
   "cell_type": "code",
   "execution_count": 288,
   "metadata": {},
   "outputs": [
    {
     "data": {
      "text/plain": [
       "[]"
      ]
     },
     "execution_count": 288,
     "metadata": {},
     "output_type": "execute_result"
    }
   ],
   "source": [
    "# null contiene i BasketID delle righe che hanno CustomerID = NaN\n",
    "null = df[df['CustomerID'].isnull()]['BasketID'].value_counts().index.values\n",
    "\n",
    "# not_null contiene i BasketID delle righe che hanno CustomerID != NaN\n",
    "not_null = df[pd.notnull(df['CustomerID'])]['BasketID'].value_counts().index.values\n",
    "\n",
    "# Questa funzione mi restituisce l'intersezione di due insiemi\n",
    "def intersection(lst1, lst2): \n",
    "    return list(set(lst1) & set(lst2))\n",
    "\n",
    "intersection(list(null), list(not_null))"
   ]
  },
  {
   "cell_type": "markdown",
   "metadata": {},
   "source": [
    "$null \\cap not\\_null = \\emptyset$. Non è possibile recuperare i valori di CustomerID, quindi elimino le righe che hanno CustomerID = NaN."
   ]
  },
  {
   "cell_type": "code",
   "execution_count": 289,
   "metadata": {},
   "outputs": [],
   "source": [
    "df.drop(df[df['CustomerID'].isnull()].index, inplace=True)"
   ]
  },
  {
   "cell_type": "markdown",
   "metadata": {},
   "source": [
    "Controllo se tutti i valori di CustomerID sono dei float senza però la parte decimale (0.0, 1.0, 2.0, ecc.). Se tutti i valori sono senza parte decimale allora posso convertirli in int."
   ]
  },
  {
   "cell_type": "code",
   "execution_count": 290,
   "metadata": {},
   "outputs": [
    {
     "data": {
      "text/plain": [
       "True    401605\n",
       "Name: CustomerID, dtype: int64"
      ]
     },
     "execution_count": 290,
     "metadata": {},
     "output_type": "execute_result"
    }
   ],
   "source": [
    "# Conto quante sono i CustomerID senza la parte decimale\n",
    "df['CustomerID'].apply(float.is_integer).value_counts()"
   ]
  },
  {
   "cell_type": "code",
   "execution_count": 291,
   "metadata": {},
   "outputs": [
    {
     "data": {
      "text/plain": [
       "401605"
      ]
     },
     "execution_count": 291,
     "metadata": {},
     "output_type": "execute_result"
    }
   ],
   "source": [
    "# Numero di righe del dataframe df\n",
    "df.shape[0]"
   ]
  },
  {
   "cell_type": "markdown",
   "metadata": {},
   "source": [
    "Tutte le righe hanno CustomerID senza la parte decimale, quindi posso convertirli in int."
   ]
  },
  {
   "cell_type": "code",
   "execution_count": 292,
   "metadata": {},
   "outputs": [],
   "source": [
    "df['CustomerID'] = df['CustomerID'].astype(int)"
   ]
  },
  {
   "cell_type": "markdown",
   "metadata": {},
   "source": [
    "### ProdID"
   ]
  },
  {
   "cell_type": "markdown",
   "metadata": {},
   "source": [
    "Controllando il dataframe, ho notato che alcune righe non rappresentano degli acquisti."
   ]
  },
  {
   "cell_type": "code",
   "execution_count": 293,
   "metadata": {},
   "outputs": [
    {
     "data": {
      "text/plain": [
       "POST    1197\n",
       "M        460\n",
       "D         77\n",
       "CRUK      16\n",
       "DOT       16\n",
       "PADS       4\n",
       "Name: ProdID, dtype: int64"
      ]
     },
     "execution_count": 293,
     "metadata": {},
     "output_type": "execute_result"
    }
   ],
   "source": [
    "# isalpha restituisce True se la stringa contiene solo caratteri dell'alfabeto\n",
    "df[df['ProdID'].apply(str.isalpha)]['ProdID'].value_counts()"
   ]
  },
  {
   "cell_type": "markdown",
   "metadata": {},
   "source": [
    "Le righe che hanno come ProdID uno tra quelli elencati sopra non rappresentano degli acquisti, quindi le elimino."
   ]
  },
  {
   "cell_type": "code",
   "execution_count": 294,
   "metadata": {},
   "outputs": [],
   "source": [
    "# Elimino le righe che hanno come ProdID una stringa (quindi solo quelle elencate sopra)\n",
    "df = df[df['ProdID'].apply(lambda s: not s.isalpha())]"
   ]
  },
  {
   "cell_type": "markdown",
   "metadata": {},
   "source": [
    "Controllo se ci sono delle righe che non rappresentano degli acquisti ma hanno ProdID alfanumerici (lo faccio perchè con la funzione isalpha un ProdID = '123AAA' non sarebbe stato trovato)."
   ]
  },
  {
   "cell_type": "code",
   "execution_count": 295,
   "metadata": {},
   "outputs": [
    {
     "data": {
      "text/plain": [
       "array(['85123A', '85099B', '82494L', '85099C', '85099F', '84997D',\n",
       "       '84970S', '47591D', '15056N', '84596B', '47590B', '47590A',\n",
       "       '85049E', '84970L', '84997B', '84029E', '84029G', '47566B',\n",
       "       '84997C', '85014B', '84596F', '15056BL', '84030E', '85049A',\n",
       "       '85014A', '16161P', '84406B', '47559B', '85049G', '84997A',\n",
       "       '84536A', '85049C', '46000S', '47504K', '48173C', '47503A',\n",
       "       '16156S', '85199S', '72351B', '84596G', '51014A', '16169E',\n",
       "       '35471D', '84510A', '47599A', '85034C', '84509A', '75049L',\n",
       "       '15056P', '85040A', '72760B', '85184C', '72351A', '84032B',\n",
       "       '16161U', '46000M', 'C2', '85132C', '47567B', '72807C', '85061W',\n",
       "       '84971S', '51014C', '84078A', '79066K', '85231B', '84535B',\n",
       "       '85035C', '47599B', '82001S', '84032A', '51014L', '85183B',\n",
       "       '85071B', '84849D', '85206A', '85049D', '84279P', '84536B',\n",
       "       '72800E', '15060B', '85032A', '47593B', '72802C', '85071A',\n",
       "       '85032B', '47504H', '72349B', '85034B', '84519B', '17091J',\n",
       "       '85049F', '85032C', '85183A', '85036C', '72807B', '72802B',\n",
       "       '15044A', '84596L', '79191C', '85035A', '85034A', '85049H',\n",
       "       '85017B', '15044D', '85071C', '72807A', '85159B', '85231G',\n",
       "       '85199L', '85071D', '84884A', '85185B', '85114C', '15044C',\n",
       "       '84558A', '84519A', '84459B', '84279B', '72802A', '85132B',\n",
       "       '85032D', '85194L', '84459A', '84849B', '85194S', '85036A',\n",
       "       '35004B', '84520B', '15058A', '85232D', '18097C', '35810A',\n",
       "       '85170D', '85132A', '82616C', '84968A', '47574A', '85114B',\n",
       "       '79030G', '85130D', '85039B', '85159A', '85135C', '82613D',\n",
       "       '82616B', '72799E', '84031A', '84968C', '85130B', '85169A',\n",
       "       '84509B', '15044B', '47310M', '84912B', '79302M', '82613B',\n",
       "       '17107D', '47563A', '35004C', '84509G', '84559B', '17012D',\n",
       "       '85130C', '84927F', '85036B', '15058B', '17012C', '85035B',\n",
       "       '85114A', '17012F', '84559A', '84673B', '72803A', '35809A',\n",
       "       '35095B', '85039A', '84795B', '85180A', '16258A', '82613C',\n",
       "       '85040B', '85230B', '85136A', '18098C', '84660A', '84031B',\n",
       "       '85186A', '84912A', '79051A', '72800B', '84926E', '46000R',\n",
       "       '79190B', '84508A', '17012B', '85135B', '84596E', '85188A',\n",
       "       '85186C', '47503H', '37482P', '79190A', '85129D', '84341B',\n",
       "       '35095A', '84951A', '84569D', '84625C', '84993A', '84625A',\n",
       "       '47594B', '84951B', '84849A', '84510C', '84926D', '17084N',\n",
       "       '84968D', '84926A', '79030D', '85124C', '84859A', '47594A',\n",
       "       '84508B', '85124B', '84968F', '85025C', '72800C', '15058C',\n",
       "       '84660B', '85170C', '72800D', '85019A', '84507C', '85131A',\n",
       "       '47578A', '84663A', '47518F', '79191B', '17084R', '84660C',\n",
       "       '84596J', '47585A', '84931B', '46000U', '85232A', '35001G',\n",
       "       '16169M', '85230G', '84531A', '84673A', '84569A', '47570B',\n",
       "       '85205B', '84707A', '35911A', '79190D', '81952V', '35598D',\n",
       "       '84247E', '85136C', '17012A', '84531B', '90200B', '17091A',\n",
       "       '35819B', '85169B', '85019B', '84926F', '84313C', '85230E',\n",
       "       '85170B', '90200D', '35637A', '84924A', '84800L', '84247G',\n",
       "       '84659A', '84509C', '35810B', '35599B', '84931A', '35598B',\n",
       "       '85025B', '85169D', '84968E', '16161G', '71101E', '85169C',\n",
       "       '84859C', '35004G', '84876B', '84563B', '71406C', '72799F',\n",
       "       '37479P', '85180B', '16168M', '82011C', '17129F', '84985A',\n",
       "       '84535A', '84508C', '84913B', '77101A', '84806B', '82011B',\n",
       "       '84086C', '35599D', '51020A', '85027L', '84898F', '90200E',\n",
       "       '72799C', '35912B', '85163A', '16156L', '85230A', '84247N',\n",
       "       '84993B', '85179A', '37479B', '84796B', '85160B', '17136A',\n",
       "       '35818P', '84989A', '37489D', '51020B', '90200A', '72225C',\n",
       "       '85129B', '90160C', '90058B', '37489A', '84875B', '79144B',\n",
       "       '84251G', '85232B', '18094C', '84927A', '85163B', '84251B',\n",
       "       '47348A', '90030B', '47021G', '90161C', '46138B', '35915B',\n",
       "       '84741C', '84925F', '79063C', '82613A', '84507B', '72801C',\n",
       "       '84563A', '84708B', '90214A', '37444A', '47343A', '84429A',\n",
       "       '85023B', '84952B', '84249A', '85049B', '47593A', '17090D',\n",
       "       '62086A', '90209C', '85131B', '84597C', '84707B', '46775D',\n",
       "       '84927E', '17084P', '84750B', '90201C', '85039C', '84313B',\n",
       "       '84661B', 'BANK CHARGES', '84927D', '90209B', '90201A', '72801D',\n",
       "       '90160A', '90214K', '90201B', '90161B', '85131D', '84876D',\n",
       "       '85129C', '84800M', '85230F', '85024B', '37489B', '84569B',\n",
       "       '47341B', '84877D', '17013D', '90162B', '85019C', '47367B',\n",
       "       '35833P', '90198B', '84712B', '79071B', '84806A', '85131C',\n",
       "       '85017C', '84709B', '72801G', '84661A', '90184B', '90014A',\n",
       "       '47351B', '85024C', '85130A', '84859B', '17090A', '84870B',\n",
       "       '90198A', '84846A', '84796A', '84925D', '84952C', '84706F',\n",
       "       '47591B', '79063D', '84247K', '90082B', '84800S', '90082A',\n",
       "       '90199C', '84870C', '90018A', '84913A', '82011A', '84595E',\n",
       "       '90019A', '85026B', '81952B', '35913B', '72140E', '84510E',\n",
       "       '17164B', '90161D', '84086B', '81950B', '84751B', '90214C',\n",
       "       '84877B', '84760S', '84857C', '90201D', '90160D', '79026B',\n",
       "       '35915C', '84509E', '47013C', '90003D', '84247L', '47586A',\n",
       "       '37489C', '90014B', '85028S', '90016B', '84711B', '90058A',\n",
       "       '85185D', '90160B', '85188B', '62096A', '16169K', '90175A',\n",
       "       '84804A', '79149B', '90123A', '90081A', '90185D', '79191D',\n",
       "       '46776F', '85086A', '84875D', '90214E', '90185C', '17084J',\n",
       "       '90030C', '85031A', '90164B', '84874B', '90010E', '90195A',\n",
       "       '90063A', '90064B', '90206C', '90120C', '90162C', '17165D',\n",
       "       '85018D', '78034B', '17014A', '90030A', '85168B', '90214G',\n",
       "       '35607B', '35637C', '16162M', '46776B', '85179C', '85167B',\n",
       "       '90184C', '90200C', '90177D', '16248B', '90214D', '84711A',\n",
       "       '75013B', '17084A', '35819P', '37444C', '90214S', '90205A',\n",
       "       '84910A', '81950V', '90125A', '90186B', '35001W', '40046A',\n",
       "       '90178A', '44089C', '47344B', '84804B', '46776C', '17011F',\n",
       "       '90185A', '84984A', '90175C', '90214P', '85135A', '90183A',\n",
       "       '90081C', '90210B', '90129B', '90002D', '44092C', '47369A',\n",
       "       '90214H', '90000A', '62043B', '90164A', '16162L', '90161A',\n",
       "       '46126A', '90003C', '84952A', '90129C', '79144C', '46776A',\n",
       "       '46776E', '90214J', '90209A', '90214L', '44092B', '72051S',\n",
       "       '90063B', '90129F', '90010A', '90123C', '90214M', '84534B',\n",
       "       '90122C', '90185B', '84745A', '90162D', '17109D', '84984B',\n",
       "       '16207A', '84745B', '84661C', '35815P', '46000P', '90210D',\n",
       "       '90176D', '47341A', '10124A', '90214N', '90180A', '35638A',\n",
       "       '90018B', '90036E', '90120B', '71495B', '90125D', '90210C',\n",
       "       '35916C', '84858C', '84597B', '81953B', '84809A', '90196A',\n",
       "       '71496A', '84801A', '84575A', '35910A', '90059B', '90190C',\n",
       "       '18097A', '84984D', '62074B', '85206B', '90036A', '10124G',\n",
       "       '90214R', '90013C', '47013A', '90123B', '90196B', '90124C',\n",
       "       '79062D', '90013A', '90124A', '84798A', '72369A', '90003B',\n",
       "       '90016A', '37462E', '90036D', '90059C', '71496B', '35911B',\n",
       "       '90184A', '44089A', '90059F', '90082D', '90000D', '90018C',\n",
       "       '90177C', '85028L', '16202E', '35638B', '90059E', '35591T',\n",
       "       '40005B', '90205C', '72798C', '47369B', '35916A', '90210A',\n",
       "       '90211B', '90122A', '90067A', '72024U', '84805A', '62097B',\n",
       "       '62094B', '84924F', '90125B', '90152A', '16151A', '90124B',\n",
       "       '90014C', '84803B', '90125C', '37488A', '84801B', '35910B',\n",
       "       '90024B', '81953P', '90180B', '90060D', '90001D', '90214I',\n",
       "       '10123C', '90195B', '84750A', '90202C', '90202D', '79323B',\n",
       "       '84402B', '90003E', '90214Y', '17012E', '35818B', '90202B',\n",
       "       '90064A', '84206A', '90142D', '90010B', '90026D', '84872A',\n",
       "       '90130B', '37444B', '79323P', '90065A', '44242B', '35809B',\n",
       "       '85017A', '79157V', '90199A', '90019C', '90214V', '84706D',\n",
       "       '90211A', '16207B', '84805B', '44091A', '84613A', '46776D',\n",
       "       '35909A', '90206A', '90129A', '90186A', '90040C', '90039D',\n",
       "       '84562A', '17191A', '79192A', '90026B', '90001B', '90001C',\n",
       "       '84251C', '79151B', '90012B', '47574B', '84873A', '90177A',\n",
       "       '84857B', '46115B', '35598A', '17007B', '35817P', '90025A',\n",
       "       '84201B', '90176E', '90059D', '90129D', '16202A', '90176A',\n",
       "       '90212C', '90163A', '35816P', '90019B', '16020C', '90011B',\n",
       "       '85136B', '16206B', '90035A', '90123D', '84798B', '90141A',\n",
       "       '90120D', '90179A', '90012A', '90182C', '35909B', '90214F',\n",
       "       '90141C', '35598C', '90177E', '16169P', '84732B', '90040A',\n",
       "       '79157B', '16244B', '35271S', '90189A', '84415A', '84206C',\n",
       "       '79161A', '90036C', '47556B', '71495A', '37487B', '35597D',\n",
       "       '90202A', '90177B', '90026C', '90175D', '90141B', '90059A',\n",
       "       '90214B', '90040B', '84732D', '84968B', '90036B', '84415B',\n",
       "       '16202B', '90000B', '90199D', '90042A', '90214O', '90141D',\n",
       "       '90165B', '90035C', '85170A', '90179C', '90176C', '35916B',\n",
       "       '90128B', '90001A', '84877A', '90181A', '35597B', '85098B',\n",
       "       '90039C', '90152C', '35610C', '90039A', '37491C', '84569C',\n",
       "       '90130A', '35610B', '90187B', '90141E', '84802A', '85031B',\n",
       "       '35610A', '84963B', '90037B', '90011A', '90199B', '44242A',\n",
       "       '90039B', '90129E', '90214U', '90038A', '37491D', '90197B',\n",
       "       '84387A', '90024D', '90027A', '16169N', '17028J', '84206B',\n",
       "       '84809B', '84795C', '37491B', '90025F', '90125E', '79323W',\n",
       "       '84802B', '62096B', '84705C', '47503J', '90122B', '84614A',\n",
       "       '90214T', '90060B', '84743C', '35607A', '90214Z', '85023C',\n",
       "       '90152B', '90024C', '90190B', '90214W', '85031C', '90183C',\n",
       "       '90024F', '90190A', '90176B', '90038B', '84201C', '84613C',\n",
       "       '90212B', '90027D', '90026A', '37379A', '90036F', '90178B',\n",
       "       '90065B', '84856S', '90162A', '90163B', '16161M', '84963A',\n",
       "       '35597A', '90038C', '35004P'], dtype=object)"
      ]
     },
     "execution_count": 295,
     "metadata": {},
     "output_type": "execute_result"
    }
   ],
   "source": [
    "import re\n",
    "\n",
    "# Questa funzione mi restituisce True se la stringa contiene almeno una lettera dell'alfabeto, False altrimenti\n",
    "def search_letters(the_string):\n",
    "    if re.search('[a-zA-Z]', the_string) is None:\n",
    "        return False\n",
    "    return True\n",
    "\n",
    "df[df['ProdID'].apply(search_letters)]['ProdID'].value_counts().index.values"
   ]
  },
  {
   "cell_type": "markdown",
   "metadata": {},
   "source": [
    "Tra i ProdID c'è 'C2', che non rappresenta un acquisto, ma probabilmente una spesa addizionale di spedizione. Quindi elimino le righe in cui ProdID = 'C2."
   ]
  },
  {
   "cell_type": "code",
   "execution_count": 296,
   "metadata": {},
   "outputs": [
    {
     "data": {
      "text/html": [
       "<div>\n",
       "<style scoped>\n",
       "    .dataframe tbody tr th:only-of-type {\n",
       "        vertical-align: middle;\n",
       "    }\n",
       "\n",
       "    .dataframe tbody tr th {\n",
       "        vertical-align: top;\n",
       "    }\n",
       "\n",
       "    .dataframe thead th {\n",
       "        text-align: right;\n",
       "    }\n",
       "</style>\n",
       "<table border=\"1\" class=\"dataframe\">\n",
       "  <thead>\n",
       "    <tr style=\"text-align: right;\">\n",
       "      <th></th>\n",
       "      <th>BasketID</th>\n",
       "      <th>BasketDate</th>\n",
       "      <th>Sale</th>\n",
       "      <th>CustomerID</th>\n",
       "      <th>CustomerCountry</th>\n",
       "      <th>ProdID</th>\n",
       "      <th>ProdDescr</th>\n",
       "      <th>Qta</th>\n",
       "    </tr>\n",
       "  </thead>\n",
       "  <tbody>\n",
       "    <tr>\n",
       "      <th>1422</th>\n",
       "      <td>536540</td>\n",
       "      <td>01/12/10 14:05</td>\n",
       "      <td>50</td>\n",
       "      <td>14911</td>\n",
       "      <td>EIRE</td>\n",
       "      <td>C2</td>\n",
       "      <td>CARRIAGE</td>\n",
       "      <td>1</td>\n",
       "    </tr>\n",
       "    <tr>\n",
       "      <th>10319</th>\n",
       "      <td>537368</td>\n",
       "      <td>06/12/10 12:40</td>\n",
       "      <td>50</td>\n",
       "      <td>14911</td>\n",
       "      <td>EIRE</td>\n",
       "      <td>C2</td>\n",
       "      <td>CARRIAGE</td>\n",
       "      <td>1</td>\n",
       "    </tr>\n",
       "    <tr>\n",
       "      <th>10652</th>\n",
       "      <td>537378</td>\n",
       "      <td>06/12/10 13:06</td>\n",
       "      <td>50</td>\n",
       "      <td>14911</td>\n",
       "      <td>EIRE</td>\n",
       "      <td>C2</td>\n",
       "      <td>CARRIAGE</td>\n",
       "      <td>1</td>\n",
       "    </tr>\n",
       "  </tbody>\n",
       "</table>\n",
       "</div>"
      ],
      "text/plain": [
       "      BasketID      BasketDate Sale  CustomerID CustomerCountry ProdID  \\\n",
       "1422    536540  01/12/10 14:05   50       14911            EIRE     C2   \n",
       "10319   537368  06/12/10 12:40   50       14911            EIRE     C2   \n",
       "10652   537378  06/12/10 13:06   50       14911            EIRE     C2   \n",
       "\n",
       "      ProdDescr  Qta  \n",
       "1422   CARRIAGE    1  \n",
       "10319  CARRIAGE    1  \n",
       "10652  CARRIAGE    1  "
      ]
     },
     "execution_count": 296,
     "metadata": {},
     "output_type": "execute_result"
    }
   ],
   "source": [
    "df[df['ProdID'] == 'C2'].head(3)"
   ]
  },
  {
   "cell_type": "code",
   "execution_count": 297,
   "metadata": {},
   "outputs": [],
   "source": [
    "df.drop(df[df['ProdID'] == 'C2'].index, inplace=True)"
   ]
  },
  {
   "cell_type": "markdown",
   "metadata": {},
   "source": [
    "Tra i ProdID c'è 'BANK CHARGES' che non rappresenta un acquisto, quindi elimino le righe in cui ProdID = 'BANK CHARGES'"
   ]
  },
  {
   "cell_type": "code",
   "execution_count": 298,
   "metadata": {},
   "outputs": [],
   "source": [
    "df.drop(df[df['ProdID'] == 'BANK CHARGES'].index, inplace=True)"
   ]
  },
  {
   "cell_type": "markdown",
   "metadata": {},
   "source": [
    "### ProdDescr"
   ]
  },
  {
   "cell_type": "markdown",
   "metadata": {},
   "source": [
    "Controllo se ci sono ancora delle descrizioni = NaN."
   ]
  },
  {
   "cell_type": "code",
   "execution_count": 299,
   "metadata": {},
   "outputs": [
    {
     "name": "stdout",
     "output_type": "stream",
     "text": [
      "Numero di righe con descrizione NaN:  0\n"
     ]
    }
   ],
   "source": [
    "print(\"Numero di righe con descrizione NaN: \", df[df['ProdDescr'].isnull()].shape[0])"
   ]
  },
  {
   "cell_type": "markdown",
   "metadata": {},
   "source": [
    "### BasketDate"
   ]
  },
  {
   "cell_type": "markdown",
   "metadata": {},
   "source": [
    "Controllo che tutti i valori della colonna BasketDate siano delle stringhe che rappresentano correttamente delle date."
   ]
  },
  {
   "cell_type": "code",
   "execution_count": 300,
   "metadata": {},
   "outputs": [
    {
     "name": "stdout",
     "output_type": "stream",
     "text": [
      "True    399689\n",
      "Name: BasketDate, dtype: int64\n"
     ]
    }
   ],
   "source": [
    "from dateutil.parser import parse\n",
    "\n",
    "# Questa funzione controlla se la stringa presa in input rappresenta correttamente una data\n",
    "def is_date(string, fuzzy=False):\n",
    "    try: \n",
    "        parse(string, fuzzy=fuzzy)\n",
    "        return True\n",
    "\n",
    "    except ValueError:\n",
    "        return False\n",
    "\n",
    "# Controllo se tutte i valori di BasketDate sono delle date valide\n",
    "print(df['BasketDate'].apply(is_date).value_counts())"
   ]
  },
  {
   "cell_type": "markdown",
   "metadata": {},
   "source": [
    "Tutti i valori rappresentano delle date. Ora controllo se questi valori sono scritti nello stesso formato."
   ]
  },
  {
   "cell_type": "code",
   "execution_count": 301,
   "metadata": {},
   "outputs": [
    {
     "name": "stdout",
     "output_type": "stream",
     "text": [
      "True    399689\n",
      "Name: BasketDate, dtype: int64\n"
     ]
    }
   ],
   "source": [
    "import datetime\n",
    "\n",
    "def validate(date_text):\n",
    "    try:\n",
    "        datetime.datetime.strptime(date_text, '%d/%m/%y %H:%M')\n",
    "        return True\n",
    "    except ValueError:\n",
    "        return False\n",
    "    \n",
    "print(df['BasketDate'].apply(validate).value_counts())"
   ]
  },
  {
   "cell_type": "markdown",
   "metadata": {},
   "source": [
    "Tutti i valori sono scritti seguendo lo stesso formato (giorno/mese/anno ora:minuto). Infine, converto tutte queste stringhe in formato datetime."
   ]
  },
  {
   "cell_type": "code",
   "execution_count": 302,
   "metadata": {},
   "outputs": [],
   "source": [
    "df['BasketDate'] = pd.to_datetime(df['BasketDate'], format=\"%d/%m/%y %H:%M\")"
   ]
  },
  {
   "cell_type": "markdown",
   "metadata": {},
   "source": [
    "### Sale"
   ]
  },
  {
   "cell_type": "markdown",
   "metadata": {},
   "source": [
    "I valori della colonna Sale sono delle stringhe che rappresentano dei float, dove al posto del punto è stata usata la virgola."
   ]
  },
  {
   "cell_type": "code",
   "execution_count": 303,
   "metadata": {},
   "outputs": [],
   "source": [
    "# Questa funzione converte una stringa nel rispettivo float (3,5 --> 3.5)\n",
    "def convert_to_float(s):\n",
    "    comma_pos = s.find(',')\n",
    "    if comma_pos >= 0:\n",
    "        s = s[: comma_pos] + '.' + s[comma_pos+1 :]\n",
    "    return float(s)\n",
    "\n",
    "df['Sale'] = df['Sale'].apply(convert_to_float)"
   ]
  },
  {
   "cell_type": "code",
   "execution_count": 304,
   "metadata": {},
   "outputs": [
    {
     "name": "stdout",
     "output_type": "stream",
     "text": [
      "<class 'pandas.core.frame.DataFrame'>\n",
      "Int64Index: 399689 entries, 0 to 471908\n",
      "Data columns (total 8 columns):\n",
      " #   Column           Non-Null Count   Dtype         \n",
      "---  ------           --------------   -----         \n",
      " 0   BasketID         399689 non-null  object        \n",
      " 1   BasketDate       399689 non-null  datetime64[ns]\n",
      " 2   Sale             399689 non-null  float64       \n",
      " 3   CustomerID       399689 non-null  int32         \n",
      " 4   CustomerCountry  399689 non-null  object        \n",
      " 5   ProdID           399689 non-null  object        \n",
      " 6   ProdDescr        399689 non-null  object        \n",
      " 7   Qta              399689 non-null  int64         \n",
      "dtypes: datetime64[ns](1), float64(1), int32(1), int64(1), object(4)\n",
      "memory usage: 25.9+ MB\n"
     ]
    }
   ],
   "source": [
    "df.info()"
   ]
  },
  {
   "cell_type": "markdown",
   "metadata": {},
   "source": [
    "Tutte i valori della colonna Sale sono stati convertiti con successo a float64."
   ]
  },
  {
   "cell_type": "markdown",
   "metadata": {},
   "source": [
    "Controllo se ci sono delle righe con Sale $\\leq$ 0."
   ]
  },
  {
   "cell_type": "code",
   "execution_count": 305,
   "metadata": {},
   "outputs": [
    {
     "data": {
      "text/html": [
       "<div>\n",
       "<style scoped>\n",
       "    .dataframe tbody tr th:only-of-type {\n",
       "        vertical-align: middle;\n",
       "    }\n",
       "\n",
       "    .dataframe tbody tr th {\n",
       "        vertical-align: top;\n",
       "    }\n",
       "\n",
       "    .dataframe thead th {\n",
       "        text-align: right;\n",
       "    }\n",
       "</style>\n",
       "<table border=\"1\" class=\"dataframe\">\n",
       "  <thead>\n",
       "    <tr style=\"text-align: right;\">\n",
       "      <th></th>\n",
       "      <th>BasketID</th>\n",
       "      <th>BasketDate</th>\n",
       "      <th>Sale</th>\n",
       "      <th>CustomerID</th>\n",
       "      <th>CustomerCountry</th>\n",
       "      <th>ProdID</th>\n",
       "      <th>ProdDescr</th>\n",
       "      <th>Qta</th>\n",
       "    </tr>\n",
       "  </thead>\n",
       "  <tbody>\n",
       "    <tr>\n",
       "      <th>8122</th>\n",
       "      <td>537197</td>\n",
       "      <td>2010-12-05 14:02:00</td>\n",
       "      <td>0.0</td>\n",
       "      <td>12647</td>\n",
       "      <td>Germany</td>\n",
       "      <td>22841</td>\n",
       "      <td>ROUND CAKE TIN VINTAGE GREEN</td>\n",
       "      <td>1</td>\n",
       "    </tr>\n",
       "    <tr>\n",
       "      <th>28145</th>\n",
       "      <td>539263</td>\n",
       "      <td>2010-12-16 14:36:00</td>\n",
       "      <td>0.0</td>\n",
       "      <td>16560</td>\n",
       "      <td>United Kingdom</td>\n",
       "      <td>22580</td>\n",
       "      <td>ADVENT CALENDAR GINGHAM SACK</td>\n",
       "      <td>4</td>\n",
       "    </tr>\n",
       "    <tr>\n",
       "      <th>32806</th>\n",
       "      <td>539722</td>\n",
       "      <td>2010-12-21 13:45:00</td>\n",
       "      <td>0.0</td>\n",
       "      <td>14911</td>\n",
       "      <td>EIRE</td>\n",
       "      <td>22423</td>\n",
       "      <td>REGENCY CAKESTAND 3 TIER</td>\n",
       "      <td>10</td>\n",
       "    </tr>\n",
       "  </tbody>\n",
       "</table>\n",
       "</div>"
      ],
      "text/plain": [
       "      BasketID          BasketDate  Sale  CustomerID CustomerCountry ProdID  \\\n",
       "8122    537197 2010-12-05 14:02:00   0.0       12647         Germany  22841   \n",
       "28145   539263 2010-12-16 14:36:00   0.0       16560  United Kingdom  22580   \n",
       "32806   539722 2010-12-21 13:45:00   0.0       14911            EIRE  22423   \n",
       "\n",
       "                          ProdDescr  Qta  \n",
       "8122   ROUND CAKE TIN VINTAGE GREEN    1  \n",
       "28145  ADVENT CALENDAR GINGHAM SACK    4  \n",
       "32806      REGENCY CAKESTAND 3 TIER   10  "
      ]
     },
     "execution_count": 305,
     "metadata": {},
     "output_type": "execute_result"
    }
   ],
   "source": [
    "df[df['Sale'] <= 0].head(3)"
   ]
  },
  {
   "cell_type": "code",
   "execution_count": 306,
   "metadata": {},
   "outputs": [
    {
     "name": "stdout",
     "output_type": "stream",
     "text": [
      "Numero di righe con Sale <= 0:  33\n"
     ]
    }
   ],
   "source": [
    "print(\"Numero di righe con Sale <= 0: \", df[df['Sale'] <= 0].shape[0])"
   ]
  },
  {
   "cell_type": "code",
   "execution_count": 307,
   "metadata": {},
   "outputs": [
    {
     "name": "stdout",
     "output_type": "stream",
     "text": [
      "Numero di righe con Sale = 0:  33\n"
     ]
    }
   ],
   "source": [
    "print(\"Numero di righe con Sale = 0: \", df[df['Sale'] == 0].shape[0])"
   ]
  },
  {
   "cell_type": "markdown",
   "metadata": {},
   "source": [
    "Non ci sono righe con Sale < 0. Mentre le righe con Sale = 0 potrebbero riferirsi a dei prodotti omaggio. Io sono interessato agli acquisti, quindi posso eliminare queste righe."
   ]
  },
  {
   "cell_type": "code",
   "execution_count": 308,
   "metadata": {},
   "outputs": [],
   "source": [
    "df.drop(df[df['Sale'] == 0].index, inplace=True)"
   ]
  },
  {
   "cell_type": "markdown",
   "metadata": {},
   "source": [
    "### CustomerCountry"
   ]
  },
  {
   "cell_type": "markdown",
   "metadata": {},
   "source": [
    "All'interno del dataframe ci sono delle righe con CustomerCountry = 'Unspecified'."
   ]
  },
  {
   "cell_type": "code",
   "execution_count": 309,
   "metadata": {},
   "outputs": [
    {
     "name": "stdout",
     "output_type": "stream",
     "text": [
      "Righe con CustomerCountry = 'Unspecified':  241\n"
     ]
    }
   ],
   "source": [
    "print(\"Righe con CustomerCountry = 'Unspecified': \", df[df['CustomerCountry'] == 'Unspecified'].shape[0])"
   ]
  },
  {
   "cell_type": "code",
   "execution_count": 310,
   "metadata": {},
   "outputs": [
    {
     "data": {
      "text/html": [
       "<div>\n",
       "<style scoped>\n",
       "    .dataframe tbody tr th:only-of-type {\n",
       "        vertical-align: middle;\n",
       "    }\n",
       "\n",
       "    .dataframe tbody tr th {\n",
       "        vertical-align: top;\n",
       "    }\n",
       "\n",
       "    .dataframe thead th {\n",
       "        text-align: right;\n",
       "    }\n",
       "</style>\n",
       "<table border=\"1\" class=\"dataframe\">\n",
       "  <thead>\n",
       "    <tr style=\"text-align: right;\">\n",
       "      <th></th>\n",
       "      <th>BasketID</th>\n",
       "      <th>BasketDate</th>\n",
       "      <th>Sale</th>\n",
       "      <th>CustomerID</th>\n",
       "      <th>CustomerCountry</th>\n",
       "      <th>ProdID</th>\n",
       "      <th>ProdDescr</th>\n",
       "      <th>Qta</th>\n",
       "    </tr>\n",
       "  </thead>\n",
       "  <tbody>\n",
       "    <tr>\n",
       "      <th>128523</th>\n",
       "      <td>549687</td>\n",
       "      <td>2011-04-11 13:29:00</td>\n",
       "      <td>7.95</td>\n",
       "      <td>12363</td>\n",
       "      <td>Unspecified</td>\n",
       "      <td>20685</td>\n",
       "      <td>DOORMAT RED RETROSPOT</td>\n",
       "      <td>2</td>\n",
       "    </tr>\n",
       "    <tr>\n",
       "      <th>128524</th>\n",
       "      <td>549687</td>\n",
       "      <td>2011-04-11 13:29:00</td>\n",
       "      <td>7.95</td>\n",
       "      <td>12363</td>\n",
       "      <td>Unspecified</td>\n",
       "      <td>22691</td>\n",
       "      <td>DOORMAT WELCOME SUNRISE</td>\n",
       "      <td>2</td>\n",
       "    </tr>\n",
       "    <tr>\n",
       "      <th>128525</th>\n",
       "      <td>549687</td>\n",
       "      <td>2011-04-11 13:29:00</td>\n",
       "      <td>7.95</td>\n",
       "      <td>12363</td>\n",
       "      <td>Unspecified</td>\n",
       "      <td>48116</td>\n",
       "      <td>DOORMAT MULTICOLOUR STRIPE</td>\n",
       "      <td>2</td>\n",
       "    </tr>\n",
       "  </tbody>\n",
       "</table>\n",
       "</div>"
      ],
      "text/plain": [
       "       BasketID          BasketDate  Sale  CustomerID CustomerCountry ProdID  \\\n",
       "128523   549687 2011-04-11 13:29:00  7.95       12363     Unspecified  20685   \n",
       "128524   549687 2011-04-11 13:29:00  7.95       12363     Unspecified  22691   \n",
       "128525   549687 2011-04-11 13:29:00  7.95       12363     Unspecified  48116   \n",
       "\n",
       "                         ProdDescr  Qta  \n",
       "128523       DOORMAT RED RETROSPOT    2  \n",
       "128524     DOORMAT WELCOME SUNRISE    2  \n",
       "128525  DOORMAT MULTICOLOUR STRIPE    2  "
      ]
     },
     "execution_count": 310,
     "metadata": {},
     "output_type": "execute_result"
    }
   ],
   "source": [
    "df[df['CustomerCountry'] == 'Unspecified'].head(3)"
   ]
  },
  {
   "cell_type": "markdown",
   "metadata": {},
   "source": [
    "CustomerCountry = 'Unspecified' potrebbe essere un valore corretto, in quanto l'utente in fase di acquisto non ha voluto specificare lo stato in cui abita (ad esempio per motivi di privacy) e quindi lascio questi valori nel dataframe."
   ]
  },
  {
   "cell_type": "markdown",
   "metadata": {},
   "source": [
    "### Qta e BasketID"
   ]
  },
  {
   "cell_type": "markdown",
   "metadata": {},
   "source": [
    "Controllo se ci sono delle righe che hanno Qta $\\leq$ 0."
   ]
  },
  {
   "cell_type": "code",
   "execution_count": 311,
   "metadata": {},
   "outputs": [
    {
     "name": "stdout",
     "output_type": "stream",
     "text": [
      "Numero di righe con Qta <= 0:  8506\n"
     ]
    }
   ],
   "source": [
    "print(\"Numero di righe con Qta <= 0: \", df[df['Qta'] <= 0].shape[0])"
   ]
  },
  {
   "cell_type": "code",
   "execution_count": 312,
   "metadata": {},
   "outputs": [
    {
     "name": "stdout",
     "output_type": "stream",
     "text": [
      "Numero di righe con Qta < 0:  8506\n"
     ]
    }
   ],
   "source": [
    "print(\"Numero di righe con Qta < 0: \", df[df['Qta'] < 0].shape[0])"
   ]
  },
  {
   "cell_type": "markdown",
   "metadata": {},
   "source": [
    "Non ci sono righe con Qta = 0."
   ]
  },
  {
   "cell_type": "code",
   "execution_count": 313,
   "metadata": {},
   "outputs": [
    {
     "data": {
      "text/html": [
       "<div>\n",
       "<style scoped>\n",
       "    .dataframe tbody tr th:only-of-type {\n",
       "        vertical-align: middle;\n",
       "    }\n",
       "\n",
       "    .dataframe tbody tr th {\n",
       "        vertical-align: top;\n",
       "    }\n",
       "\n",
       "    .dataframe thead th {\n",
       "        text-align: right;\n",
       "    }\n",
       "</style>\n",
       "<table border=\"1\" class=\"dataframe\">\n",
       "  <thead>\n",
       "    <tr style=\"text-align: right;\">\n",
       "      <th></th>\n",
       "      <th>BasketID</th>\n",
       "      <th>BasketDate</th>\n",
       "      <th>Sale</th>\n",
       "      <th>CustomerID</th>\n",
       "      <th>CustomerCountry</th>\n",
       "      <th>ProdID</th>\n",
       "      <th>ProdDescr</th>\n",
       "      <th>Qta</th>\n",
       "    </tr>\n",
       "  </thead>\n",
       "  <tbody>\n",
       "    <tr>\n",
       "      <th>154</th>\n",
       "      <td>C536383</td>\n",
       "      <td>2010-12-01 09:49:00</td>\n",
       "      <td>4.65</td>\n",
       "      <td>15311</td>\n",
       "      <td>United Kingdom</td>\n",
       "      <td>35004C</td>\n",
       "      <td>SET OF 3 COLOURED  FLYING DUCKS</td>\n",
       "      <td>-1</td>\n",
       "    </tr>\n",
       "    <tr>\n",
       "      <th>235</th>\n",
       "      <td>C536391</td>\n",
       "      <td>2010-12-01 10:24:00</td>\n",
       "      <td>1.65</td>\n",
       "      <td>17548</td>\n",
       "      <td>United Kingdom</td>\n",
       "      <td>22556</td>\n",
       "      <td>PLASTERS IN TIN CIRCUS PARADE</td>\n",
       "      <td>-12</td>\n",
       "    </tr>\n",
       "    <tr>\n",
       "      <th>236</th>\n",
       "      <td>C536391</td>\n",
       "      <td>2010-12-01 10:24:00</td>\n",
       "      <td>0.29</td>\n",
       "      <td>17548</td>\n",
       "      <td>United Kingdom</td>\n",
       "      <td>21984</td>\n",
       "      <td>PACK OF 12 PINK PAISLEY TISSUES</td>\n",
       "      <td>-24</td>\n",
       "    </tr>\n",
       "  </tbody>\n",
       "</table>\n",
       "</div>"
      ],
      "text/plain": [
       "    BasketID          BasketDate  Sale  CustomerID CustomerCountry  ProdID  \\\n",
       "154  C536383 2010-12-01 09:49:00  4.65       15311  United Kingdom  35004C   \n",
       "235  C536391 2010-12-01 10:24:00  1.65       17548  United Kingdom   22556   \n",
       "236  C536391 2010-12-01 10:24:00  0.29       17548  United Kingdom   21984   \n",
       "\n",
       "                            ProdDescr  Qta  \n",
       "154   SET OF 3 COLOURED  FLYING DUCKS   -1  \n",
       "235    PLASTERS IN TIN CIRCUS PARADE   -12  \n",
       "236  PACK OF 12 PINK PAISLEY TISSUES   -24  "
      ]
     },
     "execution_count": 313,
     "metadata": {},
     "output_type": "execute_result"
    }
   ],
   "source": [
    "df[df['Qta'] < 0].head(3)"
   ]
  },
  {
   "cell_type": "markdown",
   "metadata": {},
   "source": [
    "Controllo se tutte le righe con Qta negativa hanno il BaskeID che inizia con la lettera C."
   ]
  },
  {
   "cell_type": "code",
   "execution_count": 314,
   "metadata": {},
   "outputs": [
    {
     "data": {
      "text/plain": [
       "True    8506\n",
       "Name: BasketID, dtype: int64"
      ]
     },
     "execution_count": 314,
     "metadata": {},
     "output_type": "execute_result"
    }
   ],
   "source": [
    "import re\n",
    "\n",
    "# Questa funziona mi restituisce True se la stringa presa in input contiene un carattere dell'alfabeto, False altrimenti.\n",
    "def search_letters(the_string):\n",
    "    if re.search('[a-zA-Z]', the_string) is None:\n",
    "        return False\n",
    "    return True\n",
    "\n",
    "df[df['Qta'] < 0]['BasketID'].apply(search_letters).value_counts()\n"
   ]
  },
  {
   "cell_type": "markdown",
   "metadata": {},
   "source": [
    "Tutte le righe con Qta negativa hanno BasketID che inizia con la lettera C. Queste righe sembrano rappresentare degli ordini annullati o dei rimborsi."
   ]
  },
  {
   "cell_type": "markdown",
   "metadata": {},
   "source": [
    "Occorre ora gestire i rimborsi, ossia le righe con Qta < 0. I rimborsi vengono gestiti facendo le seguenti assunzioni:\n",
    "* Per ogni ordine è possibile richiedere al massimo un rimborso.\n",
    "* Un rimborso può essere applicato ad un ordine solo se la data dell'ordine è antecedente a quella del rimborso, il codice prodotto è lo stesso, il codice cliente è lo stesso e la quantità di oggetti presente nell'ordine è maggiore o uguale alla quantità in valore assoluto degli oggetti indicata nel rimborso.\n",
    "* Dato un rimborso, se all'interno del dataset non è presente un ordine antecedente a quel rimborso, allora il rimborso non viene considerato.\n",
    "* Dato un ordine, se ci sono più rimborsi applicabili a questo ordine, si applica quello con la quantità di oggetti in valore assoluto maggiore. Se ci sono due o più rimborsi con la stessa quantità ne uso uno tra questi."
   ]
  },
  {
   "cell_type": "markdown",
   "metadata": {},
   "source": [
    "Come prima cosa, mi salvo su un dataframe con tutti i rimborsi e uno con tutti gli acquisti."
   ]
  },
  {
   "cell_type": "code",
   "execution_count": 315,
   "metadata": {},
   "outputs": [],
   "source": [
    "rimborsi = df[df['Qta'] < 0]\n",
    "# Aggiungo una colonna a rimborsi che mi indica se un determinato rimborso è stato utilizzato\n",
    "lst = list()\n",
    "for i in range(rimborsi.shape[0]):\n",
    "    lst.insert(i, False) \n",
    "rimborsi = rimborsi.assign(Used=pd.Series(lst).values)\n",
    "\n",
    "acquisti = df[df['Qta'] > 0]"
   ]
  },
  {
   "cell_type": "code",
   "execution_count": 316,
   "metadata": {},
   "outputs": [
    {
     "data": {
      "text/html": [
       "<div>\n",
       "<style scoped>\n",
       "    .dataframe tbody tr th:only-of-type {\n",
       "        vertical-align: middle;\n",
       "    }\n",
       "\n",
       "    .dataframe tbody tr th {\n",
       "        vertical-align: top;\n",
       "    }\n",
       "\n",
       "    .dataframe thead th {\n",
       "        text-align: right;\n",
       "    }\n",
       "</style>\n",
       "<table border=\"1\" class=\"dataframe\">\n",
       "  <thead>\n",
       "    <tr style=\"text-align: right;\">\n",
       "      <th></th>\n",
       "      <th>BasketID</th>\n",
       "      <th>BasketDate</th>\n",
       "      <th>Sale</th>\n",
       "      <th>CustomerID</th>\n",
       "      <th>CustomerCountry</th>\n",
       "      <th>ProdID</th>\n",
       "      <th>ProdDescr</th>\n",
       "      <th>Qta</th>\n",
       "    </tr>\n",
       "  </thead>\n",
       "  <tbody>\n",
       "    <tr>\n",
       "      <th>235</th>\n",
       "      <td>C536391</td>\n",
       "      <td>2010-12-01 10:24:00</td>\n",
       "      <td>1.65</td>\n",
       "      <td>17548</td>\n",
       "      <td>United Kingdom</td>\n",
       "      <td>22556</td>\n",
       "      <td>PLASTERS IN TIN CIRCUS PARADE</td>\n",
       "      <td>-12</td>\n",
       "    </tr>\n",
       "    <tr>\n",
       "      <th>236</th>\n",
       "      <td>C536391</td>\n",
       "      <td>2010-12-01 10:24:00</td>\n",
       "      <td>0.29</td>\n",
       "      <td>17548</td>\n",
       "      <td>United Kingdom</td>\n",
       "      <td>21984</td>\n",
       "      <td>PACK OF 12 PINK PAISLEY TISSUES</td>\n",
       "      <td>-24</td>\n",
       "    </tr>\n",
       "    <tr>\n",
       "      <th>237</th>\n",
       "      <td>C536391</td>\n",
       "      <td>2010-12-01 10:24:00</td>\n",
       "      <td>0.29</td>\n",
       "      <td>17548</td>\n",
       "      <td>United Kingdom</td>\n",
       "      <td>21983</td>\n",
       "      <td>PACK OF 12 BLUE PAISLEY TISSUES</td>\n",
       "      <td>-24</td>\n",
       "    </tr>\n",
       "    <tr>\n",
       "      <th>238</th>\n",
       "      <td>C536391</td>\n",
       "      <td>2010-12-01 10:24:00</td>\n",
       "      <td>0.29</td>\n",
       "      <td>17548</td>\n",
       "      <td>United Kingdom</td>\n",
       "      <td>21980</td>\n",
       "      <td>PACK OF 12 RED RETROSPOT TISSUES</td>\n",
       "      <td>-24</td>\n",
       "    </tr>\n",
       "    <tr>\n",
       "      <th>239</th>\n",
       "      <td>C536391</td>\n",
       "      <td>2010-12-01 10:24:00</td>\n",
       "      <td>3.45</td>\n",
       "      <td>17548</td>\n",
       "      <td>United Kingdom</td>\n",
       "      <td>21484</td>\n",
       "      <td>CHICK GREY HOT WATER BOTTLE</td>\n",
       "      <td>-12</td>\n",
       "    </tr>\n",
       "    <tr>\n",
       "      <th>240</th>\n",
       "      <td>C536391</td>\n",
       "      <td>2010-12-01 10:24:00</td>\n",
       "      <td>1.65</td>\n",
       "      <td>17548</td>\n",
       "      <td>United Kingdom</td>\n",
       "      <td>22557</td>\n",
       "      <td>PLASTERS IN TIN VINTAGE PAISLEY</td>\n",
       "      <td>-12</td>\n",
       "    </tr>\n",
       "    <tr>\n",
       "      <th>241</th>\n",
       "      <td>C536391</td>\n",
       "      <td>2010-12-01 10:24:00</td>\n",
       "      <td>1.65</td>\n",
       "      <td>17548</td>\n",
       "      <td>United Kingdom</td>\n",
       "      <td>22553</td>\n",
       "      <td>PLASTERS IN TIN SKULLS</td>\n",
       "      <td>-24</td>\n",
       "    </tr>\n",
       "    <tr>\n",
       "      <th>139165</th>\n",
       "      <td>550755</td>\n",
       "      <td>2011-04-20 12:01:00</td>\n",
       "      <td>1.25</td>\n",
       "      <td>17548</td>\n",
       "      <td>United Kingdom</td>\n",
       "      <td>22585</td>\n",
       "      <td>PACK OF 6 BIRDY GIFT TAGS</td>\n",
       "      <td>24</td>\n",
       "    </tr>\n",
       "    <tr>\n",
       "      <th>139166</th>\n",
       "      <td>550755</td>\n",
       "      <td>2011-04-20 12:01:00</td>\n",
       "      <td>1.65</td>\n",
       "      <td>17548</td>\n",
       "      <td>United Kingdom</td>\n",
       "      <td>22082</td>\n",
       "      <td>RIBBON REEL STRIPES DESIGN</td>\n",
       "      <td>10</td>\n",
       "    </tr>\n",
       "    <tr>\n",
       "      <th>139167</th>\n",
       "      <td>550755</td>\n",
       "      <td>2011-04-20 12:01:00</td>\n",
       "      <td>1.65</td>\n",
       "      <td>17548</td>\n",
       "      <td>United Kingdom</td>\n",
       "      <td>22081</td>\n",
       "      <td>RIBBON REEL FLORA + FAUNA</td>\n",
       "      <td>10</td>\n",
       "    </tr>\n",
       "    <tr>\n",
       "      <th>139168</th>\n",
       "      <td>550755</td>\n",
       "      <td>2011-04-20 12:01:00</td>\n",
       "      <td>1.65</td>\n",
       "      <td>17548</td>\n",
       "      <td>United Kingdom</td>\n",
       "      <td>22079</td>\n",
       "      <td>RIBBON REEL HEARTS DESIGN</td>\n",
       "      <td>10</td>\n",
       "    </tr>\n",
       "    <tr>\n",
       "      <th>139169</th>\n",
       "      <td>550755</td>\n",
       "      <td>2011-04-20 12:01:00</td>\n",
       "      <td>5.95</td>\n",
       "      <td>17548</td>\n",
       "      <td>United Kingdom</td>\n",
       "      <td>22926</td>\n",
       "      <td>IVORY GIANT GARDEN THERMOMETER</td>\n",
       "      <td>4</td>\n",
       "    </tr>\n",
       "    <tr>\n",
       "      <th>150026</th>\n",
       "      <td>C552049</td>\n",
       "      <td>2011-05-06 10:00:00</td>\n",
       "      <td>5.95</td>\n",
       "      <td>17548</td>\n",
       "      <td>United Kingdom</td>\n",
       "      <td>22926</td>\n",
       "      <td>IVORY GIANT GARDEN THERMOMETER</td>\n",
       "      <td>-4</td>\n",
       "    </tr>\n",
       "    <tr>\n",
       "      <th>150027</th>\n",
       "      <td>C552049</td>\n",
       "      <td>2011-05-06 10:00:00</td>\n",
       "      <td>1.25</td>\n",
       "      <td>17548</td>\n",
       "      <td>United Kingdom</td>\n",
       "      <td>22585</td>\n",
       "      <td>PACK OF 6 BIRDY GIFT TAGS</td>\n",
       "      <td>-24</td>\n",
       "    </tr>\n",
       "    <tr>\n",
       "      <th>150028</th>\n",
       "      <td>C552049</td>\n",
       "      <td>2011-05-06 10:00:00</td>\n",
       "      <td>1.65</td>\n",
       "      <td>17548</td>\n",
       "      <td>United Kingdom</td>\n",
       "      <td>22082</td>\n",
       "      <td>RIBBON REEL STRIPES DESIGN</td>\n",
       "      <td>-10</td>\n",
       "    </tr>\n",
       "    <tr>\n",
       "      <th>150029</th>\n",
       "      <td>C552049</td>\n",
       "      <td>2011-05-06 10:00:00</td>\n",
       "      <td>1.65</td>\n",
       "      <td>17548</td>\n",
       "      <td>United Kingdom</td>\n",
       "      <td>22081</td>\n",
       "      <td>RIBBON REEL FLORA + FAUNA</td>\n",
       "      <td>-10</td>\n",
       "    </tr>\n",
       "    <tr>\n",
       "      <th>150030</th>\n",
       "      <td>C552049</td>\n",
       "      <td>2011-05-06 10:00:00</td>\n",
       "      <td>1.65</td>\n",
       "      <td>17548</td>\n",
       "      <td>United Kingdom</td>\n",
       "      <td>22079</td>\n",
       "      <td>RIBBON REEL HEARTS DESIGN</td>\n",
       "      <td>-10</td>\n",
       "    </tr>\n",
       "  </tbody>\n",
       "</table>\n",
       "</div>"
      ],
      "text/plain": [
       "       BasketID          BasketDate  Sale  CustomerID CustomerCountry ProdID  \\\n",
       "235     C536391 2010-12-01 10:24:00  1.65       17548  United Kingdom  22556   \n",
       "236     C536391 2010-12-01 10:24:00  0.29       17548  United Kingdom  21984   \n",
       "237     C536391 2010-12-01 10:24:00  0.29       17548  United Kingdom  21983   \n",
       "238     C536391 2010-12-01 10:24:00  0.29       17548  United Kingdom  21980   \n",
       "239     C536391 2010-12-01 10:24:00  3.45       17548  United Kingdom  21484   \n",
       "240     C536391 2010-12-01 10:24:00  1.65       17548  United Kingdom  22557   \n",
       "241     C536391 2010-12-01 10:24:00  1.65       17548  United Kingdom  22553   \n",
       "139165   550755 2011-04-20 12:01:00  1.25       17548  United Kingdom  22585   \n",
       "139166   550755 2011-04-20 12:01:00  1.65       17548  United Kingdom  22082   \n",
       "139167   550755 2011-04-20 12:01:00  1.65       17548  United Kingdom  22081   \n",
       "139168   550755 2011-04-20 12:01:00  1.65       17548  United Kingdom  22079   \n",
       "139169   550755 2011-04-20 12:01:00  5.95       17548  United Kingdom  22926   \n",
       "150026  C552049 2011-05-06 10:00:00  5.95       17548  United Kingdom  22926   \n",
       "150027  C552049 2011-05-06 10:00:00  1.25       17548  United Kingdom  22585   \n",
       "150028  C552049 2011-05-06 10:00:00  1.65       17548  United Kingdom  22082   \n",
       "150029  C552049 2011-05-06 10:00:00  1.65       17548  United Kingdom  22081   \n",
       "150030  C552049 2011-05-06 10:00:00  1.65       17548  United Kingdom  22079   \n",
       "\n",
       "                                ProdDescr  Qta  \n",
       "235        PLASTERS IN TIN CIRCUS PARADE   -12  \n",
       "236      PACK OF 12 PINK PAISLEY TISSUES   -24  \n",
       "237      PACK OF 12 BLUE PAISLEY TISSUES   -24  \n",
       "238     PACK OF 12 RED RETROSPOT TISSUES   -24  \n",
       "239           CHICK GREY HOT WATER BOTTLE  -12  \n",
       "240      PLASTERS IN TIN VINTAGE PAISLEY   -12  \n",
       "241                PLASTERS IN TIN SKULLS  -24  \n",
       "139165          PACK OF 6 BIRDY GIFT TAGS   24  \n",
       "139166        RIBBON REEL STRIPES DESIGN    10  \n",
       "139167         RIBBON REEL FLORA + FAUNA    10  \n",
       "139168         RIBBON REEL HEARTS DESIGN    10  \n",
       "139169     IVORY GIANT GARDEN THERMOMETER    4  \n",
       "150026     IVORY GIANT GARDEN THERMOMETER   -4  \n",
       "150027          PACK OF 6 BIRDY GIFT TAGS  -24  \n",
       "150028        RIBBON REEL STRIPES DESIGN   -10  \n",
       "150029         RIBBON REEL FLORA + FAUNA   -10  \n",
       "150030         RIBBON REEL HEARTS DESIGN   -10  "
      ]
     },
     "execution_count": 316,
     "metadata": {},
     "output_type": "execute_result"
    }
   ],
   "source": [
    "df[df['CustomerID'] == 17548]"
   ]
  },
  {
   "cell_type": "code",
   "execution_count": 317,
   "metadata": {
    "scrolled": true
   },
   "outputs": [],
   "source": [
    "# Mi creo un insieme che contiene i CustomerID dei clienti che hanno richiesto almeno un rimborso\n",
    "set_customer_id_rimborsi = set(list(rimborsi['CustomerID'].values))\n",
    "\n",
    "# Mi creo un dataframe che contiene solo le righe che si riferiscono ai clienti che hanno richiesto un rimborso\n",
    "acquisti_rimborsabili = acquisti[acquisti['CustomerID'].isin(set_customer_id_rimborsi)]\n",
    "\n",
    "# Dizionario dove ogni coppia (chiave,valore) è (CustomerID x, rimborsi con CustomerID x)\n",
    "dictonary_rimborsi = dict()\n",
    "\n",
    "# Popolo il dizionario\n",
    "for row in rimborsi.itertuples():\n",
    "    customer_id = getattr(row, 'CustomerID')\n",
    "    # Se ho già inserito i rimborsi relativi ad un CustomerID nel dizionario\n",
    "    if customer_id in dictonary_rimborsi:\n",
    "        continue\n",
    "    # Inserisco la nuova coppia (chiave, valore) all'interno del dizionario\n",
    "    \n",
    "    dictonary_rimborsi[customer_id] = rimborsi[rimborsi['CustomerID'] == customer_id]\n",
    "    \n",
    "def update_row(row, dictonary_rimborsi):\n",
    "    customer_id = row['CustomerID']\n",
    "    qta = row['Qta']\n",
    "    if customer_id not in dictonary_rimborsi:\n",
    "        return qta\n",
    "    basket_date = row['BasketDate']\n",
    "    prod_id = row['ProdID']\n",
    "    # Questo dataframe contiene tutti i rimborsi aventi CustomerID = customer_id\n",
    "    rimborsi_customer = dictonary_rimborsi[customer_id]\n",
    "    # Mi interessano solo i rimborsi che rispettano le assunzioni fatte sopra\n",
    "    # Inoltre il rimborso non deve essere già stato usato in precedenza\n",
    "    rimborsi_applicabili = rimborsi_customer[(rimborsi_customer['ProdID'] == prod_id) & (rimborsi_customer['BasketDate'] >= basket_date) & (abs(rimborsi_customer['Qta']) <= qta) & (rimborsi_customer['Used'] == False)]\n",
    "    # Se non ci sono rimborsi applicabili per questo specifico ordine\n",
    "    if rimborsi_applicabili.shape[0] == 0:\n",
    "        return qta\n",
    "    qta_min = rimborsi_applicabili['Qta'].min()\n",
    "    # Prendo la riga che corrisponde al rimborso che ho appena effettuato\n",
    "    rimborso = rimborsi_applicabili[rimborsi_applicabili['Qta'] == qta_min].iloc[0]\n",
    "    rimborso['Used'] = True\n",
    "    return qta + qta_min\n",
    "\n",
    "qta_updated = acquisti_rimborsabili.apply(lambda row: update_row(row, dictonary_rimborsi), axis=1)"
   ]
  },
  {
   "cell_type": "code",
   "execution_count": 334,
   "metadata": {},
   "outputs": [
    {
     "name": "stderr",
     "output_type": "stream",
     "text": [
      "C:\\Users\\Matteo\\anaconda3\\lib\\site-packages\\pandas\\core\\frame.py:3990: SettingWithCopyWarning: \n",
      "A value is trying to be set on a copy of a slice from a DataFrame\n",
      "\n",
      "See the caveats in the documentation: https://pandas.pydata.org/pandas-docs/stable/user_guide/indexing.html#returning-a-view-versus-a-copy\n",
      "  return super().drop(\n"
     ]
    }
   ],
   "source": [
    "acquisti_rimborsabili.drop(['Qta'], axis=1, inplace=True)"
   ]
  },
  {
   "cell_type": "code",
   "execution_count": 336,
   "metadata": {},
   "outputs": [],
   "source": [
    "acquisti_rimborsabili = acquisti_rimborsabili.assign(Qta=qta_updated)"
   ]
  },
  {
   "cell_type": "code",
   "execution_count": null,
   "metadata": {},
   "outputs": [],
   "source": []
  }
 ],
 "metadata": {
  "kernelspec": {
   "display_name": "Python 3",
   "language": "python",
   "name": "python3"
  },
  "language_info": {
   "codemirror_mode": {
    "name": "ipython",
    "version": 3
   },
   "file_extension": ".py",
   "mimetype": "text/x-python",
   "name": "python",
   "nbconvert_exporter": "python",
   "pygments_lexer": "ipython3",
   "version": "3.8.3"
  }
 },
 "nbformat": 4,
 "nbformat_minor": 4
}
