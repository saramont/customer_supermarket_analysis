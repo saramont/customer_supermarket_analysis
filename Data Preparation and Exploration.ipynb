{
 "cells": [
  {
   "cell_type": "code",
   "execution_count": 98,
   "metadata": {},
   "outputs": [],
   "source": [
    "%matplotlib inline\n",
    "import pandas as pd\n",
    "import numpy as np\n",
    "import matplotlib.pyplot as plt\n",
    "import squarify\n",
    "plt.style.use('seaborn-white')"
   ]
  },
  {
   "cell_type": "markdown",
   "metadata": {},
   "source": [
    "# Data Preparation"
   ]
  },
  {
   "cell_type": "code",
   "execution_count": 99,
   "metadata": {},
   "outputs": [
    {
     "data": {
      "text/html": [
       "<div>\n",
       "<style scoped>\n",
       "    .dataframe tbody tr th:only-of-type {\n",
       "        vertical-align: middle;\n",
       "    }\n",
       "\n",
       "    .dataframe tbody tr th {\n",
       "        vertical-align: top;\n",
       "    }\n",
       "\n",
       "    .dataframe thead th {\n",
       "        text-align: right;\n",
       "    }\n",
       "</style>\n",
       "<table border=\"1\" class=\"dataframe\">\n",
       "  <thead>\n",
       "    <tr style=\"text-align: right;\">\n",
       "      <th></th>\n",
       "      <th>Unnamed: 0</th>\n",
       "      <th>BasketID</th>\n",
       "      <th>BasketDate</th>\n",
       "      <th>Sale</th>\n",
       "      <th>CustomerID</th>\n",
       "      <th>CustomerCountry</th>\n",
       "      <th>ProdID</th>\n",
       "      <th>ProdDescr</th>\n",
       "      <th>Qta</th>\n",
       "    </tr>\n",
       "  </thead>\n",
       "  <tbody>\n",
       "    <tr>\n",
       "      <th>0</th>\n",
       "      <td>0</td>\n",
       "      <td>536365</td>\n",
       "      <td>01/12/10 08:26</td>\n",
       "      <td>2,55</td>\n",
       "      <td>17850.0</td>\n",
       "      <td>United Kingdom</td>\n",
       "      <td>85123A</td>\n",
       "      <td>WHITE HANGING HEART T-LIGHT HOLDER</td>\n",
       "      <td>6</td>\n",
       "    </tr>\n",
       "    <tr>\n",
       "      <th>1</th>\n",
       "      <td>1</td>\n",
       "      <td>536365</td>\n",
       "      <td>01/12/10 08:26</td>\n",
       "      <td>3,39</td>\n",
       "      <td>17850.0</td>\n",
       "      <td>United Kingdom</td>\n",
       "      <td>71053</td>\n",
       "      <td>WHITE METAL LANTERN</td>\n",
       "      <td>6</td>\n",
       "    </tr>\n",
       "    <tr>\n",
       "      <th>2</th>\n",
       "      <td>2</td>\n",
       "      <td>536365</td>\n",
       "      <td>01/12/10 08:26</td>\n",
       "      <td>2,75</td>\n",
       "      <td>17850.0</td>\n",
       "      <td>United Kingdom</td>\n",
       "      <td>84406B</td>\n",
       "      <td>CREAM CUPID HEARTS COAT HANGER</td>\n",
       "      <td>8</td>\n",
       "    </tr>\n",
       "  </tbody>\n",
       "</table>\n",
       "</div>"
      ],
      "text/plain": [
       "   Unnamed: 0 BasketID      BasketDate  Sale  CustomerID CustomerCountry  \\\n",
       "0           0   536365  01/12/10 08:26  2,55     17850.0  United Kingdom   \n",
       "1           1   536365  01/12/10 08:26  3,39     17850.0  United Kingdom   \n",
       "2           2   536365  01/12/10 08:26  2,75     17850.0  United Kingdom   \n",
       "\n",
       "   ProdID                           ProdDescr  Qta  \n",
       "0  85123A  WHITE HANGING HEART T-LIGHT HOLDER    6  \n",
       "1   71053                 WHITE METAL LANTERN    6  \n",
       "2  84406B      CREAM CUPID HEARTS COAT HANGER    8  "
      ]
     },
     "execution_count": 99,
     "metadata": {},
     "output_type": "execute_result"
    }
   ],
   "source": [
    "# Creo il dataframe leggendo il file csv\n",
    "df = pd.read_csv('customer_supermarket.csv', sep='\\t')\n",
    "df.head(3)"
   ]
  },
  {
   "cell_type": "code",
   "execution_count": 100,
   "metadata": {},
   "outputs": [
    {
     "data": {
      "text/html": [
       "<div>\n",
       "<style scoped>\n",
       "    .dataframe tbody tr th:only-of-type {\n",
       "        vertical-align: middle;\n",
       "    }\n",
       "\n",
       "    .dataframe tbody tr th {\n",
       "        vertical-align: top;\n",
       "    }\n",
       "\n",
       "    .dataframe thead th {\n",
       "        text-align: right;\n",
       "    }\n",
       "</style>\n",
       "<table border=\"1\" class=\"dataframe\">\n",
       "  <thead>\n",
       "    <tr style=\"text-align: right;\">\n",
       "      <th></th>\n",
       "      <th>BasketID</th>\n",
       "      <th>BasketDate</th>\n",
       "      <th>Sale</th>\n",
       "      <th>CustomerID</th>\n",
       "      <th>CustomerCountry</th>\n",
       "      <th>ProdID</th>\n",
       "      <th>ProdDescr</th>\n",
       "      <th>Qta</th>\n",
       "    </tr>\n",
       "  </thead>\n",
       "  <tbody>\n",
       "    <tr>\n",
       "      <th>0</th>\n",
       "      <td>536365</td>\n",
       "      <td>01/12/10 08:26</td>\n",
       "      <td>2,55</td>\n",
       "      <td>17850.0</td>\n",
       "      <td>United Kingdom</td>\n",
       "      <td>85123A</td>\n",
       "      <td>WHITE HANGING HEART T-LIGHT HOLDER</td>\n",
       "      <td>6</td>\n",
       "    </tr>\n",
       "    <tr>\n",
       "      <th>1</th>\n",
       "      <td>536365</td>\n",
       "      <td>01/12/10 08:26</td>\n",
       "      <td>3,39</td>\n",
       "      <td>17850.0</td>\n",
       "      <td>United Kingdom</td>\n",
       "      <td>71053</td>\n",
       "      <td>WHITE METAL LANTERN</td>\n",
       "      <td>6</td>\n",
       "    </tr>\n",
       "    <tr>\n",
       "      <th>2</th>\n",
       "      <td>536365</td>\n",
       "      <td>01/12/10 08:26</td>\n",
       "      <td>2,75</td>\n",
       "      <td>17850.0</td>\n",
       "      <td>United Kingdom</td>\n",
       "      <td>84406B</td>\n",
       "      <td>CREAM CUPID HEARTS COAT HANGER</td>\n",
       "      <td>8</td>\n",
       "    </tr>\n",
       "  </tbody>\n",
       "</table>\n",
       "</div>"
      ],
      "text/plain": [
       "  BasketID      BasketDate  Sale  CustomerID CustomerCountry  ProdID  \\\n",
       "0   536365  01/12/10 08:26  2,55     17850.0  United Kingdom  85123A   \n",
       "1   536365  01/12/10 08:26  3,39     17850.0  United Kingdom   71053   \n",
       "2   536365  01/12/10 08:26  2,75     17850.0  United Kingdom  84406B   \n",
       "\n",
       "                            ProdDescr  Qta  \n",
       "0  WHITE HANGING HEART T-LIGHT HOLDER    6  \n",
       "1                 WHITE METAL LANTERN    6  \n",
       "2      CREAM CUPID HEARTS COAT HANGER    8  "
      ]
     },
     "execution_count": 100,
     "metadata": {},
     "output_type": "execute_result"
    }
   ],
   "source": [
    "# Elimino la colonna chiamata'Unnamed: 0' perché è superflua (alla lettura del dataset, pandas ha già assegnato un indice\n",
    "# ad ogni riga)\n",
    "df.drop(columns=['Unnamed: 0'], inplace=True)\n",
    "df.head(3)"
   ]
  },
  {
   "cell_type": "code",
   "execution_count": 101,
   "metadata": {},
   "outputs": [
    {
     "name": "stdout",
     "output_type": "stream",
     "text": [
      "<class 'pandas.core.frame.DataFrame'>\n",
      "RangeIndex: 471910 entries, 0 to 471909\n",
      "Data columns (total 8 columns):\n",
      " #   Column           Non-Null Count   Dtype  \n",
      "---  ------           --------------   -----  \n",
      " 0   BasketID         471910 non-null  object \n",
      " 1   BasketDate       471910 non-null  object \n",
      " 2   Sale             471910 non-null  object \n",
      " 3   CustomerID       406830 non-null  float64\n",
      " 4   CustomerCountry  471910 non-null  object \n",
      " 5   ProdID           471910 non-null  object \n",
      " 6   ProdDescr        471157 non-null  object \n",
      " 7   Qta              471910 non-null  int64  \n",
      "dtypes: float64(1), int64(1), object(6)\n",
      "memory usage: 28.8+ MB\n"
     ]
    }
   ],
   "source": [
    "df.info()"
   ]
  },
  {
   "cell_type": "markdown",
   "metadata": {},
   "source": [
    "Da df.info() si nota che le colonne CustomerID e ProdDescr hanno alcuni valori NaN."
   ]
  },
  {
   "cell_type": "markdown",
   "metadata": {},
   "source": [
    "### Gestione delle righe duplicate"
   ]
  },
  {
   "cell_type": "markdown",
   "metadata": {},
   "source": [
    "Nel dataframe df sono presenti delle righe duplicate. Dato che il dataset sembra essere un storico degli acquisti fatti su un sito web, posso supporre che i duplicati siano dovuti ad degli errori e quindi possano essere eliminati. Escludo la possibilità che l'utente possa aggiungere al carrello lo stesso prodotto più volte (come acquisti separati). Ad esempio, su Amazon se si prova ad aggiungere al carrello lo stesso oggetto più volte, viene incrementata la quantità dell'oggetto senza aggiungere un nuovo acquisto."
   ]
  },
  {
   "cell_type": "code",
   "execution_count": 102,
   "metadata": {},
   "outputs": [
    {
     "name": "stdout",
     "output_type": "stream",
     "text": [
      "Righe duplicate (esclusa la prima occorrenza) all'interno di df:  5232\n"
     ]
    }
   ],
   "source": [
    "print(\"Righe duplicate (esclusa la prima occorrenza) all'interno di df: \", df.duplicated().value_counts()[1])"
   ]
  },
  {
   "cell_type": "code",
   "execution_count": 103,
   "metadata": {},
   "outputs": [
    {
     "data": {
      "text/html": [
       "<div>\n",
       "<style scoped>\n",
       "    .dataframe tbody tr th:only-of-type {\n",
       "        vertical-align: middle;\n",
       "    }\n",
       "\n",
       "    .dataframe tbody tr th {\n",
       "        vertical-align: top;\n",
       "    }\n",
       "\n",
       "    .dataframe thead th {\n",
       "        text-align: right;\n",
       "    }\n",
       "</style>\n",
       "<table border=\"1\" class=\"dataframe\">\n",
       "  <thead>\n",
       "    <tr style=\"text-align: right;\">\n",
       "      <th></th>\n",
       "      <th>BasketID</th>\n",
       "      <th>BasketDate</th>\n",
       "      <th>Sale</th>\n",
       "      <th>CustomerID</th>\n",
       "      <th>CustomerCountry</th>\n",
       "      <th>ProdID</th>\n",
       "      <th>ProdDescr</th>\n",
       "      <th>Qta</th>\n",
       "    </tr>\n",
       "  </thead>\n",
       "  <tbody>\n",
       "    <tr>\n",
       "      <th>517</th>\n",
       "      <td>536409</td>\n",
       "      <td>01/12/10 11:45</td>\n",
       "      <td>1,25</td>\n",
       "      <td>17908.0</td>\n",
       "      <td>United Kingdom</td>\n",
       "      <td>21866</td>\n",
       "      <td>UNION JACK FLAG LUGGAGE TAG</td>\n",
       "      <td>1</td>\n",
       "    </tr>\n",
       "    <tr>\n",
       "      <th>527</th>\n",
       "      <td>536409</td>\n",
       "      <td>01/12/10 11:45</td>\n",
       "      <td>2,1</td>\n",
       "      <td>17908.0</td>\n",
       "      <td>United Kingdom</td>\n",
       "      <td>22866</td>\n",
       "      <td>HAND WARMER SCOTTY DOG DESIGN</td>\n",
       "      <td>1</td>\n",
       "    </tr>\n",
       "    <tr>\n",
       "      <th>537</th>\n",
       "      <td>536409</td>\n",
       "      <td>01/12/10 11:45</td>\n",
       "      <td>2,95</td>\n",
       "      <td>17908.0</td>\n",
       "      <td>United Kingdom</td>\n",
       "      <td>22900</td>\n",
       "      <td>SET 2 TEA TOWELS I LOVE LONDON</td>\n",
       "      <td>1</td>\n",
       "    </tr>\n",
       "  </tbody>\n",
       "</table>\n",
       "</div>"
      ],
      "text/plain": [
       "    BasketID      BasketDate  Sale  CustomerID CustomerCountry ProdID  \\\n",
       "517   536409  01/12/10 11:45  1,25     17908.0  United Kingdom  21866   \n",
       "527   536409  01/12/10 11:45   2,1     17908.0  United Kingdom  22866   \n",
       "537   536409  01/12/10 11:45  2,95     17908.0  United Kingdom  22900   \n",
       "\n",
       "                            ProdDescr  Qta  \n",
       "517       UNION JACK FLAG LUGGAGE TAG    1  \n",
       "527     HAND WARMER SCOTTY DOG DESIGN    1  \n",
       "537   SET 2 TEA TOWELS I LOVE LONDON     1  "
      ]
     },
     "execution_count": 103,
     "metadata": {},
     "output_type": "execute_result"
    }
   ],
   "source": [
    "df[df.duplicated()].head(3)"
   ]
  },
  {
   "cell_type": "code",
   "execution_count": 104,
   "metadata": {},
   "outputs": [],
   "source": [
    "df.drop_duplicates(inplace=True)"
   ]
  },
  {
   "cell_type": "markdown",
   "metadata": {},
   "source": [
    "Per ogni colonna controllo che i valori siano in formato corretto, diversi da NaN, sensati, ecc."
   ]
  },
  {
   "cell_type": "markdown",
   "metadata": {},
   "source": [
    "### CustomerID"
   ]
  },
  {
   "cell_type": "markdown",
   "metadata": {},
   "source": [
    "Da df.info() si nota che ci sono delle righe con CustomerID = NaN. Dato che l'analisi successiva si concentrerà sull'analisi del comportamento degli utenti, se non è possibile recuperare il CustomerID di queste righe esse andranno eliminate.\n",
    "\n",
    "Per provare a recuperare questi CustomerID faccio così: per ogni riga $r_1$ con CustomerID = NaN, controllo nel dataframe se esiste una riga $r_2$ con $r_1$.BasketID = $r_2$.BasketID e con $r_2$.CustomerID $\\neq$ NaN. Allora, posso assegnare ad $r_1$ il CustomerID di $r_2$."
   ]
  },
  {
   "cell_type": "code",
   "execution_count": 105,
   "metadata": {},
   "outputs": [
    {
     "data": {
      "text/plain": [
       "[]"
      ]
     },
     "execution_count": 105,
     "metadata": {},
     "output_type": "execute_result"
    }
   ],
   "source": [
    "# null contiene i BasketID delle righe che hanno CustomerID = NaN\n",
    "null = df[df['CustomerID'].isnull()]['BasketID'].value_counts().index.values\n",
    "\n",
    "# not_null contiene i BasketID delle righe che hanno CustomerID != NaN\n",
    "not_null = df[pd.notnull(df['CustomerID'])]['BasketID'].value_counts().index.values\n",
    "\n",
    "# Questa funzione mi restituisce l'intersezione di due insiemi\n",
    "def intersection(lst1, lst2): \n",
    "    return list(set(lst1) & set(lst2))\n",
    "\n",
    "intersection(list(null), list(not_null))"
   ]
  },
  {
   "cell_type": "markdown",
   "metadata": {},
   "source": [
    "$null \\cap not\\_null = \\emptyset$. Non è possibile recuperare i valori di CustomerID, quindi elimino le righe che hanno CustomerID = NaN."
   ]
  },
  {
   "cell_type": "code",
   "execution_count": 106,
   "metadata": {},
   "outputs": [],
   "source": [
    "df.drop(df[df['CustomerID'].isnull()].index, inplace=True)"
   ]
  },
  {
   "cell_type": "markdown",
   "metadata": {},
   "source": [
    "### ProdID"
   ]
  },
  {
   "cell_type": "markdown",
   "metadata": {},
   "source": [
    "Controllando il dataframe, ho notato che alcune righe non rappresentano degli acquisti."
   ]
  },
  {
   "cell_type": "code",
   "execution_count": 107,
   "metadata": {},
   "outputs": [
    {
     "data": {
      "text/plain": [
       "POST    1197\n",
       "M        460\n",
       "D         77\n",
       "DOT       16\n",
       "CRUK      16\n",
       "PADS       4\n",
       "Name: ProdID, dtype: int64"
      ]
     },
     "execution_count": 107,
     "metadata": {},
     "output_type": "execute_result"
    }
   ],
   "source": [
    "# isalpha restituisce True se la stringa contiene solo caratteri dell'alfabeto\n",
    "df[df['ProdID'].apply(str.isalpha)]['ProdID'].value_counts()"
   ]
  },
  {
   "cell_type": "markdown",
   "metadata": {},
   "source": [
    "Le righe che hanno come ProdID uno tra quelli elencati sopra non rappresentano degli acquisti, quindi le elimino."
   ]
  },
  {
   "cell_type": "code",
   "execution_count": 108,
   "metadata": {},
   "outputs": [],
   "source": [
    "# Elimino le righe che hanno come ProdID una stringa (quindi solo quelle elencate sopra)\n",
    "df = df[df['ProdID'].apply(lambda s: not s.isalpha())]"
   ]
  },
  {
   "cell_type": "markdown",
   "metadata": {},
   "source": [
    "Controllo se ci sono delle righe che non rappresentano degli acquisti ma hanno ProdID alfanumerici (lo faccio perchè con la funzione isalpha un ProdID = '123AAA' non sarebbe stato trovato)."
   ]
  },
  {
   "cell_type": "code",
   "execution_count": 109,
   "metadata": {},
   "outputs": [
    {
     "data": {
      "text/plain": [
       "array(['85123A', '85099B', '82494L', '85099C', '85099F', '84997D',\n",
       "       '84970S', '47591D', '15056N', '84596B', '47590B', '47590A',\n",
       "       '85049E', '84970L', '84997B', '84029E', '84029G', '47566B',\n",
       "       '84997C', '85014B', '84596F', '15056BL', '84030E', '85049A',\n",
       "       '85014A', '16161P', '84406B', '47559B', '85049G', '84997A',\n",
       "       '84536A', '85049C', '46000S', '47504K', '48173C', '47503A',\n",
       "       '16156S', '85199S', '84596G', '72351B', '51014A', '16169E',\n",
       "       '35471D', '47599A', '84510A', '85034C', '75049L', '84509A',\n",
       "       '15056P', '85184C', '72760B', '85040A', '84032B', '72351A',\n",
       "       '46000M', '16161U', 'C2', '85132C', '47567B', '72807C', '85061W',\n",
       "       '84971S', '51014C', '84078A', '79066K', '85231B', '84535B',\n",
       "       '85035C', '82001S', '47599B', '84032A', '51014L', '85183B',\n",
       "       '85071B', '84849D', '85049D', '85206A', '84536B', '84279P',\n",
       "       '72800E', '85032A', '15060B', '47593B', '72802C', '85071A',\n",
       "       '47504H', '85032B', '72349B', '85034B', '84519B', '17091J',\n",
       "       '85049F', '85032C', '85183A', '85036C', '72807B', '72802B',\n",
       "       '84596L', '15044A', '79191C', '85035A', '85034A', '85049H',\n",
       "       '85017B', '15044D', '85071C', '85159B', '72807A', '85231G',\n",
       "       '85199L', '85071D', '84884A', '85114C', '85185B', '15044C',\n",
       "       '84459B', '84519A', '84558A', '85132B', '85032D', '84279B',\n",
       "       '72802A', '85194L', '84459A', '85194S', '84849B', '35004B',\n",
       "       '85036A', '84520B', '15058A', '85232D', '18097C', '82616C',\n",
       "       '85170D', '35810A', '85132A', '79030G', '84968A', '85039B',\n",
       "       '47574A', '85130D', '85114B', '85159A', '82613D', '85135C',\n",
       "       '84968C', '82616B', '84031A', '85130B', '72799E', '84509B',\n",
       "       '85169A', '15044B', '79302M', '47310M', '84912B', '82613B',\n",
       "       '35004C', '17107D', '47563A', '84509G', '84559B', '85130C',\n",
       "       '17012D', '85036B', '15058B', '84927F', '85035B', '17012C',\n",
       "       '17012F', '72803A', '84559A', '85114A', '84673B', '35809A',\n",
       "       '35095B', '84795B', '85039A', '16258A', '85180A', '84912A',\n",
       "       '85040B', '85186A', '84660A', '85136A', '18098C', '85230B',\n",
       "       '82613C', '79051A', '84031B', '84926E', '46000R', '79190B',\n",
       "       '72800B', '85135B', '17012B', '84508A', '84596E', '37482P',\n",
       "       '79190A', '85186C', '85188A', '47503H', '84341B', '84951A',\n",
       "       '84569D', '35095A', '85129D', '84993A', '84625C', '84625A',\n",
       "       '47594B', '17084N', '84849A', '84510C', '84968D', '84951B',\n",
       "       '84926D', '79030D', '47594A', '85124C', '84926A', '84508B',\n",
       "       '84859A', '85124B', '85025C', '15058C', '72800C', '84968F',\n",
       "       '85170C', '72800D', '84660B', '47578A', '84663A', '47518F',\n",
       "       '85019A', '84507C', '85131A', '84596J', '84660C', '47585A',\n",
       "       '17084R', '79191B', '84673A', '84531A', '84569A', '35001G',\n",
       "       '85230G', '16169M', '47570B', '85232A', '84931B', '46000U',\n",
       "       '84247E', '81952V', '85136C', '35819B', '85019B', '17012A',\n",
       "       '84707A', '35911A', '85169B', '17091A', '90200B', '84531B',\n",
       "       '85205B', '35598D', '79190D', '85230E', '35637A', '84926F',\n",
       "       '84924A', '85170B', '84313C', '90200D', '35599B', '84800L',\n",
       "       '35810B', '84659A', '84247G', '84509C', '84968E', '71101E',\n",
       "       '35598B', '84931A', '16161G', '85025B', '85169D', '84563B',\n",
       "       '85180B', '37479P', '71406C', '84859C', '84876B', '72799F',\n",
       "       '85169C', '35004G', '16168M', '84535A', '84913B', '84985A',\n",
       "       '84508C', '17129F', '82011C', '77101A', '84086C', '84806B',\n",
       "       '35599D', '82011B', '85027L', '51020A', '90200E', '16156L',\n",
       "       '35912B', '84247N', '85230A', '84898F', '72799C', '85163A',\n",
       "       '84993B', '17136A', '85179A', '37479B', '84796B', '84989A',\n",
       "       '85160B', '37489D', '35818P', '90160C', '90200A', '85129B',\n",
       "       '72225C', '90058B', '51020B', '85163B', '84251B', '84875B',\n",
       "       '37489A', '84927A', '85232B', '90030B', '79144B', '90161C',\n",
       "       '84251G', '47021G', '18094C', '47348A', '84708B', '47343A',\n",
       "       '84925F', '46138B', '72801C', '35915B', '84952B', '84429A',\n",
       "       '37444A', '82613A', '84741C', '85023B', '90214A', '84563A',\n",
       "       '79063C', '84507B', '46775D', '84707B', '84927E', '90209C',\n",
       "       '85131B', '85039C', '17084P', '84313B', '84750B', '17090D',\n",
       "       '85049B', '90201C', '84597C', '62086A', '84249A', '47593A',\n",
       "       '90209B', '85230F', '90201B', '84661B', '84876D', 'BANK CHARGES',\n",
       "       '72801D', '85024B', '90201A', '84800M', '85129C', '90161B',\n",
       "       '90214K', '85131D', '37489B', '84927D', '90160A', '47341B',\n",
       "       '84709B', '84661A', '90198B', '90162B', '84569B', '85131C',\n",
       "       '17013D', '90184B', '85019C', '84712B', '85017C', '47367B',\n",
       "       '35833P', '79071B', '84806A', '84877D', '72801G', '84859B',\n",
       "       '82011A', '85130A', '84952C', '47591B', '90198A', '90082A',\n",
       "       '84846A', '84870B', '84913A', '84706F', '84925D', '84870C',\n",
       "       '90014A', '47351B', '79063D', '85024C', '84800S', '17090A',\n",
       "       '90199C', '84247K', '90082B', '90018A', '84796A', '84510E',\n",
       "       '81950B', '84760S', '90201D', '90160D', '85026B', '79026B',\n",
       "       '72140E', '84751B', '84086B', '84595E', '17164B', '90161D',\n",
       "       '35913B', '90214C', '81952B', '84857C', '90019A', '84877B',\n",
       "       '16169K', '90081A', '85185D', '47013C', '84711B', '84804A',\n",
       "       '90214E', '85188B', '35915C', '17084J', '84509E', '79191D',\n",
       "       '90160B', '46776F', '85028S', '90123A', '90030C', '90175A',\n",
       "       '62096A', '90058A', '90185D', '90003D', '79149B', '84875D',\n",
       "       '85086A', '84247L', '90016B', '90185C', '47586A', '37489C',\n",
       "       '90014B', '90184C', '90030A', '90120C', '85031A', '90214G',\n",
       "       '78034B', '85179C', '17014A', '85018D', '35607B', '90200C',\n",
       "       '35637C', '17084A', '90063A', '90162C', '90177D', '85168B',\n",
       "       '85167B', '75013B', '90010E', '17165D', '90214D', '35819P',\n",
       "       '16162M', '46776B', '84711A', '90195A', '90164B', '16248B',\n",
       "       '84874B', '90206C', '37444C', '90064B', '81950V', '84952A',\n",
       "       '90125A', '44089C', '90214H', '90164A', '46776C', '35001W',\n",
       "       '90210B', '90214S', '84984A', '90205A', '40046A', '46776A',\n",
       "       '62043B', '90186B', '17011F', '47344B', '90214P', '79144C',\n",
       "       '84804B', '46126A', '90175C', '90003C', '84910A', '85135A',\n",
       "       '16162L', '90081C', '90185A', '90129C', '90000A', '90178A',\n",
       "       '90129B', '44092C', '90161A', '90183A', '90002D', '47369A',\n",
       "       '16207A', '71495B', '46776E', '84809A', '90210D', '84858C',\n",
       "       '90123C', '90176D', '90122C', '44092B', '84745A', '35638A',\n",
       "       '17109D', '90036E', '90010A', '90129F', '81953B', '90214N',\n",
       "       '84801A', '90180A', '84575A', '90214M', '90210C', '90120B',\n",
       "       '71496A', '72051S', '35815P', '35916C', '46000P', '90209A',\n",
       "       '90125D', '90185B', '84984B', '90214J', '90063B', '90162D',\n",
       "       '90214L', '84534B', '84745B', '90018B', '90196A', '84661C',\n",
       "       '84597B', '10124A', '47341A', '90124A', '44089A', '90059B',\n",
       "       '18097A', '84984D', '62074B', '90184A', '90177C', '90059E',\n",
       "       '90016A', '90000D', '47013A', '90018C', '90036A', '79062D',\n",
       "       '85206B', '90214R', '35638B', '90013C', '16202E', '37462E',\n",
       "       '90003B', '90190C', '35910A', '85028L', '90123B', '84798A',\n",
       "       '90036D', '90124C', '72369A', '35591T', '90059C', '40005B',\n",
       "       '90013A', '90059F', '90082D', '90196B', '10124G', '71496B',\n",
       "       '35911B', '90122A', '17012E', '85017A', '90195B', '90180B',\n",
       "       '90202D', '90067A', '44242B', '90205C', '90060D', '84613A',\n",
       "       '90001D', '47369B', '35910B', '90211A', '90206A', '46776D',\n",
       "       '84706D', '90026D', '90214V', '84801B', '72024U', '90125B',\n",
       "       '90142D', '90065A', '84803B', '90214I', '84924F', '62094B',\n",
       "       '90152A', '35809B', '37488A', '90202C', '79157V', '90186A',\n",
       "       '16207B', '90024B', '90014C', '35916A', '84402B', '90214Y',\n",
       "       '90124B', '37444B', '16151A', '84805A', '90199A', '90010B',\n",
       "       '90003E', '84750A', '90202B', '84805B', '79323B', '90129A',\n",
       "       '84206A', '90211B', '79323P', '81953P', '90125C', '84872A',\n",
       "       '72798C', '44091A', '10123C', '90130B', '90040C', '35818B',\n",
       "       '62097B', '90210A', '35909A', '90064A', '90019C', '90123D',\n",
       "       '35271S', '90000B', '90040B', '90202A', '90011B', '90036B',\n",
       "       '16244B', '84798B', '90026B', '90176A', '90141B', '90012A',\n",
       "       '90040A', '90212C', '90039D', '84251C', '90189A', '17191A',\n",
       "       '47556B', '90214B', '79157B', '90025A', '90036C', '90199D',\n",
       "       '35597D', '90059A', '16202A', '90120D', '35909B', '84415A',\n",
       "       '84201B', '85136B', '35598A', '90179A', '90141C', '84206C',\n",
       "       '90012B', '90026C', '90177A', '35816P', '17007B', '16169P',\n",
       "       '90035A', '90182C', '16206B', '79192A', '16020C', '90059D',\n",
       "       '90176E', '84857B', '71495A', '90019B', '79161A', '90001C',\n",
       "       '35598C', '46115B', '35817P', '84732D', '90214F', '84415B',\n",
       "       '84968B', '90042A', '47574B', '90175D', '84873A', '84562A',\n",
       "       '84732B', '90129D', '16202B', '90177E', '90141A', '90001B',\n",
       "       '90163A', '90177B', '79151B', '37487B', '84802A', '90027D',\n",
       "       '84613C', '85031B', '44242A', '16161M', '90065B', '90162A',\n",
       "       '84705C', '35004P', '35610A', '90036F', '90187B', '35610C',\n",
       "       '90179C', '35597B', '84963B', '90129E', '90199B', '90039A',\n",
       "       '90152B', '90152C', '37491B', '90024D', '85098B', '84206B',\n",
       "       '90060B', '90038A', '90026A', '37379A', '90130A', '16169N',\n",
       "       '85023C', '90181A', '90212B', '84856S', '90038B', '85170A',\n",
       "       '90011A', '90141E', '90178B', '90125E', '90214U', '37491D',\n",
       "       '90197B', '90190A', '90214T', '90165B', '62096B', '90141D',\n",
       "       '90038C', '84201C', '90183C', '37491C', '84743C', '17028J',\n",
       "       '90037B', '90024F', '90163B', '84877A', '90025F', '84614A',\n",
       "       '84963A', '90039B', '90128B', '90039C', '85031C', '84802B',\n",
       "       '47503J', '90214Z', '90176C', '90122B', '35607A', '35916B',\n",
       "       '90176B', '90190B', '84795C', '84387A', '35610B', '90214O',\n",
       "       '90035C', '35597A', '90214W', '90001A', '79323W', '90027A',\n",
       "       '84809B', '84569C', '90024C'], dtype=object)"
      ]
     },
     "execution_count": 109,
     "metadata": {},
     "output_type": "execute_result"
    }
   ],
   "source": [
    "import re\n",
    "\n",
    "# Questa funzione mi restituisce True se la stringa contiene almeno una lettera dell'alfabeto, False altrimenti\n",
    "def search_letters(the_string):\n",
    "    if re.search('[a-zA-Z]', the_string) is None:\n",
    "        return False\n",
    "    return True\n",
    "\n",
    "df[df['ProdID'].apply(search_letters)]['ProdID'].value_counts().index.values"
   ]
  },
  {
   "cell_type": "markdown",
   "metadata": {},
   "source": [
    "Tra i ProdID c'è 'C2', che non rappresenta un acquisto, ma probabilmente una spesa addizionale di spedizione. Quindi elimino le righe in cui ProdID = 'C2."
   ]
  },
  {
   "cell_type": "code",
   "execution_count": 110,
   "metadata": {},
   "outputs": [
    {
     "data": {
      "text/html": [
       "<div>\n",
       "<style scoped>\n",
       "    .dataframe tbody tr th:only-of-type {\n",
       "        vertical-align: middle;\n",
       "    }\n",
       "\n",
       "    .dataframe tbody tr th {\n",
       "        vertical-align: top;\n",
       "    }\n",
       "\n",
       "    .dataframe thead th {\n",
       "        text-align: right;\n",
       "    }\n",
       "</style>\n",
       "<table border=\"1\" class=\"dataframe\">\n",
       "  <thead>\n",
       "    <tr style=\"text-align: right;\">\n",
       "      <th></th>\n",
       "      <th>BasketID</th>\n",
       "      <th>BasketDate</th>\n",
       "      <th>Sale</th>\n",
       "      <th>CustomerID</th>\n",
       "      <th>CustomerCountry</th>\n",
       "      <th>ProdID</th>\n",
       "      <th>ProdDescr</th>\n",
       "      <th>Qta</th>\n",
       "    </tr>\n",
       "  </thead>\n",
       "  <tbody>\n",
       "    <tr>\n",
       "      <th>1422</th>\n",
       "      <td>536540</td>\n",
       "      <td>01/12/10 14:05</td>\n",
       "      <td>50</td>\n",
       "      <td>14911.0</td>\n",
       "      <td>EIRE</td>\n",
       "      <td>C2</td>\n",
       "      <td>CARRIAGE</td>\n",
       "      <td>1</td>\n",
       "    </tr>\n",
       "    <tr>\n",
       "      <th>10319</th>\n",
       "      <td>537368</td>\n",
       "      <td>06/12/10 12:40</td>\n",
       "      <td>50</td>\n",
       "      <td>14911.0</td>\n",
       "      <td>EIRE</td>\n",
       "      <td>C2</td>\n",
       "      <td>CARRIAGE</td>\n",
       "      <td>1</td>\n",
       "    </tr>\n",
       "    <tr>\n",
       "      <th>10652</th>\n",
       "      <td>537378</td>\n",
       "      <td>06/12/10 13:06</td>\n",
       "      <td>50</td>\n",
       "      <td>14911.0</td>\n",
       "      <td>EIRE</td>\n",
       "      <td>C2</td>\n",
       "      <td>CARRIAGE</td>\n",
       "      <td>1</td>\n",
       "    </tr>\n",
       "  </tbody>\n",
       "</table>\n",
       "</div>"
      ],
      "text/plain": [
       "      BasketID      BasketDate Sale  CustomerID CustomerCountry ProdID  \\\n",
       "1422    536540  01/12/10 14:05   50     14911.0            EIRE     C2   \n",
       "10319   537368  06/12/10 12:40   50     14911.0            EIRE     C2   \n",
       "10652   537378  06/12/10 13:06   50     14911.0            EIRE     C2   \n",
       "\n",
       "      ProdDescr  Qta  \n",
       "1422   CARRIAGE    1  \n",
       "10319  CARRIAGE    1  \n",
       "10652  CARRIAGE    1  "
      ]
     },
     "execution_count": 110,
     "metadata": {},
     "output_type": "execute_result"
    }
   ],
   "source": [
    "df[df['ProdID'] == 'C2'].head(3)"
   ]
  },
  {
   "cell_type": "code",
   "execution_count": 111,
   "metadata": {},
   "outputs": [],
   "source": [
    "df.drop(df[df['ProdID'] == 'C2'].index, inplace=True)"
   ]
  },
  {
   "cell_type": "markdown",
   "metadata": {},
   "source": [
    "Tra i ProdID c'è 'BANK CHARGES' che non rappresenta un acquisto, quindi elimino le righe in cui ProdID = 'BANK CHARGES'"
   ]
  },
  {
   "cell_type": "code",
   "execution_count": 112,
   "metadata": {},
   "outputs": [],
   "source": [
    "df.drop(df[df['ProdID'] == 'BANK CHARGES'].index, inplace=True)"
   ]
  },
  {
   "cell_type": "markdown",
   "metadata": {},
   "source": [
    "### ProdDescr"
   ]
  },
  {
   "cell_type": "markdown",
   "metadata": {},
   "source": [
    "Controllo se ci sono ancora delle descrizioni = NaN."
   ]
  },
  {
   "cell_type": "code",
   "execution_count": 116,
   "metadata": {},
   "outputs": [
    {
     "name": "stdout",
     "output_type": "stream",
     "text": [
      "Numero di righe con descrizione NaN:  0\n"
     ]
    }
   ],
   "source": [
    "print(\"Numero di righe con descrizione NaN: \", df[df['ProdDescr'].isnull()].shape[0])"
   ]
  },
  {
   "cell_type": "markdown",
   "metadata": {},
   "source": [
    "### BasketDate"
   ]
  },
  {
   "cell_type": "markdown",
   "metadata": {},
   "source": [
    "Controllo che tutti i valori della colonna BasketDate siano delle stringhe che rappresentano correttamente delle date."
   ]
  },
  {
   "cell_type": "code",
   "execution_count": 117,
   "metadata": {},
   "outputs": [
    {
     "name": "stdout",
     "output_type": "stream",
     "text": [
      "True    399689\n",
      "Name: BasketDate, dtype: int64\n"
     ]
    }
   ],
   "source": [
    "from dateutil.parser import parse\n",
    "\n",
    "# Questa funzione controlla se la stringa presa in input rappresenta correttamente una data\n",
    "def is_date(string, fuzzy=False):\n",
    "    try: \n",
    "        parse(string, fuzzy=fuzzy)\n",
    "        return True\n",
    "\n",
    "    except ValueError:\n",
    "        return False\n",
    "\n",
    "# Controllo se tutte i valori di BasketDate sono delle date valide\n",
    "print(df['BasketDate'].apply(is_date).value_counts())"
   ]
  },
  {
   "cell_type": "markdown",
   "metadata": {},
   "source": [
    "Tutti i valori rappresentano delle date. Ora controllo se questi valori sono scritti nello stesso formato."
   ]
  },
  {
   "cell_type": "code",
   "execution_count": 118,
   "metadata": {},
   "outputs": [
    {
     "name": "stdout",
     "output_type": "stream",
     "text": [
      "True    399689\n",
      "Name: BasketDate, dtype: int64\n"
     ]
    }
   ],
   "source": [
    "import datetime\n",
    "\n",
    "def validate(date_text):\n",
    "    try:\n",
    "        datetime.datetime.strptime(date_text, '%d/%m/%y %H:%M')\n",
    "        return True\n",
    "    except ValueError:\n",
    "        return False\n",
    "    \n",
    "print(df['BasketDate'].apply(validate).value_counts())"
   ]
  },
  {
   "cell_type": "markdown",
   "metadata": {},
   "source": [
    "Tutti i valori sono scritti seguendo lo stesso formato (giorno/mese/anno ora:minuto). Infine, converto tutte queste stringhe in formato datetime."
   ]
  },
  {
   "cell_type": "code",
   "execution_count": 119,
   "metadata": {},
   "outputs": [],
   "source": [
    "df['BasketDate'] = pd.to_datetime(df['BasketDate'], format=\"%d/%m/%y %H:%M\")"
   ]
  },
  {
   "cell_type": "code",
   "execution_count": 120,
   "metadata": {},
   "outputs": [
    {
     "name": "stdout",
     "output_type": "stream",
     "text": [
      "<class 'pandas.core.frame.DataFrame'>\n",
      "Int64Index: 399689 entries, 0 to 471908\n",
      "Data columns (total 8 columns):\n",
      " #   Column           Non-Null Count   Dtype         \n",
      "---  ------           --------------   -----         \n",
      " 0   BasketID         399689 non-null  object        \n",
      " 1   BasketDate       399689 non-null  datetime64[ns]\n",
      " 2   Sale             399689 non-null  object        \n",
      " 3   CustomerID       399689 non-null  float64       \n",
      " 4   CustomerCountry  399689 non-null  object        \n",
      " 5   ProdID           399689 non-null  object        \n",
      " 6   ProdDescr        399689 non-null  object        \n",
      " 7   Qta              399689 non-null  int64         \n",
      "dtypes: datetime64[ns](1), float64(1), int64(1), object(5)\n",
      "memory usage: 27.4+ MB\n"
     ]
    }
   ],
   "source": [
    "df.info()"
   ]
  },
  {
   "cell_type": "markdown",
   "metadata": {},
   "source": [
    "### Sale"
   ]
  },
  {
   "cell_type": "markdown",
   "metadata": {},
   "source": [
    "I valori della colonna Sale sono delle stringhe che rappresentano dei float, dove al posto del punto è stata usata la virgola."
   ]
  },
  {
   "cell_type": "code",
   "execution_count": 121,
   "metadata": {},
   "outputs": [],
   "source": [
    "# Questa funzione converte una stringa nel rispettivo float (3,5 --> 3.5)\n",
    "def convert_to_float(s):\n",
    "    comma_pos = s.find(',')\n",
    "    if comma_pos >= 0:\n",
    "        s = s[: comma_pos] + '.' + s[comma_pos+1 :]\n",
    "    return float(s)\n",
    "\n",
    "df['Sale'] = df['Sale'].apply(convert_to_float)"
   ]
  },
  {
   "cell_type": "code",
   "execution_count": 122,
   "metadata": {},
   "outputs": [
    {
     "name": "stdout",
     "output_type": "stream",
     "text": [
      "<class 'pandas.core.frame.DataFrame'>\n",
      "Int64Index: 399689 entries, 0 to 471908\n",
      "Data columns (total 8 columns):\n",
      " #   Column           Non-Null Count   Dtype         \n",
      "---  ------           --------------   -----         \n",
      " 0   BasketID         399689 non-null  object        \n",
      " 1   BasketDate       399689 non-null  datetime64[ns]\n",
      " 2   Sale             399689 non-null  float64       \n",
      " 3   CustomerID       399689 non-null  float64       \n",
      " 4   CustomerCountry  399689 non-null  object        \n",
      " 5   ProdID           399689 non-null  object        \n",
      " 6   ProdDescr        399689 non-null  object        \n",
      " 7   Qta              399689 non-null  int64         \n",
      "dtypes: datetime64[ns](1), float64(2), int64(1), object(4)\n",
      "memory usage: 27.4+ MB\n"
     ]
    }
   ],
   "source": [
    "df.info()"
   ]
  },
  {
   "cell_type": "markdown",
   "metadata": {},
   "source": [
    "Tutte i valori della colonna Sale sono stati convertiti con successo a float64."
   ]
  },
  {
   "cell_type": "markdown",
   "metadata": {},
   "source": [
    "Controllo se ci sono delle righe con Sale $\\leq$ 0."
   ]
  },
  {
   "cell_type": "code",
   "execution_count": 135,
   "metadata": {},
   "outputs": [
    {
     "data": {
      "text/html": [
       "<div>\n",
       "<style scoped>\n",
       "    .dataframe tbody tr th:only-of-type {\n",
       "        vertical-align: middle;\n",
       "    }\n",
       "\n",
       "    .dataframe tbody tr th {\n",
       "        vertical-align: top;\n",
       "    }\n",
       "\n",
       "    .dataframe thead th {\n",
       "        text-align: right;\n",
       "    }\n",
       "</style>\n",
       "<table border=\"1\" class=\"dataframe\">\n",
       "  <thead>\n",
       "    <tr style=\"text-align: right;\">\n",
       "      <th></th>\n",
       "      <th>BasketID</th>\n",
       "      <th>BasketDate</th>\n",
       "      <th>Sale</th>\n",
       "      <th>CustomerID</th>\n",
       "      <th>CustomerCountry</th>\n",
       "      <th>ProdID</th>\n",
       "      <th>ProdDescr</th>\n",
       "      <th>Qta</th>\n",
       "    </tr>\n",
       "  </thead>\n",
       "  <tbody>\n",
       "  </tbody>\n",
       "</table>\n",
       "</div>"
      ],
      "text/plain": [
       "Empty DataFrame\n",
       "Columns: [BasketID, BasketDate, Sale, CustomerID, CustomerCountry, ProdID, ProdDescr, Qta]\n",
       "Index: []"
      ]
     },
     "execution_count": 135,
     "metadata": {},
     "output_type": "execute_result"
    }
   ],
   "source": [
    "df[df['Sale'] <= 0].head(3)"
   ]
  },
  {
   "cell_type": "code",
   "execution_count": 129,
   "metadata": {},
   "outputs": [
    {
     "name": "stdout",
     "output_type": "stream",
     "text": [
      "Numero di righe con Sale <= 0:  33\n"
     ]
    }
   ],
   "source": [
    "print(\"Numero di righe con Sale <= 0: \", df[df['Sale'] <= 0].shape[0])"
   ]
  },
  {
   "cell_type": "code",
   "execution_count": 131,
   "metadata": {},
   "outputs": [
    {
     "name": "stdout",
     "output_type": "stream",
     "text": [
      "Numero di righe con Sale = 0:  33\n"
     ]
    }
   ],
   "source": [
    "print(\"Numero di righe con Sale = 0: \", df[df['Sale'] == 0].shape[0])"
   ]
  },
  {
   "cell_type": "markdown",
   "metadata": {},
   "source": [
    "Non ci sono righe con Sale < 0. Mentre le righe con Sale = 0 potrebbero riferirsi a dei prodotti omaggio. Io sono interessato agli acquisti, quindi posso eliminare queste righe."
   ]
  },
  {
   "cell_type": "code",
   "execution_count": 133,
   "metadata": {},
   "outputs": [],
   "source": [
    "df.drop(df[df['Sale'] == 0].index, inplace=True)"
   ]
  },
  {
   "cell_type": "markdown",
   "metadata": {},
   "source": [
    "### CustomerCountry"
   ]
  },
  {
   "cell_type": "markdown",
   "metadata": {},
   "source": [
    "Dal df.info() iniziale si vede che non ci sono valori di CustomerCountry = NaN. Tuttavia, ci sono delle righe con CustomerCountry = 'Unspecified'."
   ]
  },
  {
   "cell_type": "code",
   "execution_count": 66,
   "metadata": {},
   "outputs": [
    {
     "name": "stdout",
     "output_type": "stream",
     "text": [
      "Righe con CustomerCountry = 'Unspecified':  244\n"
     ]
    }
   ],
   "source": [
    "print(\"Righe con CustomerCountry = 'Unspecified': \", df[df['CustomerCountry'] == 'Unspecified'].shape[0])"
   ]
  },
  {
   "cell_type": "code",
   "execution_count": 137,
   "metadata": {},
   "outputs": [
    {
     "data": {
      "text/html": [
       "<div>\n",
       "<style scoped>\n",
       "    .dataframe tbody tr th:only-of-type {\n",
       "        vertical-align: middle;\n",
       "    }\n",
       "\n",
       "    .dataframe tbody tr th {\n",
       "        vertical-align: top;\n",
       "    }\n",
       "\n",
       "    .dataframe thead th {\n",
       "        text-align: right;\n",
       "    }\n",
       "</style>\n",
       "<table border=\"1\" class=\"dataframe\">\n",
       "  <thead>\n",
       "    <tr style=\"text-align: right;\">\n",
       "      <th></th>\n",
       "      <th>BasketID</th>\n",
       "      <th>BasketDate</th>\n",
       "      <th>Sale</th>\n",
       "      <th>CustomerID</th>\n",
       "      <th>CustomerCountry</th>\n",
       "      <th>ProdID</th>\n",
       "      <th>ProdDescr</th>\n",
       "      <th>Qta</th>\n",
       "    </tr>\n",
       "  </thead>\n",
       "  <tbody>\n",
       "    <tr>\n",
       "      <th>128523</th>\n",
       "      <td>549687</td>\n",
       "      <td>2011-04-11 13:29:00</td>\n",
       "      <td>7.95</td>\n",
       "      <td>12363.0</td>\n",
       "      <td>Unspecified</td>\n",
       "      <td>20685</td>\n",
       "      <td>DOORMAT RED RETROSPOT</td>\n",
       "      <td>2</td>\n",
       "    </tr>\n",
       "    <tr>\n",
       "      <th>128524</th>\n",
       "      <td>549687</td>\n",
       "      <td>2011-04-11 13:29:00</td>\n",
       "      <td>7.95</td>\n",
       "      <td>12363.0</td>\n",
       "      <td>Unspecified</td>\n",
       "      <td>22691</td>\n",
       "      <td>DOORMAT WELCOME SUNRISE</td>\n",
       "      <td>2</td>\n",
       "    </tr>\n",
       "    <tr>\n",
       "      <th>128525</th>\n",
       "      <td>549687</td>\n",
       "      <td>2011-04-11 13:29:00</td>\n",
       "      <td>7.95</td>\n",
       "      <td>12363.0</td>\n",
       "      <td>Unspecified</td>\n",
       "      <td>48116</td>\n",
       "      <td>DOORMAT MULTICOLOUR STRIPE</td>\n",
       "      <td>2</td>\n",
       "    </tr>\n",
       "  </tbody>\n",
       "</table>\n",
       "</div>"
      ],
      "text/plain": [
       "       BasketID          BasketDate  Sale  CustomerID CustomerCountry ProdID  \\\n",
       "128523   549687 2011-04-11 13:29:00  7.95     12363.0     Unspecified  20685   \n",
       "128524   549687 2011-04-11 13:29:00  7.95     12363.0     Unspecified  22691   \n",
       "128525   549687 2011-04-11 13:29:00  7.95     12363.0     Unspecified  48116   \n",
       "\n",
       "                         ProdDescr  Qta  \n",
       "128523       DOORMAT RED RETROSPOT    2  \n",
       "128524     DOORMAT WELCOME SUNRISE    2  \n",
       "128525  DOORMAT MULTICOLOUR STRIPE    2  "
      ]
     },
     "execution_count": 137,
     "metadata": {},
     "output_type": "execute_result"
    }
   ],
   "source": [
    "df[df['CustomerCountry'] == 'Unspecified'].head(3)"
   ]
  },
  {
   "cell_type": "markdown",
   "metadata": {},
   "source": [
    "CustomerCountry = 'Unspecified' potrebbe essere un valore corretto, in quanto l'utente in fase di acquisto non ha voluto specificare lo stato in cui abita (ad esempio per motivi di privacy) e quindi lascio questi valori nel dataframe."
   ]
  },
  {
   "cell_type": "markdown",
   "metadata": {},
   "source": [
    "### Qta e BasketID"
   ]
  },
  {
   "cell_type": "markdown",
   "metadata": {},
   "source": [
    "Controllo se ci sono delle righe che hanno Qta $\\leq$ 0."
   ]
  },
  {
   "cell_type": "code",
   "execution_count": 146,
   "metadata": {},
   "outputs": [
    {
     "name": "stdout",
     "output_type": "stream",
     "text": [
      "Numero di righe con Qta <= 0:  8506\n"
     ]
    }
   ],
   "source": [
    "print(\"Numero di righe con Qta <= 0: \", df[df['Qta'] <= 0].shape[0])"
   ]
  },
  {
   "cell_type": "code",
   "execution_count": 147,
   "metadata": {},
   "outputs": [
    {
     "name": "stdout",
     "output_type": "stream",
     "text": [
      "Numero di righe con Qta <= 0:  8506\n"
     ]
    }
   ],
   "source": [
    "print(\"Numero di righe con Qta <= 0: \", df[df['Qta'] < 0].shape[0])"
   ]
  },
  {
   "cell_type": "markdown",
   "metadata": {},
   "source": [
    "Non ci sono righe con Qta = 0."
   ]
  },
  {
   "cell_type": "code",
   "execution_count": 148,
   "metadata": {},
   "outputs": [
    {
     "data": {
      "text/html": [
       "<div>\n",
       "<style scoped>\n",
       "    .dataframe tbody tr th:only-of-type {\n",
       "        vertical-align: middle;\n",
       "    }\n",
       "\n",
       "    .dataframe tbody tr th {\n",
       "        vertical-align: top;\n",
       "    }\n",
       "\n",
       "    .dataframe thead th {\n",
       "        text-align: right;\n",
       "    }\n",
       "</style>\n",
       "<table border=\"1\" class=\"dataframe\">\n",
       "  <thead>\n",
       "    <tr style=\"text-align: right;\">\n",
       "      <th></th>\n",
       "      <th>BasketID</th>\n",
       "      <th>BasketDate</th>\n",
       "      <th>Sale</th>\n",
       "      <th>CustomerID</th>\n",
       "      <th>CustomerCountry</th>\n",
       "      <th>ProdID</th>\n",
       "      <th>ProdDescr</th>\n",
       "      <th>Qta</th>\n",
       "    </tr>\n",
       "  </thead>\n",
       "  <tbody>\n",
       "    <tr>\n",
       "      <th>154</th>\n",
       "      <td>C536383</td>\n",
       "      <td>2010-12-01 09:49:00</td>\n",
       "      <td>4.65</td>\n",
       "      <td>15311.0</td>\n",
       "      <td>United Kingdom</td>\n",
       "      <td>35004C</td>\n",
       "      <td>SET OF 3 COLOURED  FLYING DUCKS</td>\n",
       "      <td>-1</td>\n",
       "    </tr>\n",
       "    <tr>\n",
       "      <th>235</th>\n",
       "      <td>C536391</td>\n",
       "      <td>2010-12-01 10:24:00</td>\n",
       "      <td>1.65</td>\n",
       "      <td>17548.0</td>\n",
       "      <td>United Kingdom</td>\n",
       "      <td>22556</td>\n",
       "      <td>PLASTERS IN TIN CIRCUS PARADE</td>\n",
       "      <td>-12</td>\n",
       "    </tr>\n",
       "    <tr>\n",
       "      <th>236</th>\n",
       "      <td>C536391</td>\n",
       "      <td>2010-12-01 10:24:00</td>\n",
       "      <td>0.29</td>\n",
       "      <td>17548.0</td>\n",
       "      <td>United Kingdom</td>\n",
       "      <td>21984</td>\n",
       "      <td>PACK OF 12 PINK PAISLEY TISSUES</td>\n",
       "      <td>-24</td>\n",
       "    </tr>\n",
       "  </tbody>\n",
       "</table>\n",
       "</div>"
      ],
      "text/plain": [
       "    BasketID          BasketDate  Sale  CustomerID CustomerCountry  ProdID  \\\n",
       "154  C536383 2010-12-01 09:49:00  4.65     15311.0  United Kingdom  35004C   \n",
       "235  C536391 2010-12-01 10:24:00  1.65     17548.0  United Kingdom   22556   \n",
       "236  C536391 2010-12-01 10:24:00  0.29     17548.0  United Kingdom   21984   \n",
       "\n",
       "                            ProdDescr  Qta  \n",
       "154   SET OF 3 COLOURED  FLYING DUCKS   -1  \n",
       "235    PLASTERS IN TIN CIRCUS PARADE   -12  \n",
       "236  PACK OF 12 PINK PAISLEY TISSUES   -24  "
      ]
     },
     "execution_count": 148,
     "metadata": {},
     "output_type": "execute_result"
    }
   ],
   "source": [
    "df[df['Qta'] < 0].head(3)"
   ]
  },
  {
   "cell_type": "markdown",
   "metadata": {},
   "source": [
    "Controllo se tutte le righe con Qta negativa hanno il BaskeID che inizia con la lettera C."
   ]
  },
  {
   "cell_type": "code",
   "execution_count": 141,
   "metadata": {},
   "outputs": [
    {
     "data": {
      "text/plain": [
       "True    8506\n",
       "Name: BasketID, dtype: int64"
      ]
     },
     "execution_count": 141,
     "metadata": {},
     "output_type": "execute_result"
    }
   ],
   "source": [
    "import re\n",
    "\n",
    "# Questa funziona mi restituisce True se la stringa presa in input contiene un carattere dell'alfabeto, False altrimenti.\n",
    "def search_letters(the_string):\n",
    "    if re.search('[a-zA-Z]', the_string) is None:\n",
    "        return False\n",
    "    return True\n",
    "\n",
    "df[df['Qta'] <= 0]['BasketID'].apply(search_letters).value_counts()\n"
   ]
  },
  {
   "cell_type": "markdown",
   "metadata": {},
   "source": [
    "Tutte le righe con Qta negativa hanno BasketID che inizia con la lettera C. Queste righe sembrano rappresentare degli ordini annullati o dei rimborsi."
   ]
  },
  {
   "cell_type": "code",
   "execution_count": null,
   "metadata": {},
   "outputs": [],
   "source": [
    "# GESTIRE I RIMBORSI!!!!!!"
   ]
  },
  {
   "cell_type": "markdown",
   "metadata": {},
   "source": [
    "### BasketID"
   ]
  },
  {
   "cell_type": "markdown",
   "metadata": {},
   "source": [
    "BasketID sono di tipo object, quindi controllo se ci sono BasketID alfanumerici. Inoltre da df.info() si nota che non ci sono BasketID = NaN."
   ]
  },
  {
   "cell_type": "code",
   "execution_count": 68,
   "metadata": {},
   "outputs": [
    {
     "name": "stdout",
     "output_type": "stream",
     "text": [
      "Numero di righe che hanno BaskedID alfanumerico: 8539\n"
     ]
    }
   ],
   "source": [
    "import re\n",
    "# Questa funziona mi restituisce True se la stringa presa in input contiene un carattere dell'alfabeto, False altrimenti.\n",
    "def search_letters(the_string):\n",
    "    if re.search('[a-zA-Z]', the_string) is None:\n",
    "        return False\n",
    "    return True\n",
    "\n",
    "# Salvo sul dataframe tmp le righe (del dataframe df) che hanno BasketID alfanumerico\n",
    "tmp = df[df['BasketID'].apply(search_letters)]\n",
    "print(\"Numero di righe che hanno BaskedID alfanumerico:\", tmp.shape[0])"
   ]
  },
  {
   "cell_type": "code",
   "execution_count": 69,
   "metadata": {},
   "outputs": [
    {
     "data": {
      "text/html": [
       "<div>\n",
       "<style scoped>\n",
       "    .dataframe tbody tr th:only-of-type {\n",
       "        vertical-align: middle;\n",
       "    }\n",
       "\n",
       "    .dataframe tbody tr th {\n",
       "        vertical-align: top;\n",
       "    }\n",
       "\n",
       "    .dataframe thead th {\n",
       "        text-align: right;\n",
       "    }\n",
       "</style>\n",
       "<table border=\"1\" class=\"dataframe\">\n",
       "  <thead>\n",
       "    <tr style=\"text-align: right;\">\n",
       "      <th></th>\n",
       "      <th>BasketID</th>\n",
       "      <th>BasketDate</th>\n",
       "      <th>Sale</th>\n",
       "      <th>CustomerID</th>\n",
       "      <th>CustomerCountry</th>\n",
       "      <th>ProdID</th>\n",
       "      <th>ProdDescr</th>\n",
       "      <th>Qta</th>\n",
       "    </tr>\n",
       "  </thead>\n",
       "  <tbody>\n",
       "    <tr>\n",
       "      <th>154</th>\n",
       "      <td>C536383</td>\n",
       "      <td>2010-12-01 09:49:00</td>\n",
       "      <td>4,65</td>\n",
       "      <td>15311.0</td>\n",
       "      <td>United Kingdom</td>\n",
       "      <td>35004C</td>\n",
       "      <td>SET OF 3 COLOURED  FLYING DUCKS</td>\n",
       "      <td>-1</td>\n",
       "    </tr>\n",
       "    <tr>\n",
       "      <th>235</th>\n",
       "      <td>C536391</td>\n",
       "      <td>2010-12-01 10:24:00</td>\n",
       "      <td>1,65</td>\n",
       "      <td>17548.0</td>\n",
       "      <td>United Kingdom</td>\n",
       "      <td>22556</td>\n",
       "      <td>PLASTERS IN TIN CIRCUS PARADE</td>\n",
       "      <td>-12</td>\n",
       "    </tr>\n",
       "    <tr>\n",
       "      <th>236</th>\n",
       "      <td>C536391</td>\n",
       "      <td>2010-12-01 10:24:00</td>\n",
       "      <td>0,29</td>\n",
       "      <td>17548.0</td>\n",
       "      <td>United Kingdom</td>\n",
       "      <td>21984</td>\n",
       "      <td>PACK OF 12 PINK PAISLEY TISSUES</td>\n",
       "      <td>-24</td>\n",
       "    </tr>\n",
       "  </tbody>\n",
       "</table>\n",
       "</div>"
      ],
      "text/plain": [
       "    BasketID          BasketDate  Sale  CustomerID CustomerCountry  ProdID  \\\n",
       "154  C536383 2010-12-01 09:49:00  4,65     15311.0  United Kingdom  35004C   \n",
       "235  C536391 2010-12-01 10:24:00  1,65     17548.0  United Kingdom   22556   \n",
       "236  C536391 2010-12-01 10:24:00  0,29     17548.0  United Kingdom   21984   \n",
       "\n",
       "                            ProdDescr  Qta  \n",
       "154   SET OF 3 COLOURED  FLYING DUCKS   -1  \n",
       "235    PLASTERS IN TIN CIRCUS PARADE   -12  \n",
       "236  PACK OF 12 PINK PAISLEY TISSUES   -24  "
      ]
     },
     "execution_count": 69,
     "metadata": {},
     "output_type": "execute_result"
    }
   ],
   "source": [
    "tmp.head(3)"
   ]
  },
  {
   "cell_type": "markdown",
   "metadata": {},
   "source": [
    "Le righe in cui BasketID inizia con la lettera C sembrano rappresentare una cancellazione di un ordine, ossia una rimborso.\n",
    "Prima di gestire tali rimborsi controllo se ci sono altre righe che hanno BasketID alfanumerico, ma senza la lettera 'C'."
   ]
  },
  {
   "cell_type": "code",
   "execution_count": 70,
   "metadata": {},
   "outputs": [
    {
     "data": {
      "text/html": [
       "<div>\n",
       "<style scoped>\n",
       "    .dataframe tbody tr th:only-of-type {\n",
       "        vertical-align: middle;\n",
       "    }\n",
       "\n",
       "    .dataframe tbody tr th {\n",
       "        vertical-align: top;\n",
       "    }\n",
       "\n",
       "    .dataframe thead th {\n",
       "        text-align: right;\n",
       "    }\n",
       "</style>\n",
       "<table border=\"1\" class=\"dataframe\">\n",
       "  <thead>\n",
       "    <tr style=\"text-align: right;\">\n",
       "      <th></th>\n",
       "      <th>BasketID</th>\n",
       "      <th>BasketDate</th>\n",
       "      <th>Sale</th>\n",
       "      <th>CustomerID</th>\n",
       "      <th>CustomerCountry</th>\n",
       "      <th>ProdID</th>\n",
       "      <th>ProdDescr</th>\n",
       "      <th>Qta</th>\n",
       "    </tr>\n",
       "  </thead>\n",
       "  <tbody>\n",
       "  </tbody>\n",
       "</table>\n",
       "</div>"
      ],
      "text/plain": [
       "Empty DataFrame\n",
       "Columns: [BasketID, BasketDate, Sale, CustomerID, CustomerCountry, ProdID, ProdDescr, Qta]\n",
       "Index: []"
      ]
     },
     "execution_count": 70,
     "metadata": {},
     "output_type": "execute_result"
    }
   ],
   "source": [
    "def search_letters_not_C(the_string):\n",
    "    if re.search('[a-zA-Z]', the_string) is None:\n",
    "        return False\n",
    "    elif re.search('[C]', the_string) is None:\n",
    "        return True\n",
    "    return False\n",
    "\n",
    "tmp[tmp['BasketID'].apply(search_letters_not_C)]"
   ]
  },
  {
   "cell_type": "markdown",
   "metadata": {},
   "source": [
    "Queste due righe hanno CustomerID = NaN. Provo a cercare se all'interno del dataset ci sono altre righe aventi lo stesso BasketID per provare recuperare il valore di CustomerID (se due righe hanno lo stesso BasketID allora hanno anche lo stesso CustomerID)."
   ]
  },
  {
   "cell_type": "code",
   "execution_count": 71,
   "metadata": {},
   "outputs": [
    {
     "data": {
      "text/html": [
       "<div>\n",
       "<style scoped>\n",
       "    .dataframe tbody tr th:only-of-type {\n",
       "        vertical-align: middle;\n",
       "    }\n",
       "\n",
       "    .dataframe tbody tr th {\n",
       "        vertical-align: top;\n",
       "    }\n",
       "\n",
       "    .dataframe thead th {\n",
       "        text-align: right;\n",
       "    }\n",
       "</style>\n",
       "<table border=\"1\" class=\"dataframe\">\n",
       "  <thead>\n",
       "    <tr style=\"text-align: right;\">\n",
       "      <th></th>\n",
       "      <th>BasketID</th>\n",
       "      <th>BasketDate</th>\n",
       "      <th>Sale</th>\n",
       "      <th>CustomerID</th>\n",
       "      <th>CustomerCountry</th>\n",
       "      <th>ProdID</th>\n",
       "      <th>ProdDescr</th>\n",
       "      <th>Qta</th>\n",
       "    </tr>\n",
       "  </thead>\n",
       "  <tbody>\n",
       "  </tbody>\n",
       "</table>\n",
       "</div>"
      ],
      "text/plain": [
       "Empty DataFrame\n",
       "Columns: [BasketID, BasketDate, Sale, CustomerID, CustomerCountry, ProdID, ProdDescr, Qta]\n",
       "Index: []"
      ]
     },
     "execution_count": 71,
     "metadata": {},
     "output_type": "execute_result"
    }
   ],
   "source": [
    "df[(df['BasketID'] == 'A563186') | (df['BasketID'] == 'A563187')]"
   ]
  },
  {
   "cell_type": "markdown",
   "metadata": {},
   "source": [
    "Ritrovo solo le due righe con BasketID = NaN, quindi non posso recuperare il CustomerID e le elimino."
   ]
  },
  {
   "cell_type": "code",
   "execution_count": 72,
   "metadata": {},
   "outputs": [],
   "source": [
    "# Elimino le due righe dal dataframe df\n",
    "df = df[(df['BasketID'] != 'A563186') & (df['BasketID'] != 'A563187')]\n",
    "# Elimino le due righe dal dataframe tmp, lo faccio perché uso tmp anche dopo\n",
    "tmp = tmp[(tmp['BasketID'] != 'A563186') & (tmp['BasketID'] != 'A563187')]"
   ]
  },
  {
   "cell_type": "markdown",
   "metadata": {},
   "source": [
    "Per gestire i rimborsi, devo prima toglierli dal dataframe df."
   ]
  },
  {
   "cell_type": "code",
   "execution_count": 73,
   "metadata": {},
   "outputs": [],
   "source": [
    "# Elimino le righe che contengono delle lettere nel BasketID, osssia tutti i rimborsi (tanto sono salvati sul dataframe tmp)\n",
    "df = df[df['BasketID'].apply(lambda x: not search_letters(x))]"
   ]
  },
  {
   "cell_type": "code",
   "execution_count": 74,
   "metadata": {},
   "outputs": [
    {
     "name": "stdout",
     "output_type": "stream",
     "text": [
      "Numero di rimborsi:  8539\n"
     ]
    }
   ],
   "source": [
    "print(\"Numero di rimborsi: \", tmp.shape[0])"
   ]
  },
  {
   "cell_type": "markdown",
   "metadata": {},
   "source": [
    "Occorre ora gestire i rimborsi, ossia le righe del dataframe tmp. I rimborsi vengono gestiti facendo le seguenti assunzioni:\n",
    "* Per ogni ordine è possibile richiedere al massimo un rimborso.\n",
    "* Un rimborso può essere applicato ad un ordine solo se la data dell'ordine è antecedente a quella del rimborso, il codice prodotto è lo stesso, il codice cliente è lo stesso e la quantità di oggetti presente nell'ordine è maggiore o uguale alla quantità in valore assoluto degli oggetti indicata nel rimborso.\n",
    "* Dato un rimborso, se all'interno del dataset non è presente un ordine antecedente a quel rimborso, allora il rimborso non viene considerato.\n",
    "* Dato un ordine, se ci sono più rimborsi applicabili a questo ordine, si applica quello con la quantità di oggetti in valore assoluto maggiore. Se ci sono due o più rimborsi con la stessa quantità ne uso uno tra questi."
   ]
  },
  {
   "cell_type": "code",
   "execution_count": 75,
   "metadata": {},
   "outputs": [
    {
     "data": {
      "text/plain": [
       "\"\\ndef update(row, tmp):\\n    basket_date = pd.to_datetime(row['BasketDate'])\\n    customer_id = row['CustomerID']\\n    prod_id = row['ProdID']\\n    qta = row['Qta']\\n    r = tmp[(tmp['ProdID'] == prod_id) & (tmp['CustomerID'] == customer_id) & (pd.to_datetime(tmp['BasketDate']) >= basket_date) & (abs(tmp['Qta']) <= qta )]\\n    if r.shape[0] <= 0:\\n        return row\\n    qta_min = r['Qta'].min()\\n    # Mi interessano solo i rimborsi che hanno Qta = qta_min e tra questi prendo il primo che trovo\\n    rimborso = r[r['Qta'] == qta_min].iloc[0]\\n    basket_id_rimborso = rimborso['BasketID']\\n    prod_id_rimborso = rimborso['ProdID']\\n    qta_rimborso = rimborso['Qta']\\n    # Elimino da tmp la riga che corrisponde a rimborso\\n    tmp.drop(tmp[(tmp['BasketID'] == basket_id_rimborso) & (tmp['ProdID'] == prod_id_rimborso)].index[0], inplace=True)\\n    # Aggiorno il valore di Qta\\n    row['Qta'] = qta + rimborso['Qta']\\n    print(tmp.shape[0])\\n    return row\\n    \\nprova = df.apply(lambda row: update(row, tmp), axis=1)\\n\""
      ]
     },
     "execution_count": 75,
     "metadata": {},
     "output_type": "execute_result"
    }
   ],
   "source": [
    "\"\"\"\n",
    "def update(row, tmp):\n",
    "    basket_date = pd.to_datetime(row['BasketDate'])\n",
    "    customer_id = row['CustomerID']\n",
    "    prod_id = row['ProdID']\n",
    "    qta = row['Qta']\n",
    "    r = tmp[(tmp['ProdID'] == prod_id) & (tmp['CustomerID'] == customer_id) & (pd.to_datetime(tmp['BasketDate']) >= basket_date) & (abs(tmp['Qta']) <= qta )]\n",
    "    if r.shape[0] <= 0:\n",
    "        return row\n",
    "    qta_min = r['Qta'].min()\n",
    "    # Mi interessano solo i rimborsi che hanno Qta = qta_min e tra questi prendo il primo che trovo\n",
    "    rimborso = r[r['Qta'] == qta_min].iloc[0]\n",
    "    basket_id_rimborso = rimborso['BasketID']\n",
    "    prod_id_rimborso = rimborso['ProdID']\n",
    "    qta_rimborso = rimborso['Qta']\n",
    "    # Elimino da tmp la riga che corrisponde a rimborso\n",
    "    tmp.drop(tmp[(tmp['BasketID'] == basket_id_rimborso) & (tmp['ProdID'] == prod_id_rimborso)].index[0], inplace=True)\n",
    "    # Aggiorno il valore di Qta\n",
    "    row['Qta'] = qta + rimborso['Qta']\n",
    "    print(tmp.shape[0])\n",
    "    return row\n",
    "    \n",
    "prova = df.apply(lambda row: update(row, tmp), axis=1)\n",
    "\"\"\""
   ]
  },
  {
   "cell_type": "markdown",
   "metadata": {},
   "source": [
    "Dopo aver applicato i rimborsi, bisogna togliere dal dataframe df tutti gli ordini che hanno Qta = 0, ossia il cliente ha mandato indietro tutti i prodotti che aveva acquistato, annullando quindi l'ordine."
   ]
  },
  {
   "cell_type": "code",
   "execution_count": 76,
   "metadata": {},
   "outputs": [],
   "source": [
    "df.drop(df[df['Qta'] == 0].index, inplace=True)"
   ]
  },
  {
   "cell_type": "markdown",
   "metadata": {},
   "source": [
    "Nel dataframe df tutti i valori di BasketID sono delle stringhe che contengono solo numeri, quindi posso convertirle in interi."
   ]
  },
  {
   "cell_type": "code",
   "execution_count": 77,
   "metadata": {},
   "outputs": [],
   "source": [
    "df['BasketID'] = df['BasketID'].astype(\"int64\")"
   ]
  },
  {
   "cell_type": "code",
   "execution_count": null,
   "metadata": {},
   "outputs": [],
   "source": []
  },
  {
   "cell_type": "code",
   "execution_count": null,
   "metadata": {},
   "outputs": [],
   "source": []
  }
 ],
 "metadata": {
  "kernelspec": {
   "display_name": "Python 3",
   "language": "python",
   "name": "python3"
  },
  "language_info": {
   "codemirror_mode": {
    "name": "ipython",
    "version": 3
   },
   "file_extension": ".py",
   "mimetype": "text/x-python",
   "name": "python",
   "nbconvert_exporter": "python",
   "pygments_lexer": "ipython3",
   "version": "3.8.3"
  }
 },
 "nbformat": 4,
 "nbformat_minor": 4
}
