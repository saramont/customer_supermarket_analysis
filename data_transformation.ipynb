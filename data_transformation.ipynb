{
 "cells": [
  {
   "cell_type": "markdown",
   "metadata": {},
   "source": [
    "## Data transformation"
   ]
  },
  {
   "cell_type": "code",
   "execution_count": 27,
   "metadata": {},
   "outputs": [],
   "source": [
    "%matplotlib inline\n",
    "import pandas as pd\n",
    "import numpy as np\n",
    "import matplotlib.pyplot as plt\n",
    "from scipy.stats import entropy\n",
    "plt.style.use('seaborn-white')"
   ]
  },
  {
   "cell_type": "code",
   "execution_count": 28,
   "metadata": {
    "scrolled": true
   },
   "outputs": [
    {
     "data": {
      "text/html": [
       "<div>\n",
       "<style scoped>\n",
       "    .dataframe tbody tr th:only-of-type {\n",
       "        vertical-align: middle;\n",
       "    }\n",
       "\n",
       "    .dataframe tbody tr th {\n",
       "        vertical-align: top;\n",
       "    }\n",
       "\n",
       "    .dataframe thead th {\n",
       "        text-align: right;\n",
       "    }\n",
       "</style>\n",
       "<table border=\"1\" class=\"dataframe\">\n",
       "  <thead>\n",
       "    <tr style=\"text-align: right;\">\n",
       "      <th></th>\n",
       "      <th>BasketID</th>\n",
       "      <th>BasketDate</th>\n",
       "      <th>Sale</th>\n",
       "      <th>CustomerID</th>\n",
       "      <th>CustomerCountry</th>\n",
       "      <th>ProdID</th>\n",
       "      <th>ProdDescr</th>\n",
       "      <th>Qta</th>\n",
       "      <th>TotSale</th>\n",
       "    </tr>\n",
       "  </thead>\n",
       "  <tbody>\n",
       "    <tr>\n",
       "      <th>0</th>\n",
       "      <td>536365</td>\n",
       "      <td>2010-12-01 08:26:00</td>\n",
       "      <td>2.55</td>\n",
       "      <td>17850</td>\n",
       "      <td>United Kingdom</td>\n",
       "      <td>85123A</td>\n",
       "      <td>WHITE HANGING HEART T-LIGHT HOLDER</td>\n",
       "      <td>6</td>\n",
       "      <td>15.30</td>\n",
       "    </tr>\n",
       "    <tr>\n",
       "      <th>1</th>\n",
       "      <td>536365</td>\n",
       "      <td>2010-12-01 08:26:00</td>\n",
       "      <td>3.39</td>\n",
       "      <td>17850</td>\n",
       "      <td>United Kingdom</td>\n",
       "      <td>71053</td>\n",
       "      <td>WHITE METAL LANTERN</td>\n",
       "      <td>6</td>\n",
       "      <td>20.34</td>\n",
       "    </tr>\n",
       "    <tr>\n",
       "      <th>2</th>\n",
       "      <td>536365</td>\n",
       "      <td>2010-12-01 08:26:00</td>\n",
       "      <td>2.75</td>\n",
       "      <td>17850</td>\n",
       "      <td>United Kingdom</td>\n",
       "      <td>84406B</td>\n",
       "      <td>CREAM CUPID HEARTS COAT HANGER</td>\n",
       "      <td>8</td>\n",
       "      <td>22.00</td>\n",
       "    </tr>\n",
       "    <tr>\n",
       "      <th>3</th>\n",
       "      <td>536365</td>\n",
       "      <td>2010-12-01 08:26:00</td>\n",
       "      <td>3.39</td>\n",
       "      <td>17850</td>\n",
       "      <td>United Kingdom</td>\n",
       "      <td>84029G</td>\n",
       "      <td>KNITTED UNION FLAG HOT WATER BOTTLE</td>\n",
       "      <td>6</td>\n",
       "      <td>20.34</td>\n",
       "    </tr>\n",
       "    <tr>\n",
       "      <th>4</th>\n",
       "      <td>536365</td>\n",
       "      <td>2010-12-01 08:26:00</td>\n",
       "      <td>3.39</td>\n",
       "      <td>17850</td>\n",
       "      <td>United Kingdom</td>\n",
       "      <td>84029E</td>\n",
       "      <td>RED WOOLLY HOTTIE WHITE HEART.</td>\n",
       "      <td>6</td>\n",
       "      <td>20.34</td>\n",
       "    </tr>\n",
       "    <tr>\n",
       "      <th>5</th>\n",
       "      <td>536365</td>\n",
       "      <td>2010-12-01 08:26:00</td>\n",
       "      <td>7.65</td>\n",
       "      <td>17850</td>\n",
       "      <td>United Kingdom</td>\n",
       "      <td>22752</td>\n",
       "      <td>SET 7 BABUSHKA NESTING BOXES</td>\n",
       "      <td>2</td>\n",
       "      <td>15.30</td>\n",
       "    </tr>\n",
       "    <tr>\n",
       "      <th>6</th>\n",
       "      <td>536365</td>\n",
       "      <td>2010-12-01 08:26:00</td>\n",
       "      <td>4.25</td>\n",
       "      <td>17850</td>\n",
       "      <td>United Kingdom</td>\n",
       "      <td>21730</td>\n",
       "      <td>GLASS STAR FROSTED T-LIGHT HOLDER</td>\n",
       "      <td>6</td>\n",
       "      <td>25.50</td>\n",
       "    </tr>\n",
       "    <tr>\n",
       "      <th>7</th>\n",
       "      <td>536366</td>\n",
       "      <td>2010-12-01 08:28:00</td>\n",
       "      <td>1.85</td>\n",
       "      <td>17850</td>\n",
       "      <td>United Kingdom</td>\n",
       "      <td>22633</td>\n",
       "      <td>HAND WARMER UNION JACK</td>\n",
       "      <td>6</td>\n",
       "      <td>11.10</td>\n",
       "    </tr>\n",
       "    <tr>\n",
       "      <th>8</th>\n",
       "      <td>536366</td>\n",
       "      <td>2010-12-01 08:28:00</td>\n",
       "      <td>1.85</td>\n",
       "      <td>17850</td>\n",
       "      <td>United Kingdom</td>\n",
       "      <td>22632</td>\n",
       "      <td>HAND WARMER RED POLKA DOT</td>\n",
       "      <td>6</td>\n",
       "      <td>11.10</td>\n",
       "    </tr>\n",
       "    <tr>\n",
       "      <th>9</th>\n",
       "      <td>536368</td>\n",
       "      <td>2010-12-01 08:34:00</td>\n",
       "      <td>4.25</td>\n",
       "      <td>13047</td>\n",
       "      <td>United Kingdom</td>\n",
       "      <td>22960</td>\n",
       "      <td>JAM MAKING SET WITH JARS</td>\n",
       "      <td>6</td>\n",
       "      <td>25.50</td>\n",
       "    </tr>\n",
       "    <tr>\n",
       "      <th>10</th>\n",
       "      <td>536368</td>\n",
       "      <td>2010-12-01 08:34:00</td>\n",
       "      <td>4.95</td>\n",
       "      <td>13047</td>\n",
       "      <td>United Kingdom</td>\n",
       "      <td>22913</td>\n",
       "      <td>RED COAT RACK PARIS FASHION</td>\n",
       "      <td>3</td>\n",
       "      <td>14.85</td>\n",
       "    </tr>\n",
       "    <tr>\n",
       "      <th>11</th>\n",
       "      <td>536368</td>\n",
       "      <td>2010-12-01 08:34:00</td>\n",
       "      <td>4.95</td>\n",
       "      <td>13047</td>\n",
       "      <td>United Kingdom</td>\n",
       "      <td>22912</td>\n",
       "      <td>YELLOW COAT RACK PARIS FASHION</td>\n",
       "      <td>3</td>\n",
       "      <td>14.85</td>\n",
       "    </tr>\n",
       "    <tr>\n",
       "      <th>12</th>\n",
       "      <td>536368</td>\n",
       "      <td>2010-12-01 08:34:00</td>\n",
       "      <td>4.95</td>\n",
       "      <td>13047</td>\n",
       "      <td>United Kingdom</td>\n",
       "      <td>22914</td>\n",
       "      <td>BLUE COAT RACK PARIS FASHION</td>\n",
       "      <td>3</td>\n",
       "      <td>14.85</td>\n",
       "    </tr>\n",
       "    <tr>\n",
       "      <th>13</th>\n",
       "      <td>536367</td>\n",
       "      <td>2010-12-01 08:34:00</td>\n",
       "      <td>1.69</td>\n",
       "      <td>13047</td>\n",
       "      <td>United Kingdom</td>\n",
       "      <td>84879</td>\n",
       "      <td>ASSORTED COLOUR BIRD ORNAMENT</td>\n",
       "      <td>32</td>\n",
       "      <td>54.08</td>\n",
       "    </tr>\n",
       "    <tr>\n",
       "      <th>14</th>\n",
       "      <td>536367</td>\n",
       "      <td>2010-12-01 08:34:00</td>\n",
       "      <td>2.10</td>\n",
       "      <td>13047</td>\n",
       "      <td>United Kingdom</td>\n",
       "      <td>22745</td>\n",
       "      <td>POPPY'S PLAYHOUSE BEDROOM</td>\n",
       "      <td>6</td>\n",
       "      <td>12.60</td>\n",
       "    </tr>\n",
       "    <tr>\n",
       "      <th>15</th>\n",
       "      <td>536367</td>\n",
       "      <td>2010-12-01 08:34:00</td>\n",
       "      <td>2.10</td>\n",
       "      <td>13047</td>\n",
       "      <td>United Kingdom</td>\n",
       "      <td>22748</td>\n",
       "      <td>POPPY'S PLAYHOUSE KITCHEN</td>\n",
       "      <td>6</td>\n",
       "      <td>12.60</td>\n",
       "    </tr>\n",
       "    <tr>\n",
       "      <th>16</th>\n",
       "      <td>536367</td>\n",
       "      <td>2010-12-01 08:34:00</td>\n",
       "      <td>3.75</td>\n",
       "      <td>13047</td>\n",
       "      <td>United Kingdom</td>\n",
       "      <td>22749</td>\n",
       "      <td>FELTCRAFT PRINCESS CHARLOTTE DOLL</td>\n",
       "      <td>8</td>\n",
       "      <td>30.00</td>\n",
       "    </tr>\n",
       "    <tr>\n",
       "      <th>17</th>\n",
       "      <td>536367</td>\n",
       "      <td>2010-12-01 08:34:00</td>\n",
       "      <td>1.65</td>\n",
       "      <td>13047</td>\n",
       "      <td>United Kingdom</td>\n",
       "      <td>22310</td>\n",
       "      <td>IVORY KNITTED MUG COSY</td>\n",
       "      <td>6</td>\n",
       "      <td>9.90</td>\n",
       "    </tr>\n",
       "    <tr>\n",
       "      <th>18</th>\n",
       "      <td>536367</td>\n",
       "      <td>2010-12-01 08:34:00</td>\n",
       "      <td>4.25</td>\n",
       "      <td>13047</td>\n",
       "      <td>United Kingdom</td>\n",
       "      <td>84969</td>\n",
       "      <td>BOX OF 6 ASSORTED COLOUR TEASPOONS</td>\n",
       "      <td>6</td>\n",
       "      <td>25.50</td>\n",
       "    </tr>\n",
       "    <tr>\n",
       "      <th>19</th>\n",
       "      <td>536367</td>\n",
       "      <td>2010-12-01 08:34:00</td>\n",
       "      <td>4.95</td>\n",
       "      <td>13047</td>\n",
       "      <td>United Kingdom</td>\n",
       "      <td>22623</td>\n",
       "      <td>BOX OF VINTAGE JIGSAW BLOCKS</td>\n",
       "      <td>3</td>\n",
       "      <td>14.85</td>\n",
       "    </tr>\n",
       "    <tr>\n",
       "      <th>20</th>\n",
       "      <td>536367</td>\n",
       "      <td>2010-12-01 08:34:00</td>\n",
       "      <td>9.95</td>\n",
       "      <td>13047</td>\n",
       "      <td>United Kingdom</td>\n",
       "      <td>22622</td>\n",
       "      <td>BOX OF VINTAGE ALPHABET BLOCKS</td>\n",
       "      <td>2</td>\n",
       "      <td>19.90</td>\n",
       "    </tr>\n",
       "    <tr>\n",
       "      <th>21</th>\n",
       "      <td>536367</td>\n",
       "      <td>2010-12-01 08:34:00</td>\n",
       "      <td>5.95</td>\n",
       "      <td>13047</td>\n",
       "      <td>United Kingdom</td>\n",
       "      <td>21754</td>\n",
       "      <td>HOME BUILDING BLOCK WORD</td>\n",
       "      <td>3</td>\n",
       "      <td>17.85</td>\n",
       "    </tr>\n",
       "    <tr>\n",
       "      <th>22</th>\n",
       "      <td>536367</td>\n",
       "      <td>2010-12-01 08:34:00</td>\n",
       "      <td>5.95</td>\n",
       "      <td>13047</td>\n",
       "      <td>United Kingdom</td>\n",
       "      <td>21755</td>\n",
       "      <td>LOVE BUILDING BLOCK WORD</td>\n",
       "      <td>3</td>\n",
       "      <td>17.85</td>\n",
       "    </tr>\n",
       "    <tr>\n",
       "      <th>23</th>\n",
       "      <td>536367</td>\n",
       "      <td>2010-12-01 08:34:00</td>\n",
       "      <td>7.95</td>\n",
       "      <td>13047</td>\n",
       "      <td>United Kingdom</td>\n",
       "      <td>21777</td>\n",
       "      <td>RECIPE BOX WITH METAL HEART</td>\n",
       "      <td>4</td>\n",
       "      <td>31.80</td>\n",
       "    </tr>\n",
       "    <tr>\n",
       "      <th>24</th>\n",
       "      <td>536367</td>\n",
       "      <td>2010-12-01 08:34:00</td>\n",
       "      <td>7.95</td>\n",
       "      <td>13047</td>\n",
       "      <td>United Kingdom</td>\n",
       "      <td>48187</td>\n",
       "      <td>DOORMAT NEW ENGLAND</td>\n",
       "      <td>4</td>\n",
       "      <td>31.80</td>\n",
       "    </tr>\n",
       "    <tr>\n",
       "      <th>25</th>\n",
       "      <td>536369</td>\n",
       "      <td>2010-12-01 08:35:00</td>\n",
       "      <td>5.95</td>\n",
       "      <td>13047</td>\n",
       "      <td>United Kingdom</td>\n",
       "      <td>21756</td>\n",
       "      <td>BATH BUILDING BLOCK WORD</td>\n",
       "      <td>3</td>\n",
       "      <td>17.85</td>\n",
       "    </tr>\n",
       "    <tr>\n",
       "      <th>26</th>\n",
       "      <td>536370</td>\n",
       "      <td>2010-12-01 08:45:00</td>\n",
       "      <td>3.75</td>\n",
       "      <td>12583</td>\n",
       "      <td>France</td>\n",
       "      <td>22728</td>\n",
       "      <td>ALARM CLOCK BAKELIKE PINK</td>\n",
       "      <td>24</td>\n",
       "      <td>90.00</td>\n",
       "    </tr>\n",
       "    <tr>\n",
       "      <th>27</th>\n",
       "      <td>536370</td>\n",
       "      <td>2010-12-01 08:45:00</td>\n",
       "      <td>3.75</td>\n",
       "      <td>12583</td>\n",
       "      <td>France</td>\n",
       "      <td>22727</td>\n",
       "      <td>ALARM CLOCK BAKELIKE RED</td>\n",
       "      <td>24</td>\n",
       "      <td>90.00</td>\n",
       "    </tr>\n",
       "    <tr>\n",
       "      <th>28</th>\n",
       "      <td>536370</td>\n",
       "      <td>2010-12-01 08:45:00</td>\n",
       "      <td>3.75</td>\n",
       "      <td>12583</td>\n",
       "      <td>France</td>\n",
       "      <td>22726</td>\n",
       "      <td>ALARM CLOCK BAKELIKE GREEN</td>\n",
       "      <td>12</td>\n",
       "      <td>45.00</td>\n",
       "    </tr>\n",
       "    <tr>\n",
       "      <th>29</th>\n",
       "      <td>536370</td>\n",
       "      <td>2010-12-01 08:45:00</td>\n",
       "      <td>0.85</td>\n",
       "      <td>12583</td>\n",
       "      <td>France</td>\n",
       "      <td>21724</td>\n",
       "      <td>PANDA AND BUNNIES STICKER SHEET</td>\n",
       "      <td>12</td>\n",
       "      <td>10.20</td>\n",
       "    </tr>\n",
       "  </tbody>\n",
       "</table>\n",
       "</div>"
      ],
      "text/plain": [
       "    BasketID           BasketDate  Sale  CustomerID CustomerCountry  ProdID  \\\n",
       "0     536365  2010-12-01 08:26:00  2.55       17850  United Kingdom  85123A   \n",
       "1     536365  2010-12-01 08:26:00  3.39       17850  United Kingdom   71053   \n",
       "2     536365  2010-12-01 08:26:00  2.75       17850  United Kingdom  84406B   \n",
       "3     536365  2010-12-01 08:26:00  3.39       17850  United Kingdom  84029G   \n",
       "4     536365  2010-12-01 08:26:00  3.39       17850  United Kingdom  84029E   \n",
       "5     536365  2010-12-01 08:26:00  7.65       17850  United Kingdom   22752   \n",
       "6     536365  2010-12-01 08:26:00  4.25       17850  United Kingdom   21730   \n",
       "7     536366  2010-12-01 08:28:00  1.85       17850  United Kingdom   22633   \n",
       "8     536366  2010-12-01 08:28:00  1.85       17850  United Kingdom   22632   \n",
       "9     536368  2010-12-01 08:34:00  4.25       13047  United Kingdom   22960   \n",
       "10    536368  2010-12-01 08:34:00  4.95       13047  United Kingdom   22913   \n",
       "11    536368  2010-12-01 08:34:00  4.95       13047  United Kingdom   22912   \n",
       "12    536368  2010-12-01 08:34:00  4.95       13047  United Kingdom   22914   \n",
       "13    536367  2010-12-01 08:34:00  1.69       13047  United Kingdom   84879   \n",
       "14    536367  2010-12-01 08:34:00  2.10       13047  United Kingdom   22745   \n",
       "15    536367  2010-12-01 08:34:00  2.10       13047  United Kingdom   22748   \n",
       "16    536367  2010-12-01 08:34:00  3.75       13047  United Kingdom   22749   \n",
       "17    536367  2010-12-01 08:34:00  1.65       13047  United Kingdom   22310   \n",
       "18    536367  2010-12-01 08:34:00  4.25       13047  United Kingdom   84969   \n",
       "19    536367  2010-12-01 08:34:00  4.95       13047  United Kingdom   22623   \n",
       "20    536367  2010-12-01 08:34:00  9.95       13047  United Kingdom   22622   \n",
       "21    536367  2010-12-01 08:34:00  5.95       13047  United Kingdom   21754   \n",
       "22    536367  2010-12-01 08:34:00  5.95       13047  United Kingdom   21755   \n",
       "23    536367  2010-12-01 08:34:00  7.95       13047  United Kingdom   21777   \n",
       "24    536367  2010-12-01 08:34:00  7.95       13047  United Kingdom   48187   \n",
       "25    536369  2010-12-01 08:35:00  5.95       13047  United Kingdom   21756   \n",
       "26    536370  2010-12-01 08:45:00  3.75       12583          France   22728   \n",
       "27    536370  2010-12-01 08:45:00  3.75       12583          France   22727   \n",
       "28    536370  2010-12-01 08:45:00  3.75       12583          France   22726   \n",
       "29    536370  2010-12-01 08:45:00  0.85       12583          France   21724   \n",
       "\n",
       "                              ProdDescr  Qta  TotSale  \n",
       "0    WHITE HANGING HEART T-LIGHT HOLDER    6    15.30  \n",
       "1                   WHITE METAL LANTERN    6    20.34  \n",
       "2        CREAM CUPID HEARTS COAT HANGER    8    22.00  \n",
       "3   KNITTED UNION FLAG HOT WATER BOTTLE    6    20.34  \n",
       "4        RED WOOLLY HOTTIE WHITE HEART.    6    20.34  \n",
       "5          SET 7 BABUSHKA NESTING BOXES    2    15.30  \n",
       "6     GLASS STAR FROSTED T-LIGHT HOLDER    6    25.50  \n",
       "7                HAND WARMER UNION JACK    6    11.10  \n",
       "8             HAND WARMER RED POLKA DOT    6    11.10  \n",
       "9              JAM MAKING SET WITH JARS    6    25.50  \n",
       "10          RED COAT RACK PARIS FASHION    3    14.85  \n",
       "11       YELLOW COAT RACK PARIS FASHION    3    14.85  \n",
       "12         BLUE COAT RACK PARIS FASHION    3    14.85  \n",
       "13        ASSORTED COLOUR BIRD ORNAMENT   32    54.08  \n",
       "14           POPPY'S PLAYHOUSE BEDROOM     6    12.60  \n",
       "15            POPPY'S PLAYHOUSE KITCHEN    6    12.60  \n",
       "16    FELTCRAFT PRINCESS CHARLOTTE DOLL    8    30.00  \n",
       "17              IVORY KNITTED MUG COSY     6     9.90  \n",
       "18   BOX OF 6 ASSORTED COLOUR TEASPOONS    6    25.50  \n",
       "19        BOX OF VINTAGE JIGSAW BLOCKS     3    14.85  \n",
       "20       BOX OF VINTAGE ALPHABET BLOCKS    2    19.90  \n",
       "21             HOME BUILDING BLOCK WORD    3    17.85  \n",
       "22             LOVE BUILDING BLOCK WORD    3    17.85  \n",
       "23          RECIPE BOX WITH METAL HEART    4    31.80  \n",
       "24                  DOORMAT NEW ENGLAND    4    31.80  \n",
       "25             BATH BUILDING BLOCK WORD    3    17.85  \n",
       "26            ALARM CLOCK BAKELIKE PINK   24    90.00  \n",
       "27            ALARM CLOCK BAKELIKE RED    24    90.00  \n",
       "28           ALARM CLOCK BAKELIKE GREEN   12    45.00  \n",
       "29      PANDA AND BUNNIES STICKER SHEET   12    10.20  "
      ]
     },
     "execution_count": 28,
     "metadata": {},
     "output_type": "execute_result"
    }
   ],
   "source": [
    "df = pd.read_csv('customer_supermarket_prepared.csv', sep=',')\n",
    "df.drop(columns=['Unnamed: 0'], inplace=True)\n",
    "df.head(30)"
   ]
  },
  {
   "cell_type": "code",
   "execution_count": 29,
   "metadata": {},
   "outputs": [],
   "source": [
    "df['BasketDate'] = pd.to_datetime(df['BasketDate'], format=\"%Y-%m-%d %H:%M:%S\")"
   ]
  },
  {
   "cell_type": "markdown",
   "metadata": {},
   "source": [
    "### Calcolo gli attributi I e Iu"
   ]
  },
  {
   "cell_type": "code",
   "execution_count": 30,
   "metadata": {
    "scrolled": true
   },
   "outputs": [],
   "source": [
    "df1 = df.groupby('CustomerID').aggregate({'Qta':'sum', 'ProdID':'nunique'})\n",
    "df1.rename(columns={'Qta':'I', 'ProdID':'Iu'}, inplace=True)"
   ]
  },
  {
   "cell_type": "markdown",
   "metadata": {},
   "source": [
    "### Cacolo l'attributo Imax"
   ]
  },
  {
   "cell_type": "code",
   "execution_count": 31,
   "metadata": {},
   "outputs": [],
   "source": [
    "df_agg = df.groupby(['CustomerID', 'BasketID']).aggregate({'Qta':'sum'}).reset_index(level='CustomerID')\n",
    "\n",
    "df2 = df_agg.groupby('CustomerID').aggregate({'Qta':'max'})\n",
    "df2.rename(columns={'Qta':'Imax'}, inplace=True)"
   ]
  },
  {
   "cell_type": "code",
   "execution_count": 32,
   "metadata": {},
   "outputs": [
    {
     "data": {
      "text/html": [
       "<div>\n",
       "<style scoped>\n",
       "    .dataframe tbody tr th:only-of-type {\n",
       "        vertical-align: middle;\n",
       "    }\n",
       "\n",
       "    .dataframe tbody tr th {\n",
       "        vertical-align: top;\n",
       "    }\n",
       "\n",
       "    .dataframe thead th {\n",
       "        text-align: right;\n",
       "    }\n",
       "</style>\n",
       "<table border=\"1\" class=\"dataframe\">\n",
       "  <thead>\n",
       "    <tr style=\"text-align: right;\">\n",
       "      <th></th>\n",
       "      <th>I</th>\n",
       "      <th>Iu</th>\n",
       "      <th>Imax</th>\n",
       "    </tr>\n",
       "    <tr>\n",
       "      <th>CustomerID</th>\n",
       "      <th></th>\n",
       "      <th></th>\n",
       "      <th></th>\n",
       "    </tr>\n",
       "  </thead>\n",
       "  <tbody>\n",
       "    <tr>\n",
       "      <th>12346</th>\n",
       "      <td>74215</td>\n",
       "      <td>1</td>\n",
       "      <td>74215</td>\n",
       "    </tr>\n",
       "    <tr>\n",
       "      <th>12347</th>\n",
       "      <td>2458</td>\n",
       "      <td>103</td>\n",
       "      <td>676</td>\n",
       "    </tr>\n",
       "    <tr>\n",
       "      <th>12348</th>\n",
       "      <td>2332</td>\n",
       "      <td>21</td>\n",
       "      <td>1248</td>\n",
       "    </tr>\n",
       "    <tr>\n",
       "      <th>12349</th>\n",
       "      <td>630</td>\n",
       "      <td>72</td>\n",
       "      <td>630</td>\n",
       "    </tr>\n",
       "    <tr>\n",
       "      <th>12350</th>\n",
       "      <td>196</td>\n",
       "      <td>16</td>\n",
       "      <td>196</td>\n",
       "    </tr>\n",
       "    <tr>\n",
       "      <th>...</th>\n",
       "      <td>...</td>\n",
       "      <td>...</td>\n",
       "      <td>...</td>\n",
       "    </tr>\n",
       "    <tr>\n",
       "      <th>18280</th>\n",
       "      <td>45</td>\n",
       "      <td>10</td>\n",
       "      <td>45</td>\n",
       "    </tr>\n",
       "    <tr>\n",
       "      <th>18281</th>\n",
       "      <td>54</td>\n",
       "      <td>7</td>\n",
       "      <td>54</td>\n",
       "    </tr>\n",
       "    <tr>\n",
       "      <th>18282</th>\n",
       "      <td>103</td>\n",
       "      <td>12</td>\n",
       "      <td>75</td>\n",
       "    </tr>\n",
       "    <tr>\n",
       "      <th>18283</th>\n",
       "      <td>1355</td>\n",
       "      <td>262</td>\n",
       "      <td>241</td>\n",
       "    </tr>\n",
       "    <tr>\n",
       "      <th>18287</th>\n",
       "      <td>1586</td>\n",
       "      <td>59</td>\n",
       "      <td>990</td>\n",
       "    </tr>\n",
       "  </tbody>\n",
       "</table>\n",
       "<p>4331 rows × 3 columns</p>\n",
       "</div>"
      ],
      "text/plain": [
       "                I   Iu   Imax\n",
       "CustomerID                   \n",
       "12346       74215    1  74215\n",
       "12347        2458  103    676\n",
       "12348        2332   21   1248\n",
       "12349         630   72    630\n",
       "12350         196   16    196\n",
       "...           ...  ...    ...\n",
       "18280          45   10     45\n",
       "18281          54    7     54\n",
       "18282         103   12     75\n",
       "18283        1355  262    241\n",
       "18287        1586   59    990\n",
       "\n",
       "[4331 rows x 3 columns]"
      ]
     },
     "execution_count": 32,
     "metadata": {},
     "output_type": "execute_result"
    }
   ],
   "source": [
    "df_customer = pd.merge(df1, df2, on='CustomerID')\n",
    "df_customer"
   ]
  },
  {
   "cell_type": "markdown",
   "metadata": {},
   "source": [
    "I: the total number of items purchased by a customer during the period of observation.\n",
    "\n",
    "Iu: the number of distinct items bought by a customer in the period of observation.\n",
    "\n",
    "Imax: the maximum number of items purchased by a customer during a shopping session."
   ]
  },
  {
   "cell_type": "markdown",
   "metadata": {},
   "source": [
    "### Indicatori aggiuntivi"
   ]
  },
  {
   "cell_type": "markdown",
   "metadata": {},
   "source": [
    "Per ogni utente calcolo:\n",
    "- Il numero totale di basket \n",
    "- Recency: la recency indica il numero di giorni che l'utente è stato inattivo, con riferimento alla data più recente contenuta nel dataset (2011-12-09)\n",
    "- Frequency: il numero tatale di ordini fatti dall'utente, durante l'intero periodo di osservazione\n",
    "- MonetaryValue: quanto  l'utente ha speso in totale, durante l'intero periodo di osservazione"
   ]
  },
  {
   "cell_type": "code",
   "execution_count": 33,
   "metadata": {
    "scrolled": true
   },
   "outputs": [
    {
     "data": {
      "text/html": [
       "<div>\n",
       "<style scoped>\n",
       "    .dataframe tbody tr th:only-of-type {\n",
       "        vertical-align: middle;\n",
       "    }\n",
       "\n",
       "    .dataframe tbody tr th {\n",
       "        vertical-align: top;\n",
       "    }\n",
       "\n",
       "    .dataframe thead th {\n",
       "        text-align: right;\n",
       "    }\n",
       "</style>\n",
       "<table border=\"1\" class=\"dataframe\">\n",
       "  <thead>\n",
       "    <tr style=\"text-align: right;\">\n",
       "      <th></th>\n",
       "      <th>I</th>\n",
       "      <th>Iu</th>\n",
       "      <th>Imax</th>\n",
       "      <th>NumBasket</th>\n",
       "    </tr>\n",
       "    <tr>\n",
       "      <th>CustomerID</th>\n",
       "      <th></th>\n",
       "      <th></th>\n",
       "      <th></th>\n",
       "      <th></th>\n",
       "    </tr>\n",
       "  </thead>\n",
       "  <tbody>\n",
       "    <tr>\n",
       "      <th>12346</th>\n",
       "      <td>74215</td>\n",
       "      <td>1</td>\n",
       "      <td>74215</td>\n",
       "      <td>1</td>\n",
       "    </tr>\n",
       "    <tr>\n",
       "      <th>12347</th>\n",
       "      <td>2458</td>\n",
       "      <td>103</td>\n",
       "      <td>676</td>\n",
       "      <td>7</td>\n",
       "    </tr>\n",
       "    <tr>\n",
       "      <th>12348</th>\n",
       "      <td>2332</td>\n",
       "      <td>21</td>\n",
       "      <td>1248</td>\n",
       "      <td>4</td>\n",
       "    </tr>\n",
       "    <tr>\n",
       "      <th>12349</th>\n",
       "      <td>630</td>\n",
       "      <td>72</td>\n",
       "      <td>630</td>\n",
       "      <td>1</td>\n",
       "    </tr>\n",
       "    <tr>\n",
       "      <th>12350</th>\n",
       "      <td>196</td>\n",
       "      <td>16</td>\n",
       "      <td>196</td>\n",
       "      <td>1</td>\n",
       "    </tr>\n",
       "    <tr>\n",
       "      <th>...</th>\n",
       "      <td>...</td>\n",
       "      <td>...</td>\n",
       "      <td>...</td>\n",
       "      <td>...</td>\n",
       "    </tr>\n",
       "    <tr>\n",
       "      <th>18280</th>\n",
       "      <td>45</td>\n",
       "      <td>10</td>\n",
       "      <td>45</td>\n",
       "      <td>1</td>\n",
       "    </tr>\n",
       "    <tr>\n",
       "      <th>18281</th>\n",
       "      <td>54</td>\n",
       "      <td>7</td>\n",
       "      <td>54</td>\n",
       "      <td>1</td>\n",
       "    </tr>\n",
       "    <tr>\n",
       "      <th>18282</th>\n",
       "      <td>103</td>\n",
       "      <td>12</td>\n",
       "      <td>75</td>\n",
       "      <td>2</td>\n",
       "    </tr>\n",
       "    <tr>\n",
       "      <th>18283</th>\n",
       "      <td>1355</td>\n",
       "      <td>262</td>\n",
       "      <td>241</td>\n",
       "      <td>16</td>\n",
       "    </tr>\n",
       "    <tr>\n",
       "      <th>18287</th>\n",
       "      <td>1586</td>\n",
       "      <td>59</td>\n",
       "      <td>990</td>\n",
       "      <td>3</td>\n",
       "    </tr>\n",
       "  </tbody>\n",
       "</table>\n",
       "<p>4331 rows × 4 columns</p>\n",
       "</div>"
      ],
      "text/plain": [
       "                I   Iu   Imax  NumBasket\n",
       "CustomerID                              \n",
       "12346       74215    1  74215          1\n",
       "12347        2458  103    676          7\n",
       "12348        2332   21   1248          4\n",
       "12349         630   72    630          1\n",
       "12350         196   16    196          1\n",
       "...           ...  ...    ...        ...\n",
       "18280          45   10     45          1\n",
       "18281          54    7     54          1\n",
       "18282         103   12     75          2\n",
       "18283        1355  262    241         16\n",
       "18287        1586   59    990          3\n",
       "\n",
       "[4331 rows x 4 columns]"
      ]
     },
     "execution_count": 33,
     "metadata": {},
     "output_type": "execute_result"
    }
   ],
   "source": [
    "df_n_basket_per_user = df.groupby('CustomerID').aggregate({'BasketID':'nunique'})\n",
    "df_n_basket_per_user.rename(columns={'BasketID':'NumBasket'}, inplace=True)\n",
    "df_customer['NumBasket'] = df_n_basket_per_user['NumBasket']\n",
    "df_customer"
   ]
  },
  {
   "cell_type": "code",
   "execution_count": 34,
   "metadata": {
    "scrolled": false
   },
   "outputs": [
    {
     "data": {
      "text/html": [
       "<div>\n",
       "<style scoped>\n",
       "    .dataframe tbody tr th:only-of-type {\n",
       "        vertical-align: middle;\n",
       "    }\n",
       "\n",
       "    .dataframe tbody tr th {\n",
       "        vertical-align: top;\n",
       "    }\n",
       "\n",
       "    .dataframe thead th {\n",
       "        text-align: right;\n",
       "    }\n",
       "</style>\n",
       "<table border=\"1\" class=\"dataframe\">\n",
       "  <thead>\n",
       "    <tr style=\"text-align: right;\">\n",
       "      <th></th>\n",
       "      <th>I</th>\n",
       "      <th>Iu</th>\n",
       "      <th>Imax</th>\n",
       "      <th>NumBasket</th>\n",
       "      <th>Recency</th>\n",
       "      <th>Frequency</th>\n",
       "      <th>MonetaryValue</th>\n",
       "    </tr>\n",
       "    <tr>\n",
       "      <th>CustomerID</th>\n",
       "      <th></th>\n",
       "      <th></th>\n",
       "      <th></th>\n",
       "      <th></th>\n",
       "      <th></th>\n",
       "      <th></th>\n",
       "      <th></th>\n",
       "    </tr>\n",
       "  </thead>\n",
       "  <tbody>\n",
       "    <tr>\n",
       "      <th>12346</th>\n",
       "      <td>74215</td>\n",
       "      <td>1</td>\n",
       "      <td>74215</td>\n",
       "      <td>1</td>\n",
       "      <td>325</td>\n",
       "      <td>1</td>\n",
       "      <td>77183.60</td>\n",
       "    </tr>\n",
       "    <tr>\n",
       "      <th>12347</th>\n",
       "      <td>2458</td>\n",
       "      <td>103</td>\n",
       "      <td>676</td>\n",
       "      <td>7</td>\n",
       "      <td>1</td>\n",
       "      <td>182</td>\n",
       "      <td>4310.00</td>\n",
       "    </tr>\n",
       "    <tr>\n",
       "      <th>12348</th>\n",
       "      <td>2332</td>\n",
       "      <td>21</td>\n",
       "      <td>1248</td>\n",
       "      <td>4</td>\n",
       "      <td>74</td>\n",
       "      <td>27</td>\n",
       "      <td>1437.24</td>\n",
       "    </tr>\n",
       "    <tr>\n",
       "      <th>12349</th>\n",
       "      <td>630</td>\n",
       "      <td>72</td>\n",
       "      <td>630</td>\n",
       "      <td>1</td>\n",
       "      <td>18</td>\n",
       "      <td>72</td>\n",
       "      <td>1457.55</td>\n",
       "    </tr>\n",
       "    <tr>\n",
       "      <th>12350</th>\n",
       "      <td>196</td>\n",
       "      <td>16</td>\n",
       "      <td>196</td>\n",
       "      <td>1</td>\n",
       "      <td>309</td>\n",
       "      <td>16</td>\n",
       "      <td>294.40</td>\n",
       "    </tr>\n",
       "    <tr>\n",
       "      <th>...</th>\n",
       "      <td>...</td>\n",
       "      <td>...</td>\n",
       "      <td>...</td>\n",
       "      <td>...</td>\n",
       "      <td>...</td>\n",
       "      <td>...</td>\n",
       "      <td>...</td>\n",
       "    </tr>\n",
       "    <tr>\n",
       "      <th>18280</th>\n",
       "      <td>45</td>\n",
       "      <td>10</td>\n",
       "      <td>45</td>\n",
       "      <td>1</td>\n",
       "      <td>277</td>\n",
       "      <td>10</td>\n",
       "      <td>180.60</td>\n",
       "    </tr>\n",
       "    <tr>\n",
       "      <th>18281</th>\n",
       "      <td>54</td>\n",
       "      <td>7</td>\n",
       "      <td>54</td>\n",
       "      <td>1</td>\n",
       "      <td>180</td>\n",
       "      <td>7</td>\n",
       "      <td>80.82</td>\n",
       "    </tr>\n",
       "    <tr>\n",
       "      <th>18282</th>\n",
       "      <td>103</td>\n",
       "      <td>12</td>\n",
       "      <td>75</td>\n",
       "      <td>2</td>\n",
       "      <td>7</td>\n",
       "      <td>12</td>\n",
       "      <td>178.05</td>\n",
       "    </tr>\n",
       "    <tr>\n",
       "      <th>18283</th>\n",
       "      <td>1355</td>\n",
       "      <td>262</td>\n",
       "      <td>241</td>\n",
       "      <td>16</td>\n",
       "      <td>3</td>\n",
       "      <td>719</td>\n",
       "      <td>2039.58</td>\n",
       "    </tr>\n",
       "    <tr>\n",
       "      <th>18287</th>\n",
       "      <td>1586</td>\n",
       "      <td>59</td>\n",
       "      <td>990</td>\n",
       "      <td>3</td>\n",
       "      <td>42</td>\n",
       "      <td>70</td>\n",
       "      <td>1837.28</td>\n",
       "    </tr>\n",
       "  </tbody>\n",
       "</table>\n",
       "<p>4331 rows × 7 columns</p>\n",
       "</div>"
      ],
      "text/plain": [
       "                I   Iu   Imax  NumBasket  Recency  Frequency  MonetaryValue\n",
       "CustomerID                                                                 \n",
       "12346       74215    1  74215          1      325          1       77183.60\n",
       "12347        2458  103    676          7        1        182        4310.00\n",
       "12348        2332   21   1248          4       74         27        1437.24\n",
       "12349         630   72    630          1       18         72        1457.55\n",
       "12350         196   16    196          1      309         16         294.40\n",
       "...           ...  ...    ...        ...      ...        ...            ...\n",
       "18280          45   10     45          1      277         10         180.60\n",
       "18281          54    7     54          1      180          7          80.82\n",
       "18282         103   12     75          2        7         12         178.05\n",
       "18283        1355  262    241         16        3        719        2039.58\n",
       "18287        1586   59    990          3       42         70        1837.28\n",
       "\n",
       "[4331 rows x 7 columns]"
      ]
     },
     "execution_count": 34,
     "metadata": {},
     "output_type": "execute_result"
    }
   ],
   "source": [
    "#Recency\n",
    "df_max_date = df.groupby('CustomerID').aggregate({'BasketDate':'max'})\n",
    "recency = (df['BasketDate'].max() - df_max_date['BasketDate']).dt.days\n",
    "df_customer['Recency'] = recency\n",
    "\n",
    "#Frequency\n",
    "df_frequency = df.groupby('CustomerID').aggregate({'BasketID':'count'})\n",
    "frequency = df_frequency['BasketID']\n",
    "df_customer['Frequency'] = frequency\n",
    "\n",
    "#MonetaryValue\n",
    "df_customer['MonetaryValue'] = df.groupby('CustomerID').aggregate({'TotSale':'sum'})['TotSale']\n",
    "\n",
    "df_customer"
   ]
  },
  {
   "cell_type": "code",
   "execution_count": 35,
   "metadata": {},
   "outputs": [],
   "source": [
    "def calculate_entropy(series):\n",
    "    return entropy(series.value_counts())\n",
    "    \n",
    "# Shannon Entropy rispetto alla spesa per ogni ordine effettuato. \n",
    "df_tot_sale_entropy = df.groupby('CustomerID').aggregate({'TotSale': calculate_entropy})\n",
    "\n",
    "# Shannon Entropy rispetto al giorno della settimana in cui l'utente fa acquisti\n",
    "df_days_entropy = df.groupby('CustomerID').aggregate({'BasketDate': lambda s: calculate_entropy(s.dt.dayofweek)})\n",
    "\n",
    "# Shannon Entropy rispetto ai prodotti acquistati\n",
    "df_products_entropy = df.groupby('CustomerID').aggregate({'ProdID': calculate_entropy})"
   ]
  },
  {
   "cell_type": "code",
   "execution_count": 36,
   "metadata": {},
   "outputs": [
    {
     "data": {
      "text/plain": [
       "array([<matplotlib.axes._subplots.AxesSubplot object at 0x000001E6249F3490>],\n",
       "      dtype=object)"
      ]
     },
     "execution_count": 36,
     "metadata": {},
     "output_type": "execute_result"
    },
    {
     "data": {
      "image/png": "[encoded data removed]",
      "text/plain": [
       "<Figure size 1152x360 with 3 Axes>"
      ]
     },
     "metadata": {},
     "output_type": "display_data"
    }
   ],
   "source": [
    "fig, axes = plt.subplots(nrows=1, ncols=3)\n",
    "fig.set_figheight(5)\n",
    "fig.set_figwidth(16)\n",
    "df_tot_sale_entropy.hist(ax=axes[0], bins = 20)\n",
    "df_days_entropy.hist(ax=axes[1], bins = 20)\n",
    "df_products_entropy.hist(ax=axes[2], bins = 20)\n"
   ]
  },
  {
   "cell_type": "code",
   "execution_count": 37,
   "metadata": {},
   "outputs": [
    {
     "data": {
      "text/plain": [
       "array([[<matplotlib.axes._subplots.AxesSubplot object at 0x000001E622F1CCD0>]],\n",
       "      dtype=object)"
      ]
     },
     "execution_count": 37,
     "metadata": {},
     "output_type": "execute_result"
    },
    {
     "data": {
      "image/png": "[encoded data removed]",
      "text/plain": [
       "<Figure size 432x288 with 1 Axes>"
      ]
     },
     "metadata": {},
     "output_type": "display_data"
    }
   ],
   "source": [
    "df_customer.hist(column='I', bins=150, range=[0, 6500])"
   ]
  },
  {
   "cell_type": "code",
   "execution_count": 38,
   "metadata": {},
   "outputs": [
    {
     "data": {
      "text/plain": [
       "<matplotlib.axes._subplots.AxesSubplot at 0x1e6243206d0>"
      ]
     },
     "execution_count": 38,
     "metadata": {},
     "output_type": "execute_result"
    },
    {
     "data": {
      "image/png": "[encoded data removed]",
      "text/plain": [
       "<Figure size 432x288 with 1 Axes>"
      ]
     },
     "metadata": {},
     "output_type": "display_data"
    }
   ],
   "source": [
    "df_customer.boxplot(column='I')"
   ]
  },
  {
   "cell_type": "code",
   "execution_count": 39,
   "metadata": {},
   "outputs": [
    {
     "data": {
      "text/plain": [
       "array([[<matplotlib.axes._subplots.AxesSubplot object at 0x000001E6243553D0>]],\n",
       "      dtype=object)"
      ]
     },
     "execution_count": 39,
     "metadata": {},
     "output_type": "execute_result"
    },
    {
     "data": {
      "image/png": "[encoded data removed]",
      "text/plain": [
       "<Figure size 432x288 with 1 Axes>"
      ]
     },
     "metadata": {},
     "output_type": "display_data"
    }
   ],
   "source": [
    "df_customer.hist(column='Iu', bins=150, range=[0, 500])"
   ]
  },
  {
   "cell_type": "code",
   "execution_count": 40,
   "metadata": {},
   "outputs": [
    {
     "data": {
      "text/plain": [
       "<matplotlib.axes._subplots.AxesSubplot at 0x1e6285e83d0>"
      ]
     },
     "execution_count": 40,
     "metadata": {},
     "output_type": "execute_result"
    },
    {
     "data": {
      "image/png": "[encoded data removed]",
      "text/plain": [
       "<Figure size 432x288 with 1 Axes>"
      ]
     },
     "metadata": {},
     "output_type": "display_data"
    }
   ],
   "source": [
    "df_customer.boxplot(column='Iu')"
   ]
  },
  {
   "cell_type": "code",
   "execution_count": 41,
   "metadata": {},
   "outputs": [
    {
     "data": {
      "text/plain": [
       "array([[<matplotlib.axes._subplots.AxesSubplot object at 0x000001E6285E8C70>]],\n",
       "      dtype=object)"
      ]
     },
     "execution_count": 41,
     "metadata": {},
     "output_type": "execute_result"
    },
    {
     "data": {
      "image/png": "[encoded data removed]",
      "text/plain": [
       "<Figure size 432x288 with 1 Axes>"
      ]
     },
     "metadata": {},
     "output_type": "display_data"
    }
   ],
   "source": [
    "df_customer.hist(column='Imax', bins=150, range=[0, 2500])"
   ]
  },
  {
   "cell_type": "code",
   "execution_count": 42,
   "metadata": {},
   "outputs": [
    {
     "data": {
      "text/plain": [
       "<matplotlib.axes._subplots.AxesSubplot at 0x1e6287dff10>"
      ]
     },
     "execution_count": 42,
     "metadata": {},
     "output_type": "execute_result"
    },
    {
     "data": {
      "image/png": "[encoded data removed]",
      "text/plain": [
       "<Figure size 432x288 with 1 Axes>"
      ]
     },
     "metadata": {},
     "output_type": "display_data"
    }
   ],
   "source": [
    "df_customer.boxplot(column='Imax')"
   ]
  },
  {
   "cell_type": "code",
   "execution_count": 43,
   "metadata": {},
   "outputs": [
    {
     "data": {
      "text/plain": [
       "array([[<matplotlib.axes._subplots.AxesSubplot object at 0x000001E628B61D00>]],\n",
       "      dtype=object)"
      ]
     },
     "execution_count": 43,
     "metadata": {},
     "output_type": "execute_result"
    },
    {
     "data": {
      "image/png": "[encoded data removed]",
      "text/plain": [
       "<Figure size 432x288 with 1 Axes>"
      ]
     },
     "metadata": {},
     "output_type": "display_data"
    }
   ],
   "source": [
    "df_customer.hist(column='NumBasket', bins=30, range=[0,30])"
   ]
  },
  {
   "cell_type": "code",
   "execution_count": 44,
   "metadata": {},
   "outputs": [
    {
     "data": {
      "text/plain": [
       "<matplotlib.axes._subplots.AxesSubplot at 0x1e622f14760>"
      ]
     },
     "execution_count": 44,
     "metadata": {},
     "output_type": "execute_result"
    },
    {
     "data": {
      "image/png": "[encoded data removed]",
      "text/plain": [
       "<Figure size 432x288 with 1 Axes>"
      ]
     },
     "metadata": {},
     "output_type": "display_data"
    }
   ],
   "source": [
    "df_customer.boxplot(column='NumBasket')"
   ]
  },
  {
   "cell_type": "code",
   "execution_count": 45,
   "metadata": {},
   "outputs": [
    {
     "data": {
      "text/plain": [
       "array([[<matplotlib.axes._subplots.AxesSubplot object at 0x000001E628B92850>]],\n",
       "      dtype=object)"
      ]
     },
     "execution_count": 45,
     "metadata": {},
     "output_type": "execute_result"
    },
    {
     "data": {
      "image/png": "[encoded data removed]",
      "text/plain": [
       "<Figure size 432x288 with 1 Axes>"
      ]
     },
     "metadata": {},
     "output_type": "display_data"
    }
   ],
   "source": [
    "df_customer.hist(column='Recency', bins=100)"
   ]
  },
  {
   "cell_type": "code",
   "execution_count": 46,
   "metadata": {},
   "outputs": [
    {
     "data": {
      "text/plain": [
       "<matplotlib.axes._subplots.AxesSubplot at 0x1e628dc2f10>"
      ]
     },
     "execution_count": 46,
     "metadata": {},
     "output_type": "execute_result"
    },
    {
     "data": {
      "image/png": "[encoded data removed]",
      "text/plain": [
       "<Figure size 432x288 with 1 Axes>"
      ]
     },
     "metadata": {},
     "output_type": "display_data"
    }
   ],
   "source": [
    "df_customer.boxplot(column='Recency')"
   ]
  },
  {
   "cell_type": "code",
   "execution_count": 47,
   "metadata": {},
   "outputs": [
    {
     "data": {
      "text/plain": [
       "array([[<matplotlib.axes._subplots.AxesSubplot object at 0x000001E628E08B50>]],\n",
       "      dtype=object)"
      ]
     },
     "execution_count": 47,
     "metadata": {},
     "output_type": "execute_result"
    },
    {
     "data": {
      "image/png": "[encoded data removed]",
      "text/plain": [
       "<Figure size 432x288 with 1 Axes>"
      ]
     },
     "metadata": {},
     "output_type": "display_data"
    }
   ],
   "source": [
    "df_customer.hist(column='Frequency', bins=100, range=[0,1000])"
   ]
  },
  {
   "cell_type": "code",
   "execution_count": 48,
   "metadata": {
    "scrolled": true
   },
   "outputs": [
    {
     "data": {
      "text/plain": [
       "<matplotlib.axes._subplots.AxesSubplot at 0x1e628f7ca30>"
      ]
     },
     "execution_count": 48,
     "metadata": {},
     "output_type": "execute_result"
    },
    {
     "data": {
      "image/png": "[encoded data removed]",
      "text/plain": [
       "<Figure size 432x288 with 1 Axes>"
      ]
     },
     "metadata": {},
     "output_type": "display_data"
    }
   ],
   "source": [
    "df_customer.boxplot(column='Frequency')"
   ]
  },
  {
   "cell_type": "code",
   "execution_count": 49,
   "metadata": {},
   "outputs": [
    {
     "data": {
      "text/plain": [
       "array([[<matplotlib.axes._subplots.AxesSubplot object at 0x000001E622F28820>]],\n",
       "      dtype=object)"
      ]
     },
     "execution_count": 49,
     "metadata": {},
     "output_type": "execute_result"
    },
    {
     "data": {
      "image/png": "[encoded data removed]",
      "text/plain": [
       "<Figure size 432x288 with 1 Axes>"
      ]
     },
     "metadata": {},
     "output_type": "display_data"
    }
   ],
   "source": [
    "df_customer.hist(column='MonetaryValue', bins=150, range=[0, 10000])"
   ]
  },
  {
   "cell_type": "code",
   "execution_count": 50,
   "metadata": {
    "scrolled": false
   },
   "outputs": [
    {
     "data": {
      "text/plain": [
       "<matplotlib.axes._subplots.AxesSubplot at 0x1e6291baf70>"
      ]
     },
     "execution_count": 50,
     "metadata": {},
     "output_type": "execute_result"
    },
    {
     "data": {
      "image/png": "[encoded data removed]",
      "text/plain": [
       "<Figure size 432x288 with 1 Axes>"
      ]
     },
     "metadata": {},
     "output_type": "display_data"
    }
   ],
   "source": [
    "df_customer.boxplot(column='MonetaryValue')"
   ]
  },
  {
   "cell_type": "code",
   "execution_count": 51,
   "metadata": {},
   "outputs": [],
   "source": [
    "df_customer['EntropyOrderSale'] = df_tot_sale_entropy['TotSale']\n",
    "df_customer['EntropyDay'] = df_days_entropy['BasketDate']\n",
    "df_customer['EntropyProducts'] = df_products_entropy['ProdID']"
   ]
  },
  {
   "cell_type": "code",
   "execution_count": 52,
   "metadata": {},
   "outputs": [
    {
     "data": {
      "text/html": [
       "<div>\n",
       "<style scoped>\n",
       "    .dataframe tbody tr th:only-of-type {\n",
       "        vertical-align: middle;\n",
       "    }\n",
       "\n",
       "    .dataframe tbody tr th {\n",
       "        vertical-align: top;\n",
       "    }\n",
       "\n",
       "    .dataframe thead th {\n",
       "        text-align: right;\n",
       "    }\n",
       "</style>\n",
       "<table border=\"1\" class=\"dataframe\">\n",
       "  <thead>\n",
       "    <tr style=\"text-align: right;\">\n",
       "      <th></th>\n",
       "      <th>I</th>\n",
       "      <th>Iu</th>\n",
       "      <th>Imax</th>\n",
       "      <th>NumBasket</th>\n",
       "      <th>Recency</th>\n",
       "      <th>Frequency</th>\n",
       "      <th>MonetaryValue</th>\n",
       "      <th>EntropyOrderSale</th>\n",
       "      <th>EntropyDay</th>\n",
       "      <th>EntropyProducts</th>\n",
       "    </tr>\n",
       "  </thead>\n",
       "  <tbody>\n",
       "    <tr>\n",
       "      <th>I</th>\n",
       "      <td>1.000000</td>\n",
       "      <td>0.408777</td>\n",
       "      <td>0.579691</td>\n",
       "      <td>0.555575</td>\n",
       "      <td>-0.122922</td>\n",
       "      <td>0.432160</td>\n",
       "      <td>0.923445</td>\n",
       "      <td>0.204446</td>\n",
       "      <td>0.240566</td>\n",
       "      <td>0.179926</td>\n",
       "    </tr>\n",
       "    <tr>\n",
       "      <th>Iu</th>\n",
       "      <td>0.408777</td>\n",
       "      <td>1.000000</td>\n",
       "      <td>0.108235</td>\n",
       "      <td>0.691681</td>\n",
       "      <td>-0.300605</td>\n",
       "      <td>0.876765</td>\n",
       "      <td>0.378293</td>\n",
       "      <td>0.605048</td>\n",
       "      <td>0.448552</td>\n",
       "      <td>0.690989</td>\n",
       "    </tr>\n",
       "    <tr>\n",
       "      <th>Imax</th>\n",
       "      <td>0.579691</td>\n",
       "      <td>0.108235</td>\n",
       "      <td>1.000000</td>\n",
       "      <td>0.128063</td>\n",
       "      <td>-0.040044</td>\n",
       "      <td>0.096216</td>\n",
       "      <td>0.528033</td>\n",
       "      <td>0.046316</td>\n",
       "      <td>0.075713</td>\n",
       "      <td>0.036829</td>\n",
       "    </tr>\n",
       "    <tr>\n",
       "      <th>NumBasket</th>\n",
       "      <td>0.555575</td>\n",
       "      <td>0.691681</td>\n",
       "      <td>0.128063</td>\n",
       "      <td>1.000000</td>\n",
       "      <td>-0.261171</td>\n",
       "      <td>0.756280</td>\n",
       "      <td>0.547377</td>\n",
       "      <td>0.373882</td>\n",
       "      <td>0.513345</td>\n",
       "      <td>0.364771</td>\n",
       "    </tr>\n",
       "    <tr>\n",
       "      <th>Recency</th>\n",
       "      <td>-0.122922</td>\n",
       "      <td>-0.300605</td>\n",
       "      <td>-0.040044</td>\n",
       "      <td>-0.261171</td>\n",
       "      <td>1.000000</td>\n",
       "      <td>-0.206426</td>\n",
       "      <td>-0.120902</td>\n",
       "      <td>-0.418951</td>\n",
       "      <td>-0.477269</td>\n",
       "      <td>-0.403565</td>\n",
       "    </tr>\n",
       "    <tr>\n",
       "      <th>Frequency</th>\n",
       "      <td>0.432160</td>\n",
       "      <td>0.876765</td>\n",
       "      <td>0.096216</td>\n",
       "      <td>0.756280</td>\n",
       "      <td>-0.206426</td>\n",
       "      <td>1.000000</td>\n",
       "      <td>0.414300</td>\n",
       "      <td>0.390633</td>\n",
       "      <td>0.342492</td>\n",
       "      <td>0.449332</td>\n",
       "    </tr>\n",
       "    <tr>\n",
       "      <th>MonetaryValue</th>\n",
       "      <td>0.923445</td>\n",
       "      <td>0.378293</td>\n",
       "      <td>0.528033</td>\n",
       "      <td>0.547377</td>\n",
       "      <td>-0.120902</td>\n",
       "      <td>0.414300</td>\n",
       "      <td>1.000000</td>\n",
       "      <td>0.207783</td>\n",
       "      <td>0.235292</td>\n",
       "      <td>0.173319</td>\n",
       "    </tr>\n",
       "    <tr>\n",
       "      <th>EntropyOrderSale</th>\n",
       "      <td>0.204446</td>\n",
       "      <td>0.605048</td>\n",
       "      <td>0.046316</td>\n",
       "      <td>0.373882</td>\n",
       "      <td>-0.418951</td>\n",
       "      <td>0.390633</td>\n",
       "      <td>0.207783</td>\n",
       "      <td>1.000000</td>\n",
       "      <td>0.526438</td>\n",
       "      <td>0.928595</td>\n",
       "    </tr>\n",
       "    <tr>\n",
       "      <th>EntropyDay</th>\n",
       "      <td>0.240566</td>\n",
       "      <td>0.448552</td>\n",
       "      <td>0.075713</td>\n",
       "      <td>0.513345</td>\n",
       "      <td>-0.477269</td>\n",
       "      <td>0.342492</td>\n",
       "      <td>0.235292</td>\n",
       "      <td>0.526438</td>\n",
       "      <td>1.000000</td>\n",
       "      <td>0.514651</td>\n",
       "    </tr>\n",
       "    <tr>\n",
       "      <th>EntropyProducts</th>\n",
       "      <td>0.179926</td>\n",
       "      <td>0.690989</td>\n",
       "      <td>0.036829</td>\n",
       "      <td>0.364771</td>\n",
       "      <td>-0.403565</td>\n",
       "      <td>0.449332</td>\n",
       "      <td>0.173319</td>\n",
       "      <td>0.928595</td>\n",
       "      <td>0.514651</td>\n",
       "      <td>1.000000</td>\n",
       "    </tr>\n",
       "  </tbody>\n",
       "</table>\n",
       "</div>"
      ],
      "text/plain": [
       "                         I        Iu      Imax  NumBasket   Recency  \\\n",
       "I                 1.000000  0.408777  0.579691   0.555575 -0.122922   \n",
       "Iu                0.408777  1.000000  0.108235   0.691681 -0.300605   \n",
       "Imax              0.579691  0.108235  1.000000   0.128063 -0.040044   \n",
       "NumBasket         0.555575  0.691681  0.128063   1.000000 -0.261171   \n",
       "Recency          -0.122922 -0.300605 -0.040044  -0.261171  1.000000   \n",
       "Frequency         0.432160  0.876765  0.096216   0.756280 -0.206426   \n",
       "MonetaryValue     0.923445  0.378293  0.528033   0.547377 -0.120902   \n",
       "EntropyOrderSale  0.204446  0.605048  0.046316   0.373882 -0.418951   \n",
       "EntropyDay        0.240566  0.448552  0.075713   0.513345 -0.477269   \n",
       "EntropyProducts   0.179926  0.690989  0.036829   0.364771 -0.403565   \n",
       "\n",
       "                  Frequency  MonetaryValue  EntropyOrderSale  EntropyDay  \\\n",
       "I                  0.432160       0.923445          0.204446    0.240566   \n",
       "Iu                 0.876765       0.378293          0.605048    0.448552   \n",
       "Imax               0.096216       0.528033          0.046316    0.075713   \n",
       "NumBasket          0.756280       0.547377          0.373882    0.513345   \n",
       "Recency           -0.206426      -0.120902         -0.418951   -0.477269   \n",
       "Frequency          1.000000       0.414300          0.390633    0.342492   \n",
       "MonetaryValue      0.414300       1.000000          0.207783    0.235292   \n",
       "EntropyOrderSale   0.390633       0.207783          1.000000    0.526438   \n",
       "EntropyDay         0.342492       0.235292          0.526438    1.000000   \n",
       "EntropyProducts    0.449332       0.173319          0.928595    0.514651   \n",
       "\n",
       "                  EntropyProducts  \n",
       "I                        0.179926  \n",
       "Iu                       0.690989  \n",
       "Imax                     0.036829  \n",
       "NumBasket                0.364771  \n",
       "Recency                 -0.403565  \n",
       "Frequency                0.449332  \n",
       "MonetaryValue            0.173319  \n",
       "EntropyOrderSale         0.928595  \n",
       "EntropyDay               0.514651  \n",
       "EntropyProducts          1.000000  "
      ]
     },
     "execution_count": 52,
     "metadata": {},
     "output_type": "execute_result"
    }
   ],
   "source": [
    "df_customer.corr()"
   ]
  },
  {
   "cell_type": "code",
   "execution_count": 54,
   "metadata": {},
   "outputs": [
    {
     "data": {
      "text/html": [
       "<div>\n",
       "<style scoped>\n",
       "    .dataframe tbody tr th:only-of-type {\n",
       "        vertical-align: middle;\n",
       "    }\n",
       "\n",
       "    .dataframe tbody tr th {\n",
       "        vertical-align: top;\n",
       "    }\n",
       "\n",
       "    .dataframe thead th {\n",
       "        text-align: right;\n",
       "    }\n",
       "</style>\n",
       "<table border=\"1\" class=\"dataframe\">\n",
       "  <thead>\n",
       "    <tr style=\"text-align: right;\">\n",
       "      <th></th>\n",
       "      <th>Imax</th>\n",
       "      <th>Recency</th>\n",
       "      <th>Frequency</th>\n",
       "      <th>MonetaryValue</th>\n",
       "      <th>EntropyProducts</th>\n",
       "    </tr>\n",
       "    <tr>\n",
       "      <th>CustomerID</th>\n",
       "      <th></th>\n",
       "      <th></th>\n",
       "      <th></th>\n",
       "      <th></th>\n",
       "      <th></th>\n",
       "    </tr>\n",
       "  </thead>\n",
       "  <tbody>\n",
       "    <tr>\n",
       "      <th>12346</th>\n",
       "      <td>74215</td>\n",
       "      <td>325</td>\n",
       "      <td>1</td>\n",
       "      <td>77183.60</td>\n",
       "      <td>0.000000</td>\n",
       "    </tr>\n",
       "    <tr>\n",
       "      <th>12347</th>\n",
       "      <td>676</td>\n",
       "      <td>1</td>\n",
       "      <td>182</td>\n",
       "      <td>4310.00</td>\n",
       "      <td>4.464578</td>\n",
       "    </tr>\n",
       "    <tr>\n",
       "      <th>12348</th>\n",
       "      <td>1248</td>\n",
       "      <td>74</td>\n",
       "      <td>27</td>\n",
       "      <td>1437.24</td>\n",
       "      <td>2.987771</td>\n",
       "    </tr>\n",
       "    <tr>\n",
       "      <th>12349</th>\n",
       "      <td>630</td>\n",
       "      <td>18</td>\n",
       "      <td>72</td>\n",
       "      <td>1457.55</td>\n",
       "      <td>4.276666</td>\n",
       "    </tr>\n",
       "    <tr>\n",
       "      <th>12350</th>\n",
       "      <td>196</td>\n",
       "      <td>309</td>\n",
       "      <td>16</td>\n",
       "      <td>294.40</td>\n",
       "      <td>2.772589</td>\n",
       "    </tr>\n",
       "    <tr>\n",
       "      <th>...</th>\n",
       "      <td>...</td>\n",
       "      <td>...</td>\n",
       "      <td>...</td>\n",
       "      <td>...</td>\n",
       "      <td>...</td>\n",
       "    </tr>\n",
       "    <tr>\n",
       "      <th>18280</th>\n",
       "      <td>45</td>\n",
       "      <td>277</td>\n",
       "      <td>10</td>\n",
       "      <td>180.60</td>\n",
       "      <td>2.302585</td>\n",
       "    </tr>\n",
       "    <tr>\n",
       "      <th>18281</th>\n",
       "      <td>54</td>\n",
       "      <td>180</td>\n",
       "      <td>7</td>\n",
       "      <td>80.82</td>\n",
       "      <td>1.945910</td>\n",
       "    </tr>\n",
       "    <tr>\n",
       "      <th>18282</th>\n",
       "      <td>75</td>\n",
       "      <td>7</td>\n",
       "      <td>12</td>\n",
       "      <td>178.05</td>\n",
       "      <td>2.484907</td>\n",
       "    </tr>\n",
       "    <tr>\n",
       "      <th>18283</th>\n",
       "      <td>241</td>\n",
       "      <td>3</td>\n",
       "      <td>719</td>\n",
       "      <td>2039.58</td>\n",
       "      <td>5.192348</td>\n",
       "    </tr>\n",
       "    <tr>\n",
       "      <th>18287</th>\n",
       "      <td>990</td>\n",
       "      <td>42</td>\n",
       "      <td>70</td>\n",
       "      <td>1837.28</td>\n",
       "      <td>4.023174</td>\n",
       "    </tr>\n",
       "  </tbody>\n",
       "</table>\n",
       "<p>4331 rows × 5 columns</p>\n",
       "</div>"
      ],
      "text/plain": [
       "             Imax  Recency  Frequency  MonetaryValue  EntropyProducts\n",
       "CustomerID                                                           \n",
       "12346       74215      325          1       77183.60         0.000000\n",
       "12347         676        1        182        4310.00         4.464578\n",
       "12348        1248       74         27        1437.24         2.987771\n",
       "12349         630       18         72        1457.55         4.276666\n",
       "12350         196      309         16         294.40         2.772589\n",
       "...           ...      ...        ...            ...              ...\n",
       "18280          45      277         10         180.60         2.302585\n",
       "18281          54      180          7          80.82         1.945910\n",
       "18282          75        7         12         178.05         2.484907\n",
       "18283         241        3        719        2039.58         5.192348\n",
       "18287         990       42         70        1837.28         4.023174\n",
       "\n",
       "[4331 rows x 5 columns]"
      ]
     },
     "execution_count": 54,
     "metadata": {},
     "output_type": "execute_result"
    }
   ],
   "source": [
    "df_customer_reduced = df_customer.drop(columns=['I','Iu', 'NumBasket', 'EntropyOrderSale', 'EntropyDay'])\n",
    "df_customer_reduced"
   ]
  },
  {
   "cell_type": "code",
   "execution_count": 61,
   "metadata": {},
   "outputs": [
    {
     "data": {
      "text/plain": [
       "<matplotlib.axes._subplots.AxesSubplot at 0x1e629344af0>"
      ]
     },
     "execution_count": 61,
     "metadata": {},
     "output_type": "execute_result"
    },
    {
     "data": {
      "image/png": "[encoded data removed]",
      "text/plain": [
       "<Figure size 432x288 with 1 Axes>"
      ]
     },
     "metadata": {},
     "output_type": "display_data"
    },
    {
     "data": {
      "image/png": "[encoded data removed]",
      "text/plain": [
       "<Figure size 432x288 with 1 Axes>"
      ]
     },
     "metadata": {},
     "output_type": "display_data"
    },
    {
     "data": {
      "image/png": "[encoded data removed]",
      "text/plain": [
       "<Figure size 432x288 with 1 Axes>"
      ]
     },
     "metadata": {},
     "output_type": "display_data"
    },
    {
     "data": {
      "image/png": "[encoded data removed]",
      "text/plain": [
       "<Figure size 432x288 with 1 Axes>"
      ]
     },
     "metadata": {},
     "output_type": "display_data"
    }
   ],
   "source": [
    "df_customer_reduced.plot.scatter(x='Imax', y='Recency')\n",
    "df_customer_reduced.plot.scatter(x='Imax', y='Frequency')\n",
    "df_customer_reduced.plot.scatter(x='Imax', y='MonetaryValue')\n",
    "df_customer_reduced.plot.scatter(x='Imax', y='EntropyProducts')"
   ]
  },
  {
   "cell_type": "code",
   "execution_count": 63,
   "metadata": {},
   "outputs": [
    {
     "data": {
      "text/plain": [
       "<matplotlib.axes._subplots.AxesSubplot at 0x1e629348dc0>"
      ]
     },
     "execution_count": 63,
     "metadata": {},
     "output_type": "execute_result"
    },
    {
     "data": {
      "image/png": "[encoded data removed]",
      "text/plain": [
       "<Figure size 432x288 with 1 Axes>"
      ]
     },
     "metadata": {},
     "output_type": "display_data"
    },
    {
     "data": {
      "image/png": "[encoded data removed]",
      "text/plain": [
       "<Figure size 432x288 with 1 Axes>"
      ]
     },
     "metadata": {},
     "output_type": "display_data"
    },
    {
     "data": {
      "image/png": "[encoded data removed]",
      "text/plain": [
       "<Figure size 432x288 with 1 Axes>"
      ]
     },
     "metadata": {},
     "output_type": "display_data"
    }
   ],
   "source": [
    "df_customer_reduced.plot.scatter(x='Recency', y='Frequency')\n",
    "df_customer_reduced.plot.scatter(x='Recency', y='MonetaryValue')\n",
    "df_customer_reduced.plot.scatter(x='Recency', y='EntropyProducts')\n"
   ]
  },
  {
   "cell_type": "code",
   "execution_count": 64,
   "metadata": {},
   "outputs": [
    {
     "data": {
      "text/plain": [
       "<matplotlib.axes._subplots.AxesSubplot at 0x1e62957cd00>"
      ]
     },
     "execution_count": 64,
     "metadata": {},
     "output_type": "execute_result"
    },
    {
     "data": {
      "image/png": "[encoded data removed]",
      "text/plain": [
       "<Figure size 432x288 with 1 Axes>"
      ]
     },
     "metadata": {},
     "output_type": "display_data"
    },
    {
     "data": {
      "image/png": "[encoded data removed]",
      "text/plain": [
       "<Figure size 432x288 with 1 Axes>"
      ]
     },
     "metadata": {},
     "output_type": "display_data"
    }
   ],
   "source": [
    "df_customer_reduced.plot.scatter(x='Frequency', y='MonetaryValue')\n",
    "df_customer_reduced.plot.scatter(x='Frequency', y='EntropyProducts')"
   ]
  },
  {
   "cell_type": "code",
   "execution_count": 65,
   "metadata": {},
   "outputs": [
    {
     "data": {
      "text/plain": [
       "<matplotlib.axes._subplots.AxesSubplot at 0x1e6295cabb0>"
      ]
     },
     "execution_count": 65,
     "metadata": {},
     "output_type": "execute_result"
    },
    {
     "data": {
      "image/png": "[encoded data removed]",
      "text/plain": [
       "<Figure size 432x288 with 1 Axes>"
      ]
     },
     "metadata": {},
     "output_type": "display_data"
    }
   ],
   "source": [
    "df_customer_reduced.plot.scatter(x='MonetaryValue', y='EntropyProducts')"
   ]
  },
  {
   "cell_type": "code",
   "execution_count": null,
   "metadata": {},
   "outputs": [],
   "source": []
  }
 ],
 "metadata": {
  "kernelspec": {
   "display_name": "Python 3",
   "language": "python",
   "name": "python3"
  },
  "language_info": {
   "codemirror_mode": {
    "name": "ipython",
    "version": 3
   },
   "file_extension": ".py",
   "mimetype": "text/x-python",
   "name": "python",
   "nbconvert_exporter": "python",
   "pygments_lexer": "ipython3",
   "version": "3.8.3"
  }
 },
 "nbformat": 4,
 "nbformat_minor": 4
}
