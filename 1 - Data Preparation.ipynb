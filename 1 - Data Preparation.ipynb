{
 "cells": [
  {
   "cell_type": "markdown",
   "metadata": {},
   "source": [
    "# Data Preparation"
   ]
  },
  {
   "cell_type": "code",
   "execution_count": 1,
   "metadata": {},
   "outputs": [],
   "source": [
    "%matplotlib inline\n",
    "import pandas as pd\n",
    "import numpy as np\n",
    "import matplotlib.pyplot as plt\n",
    "plt.style.use('seaborn-white')"
   ]
  },
  {
   "cell_type": "code",
   "execution_count": 2,
   "metadata": {},
   "outputs": [
    {
     "data": {
      "text/html": [
       "<div>\n",
       "<style scoped>\n",
       "    .dataframe tbody tr th:only-of-type {\n",
       "        vertical-align: middle;\n",
       "    }\n",
       "\n",
       "    .dataframe tbody tr th {\n",
       "        vertical-align: top;\n",
       "    }\n",
       "\n",
       "    .dataframe thead th {\n",
       "        text-align: right;\n",
       "    }\n",
       "</style>\n",
       "<table border=\"1\" class=\"dataframe\">\n",
       "  <thead>\n",
       "    <tr style=\"text-align: right;\">\n",
       "      <th></th>\n",
       "      <th>Unnamed: 0</th>\n",
       "      <th>BasketID</th>\n",
       "      <th>BasketDate</th>\n",
       "      <th>Sale</th>\n",
       "      <th>CustomerID</th>\n",
       "      <th>CustomerCountry</th>\n",
       "      <th>ProdID</th>\n",
       "      <th>ProdDescr</th>\n",
       "      <th>Qta</th>\n",
       "    </tr>\n",
       "  </thead>\n",
       "  <tbody>\n",
       "    <tr>\n",
       "      <th>0</th>\n",
       "      <td>0</td>\n",
       "      <td>536365</td>\n",
       "      <td>01/12/10 08:26</td>\n",
       "      <td>2,55</td>\n",
       "      <td>17850.0</td>\n",
       "      <td>United Kingdom</td>\n",
       "      <td>85123A</td>\n",
       "      <td>WHITE HANGING HEART T-LIGHT HOLDER</td>\n",
       "      <td>6</td>\n",
       "    </tr>\n",
       "    <tr>\n",
       "      <th>1</th>\n",
       "      <td>1</td>\n",
       "      <td>536365</td>\n",
       "      <td>01/12/10 08:26</td>\n",
       "      <td>3,39</td>\n",
       "      <td>17850.0</td>\n",
       "      <td>United Kingdom</td>\n",
       "      <td>71053</td>\n",
       "      <td>WHITE METAL LANTERN</td>\n",
       "      <td>6</td>\n",
       "    </tr>\n",
       "    <tr>\n",
       "      <th>2</th>\n",
       "      <td>2</td>\n",
       "      <td>536365</td>\n",
       "      <td>01/12/10 08:26</td>\n",
       "      <td>2,75</td>\n",
       "      <td>17850.0</td>\n",
       "      <td>United Kingdom</td>\n",
       "      <td>84406B</td>\n",
       "      <td>CREAM CUPID HEARTS COAT HANGER</td>\n",
       "      <td>8</td>\n",
       "    </tr>\n",
       "  </tbody>\n",
       "</table>\n",
       "</div>"
      ],
      "text/plain": [
       "   Unnamed: 0 BasketID      BasketDate  Sale  CustomerID CustomerCountry  \\\n",
       "0           0   536365  01/12/10 08:26  2,55     17850.0  United Kingdom   \n",
       "1           1   536365  01/12/10 08:26  3,39     17850.0  United Kingdom   \n",
       "2           2   536365  01/12/10 08:26  2,75     17850.0  United Kingdom   \n",
       "\n",
       "   ProdID                           ProdDescr  Qta  \n",
       "0  85123A  WHITE HANGING HEART T-LIGHT HOLDER    6  \n",
       "1   71053                 WHITE METAL LANTERN    6  \n",
       "2  84406B      CREAM CUPID HEARTS COAT HANGER    8  "
      ]
     },
     "execution_count": 2,
     "metadata": {},
     "output_type": "execute_result"
    }
   ],
   "source": [
    "# Creo il dataframe leggendo il file csv\n",
    "df = pd.read_csv('customer_supermarket.csv', sep='\\t')\n",
    "df.head(3)"
   ]
  },
  {
   "cell_type": "code",
   "execution_count": 3,
   "metadata": {},
   "outputs": [
    {
     "data": {
      "text/html": [
       "<div>\n",
       "<style scoped>\n",
       "    .dataframe tbody tr th:only-of-type {\n",
       "        vertical-align: middle;\n",
       "    }\n",
       "\n",
       "    .dataframe tbody tr th {\n",
       "        vertical-align: top;\n",
       "    }\n",
       "\n",
       "    .dataframe thead th {\n",
       "        text-align: right;\n",
       "    }\n",
       "</style>\n",
       "<table border=\"1\" class=\"dataframe\">\n",
       "  <thead>\n",
       "    <tr style=\"text-align: right;\">\n",
       "      <th></th>\n",
       "      <th>BasketID</th>\n",
       "      <th>BasketDate</th>\n",
       "      <th>Sale</th>\n",
       "      <th>CustomerID</th>\n",
       "      <th>CustomerCountry</th>\n",
       "      <th>ProdID</th>\n",
       "      <th>ProdDescr</th>\n",
       "      <th>Qta</th>\n",
       "    </tr>\n",
       "  </thead>\n",
       "  <tbody>\n",
       "    <tr>\n",
       "      <th>0</th>\n",
       "      <td>536365</td>\n",
       "      <td>01/12/10 08:26</td>\n",
       "      <td>2,55</td>\n",
       "      <td>17850.0</td>\n",
       "      <td>United Kingdom</td>\n",
       "      <td>85123A</td>\n",
       "      <td>WHITE HANGING HEART T-LIGHT HOLDER</td>\n",
       "      <td>6</td>\n",
       "    </tr>\n",
       "    <tr>\n",
       "      <th>1</th>\n",
       "      <td>536365</td>\n",
       "      <td>01/12/10 08:26</td>\n",
       "      <td>3,39</td>\n",
       "      <td>17850.0</td>\n",
       "      <td>United Kingdom</td>\n",
       "      <td>71053</td>\n",
       "      <td>WHITE METAL LANTERN</td>\n",
       "      <td>6</td>\n",
       "    </tr>\n",
       "    <tr>\n",
       "      <th>2</th>\n",
       "      <td>536365</td>\n",
       "      <td>01/12/10 08:26</td>\n",
       "      <td>2,75</td>\n",
       "      <td>17850.0</td>\n",
       "      <td>United Kingdom</td>\n",
       "      <td>84406B</td>\n",
       "      <td>CREAM CUPID HEARTS COAT HANGER</td>\n",
       "      <td>8</td>\n",
       "    </tr>\n",
       "  </tbody>\n",
       "</table>\n",
       "</div>"
      ],
      "text/plain": [
       "  BasketID      BasketDate  Sale  CustomerID CustomerCountry  ProdID  \\\n",
       "0   536365  01/12/10 08:26  2,55     17850.0  United Kingdom  85123A   \n",
       "1   536365  01/12/10 08:26  3,39     17850.0  United Kingdom   71053   \n",
       "2   536365  01/12/10 08:26  2,75     17850.0  United Kingdom  84406B   \n",
       "\n",
       "                            ProdDescr  Qta  \n",
       "0  WHITE HANGING HEART T-LIGHT HOLDER    6  \n",
       "1                 WHITE METAL LANTERN    6  \n",
       "2      CREAM CUPID HEARTS COAT HANGER    8  "
      ]
     },
     "execution_count": 3,
     "metadata": {},
     "output_type": "execute_result"
    }
   ],
   "source": [
    "# Elimino la colonna chiamata'Unnamed: 0' perché è superflua (alla lettura del dataset, pandas ha già assegnato un indice\n",
    "# ad ogni riga)\n",
    "df.drop(columns=['Unnamed: 0'], inplace=True)\n",
    "df.head(3)"
   ]
  },
  {
   "cell_type": "code",
   "execution_count": 4,
   "metadata": {},
   "outputs": [
    {
     "name": "stdout",
     "output_type": "stream",
     "text": [
      "<class 'pandas.core.frame.DataFrame'>\n",
      "RangeIndex: 471910 entries, 0 to 471909\n",
      "Data columns (total 8 columns):\n",
      " #   Column           Non-Null Count   Dtype  \n",
      "---  ------           --------------   -----  \n",
      " 0   BasketID         471910 non-null  object \n",
      " 1   BasketDate       471910 non-null  object \n",
      " 2   Sale             471910 non-null  object \n",
      " 3   CustomerID       406830 non-null  float64\n",
      " 4   CustomerCountry  471910 non-null  object \n",
      " 5   ProdID           471910 non-null  object \n",
      " 6   ProdDescr        471157 non-null  object \n",
      " 7   Qta              471910 non-null  int64  \n",
      "dtypes: float64(1), int64(1), object(6)\n",
      "memory usage: 28.8+ MB\n"
     ]
    }
   ],
   "source": [
    "df.info()"
   ]
  },
  {
   "cell_type": "markdown",
   "metadata": {},
   "source": [
    "Da df.info() si nota che le colonne CustomerID e ProdDescr hanno alcuni valori NaN."
   ]
  },
  {
   "cell_type": "markdown",
   "metadata": {},
   "source": [
    "### Gestione delle righe duplicate"
   ]
  },
  {
   "cell_type": "markdown",
   "metadata": {},
   "source": [
    "Nel dataframe df sono presenti delle righe duplicate. Dato che il dataset sembra essere un storico degli acquisti fatti su un sito web, posso supporre che i duplicati siano dovuti ad degli errori e quindi possano essere eliminati. Escludo la possibilità che l'utente possa aggiungere al carrello lo stesso prodotto più volte (come acquisti separati). Ad esempio, su Amazon se si prova ad aggiungere al carrello lo stesso oggetto più volte, viene incrementata la quantità dell'oggetto senza aggiungere un nuovo acquisto."
   ]
  },
  {
   "cell_type": "code",
   "execution_count": 5,
   "metadata": {},
   "outputs": [
    {
     "name": "stdout",
     "output_type": "stream",
     "text": [
      "Righe duplicate (esclusa la prima occorrenza) all'interno di df:  5232\n"
     ]
    }
   ],
   "source": [
    "print(\"Righe duplicate (esclusa la prima occorrenza) all'interno di df: \", df.duplicated().value_counts()[1])"
   ]
  },
  {
   "cell_type": "code",
   "execution_count": 6,
   "metadata": {},
   "outputs": [
    {
     "data": {
      "text/html": [
       "<div>\n",
       "<style scoped>\n",
       "    .dataframe tbody tr th:only-of-type {\n",
       "        vertical-align: middle;\n",
       "    }\n",
       "\n",
       "    .dataframe tbody tr th {\n",
       "        vertical-align: top;\n",
       "    }\n",
       "\n",
       "    .dataframe thead th {\n",
       "        text-align: right;\n",
       "    }\n",
       "</style>\n",
       "<table border=\"1\" class=\"dataframe\">\n",
       "  <thead>\n",
       "    <tr style=\"text-align: right;\">\n",
       "      <th></th>\n",
       "      <th>BasketID</th>\n",
       "      <th>BasketDate</th>\n",
       "      <th>Sale</th>\n",
       "      <th>CustomerID</th>\n",
       "      <th>CustomerCountry</th>\n",
       "      <th>ProdID</th>\n",
       "      <th>ProdDescr</th>\n",
       "      <th>Qta</th>\n",
       "    </tr>\n",
       "  </thead>\n",
       "  <tbody>\n",
       "    <tr>\n",
       "      <th>517</th>\n",
       "      <td>536409</td>\n",
       "      <td>01/12/10 11:45</td>\n",
       "      <td>1,25</td>\n",
       "      <td>17908.0</td>\n",
       "      <td>United Kingdom</td>\n",
       "      <td>21866</td>\n",
       "      <td>UNION JACK FLAG LUGGAGE TAG</td>\n",
       "      <td>1</td>\n",
       "    </tr>\n",
       "    <tr>\n",
       "      <th>527</th>\n",
       "      <td>536409</td>\n",
       "      <td>01/12/10 11:45</td>\n",
       "      <td>2,1</td>\n",
       "      <td>17908.0</td>\n",
       "      <td>United Kingdom</td>\n",
       "      <td>22866</td>\n",
       "      <td>HAND WARMER SCOTTY DOG DESIGN</td>\n",
       "      <td>1</td>\n",
       "    </tr>\n",
       "    <tr>\n",
       "      <th>537</th>\n",
       "      <td>536409</td>\n",
       "      <td>01/12/10 11:45</td>\n",
       "      <td>2,95</td>\n",
       "      <td>17908.0</td>\n",
       "      <td>United Kingdom</td>\n",
       "      <td>22900</td>\n",
       "      <td>SET 2 TEA TOWELS I LOVE LONDON</td>\n",
       "      <td>1</td>\n",
       "    </tr>\n",
       "  </tbody>\n",
       "</table>\n",
       "</div>"
      ],
      "text/plain": [
       "    BasketID      BasketDate  Sale  CustomerID CustomerCountry ProdID  \\\n",
       "517   536409  01/12/10 11:45  1,25     17908.0  United Kingdom  21866   \n",
       "527   536409  01/12/10 11:45   2,1     17908.0  United Kingdom  22866   \n",
       "537   536409  01/12/10 11:45  2,95     17908.0  United Kingdom  22900   \n",
       "\n",
       "                            ProdDescr  Qta  \n",
       "517       UNION JACK FLAG LUGGAGE TAG    1  \n",
       "527     HAND WARMER SCOTTY DOG DESIGN    1  \n",
       "537   SET 2 TEA TOWELS I LOVE LONDON     1  "
      ]
     },
     "execution_count": 6,
     "metadata": {},
     "output_type": "execute_result"
    }
   ],
   "source": [
    "df[df.duplicated()].head(3)"
   ]
  },
  {
   "cell_type": "code",
   "execution_count": 7,
   "metadata": {},
   "outputs": [],
   "source": [
    "df.drop_duplicates(inplace=True)"
   ]
  },
  {
   "cell_type": "markdown",
   "metadata": {},
   "source": [
    "Per ogni colonna controllo che i valori siano in formato corretto, diversi da NaN, sensati, ecc."
   ]
  },
  {
   "cell_type": "markdown",
   "metadata": {},
   "source": [
    "### CustomerID"
   ]
  },
  {
   "cell_type": "markdown",
   "metadata": {},
   "source": [
    "Da df.info() si nota che ci sono delle righe con CustomerID = NaN. Dato che l'analisi successiva si concentrerà sull'analisi del comportamento degli utenti, se non è possibile recuperare il CustomerID di queste righe esse andranno eliminate.\n",
    "\n",
    "Per provare a recuperare questi CustomerID faccio così: per ogni riga $r_1$ con CustomerID = NaN, controllo nel dataframe se esiste una riga $r_2$ con $r_1$.BasketID = $r_2$.BasketID e con $r_2$.CustomerID $\\neq$ NaN. Allora, posso assegnare ad $r_1$ il CustomerID di $r_2$."
   ]
  },
  {
   "cell_type": "code",
   "execution_count": 8,
   "metadata": {},
   "outputs": [
    {
     "data": {
      "text/plain": [
       "[]"
      ]
     },
     "execution_count": 8,
     "metadata": {},
     "output_type": "execute_result"
    }
   ],
   "source": [
    "# null contiene i BasketID delle righe che hanno CustomerID = NaN\n",
    "null = df[df['CustomerID'].isnull()]['BasketID'].value_counts().index.values\n",
    "\n",
    "# not_null contiene i BasketID delle righe che hanno CustomerID != NaN\n",
    "not_null = df[pd.notnull(df['CustomerID'])]['BasketID'].value_counts().index.values\n",
    "\n",
    "# Questa funzione mi restituisce l'intersezione di due insiemi\n",
    "def intersection(lst1, lst2): \n",
    "    return list(set(lst1) & set(lst2))\n",
    "\n",
    "intersection(list(null), list(not_null))"
   ]
  },
  {
   "cell_type": "markdown",
   "metadata": {},
   "source": [
    "$null \\cap not\\_null = \\emptyset$. Non è possibile recuperare i valori di CustomerID, quindi elimino le righe che hanno CustomerID = NaN."
   ]
  },
  {
   "cell_type": "code",
   "execution_count": 9,
   "metadata": {},
   "outputs": [],
   "source": [
    "df.drop(df[df['CustomerID'].isnull()].index, inplace=True)"
   ]
  },
  {
   "cell_type": "markdown",
   "metadata": {},
   "source": [
    "Controllo se tutti i valori di CustomerID sono dei float senza però la parte decimale (0.0, 1.0, 2.0, ecc.). Se tutti i valori sono senza parte decimale allora posso convertirli in int."
   ]
  },
  {
   "cell_type": "code",
   "execution_count": 10,
   "metadata": {},
   "outputs": [
    {
     "data": {
      "text/plain": [
       "True    401605\n",
       "Name: CustomerID, dtype: int64"
      ]
     },
     "execution_count": 10,
     "metadata": {},
     "output_type": "execute_result"
    }
   ],
   "source": [
    "# Conto quante sono i CustomerID senza la parte decimale\n",
    "df['CustomerID'].apply(float.is_integer).value_counts()"
   ]
  },
  {
   "cell_type": "code",
   "execution_count": 11,
   "metadata": {},
   "outputs": [
    {
     "data": {
      "text/plain": [
       "401605"
      ]
     },
     "execution_count": 11,
     "metadata": {},
     "output_type": "execute_result"
    }
   ],
   "source": [
    "# Numero di righe del dataframe df\n",
    "df.shape[0]"
   ]
  },
  {
   "cell_type": "markdown",
   "metadata": {},
   "source": [
    "Tutte le righe hanno CustomerID senza la parte decimale, quindi posso convertirli in int."
   ]
  },
  {
   "cell_type": "code",
   "execution_count": 12,
   "metadata": {},
   "outputs": [],
   "source": [
    "df['CustomerID'] = df['CustomerID'].astype(int)"
   ]
  },
  {
   "cell_type": "markdown",
   "metadata": {},
   "source": [
    "### ProdID"
   ]
  },
  {
   "cell_type": "markdown",
   "metadata": {},
   "source": [
    "Controllando il dataframe, ho notato che alcune righe non rappresentano degli acquisti."
   ]
  },
  {
   "cell_type": "code",
   "execution_count": 13,
   "metadata": {},
   "outputs": [
    {
     "data": {
      "text/plain": [
       "POST    1197\n",
       "M        460\n",
       "D         77\n",
       "DOT       16\n",
       "CRUK      16\n",
       "PADS       4\n",
       "Name: ProdID, dtype: int64"
      ]
     },
     "execution_count": 13,
     "metadata": {},
     "output_type": "execute_result"
    }
   ],
   "source": [
    "# isalpha restituisce True se la stringa contiene solo caratteri dell'alfabeto\n",
    "df[df['ProdID'].apply(str.isalpha)]['ProdID'].value_counts()"
   ]
  },
  {
   "cell_type": "markdown",
   "metadata": {},
   "source": [
    "Le righe che hanno come ProdID uno tra quelli elencati sopra non rappresentano degli acquisti, quindi le elimino."
   ]
  },
  {
   "cell_type": "code",
   "execution_count": 14,
   "metadata": {},
   "outputs": [],
   "source": [
    "# Elimino le righe che hanno come ProdID una stringa (quindi solo quelle elencate sopra)\n",
    "df = df[df['ProdID'].apply(lambda s: not s.isalpha())]"
   ]
  },
  {
   "cell_type": "markdown",
   "metadata": {},
   "source": [
    "Controllo se ci sono delle righe che non rappresentano degli acquisti ma hanno ProdID alfanumerici (lo faccio perchè con la funzione isalpha un ProdID = '123AAA' non sarebbe stato trovato)."
   ]
  },
  {
   "cell_type": "code",
   "execution_count": 15,
   "metadata": {},
   "outputs": [
    {
     "data": {
      "text/plain": [
       "array(['85123A', '85099B', '82494L', '85099C', '85099F', '84997D',\n",
       "       '84970S', '47591D', '15056N', '84596B', '47590B', '47590A',\n",
       "       '85049E', '84970L', '84997B', '84029E', '84029G', '47566B',\n",
       "       '84997C', '85014B', '84596F', '15056BL', '84030E', '85049A',\n",
       "       '85014A', '84406B', '16161P', '47559B', '85049G', '84997A',\n",
       "       '84536A', '85049C', '46000S', '47504K', '48173C', '47503A',\n",
       "       '16156S', '85199S', '84596G', '72351B', '51014A', '16169E',\n",
       "       '47599A', '84510A', '35471D', '85034C', '75049L', '84509A',\n",
       "       '15056P', '85040A', '72760B', '85184C', '84032B', '72351A',\n",
       "       '16161U', '46000M', 'C2', '85132C', '47567B', '72807C', '85061W',\n",
       "       '84971S', '51014C', '84078A', '79066K', '84535B', '85231B',\n",
       "       '85035C', '82001S', '47599B', '84032A', '51014L', '85183B',\n",
       "       '85071B', '84849D', '85049D', '85206A', '84279P', '84536B',\n",
       "       '72800E', '15060B', '47593B', '85032A', '72802C', '85071A',\n",
       "       '47504H', '72349B', '85032B', '84519B', '85034B', '17091J',\n",
       "       '85049F', '85032C', '85183A', '85036C', '72807B', '72802B',\n",
       "       '84596L', '15044A', '79191C', '85035A', '85034A', '85017B',\n",
       "       '85049H', '15044D', '85071C', '72807A', '85159B', '85231G',\n",
       "       '85199L', '85071D', '84884A', '85114C', '85185B', '15044C',\n",
       "       '84558A', '84459B', '84519A', '84279B', '85032D', '85132B',\n",
       "       '72802A', '85194L', '84459A', '84849B', '85194S', '85036A',\n",
       "       '35004B', '84520B', '15058A', '18097C', '85232D', '85170D',\n",
       "       '82616C', '35810A', '85132A', '85039B', '85114B', '79030G',\n",
       "       '47574A', '84968A', '85130D', '85159A', '85135C', '82613D',\n",
       "       '84031A', '84968C', '85130B', '72799E', '82616B', '15044B',\n",
       "       '84509B', '85169A', '47310M', '84912B', '79302M', '82613B',\n",
       "       '17107D', '84509G', '35004C', '47563A', '84559B', '85130C',\n",
       "       '17012D', '85036B', '84927F', '17012C', '15058B', '85035B',\n",
       "       '17012F', '85114A', '84673B', '84559A', '72803A', '35809A',\n",
       "       '35095B', '85039A', '84795B', '85180A', '16258A', '82613C',\n",
       "       '84912A', '85040B', '84031B', '85230B', '85136A', '79051A',\n",
       "       '85186A', '84660A', '18098C', '84926E', '46000R', '72800B',\n",
       "       '79190B', '85135B', '17012B', '84508A', '37482P', '79190A',\n",
       "       '85188A', '47503H', '84596E', '85186C', '85129D', '84569D',\n",
       "       '35095A', '84951A', '84341B', '84625C', '47594B', '84993A',\n",
       "       '84625A', '84968D', '17084N', '84951B', '84510C', '84849A',\n",
       "       '84926D', '84926A', '79030D', '84859A', '84508B', '47594A',\n",
       "       '85124C', '15058C', '85124B', '85025C', '84968F', '72800C',\n",
       "       '84660B', '72800D', '85170C', '85019A', '84507C', '84663A',\n",
       "       '47518F', '47578A', '85131A', '17084R', '79191B', '84660C',\n",
       "       '84596J', '47585A', '16169M', '85230G', '85232A', '84673A',\n",
       "       '84531A', '46000U', '47570B', '84931B', '84569A', '35001G',\n",
       "       '84531B', '85019B', '35819B', '35911A', '84707A', '17091A',\n",
       "       '85169B', '35598D', '85205B', '81952V', '84247E', '79190D',\n",
       "       '90200B', '17012A', '85136C', '85170B', '84924A', '85230E',\n",
       "       '35637A', '90200D', '84926F', '84313C', '84800L', '35599B',\n",
       "       '84509C', '84659A', '35810B', '84247G', '71101E', '84931A',\n",
       "       '85025B', '85169D', '84968E', '16161G', '35598B', '84876B',\n",
       "       '71406C', '85180B', '84859C', '37479P', '35004G', '85169C',\n",
       "       '84563B', '72799F', '84985A', '84913B', '84535A', '84508C',\n",
       "       '17129F', '82011C', '77101A', '16168M', '35599D', '84086C',\n",
       "       '85027L', '51020A', '84806B', '82011B', '16156L', '35912B',\n",
       "       '90200E', '85163A', '72799C', '84898F', '85230A', '84247N',\n",
       "       '17136A', '37489D', '84989A', '85179A', '85160B', '84993B',\n",
       "       '35818P', '84796B', '37479B', '72225C', '51020B', '85129B',\n",
       "       '90160C', '90200A', '90058B', '18094C', '85232B', '84875B',\n",
       "       '37489A', '84251B', '90030B', '84927A', '79144B', '47348A',\n",
       "       '85163B', '90161C', '47021G', '84251G', '84429A', '35915B',\n",
       "       '84507B', '84708B', '85023B', '37444A', '79063C', '90214A',\n",
       "       '84952B', '47343A', '84925F', '46138B', '72801C', '84741C',\n",
       "       '82613A', '84563A', '90201C', '62086A', '47593A', '17090D',\n",
       "       '84249A', '84927E', '84597C', '85049B', '84750B', '84707B',\n",
       "       '85039C', '84313B', '17084P', '46775D', '90209C', '85131B',\n",
       "       '85024B', '84927D', '85129C', '85230F', '72801D', '90201B',\n",
       "       '84876D', '90161B', '85131D', 'BANK CHARGES', '90160A', '37489B',\n",
       "       '90209B', '90214K', '90201A', '84800M', '84661B', '84569B',\n",
       "       '47367B', '79071B', '84877D', '85017C', '90162B', '84709B',\n",
       "       '47341B', '35833P', '90184B', '17013D', '84661A', '85131C',\n",
       "       '72801G', '90198B', '84712B', '84806A', '85019C', '90198A',\n",
       "       '90199C', '85024C', '90018A', '17090A', '84706F', '85130A',\n",
       "       '84870C', '84846A', '84870B', '47591B', '47351B', '90014A',\n",
       "       '90082A', '84796A', '79063D', '84913A', '84925D', '84800S',\n",
       "       '84859B', '84952C', '84247K', '82011A', '90082B', '72140E',\n",
       "       '85026B', '84086B', '81950B', '84510E', '84760S', '90161D',\n",
       "       '84595E', '84751B', '84877B', '90019A', '35913B', '90201D',\n",
       "       '81952B', '90214C', '17164B', '90160D', '79026B', '84857C',\n",
       "       '85185D', '16169K', '90081A', '85188B', '90003D', '84711B',\n",
       "       '90185D', '79191D', '90030C', '90185C', '90058A', '90214E',\n",
       "       '84509E', '85028S', '84804A', '37489C', '90016B', '35915C',\n",
       "       '47586A', '90014B', '79149B', '90123A', '62096A', '85086A',\n",
       "       '46776F', '84875D', '90175A', '17084J', '47013C', '90160B',\n",
       "       '84247L', '46776B', '90010E', '84874B', '17014A', '85167B',\n",
       "       '90206C', '37444C', '90030A', '35607B', '35637C', '85031A',\n",
       "       '35819P', '85179C', '90064B', '78034B', '90063A', '17084A',\n",
       "       '90214D', '90164B', '16162M', '90162C', '16248B', '90195A',\n",
       "       '90177D', '90214G', '85168B', '85018D', '84711A', '75013B',\n",
       "       '90184C', '17165D', '90200C', '90120C', '90210B', '47344B',\n",
       "       '16162L', '84952A', '90000A', '62043B', '84804B', '17011F',\n",
       "       '90186B', '90214S', '90129C', '90178A', '47369A', '81950V',\n",
       "       '90175C', '46776A', '46126A', '90003C', '90129B', '46776C',\n",
       "       '90214H', '90185A', '79144C', '90002D', '44092C', '90164A',\n",
       "       '35001W', '90081C', '44089C', '40046A', '90214P', '85135A',\n",
       "       '84984A', '90161A', '90125A', '84910A', '90205A', '90183A',\n",
       "       '46776E', '44092B', '90120B', '90214L', '84575A', '35815P',\n",
       "       '10124A', '90196A', '90123C', '90162D', '90010A', '90185B',\n",
       "       '84597B', '90122C', '90214J', '90125D', '84984B', '90180A',\n",
       "       '35638A', '90209A', '90129F', '84858C', '90018B', '90214N',\n",
       "       '81953B', '71496A', '90036E', '84661C', '84809A', '90214M',\n",
       "       '84534B', '90210D', '72051S', '35916C', '84745A', '90210C',\n",
       "       '46000P', '71495B', '90176D', '47341A', '84745B', '84801A',\n",
       "       '16207A', '90063B', '17109D', '10124G', '62074B', '90177C',\n",
       "       '90082D', '85206B', '71496B', '90059B', '90018C', '84798A',\n",
       "       '90059E', '90036D', '90059C', '44089A', '47013A', '85028L',\n",
       "       '90214R', '72369A', '90184A', '90059F', '18097A', '90036A',\n",
       "       '90013C', '90000D', '90003B', '37462E', '79062D', '90013A',\n",
       "       '40005B', '16202E', '90016A', '90123B', '35910A', '90190C',\n",
       "       '35911B', '90124A', '35638B', '35591T', '90196B', '90124C',\n",
       "       '84984D', '90125C', '90211A', '79323B', '16151A', '90186A',\n",
       "       '90122A', '90199A', '90067A', '90214Y', '35916A', '90040C',\n",
       "       '84750A', '84803B', '84613A', '90202C', '90064A', '37488A',\n",
       "       '17012E', '90211B', '35909A', '90210A', '90124B', '90019C',\n",
       "       '90003E', '84924F', '90202D', '90010B', '90195B', '90065A',\n",
       "       '35818B', '81953P', '90205C', '10123C', '84706D', '85017A',\n",
       "       '16207B', '72798C', '90152A', '84402B', '84805A', '90214I',\n",
       "       '90014C', '90024B', '35809B', '90142D', '90026D', '62097B',\n",
       "       '44242B', '79323P', '37444B', '90130B', '90125B', '84872A',\n",
       "       '79157V', '84206A', '90129A', '90214V', '90060D', '90180B',\n",
       "       '90206A', '90001D', '35910B', '62094B', '47369B', '46776D',\n",
       "       '72024U', '44091A', '84805B', '84801B', '90202B', '90000B',\n",
       "       '85136B', '17007B', '35909B', '90177A', '84732B', '16020C',\n",
       "       '84857B', '90026C', '90141B', '90011B', '90019B', '90059A',\n",
       "       '84415B', '84206C', '90214F', '90040A', '16244B', '90001C',\n",
       "       '90176A', '84968B', '71495A', '90214B', '90182C', '90120D',\n",
       "       '16202B', '90177E', '90179A', '84798B', '90042A', '90035A',\n",
       "       '84415A', '84732D', '84251C', '90129D', '90141C', '90175D',\n",
       "       '35597D', '79192A', '90189A', '35816P', '79157B', '90036C',\n",
       "       '84873A', '35271S', '90177B', '90026B', '90040B', '47574B',\n",
       "       '90025A', '37487B', '90012A', '90012B', '16169P', '90202A',\n",
       "       '46115B', '16206B', '90163A', '90059D', '90123D', '90001B',\n",
       "       '90176E', '79161A', '17191A', '16202A', '84562A', '47556B',\n",
       "       '90039D', '90212C', '90199D', '90036B', '35598C', '90141A',\n",
       "       '84201B', '35598A', '35817P', '79151B', '90128B', '84877A',\n",
       "       '90152B', '90130A', '90037B', '90214T', '35607A', '90036F',\n",
       "       '35597B', '90038B', '85031C', '37491B', '37491D', '90214U',\n",
       "       '90060B', '85098B', '90162A', '90179C', '37491C', '90035C',\n",
       "       '85023C', '85170A', '90129E', '90190B', '84795C', '84206B',\n",
       "       '90163B', '90190A', '35004P', '90039A', '90214O', '90065B',\n",
       "       '90039B', '90176C', '90038C', '84809B', '90178B', '90152C',\n",
       "       '16169N', '84743C', '90001A', '35610B', '35916B', '84705C',\n",
       "       '90025F', '90214Z', '85031B', '37379A', '84856S', '90212B',\n",
       "       '90026A', '90165B', '84802A', '90027D', '90141D', '84963A',\n",
       "       '90027A', '90199B', '90141E', '44242A', '17028J', '90187B',\n",
       "       '35610C', '90122B', '47503J', '90039C', '90183C', '90181A',\n",
       "       '84802B', '84963B', '90214W', '79323W', '84613C', '84569C',\n",
       "       '90038A', '16161M', '84387A', '90125E', '62096B', '90011A',\n",
       "       '35597A', '90024D', '84201C', '35610A', '90024F', '90197B',\n",
       "       '90024C', '84614A', '90176B'], dtype=object)"
      ]
     },
     "execution_count": 15,
     "metadata": {},
     "output_type": "execute_result"
    }
   ],
   "source": [
    "import re\n",
    "\n",
    "# Questa funzione mi restituisce True se la stringa contiene almeno una lettera dell'alfabeto, False altrimenti\n",
    "def search_letters(the_string):\n",
    "    if re.search('[a-zA-Z]', the_string) is None:\n",
    "        return False\n",
    "    return True\n",
    "\n",
    "df[df['ProdID'].apply(search_letters)]['ProdID'].value_counts().index.values"
   ]
  },
  {
   "cell_type": "markdown",
   "metadata": {},
   "source": [
    "Tra i ProdID c'è 'C2', che non rappresenta un acquisto, ma probabilmente una spesa addizionale di spedizione. Quindi elimino le righe in cui ProdID = 'C2."
   ]
  },
  {
   "cell_type": "code",
   "execution_count": 16,
   "metadata": {},
   "outputs": [
    {
     "data": {
      "text/html": [
       "<div>\n",
       "<style scoped>\n",
       "    .dataframe tbody tr th:only-of-type {\n",
       "        vertical-align: middle;\n",
       "    }\n",
       "\n",
       "    .dataframe tbody tr th {\n",
       "        vertical-align: top;\n",
       "    }\n",
       "\n",
       "    .dataframe thead th {\n",
       "        text-align: right;\n",
       "    }\n",
       "</style>\n",
       "<table border=\"1\" class=\"dataframe\">\n",
       "  <thead>\n",
       "    <tr style=\"text-align: right;\">\n",
       "      <th></th>\n",
       "      <th>BasketID</th>\n",
       "      <th>BasketDate</th>\n",
       "      <th>Sale</th>\n",
       "      <th>CustomerID</th>\n",
       "      <th>CustomerCountry</th>\n",
       "      <th>ProdID</th>\n",
       "      <th>ProdDescr</th>\n",
       "      <th>Qta</th>\n",
       "    </tr>\n",
       "  </thead>\n",
       "  <tbody>\n",
       "    <tr>\n",
       "      <th>1422</th>\n",
       "      <td>536540</td>\n",
       "      <td>01/12/10 14:05</td>\n",
       "      <td>50</td>\n",
       "      <td>14911</td>\n",
       "      <td>EIRE</td>\n",
       "      <td>C2</td>\n",
       "      <td>CARRIAGE</td>\n",
       "      <td>1</td>\n",
       "    </tr>\n",
       "    <tr>\n",
       "      <th>10319</th>\n",
       "      <td>537368</td>\n",
       "      <td>06/12/10 12:40</td>\n",
       "      <td>50</td>\n",
       "      <td>14911</td>\n",
       "      <td>EIRE</td>\n",
       "      <td>C2</td>\n",
       "      <td>CARRIAGE</td>\n",
       "      <td>1</td>\n",
       "    </tr>\n",
       "    <tr>\n",
       "      <th>10652</th>\n",
       "      <td>537378</td>\n",
       "      <td>06/12/10 13:06</td>\n",
       "      <td>50</td>\n",
       "      <td>14911</td>\n",
       "      <td>EIRE</td>\n",
       "      <td>C2</td>\n",
       "      <td>CARRIAGE</td>\n",
       "      <td>1</td>\n",
       "    </tr>\n",
       "  </tbody>\n",
       "</table>\n",
       "</div>"
      ],
      "text/plain": [
       "      BasketID      BasketDate Sale  CustomerID CustomerCountry ProdID  \\\n",
       "1422    536540  01/12/10 14:05   50       14911            EIRE     C2   \n",
       "10319   537368  06/12/10 12:40   50       14911            EIRE     C2   \n",
       "10652   537378  06/12/10 13:06   50       14911            EIRE     C2   \n",
       "\n",
       "      ProdDescr  Qta  \n",
       "1422   CARRIAGE    1  \n",
       "10319  CARRIAGE    1  \n",
       "10652  CARRIAGE    1  "
      ]
     },
     "execution_count": 16,
     "metadata": {},
     "output_type": "execute_result"
    }
   ],
   "source": [
    "df[df['ProdID'] == 'C2'].head(3)"
   ]
  },
  {
   "cell_type": "code",
   "execution_count": 17,
   "metadata": {},
   "outputs": [],
   "source": [
    "df.drop(df[df['ProdID'] == 'C2'].index, inplace=True)"
   ]
  },
  {
   "cell_type": "markdown",
   "metadata": {},
   "source": [
    "Tra i ProdID c'è 'BANK CHARGES' che non rappresenta un acquisto, quindi elimino le righe in cui ProdID = 'BANK CHARGES'"
   ]
  },
  {
   "cell_type": "code",
   "execution_count": 18,
   "metadata": {},
   "outputs": [],
   "source": [
    "df.drop(df[df['ProdID'] == 'BANK CHARGES'].index, inplace=True)"
   ]
  },
  {
   "cell_type": "markdown",
   "metadata": {},
   "source": [
    "### ProdDescr"
   ]
  },
  {
   "cell_type": "markdown",
   "metadata": {},
   "source": [
    "Controllo se ci sono ancora delle descrizioni = NaN."
   ]
  },
  {
   "cell_type": "code",
   "execution_count": 19,
   "metadata": {},
   "outputs": [
    {
     "name": "stdout",
     "output_type": "stream",
     "text": [
      "Numero di righe con descrizione NaN:  0\n"
     ]
    }
   ],
   "source": [
    "print(\"Numero di righe con descrizione NaN: \", df[df['ProdDescr'].isnull()].shape[0])"
   ]
  },
  {
   "cell_type": "markdown",
   "metadata": {},
   "source": [
    "### BasketDate"
   ]
  },
  {
   "cell_type": "markdown",
   "metadata": {},
   "source": [
    "Controllo che tutti i valori della colonna BasketDate siano delle stringhe che rappresentano correttamente delle date."
   ]
  },
  {
   "cell_type": "code",
   "execution_count": 20,
   "metadata": {},
   "outputs": [
    {
     "name": "stdout",
     "output_type": "stream",
     "text": [
      "True    399689\n",
      "Name: BasketDate, dtype: int64\n"
     ]
    }
   ],
   "source": [
    "from dateutil.parser import parse\n",
    "\n",
    "# Questa funzione controlla se la stringa presa in input rappresenta correttamente una data\n",
    "def is_date(string, fuzzy=False):\n",
    "    try: \n",
    "        parse(string, fuzzy=fuzzy)\n",
    "        return True\n",
    "\n",
    "    except ValueError:\n",
    "        return False\n",
    "\n",
    "# Controllo se tutte i valori di BasketDate sono delle date valide\n",
    "print(df['BasketDate'].apply(is_date).value_counts())"
   ]
  },
  {
   "cell_type": "markdown",
   "metadata": {},
   "source": [
    "Tutti i valori rappresentano delle date. Ora controllo se questi valori sono scritti nello stesso formato."
   ]
  },
  {
   "cell_type": "code",
   "execution_count": 21,
   "metadata": {},
   "outputs": [
    {
     "name": "stdout",
     "output_type": "stream",
     "text": [
      "True    399689\n",
      "Name: BasketDate, dtype: int64\n"
     ]
    }
   ],
   "source": [
    "import datetime\n",
    "\n",
    "def validate(date_text):\n",
    "    try:\n",
    "        datetime.datetime.strptime(date_text, '%d/%m/%y %H:%M')\n",
    "        return True\n",
    "    except ValueError:\n",
    "        return False\n",
    "    \n",
    "print(df['BasketDate'].apply(validate).value_counts())"
   ]
  },
  {
   "cell_type": "markdown",
   "metadata": {},
   "source": [
    "Tutti i valori sono scritti seguendo lo stesso formato (giorno/mese/anno ora:minuto). Infine, converto tutte queste stringhe in formato datetime."
   ]
  },
  {
   "cell_type": "code",
   "execution_count": 22,
   "metadata": {},
   "outputs": [],
   "source": [
    "df['BasketDate'] = pd.to_datetime(df['BasketDate'], format=\"%d/%m/%y %H:%M\")"
   ]
  },
  {
   "cell_type": "markdown",
   "metadata": {},
   "source": [
    "### Sale"
   ]
  },
  {
   "cell_type": "markdown",
   "metadata": {},
   "source": [
    "I valori della colonna Sale sono delle stringhe che rappresentano dei float, dove al posto del punto è stata usata la virgola."
   ]
  },
  {
   "cell_type": "code",
   "execution_count": 23,
   "metadata": {},
   "outputs": [],
   "source": [
    "# Questa funzione converte una stringa nel rispettivo float (3,5 --> 3.5)\n",
    "def convert_to_float(s):\n",
    "    comma_pos = s.find(',')\n",
    "    if comma_pos >= 0:\n",
    "        s = s[: comma_pos] + '.' + s[comma_pos+1 :]\n",
    "    return float(s)\n",
    "\n",
    "df['Sale'] = df['Sale'].apply(convert_to_float)"
   ]
  },
  {
   "cell_type": "code",
   "execution_count": 24,
   "metadata": {},
   "outputs": [
    {
     "name": "stdout",
     "output_type": "stream",
     "text": [
      "<class 'pandas.core.frame.DataFrame'>\n",
      "Int64Index: 399689 entries, 0 to 471908\n",
      "Data columns (total 8 columns):\n",
      " #   Column           Non-Null Count   Dtype         \n",
      "---  ------           --------------   -----         \n",
      " 0   BasketID         399689 non-null  object        \n",
      " 1   BasketDate       399689 non-null  datetime64[ns]\n",
      " 2   Sale             399689 non-null  float64       \n",
      " 3   CustomerID       399689 non-null  int32         \n",
      " 4   CustomerCountry  399689 non-null  object        \n",
      " 5   ProdID           399689 non-null  object        \n",
      " 6   ProdDescr        399689 non-null  object        \n",
      " 7   Qta              399689 non-null  int64         \n",
      "dtypes: datetime64[ns](1), float64(1), int32(1), int64(1), object(4)\n",
      "memory usage: 25.9+ MB\n"
     ]
    }
   ],
   "source": [
    "df.info()"
   ]
  },
  {
   "cell_type": "markdown",
   "metadata": {},
   "source": [
    "Tutte i valori della colonna Sale sono stati convertiti con successo a float64."
   ]
  },
  {
   "cell_type": "markdown",
   "metadata": {},
   "source": [
    "Controllo se ci sono delle righe con Sale $\\leq$ 0."
   ]
  },
  {
   "cell_type": "code",
   "execution_count": 25,
   "metadata": {},
   "outputs": [
    {
     "data": {
      "text/html": [
       "<div>\n",
       "<style scoped>\n",
       "    .dataframe tbody tr th:only-of-type {\n",
       "        vertical-align: middle;\n",
       "    }\n",
       "\n",
       "    .dataframe tbody tr th {\n",
       "        vertical-align: top;\n",
       "    }\n",
       "\n",
       "    .dataframe thead th {\n",
       "        text-align: right;\n",
       "    }\n",
       "</style>\n",
       "<table border=\"1\" class=\"dataframe\">\n",
       "  <thead>\n",
       "    <tr style=\"text-align: right;\">\n",
       "      <th></th>\n",
       "      <th>BasketID</th>\n",
       "      <th>BasketDate</th>\n",
       "      <th>Sale</th>\n",
       "      <th>CustomerID</th>\n",
       "      <th>CustomerCountry</th>\n",
       "      <th>ProdID</th>\n",
       "      <th>ProdDescr</th>\n",
       "      <th>Qta</th>\n",
       "    </tr>\n",
       "  </thead>\n",
       "  <tbody>\n",
       "    <tr>\n",
       "      <th>8122</th>\n",
       "      <td>537197</td>\n",
       "      <td>2010-12-05 14:02:00</td>\n",
       "      <td>0.0</td>\n",
       "      <td>12647</td>\n",
       "      <td>Germany</td>\n",
       "      <td>22841</td>\n",
       "      <td>ROUND CAKE TIN VINTAGE GREEN</td>\n",
       "      <td>1</td>\n",
       "    </tr>\n",
       "    <tr>\n",
       "      <th>28145</th>\n",
       "      <td>539263</td>\n",
       "      <td>2010-12-16 14:36:00</td>\n",
       "      <td>0.0</td>\n",
       "      <td>16560</td>\n",
       "      <td>United Kingdom</td>\n",
       "      <td>22580</td>\n",
       "      <td>ADVENT CALENDAR GINGHAM SACK</td>\n",
       "      <td>4</td>\n",
       "    </tr>\n",
       "    <tr>\n",
       "      <th>32806</th>\n",
       "      <td>539722</td>\n",
       "      <td>2010-12-21 13:45:00</td>\n",
       "      <td>0.0</td>\n",
       "      <td>14911</td>\n",
       "      <td>EIRE</td>\n",
       "      <td>22423</td>\n",
       "      <td>REGENCY CAKESTAND 3 TIER</td>\n",
       "      <td>10</td>\n",
       "    </tr>\n",
       "  </tbody>\n",
       "</table>\n",
       "</div>"
      ],
      "text/plain": [
       "      BasketID          BasketDate  Sale  CustomerID CustomerCountry ProdID  \\\n",
       "8122    537197 2010-12-05 14:02:00   0.0       12647         Germany  22841   \n",
       "28145   539263 2010-12-16 14:36:00   0.0       16560  United Kingdom  22580   \n",
       "32806   539722 2010-12-21 13:45:00   0.0       14911            EIRE  22423   \n",
       "\n",
       "                          ProdDescr  Qta  \n",
       "8122   ROUND CAKE TIN VINTAGE GREEN    1  \n",
       "28145  ADVENT CALENDAR GINGHAM SACK    4  \n",
       "32806      REGENCY CAKESTAND 3 TIER   10  "
      ]
     },
     "execution_count": 25,
     "metadata": {},
     "output_type": "execute_result"
    }
   ],
   "source": [
    "df[df['Sale'] <= 0].head(3)"
   ]
  },
  {
   "cell_type": "code",
   "execution_count": 26,
   "metadata": {},
   "outputs": [
    {
     "name": "stdout",
     "output_type": "stream",
     "text": [
      "Numero di righe con Sale <= 0:  33\n"
     ]
    }
   ],
   "source": [
    "print(\"Numero di righe con Sale <= 0: \", df[df['Sale'] <= 0].shape[0])"
   ]
  },
  {
   "cell_type": "code",
   "execution_count": 27,
   "metadata": {},
   "outputs": [
    {
     "name": "stdout",
     "output_type": "stream",
     "text": [
      "Numero di righe con Sale = 0:  33\n"
     ]
    }
   ],
   "source": [
    "print(\"Numero di righe con Sale = 0: \", df[df['Sale'] == 0].shape[0])"
   ]
  },
  {
   "cell_type": "markdown",
   "metadata": {},
   "source": [
    "Non ci sono righe con Sale < 0. Mentre le righe con Sale = 0 potrebbero riferirsi a dei prodotti omaggio. Io sono interessato agli acquisti, quindi posso eliminare queste righe."
   ]
  },
  {
   "cell_type": "code",
   "execution_count": 28,
   "metadata": {},
   "outputs": [],
   "source": [
    "df.drop(df[df['Sale'] == 0].index, inplace=True)"
   ]
  },
  {
   "cell_type": "markdown",
   "metadata": {},
   "source": [
    "### CustomerCountry"
   ]
  },
  {
   "cell_type": "markdown",
   "metadata": {},
   "source": [
    "All'interno del dataframe ci sono delle righe con CustomerCountry = 'Unspecified'."
   ]
  },
  {
   "cell_type": "code",
   "execution_count": 29,
   "metadata": {},
   "outputs": [
    {
     "name": "stdout",
     "output_type": "stream",
     "text": [
      "Righe con CustomerCountry = 'Unspecified':  241\n"
     ]
    }
   ],
   "source": [
    "print(\"Righe con CustomerCountry = 'Unspecified': \", df[df['CustomerCountry'] == 'Unspecified'].shape[0])"
   ]
  },
  {
   "cell_type": "code",
   "execution_count": 30,
   "metadata": {},
   "outputs": [
    {
     "data": {
      "text/html": [
       "<div>\n",
       "<style scoped>\n",
       "    .dataframe tbody tr th:only-of-type {\n",
       "        vertical-align: middle;\n",
       "    }\n",
       "\n",
       "    .dataframe tbody tr th {\n",
       "        vertical-align: top;\n",
       "    }\n",
       "\n",
       "    .dataframe thead th {\n",
       "        text-align: right;\n",
       "    }\n",
       "</style>\n",
       "<table border=\"1\" class=\"dataframe\">\n",
       "  <thead>\n",
       "    <tr style=\"text-align: right;\">\n",
       "      <th></th>\n",
       "      <th>BasketID</th>\n",
       "      <th>BasketDate</th>\n",
       "      <th>Sale</th>\n",
       "      <th>CustomerID</th>\n",
       "      <th>CustomerCountry</th>\n",
       "      <th>ProdID</th>\n",
       "      <th>ProdDescr</th>\n",
       "      <th>Qta</th>\n",
       "    </tr>\n",
       "  </thead>\n",
       "  <tbody>\n",
       "    <tr>\n",
       "      <th>128523</th>\n",
       "      <td>549687</td>\n",
       "      <td>2011-04-11 13:29:00</td>\n",
       "      <td>7.95</td>\n",
       "      <td>12363</td>\n",
       "      <td>Unspecified</td>\n",
       "      <td>20685</td>\n",
       "      <td>DOORMAT RED RETROSPOT</td>\n",
       "      <td>2</td>\n",
       "    </tr>\n",
       "    <tr>\n",
       "      <th>128524</th>\n",
       "      <td>549687</td>\n",
       "      <td>2011-04-11 13:29:00</td>\n",
       "      <td>7.95</td>\n",
       "      <td>12363</td>\n",
       "      <td>Unspecified</td>\n",
       "      <td>22691</td>\n",
       "      <td>DOORMAT WELCOME SUNRISE</td>\n",
       "      <td>2</td>\n",
       "    </tr>\n",
       "    <tr>\n",
       "      <th>128525</th>\n",
       "      <td>549687</td>\n",
       "      <td>2011-04-11 13:29:00</td>\n",
       "      <td>7.95</td>\n",
       "      <td>12363</td>\n",
       "      <td>Unspecified</td>\n",
       "      <td>48116</td>\n",
       "      <td>DOORMAT MULTICOLOUR STRIPE</td>\n",
       "      <td>2</td>\n",
       "    </tr>\n",
       "  </tbody>\n",
       "</table>\n",
       "</div>"
      ],
      "text/plain": [
       "       BasketID          BasketDate  Sale  CustomerID CustomerCountry ProdID  \\\n",
       "128523   549687 2011-04-11 13:29:00  7.95       12363     Unspecified  20685   \n",
       "128524   549687 2011-04-11 13:29:00  7.95       12363     Unspecified  22691   \n",
       "128525   549687 2011-04-11 13:29:00  7.95       12363     Unspecified  48116   \n",
       "\n",
       "                         ProdDescr  Qta  \n",
       "128523       DOORMAT RED RETROSPOT    2  \n",
       "128524     DOORMAT WELCOME SUNRISE    2  \n",
       "128525  DOORMAT MULTICOLOUR STRIPE    2  "
      ]
     },
     "execution_count": 30,
     "metadata": {},
     "output_type": "execute_result"
    }
   ],
   "source": [
    "df[df['CustomerCountry'] == 'Unspecified'].head(3)"
   ]
  },
  {
   "cell_type": "markdown",
   "metadata": {},
   "source": [
    "CustomerCountry = 'Unspecified' potrebbe essere un valore corretto, in quanto l'utente in fase di acquisto non ha voluto specificare lo stato in cui abita (ad esempio per motivi di privacy) e quindi lascio questi valori nel dataframe."
   ]
  },
  {
   "cell_type": "markdown",
   "metadata": {},
   "source": [
    "### Qta e BasketID"
   ]
  },
  {
   "cell_type": "markdown",
   "metadata": {},
   "source": [
    "Controllo se ci sono delle righe che hanno Qta $\\leq$ 0."
   ]
  },
  {
   "cell_type": "code",
   "execution_count": 31,
   "metadata": {},
   "outputs": [
    {
     "name": "stdout",
     "output_type": "stream",
     "text": [
      "Numero di righe con Qta <= 0:  8506\n"
     ]
    }
   ],
   "source": [
    "print(\"Numero di righe con Qta <= 0: \", df[df['Qta'] <= 0].shape[0])"
   ]
  },
  {
   "cell_type": "code",
   "execution_count": 32,
   "metadata": {},
   "outputs": [
    {
     "name": "stdout",
     "output_type": "stream",
     "text": [
      "Numero di righe con Qta < 0:  8506\n"
     ]
    }
   ],
   "source": [
    "print(\"Numero di righe con Qta < 0: \", df[df['Qta'] < 0].shape[0])"
   ]
  },
  {
   "cell_type": "markdown",
   "metadata": {},
   "source": [
    "Non ci sono righe con Qta = 0."
   ]
  },
  {
   "cell_type": "code",
   "execution_count": 33,
   "metadata": {
    "scrolled": true
   },
   "outputs": [
    {
     "data": {
      "text/html": [
       "<div>\n",
       "<style scoped>\n",
       "    .dataframe tbody tr th:only-of-type {\n",
       "        vertical-align: middle;\n",
       "    }\n",
       "\n",
       "    .dataframe tbody tr th {\n",
       "        vertical-align: top;\n",
       "    }\n",
       "\n",
       "    .dataframe thead th {\n",
       "        text-align: right;\n",
       "    }\n",
       "</style>\n",
       "<table border=\"1\" class=\"dataframe\">\n",
       "  <thead>\n",
       "    <tr style=\"text-align: right;\">\n",
       "      <th></th>\n",
       "      <th>BasketID</th>\n",
       "      <th>BasketDate</th>\n",
       "      <th>Sale</th>\n",
       "      <th>CustomerID</th>\n",
       "      <th>CustomerCountry</th>\n",
       "      <th>ProdID</th>\n",
       "      <th>ProdDescr</th>\n",
       "      <th>Qta</th>\n",
       "    </tr>\n",
       "  </thead>\n",
       "  <tbody>\n",
       "    <tr>\n",
       "      <th>154</th>\n",
       "      <td>C536383</td>\n",
       "      <td>2010-12-01 09:49:00</td>\n",
       "      <td>4.65</td>\n",
       "      <td>15311</td>\n",
       "      <td>United Kingdom</td>\n",
       "      <td>35004C</td>\n",
       "      <td>SET OF 3 COLOURED  FLYING DUCKS</td>\n",
       "      <td>-1</td>\n",
       "    </tr>\n",
       "    <tr>\n",
       "      <th>235</th>\n",
       "      <td>C536391</td>\n",
       "      <td>2010-12-01 10:24:00</td>\n",
       "      <td>1.65</td>\n",
       "      <td>17548</td>\n",
       "      <td>United Kingdom</td>\n",
       "      <td>22556</td>\n",
       "      <td>PLASTERS IN TIN CIRCUS PARADE</td>\n",
       "      <td>-12</td>\n",
       "    </tr>\n",
       "    <tr>\n",
       "      <th>236</th>\n",
       "      <td>C536391</td>\n",
       "      <td>2010-12-01 10:24:00</td>\n",
       "      <td>0.29</td>\n",
       "      <td>17548</td>\n",
       "      <td>United Kingdom</td>\n",
       "      <td>21984</td>\n",
       "      <td>PACK OF 12 PINK PAISLEY TISSUES</td>\n",
       "      <td>-24</td>\n",
       "    </tr>\n",
       "  </tbody>\n",
       "</table>\n",
       "</div>"
      ],
      "text/plain": [
       "    BasketID          BasketDate  Sale  CustomerID CustomerCountry  ProdID  \\\n",
       "154  C536383 2010-12-01 09:49:00  4.65       15311  United Kingdom  35004C   \n",
       "235  C536391 2010-12-01 10:24:00  1.65       17548  United Kingdom   22556   \n",
       "236  C536391 2010-12-01 10:24:00  0.29       17548  United Kingdom   21984   \n",
       "\n",
       "                            ProdDescr  Qta  \n",
       "154   SET OF 3 COLOURED  FLYING DUCKS   -1  \n",
       "235    PLASTERS IN TIN CIRCUS PARADE   -12  \n",
       "236  PACK OF 12 PINK PAISLEY TISSUES   -24  "
      ]
     },
     "execution_count": 33,
     "metadata": {},
     "output_type": "execute_result"
    }
   ],
   "source": [
    "df[df['Qta'] < 0].head(3)"
   ]
  },
  {
   "cell_type": "markdown",
   "metadata": {},
   "source": [
    "Controllo se tutte le righe con Qta negativa hanno il BaskeID che inizia con la lettera C."
   ]
  },
  {
   "cell_type": "code",
   "execution_count": 34,
   "metadata": {},
   "outputs": [
    {
     "data": {
      "text/plain": [
       "True    8506\n",
       "Name: BasketID, dtype: int64"
      ]
     },
     "execution_count": 34,
     "metadata": {},
     "output_type": "execute_result"
    }
   ],
   "source": [
    "import re\n",
    "\n",
    "# Questa funziona mi restituisce True se la stringa presa in input contiene un carattere dell'alfabeto, False altrimenti.\n",
    "def search_letters(the_string):\n",
    "    if re.search('[a-zA-Z]', the_string) is None:\n",
    "        return False\n",
    "    return True\n",
    "\n",
    "df[df['Qta'] < 0]['BasketID'].apply(search_letters).value_counts()\n"
   ]
  },
  {
   "cell_type": "markdown",
   "metadata": {},
   "source": [
    "Tutte le righe con Qta negativa hanno BasketID che inizia con la lettera C. Queste righe sembrano rappresentare degli ordini annullati o dei rimborsi."
   ]
  },
  {
   "cell_type": "markdown",
   "metadata": {},
   "source": [
    "Occorre ora gestire i rimborsi, ossia le righe con Qta < 0. I rimborsi vengono gestiti facendo le seguenti assunzioni:\n",
    "* Per ogni ordine è possibile richiedere al massimo un rimborso.\n",
    "* Un rimborso può essere applicato ad un ordine solo se la data dell'ordine è antecedente a quella del rimborso, il codice prodotto è lo stesso, il codice cliente è lo stesso e la quantità di oggetti presente nell'ordine è maggiore o uguale alla quantità in valore assoluto degli oggetti indicata nel rimborso.\n",
    "* Dato un rimborso, se all'interno del dataset non è presente un ordine antecedente a quel rimborso, allora il rimborso non viene considerato.\n",
    "* Dato un ordine, se ci sono più rimborsi applicabili a questo ordine, si applica quello con la quantità di oggetti in valore assoluto maggiore. Se ci sono due o più rimborsi con la stessa quantità ne uso uno tra questi."
   ]
  },
  {
   "cell_type": "markdown",
   "metadata": {},
   "source": [
    "Come prima cosa, mi salvo su un dataframe con tutti i rimborsi e uno con tutti gli acquisti."
   ]
  },
  {
   "cell_type": "code",
   "execution_count": 35,
   "metadata": {},
   "outputs": [],
   "source": [
    "rimborsi = df[df['Qta'] < 0]\n",
    "# Aggiungo una colonna a rimborsi che mi indica se un determinato rimborso è stato utilizzato\n",
    "lst = list()\n",
    "for i in range(rimborsi.shape[0]):\n",
    "    lst.insert(i, False) \n",
    "rimborsi = rimborsi.assign(Used=pd.Series(lst).values)\n",
    "\n",
    "acquisti = df[df['Qta'] > 0]"
   ]
  },
  {
   "cell_type": "code",
   "execution_count": 36,
   "metadata": {
    "scrolled": true
   },
   "outputs": [],
   "source": [
    "# Mi creo un insieme che contiene i CustomerID dei clienti che hanno richiesto almeno un rimborso\n",
    "set_customer_id_rimborsi = set(list(rimborsi['CustomerID'].values))\n",
    "\n",
    "# Mi creo un dataframe che contiene solo le righe che si riferiscono ai clienti che hanno richiesto un rimborso\n",
    "# acquisti_rimborsabili = acquisti[acquisti['CustomerID'].isin(set_customer_id_rimborsi)]\n",
    "\n",
    "# Dizionario dove ogni coppia (chiave,valore) è (CustomerID x, rimborsi con CustomerID x)\n",
    "dictonary_rimborsi = dict()\n",
    "\n",
    "# Popolo il dizionario\n",
    "for row in rimborsi.itertuples():\n",
    "    customer_id = getattr(row, 'CustomerID')\n",
    "    # Se ho già inserito i rimborsi relativi ad un CustomerID nel dizionario\n",
    "    if customer_id in dictonary_rimborsi:\n",
    "        continue\n",
    "    # Inserisco la nuova coppia (chiave, valore) all'interno del dizionario\n",
    "    \n",
    "    dictonary_rimborsi[customer_id] = rimborsi[rimborsi['CustomerID'] == customer_id]\n",
    "    \n",
    "def update_row(row, dictonary_rimborsi):\n",
    "    customer_id = row['CustomerID']\n",
    "    qta = row['Qta']\n",
    "    if customer_id not in dictonary_rimborsi:\n",
    "        return qta\n",
    "    basket_date = row['BasketDate']\n",
    "    prod_id = row['ProdID']\n",
    "    # Questo dataframe contiene tutti i rimborsi aventi CustomerID = customer_id\n",
    "    rimborsi_customer = dictonary_rimborsi[customer_id]\n",
    "    # Mi interessano solo i rimborsi che rispettano le assunzioni fatte sopra\n",
    "    # Inoltre il rimborso non deve essere già stato usato in precedenza\n",
    "    rimborsi_applicabili = rimborsi_customer[(rimborsi_customer['ProdID'] == prod_id) & (rimborsi_customer['BasketDate'] >= basket_date) & (abs(rimborsi_customer['Qta']) <= qta) & (rimborsi_customer['Used'] == False)]\n",
    "    # Se non ci sono rimborsi applicabili per questo specifico ordine\n",
    "    if rimborsi_applicabili.shape[0] == 0:\n",
    "        return qta\n",
    "    qta_min = rimborsi_applicabili['Qta'].min()\n",
    "    # Prendo la riga che corrisponde al rimborso che ho appena effettuato\n",
    "    rimborso = rimborsi_applicabili[rimborsi_applicabili['Qta'] == qta_min].iloc[0]\n",
    "    rimborso['Used'] = True\n",
    "    return qta + qta_min\n",
    "\n",
    "qta_updated = acquisti.apply(lambda row: update_row(row, dictonary_rimborsi), axis=1)"
   ]
  },
  {
   "cell_type": "markdown",
   "metadata": {},
   "source": [
    "Ora qta_updated contiene i valori aggiornati delle quantità di oggetti per ogni acquisto. Quindi occorre rimpiazzare i valori della colonna Qta (che non sono aggiornati) con quelli di qta_updated. Infine, è necessario eliminare dal dataframe 'acquisti' le righe che hanno quantità = 0, perché è come se l'utente avesse annullato l'intero ordine."
   ]
  },
  {
   "cell_type": "code",
   "execution_count": 37,
   "metadata": {},
   "outputs": [],
   "source": [
    "# Elimino dal dataframe acquisti la colonna Qta, che non rappresenta più le vere quantità acquistate dai clienti\n",
    "acquisti = acquisti.drop(['Qta'], axis=1)\n",
    "# Aggiungo al dataframe acquisti la colonna qta_updated, chiamandola Qta, che rappresenta le vere quantità acquistate dai clienti\n",
    "acquisti = acquisti.assign(Qta=qta_updated)\n",
    "# Elimino eventuali acquisti che dopo i rimborsi hanno Qta = 0, ossia è come se il cliente avesse annullato l'ordine\n",
    "acquisti.drop(acquisti[acquisti['Qta'] == 0].index, inplace=True)"
   ]
  },
  {
   "cell_type": "markdown",
   "metadata": {},
   "source": [
    "Ora tutti i valori della colonna BasketID del dataframe 'acquisti' sono delle stringhe che rappresentano dei numeri interi, quindi le trasformo in int."
   ]
  },
  {
   "cell_type": "code",
   "execution_count": 38,
   "metadata": {},
   "outputs": [],
   "source": [
    "acquisti['BasketID'] = acquisti['BasketID'].astype(int)"
   ]
  },
  {
   "cell_type": "markdown",
   "metadata": {},
   "source": [
    "### Aggiungiamo la colonna \"Spending\""
   ]
  },
  {
   "cell_type": "markdown",
   "metadata": {},
   "source": [
    "Possiamo calcolare la spesa relativa ad ogni acquisto (ossia ogni riga del dataframe acquisti). Quindi, aggiungiamo una nuova colonna che rappresenta questa spesa."
   ]
  },
  {
   "cell_type": "code",
   "execution_count": 39,
   "metadata": {},
   "outputs": [],
   "source": [
    "acquisti['Spending'] = acquisti['Sale'] * acquisti['Qta']"
   ]
  },
  {
   "cell_type": "code",
   "execution_count": 40,
   "metadata": {},
   "outputs": [
    {
     "data": {
      "text/html": [
       "<div>\n",
       "<style scoped>\n",
       "    .dataframe tbody tr th:only-of-type {\n",
       "        vertical-align: middle;\n",
       "    }\n",
       "\n",
       "    .dataframe tbody tr th {\n",
       "        vertical-align: top;\n",
       "    }\n",
       "\n",
       "    .dataframe thead th {\n",
       "        text-align: right;\n",
       "    }\n",
       "</style>\n",
       "<table border=\"1\" class=\"dataframe\">\n",
       "  <thead>\n",
       "    <tr style=\"text-align: right;\">\n",
       "      <th></th>\n",
       "      <th>BasketID</th>\n",
       "      <th>BasketDate</th>\n",
       "      <th>Sale</th>\n",
       "      <th>CustomerID</th>\n",
       "      <th>CustomerCountry</th>\n",
       "      <th>ProdID</th>\n",
       "      <th>ProdDescr</th>\n",
       "      <th>Qta</th>\n",
       "      <th>Spending</th>\n",
       "    </tr>\n",
       "  </thead>\n",
       "  <tbody>\n",
       "    <tr>\n",
       "      <th>0</th>\n",
       "      <td>536365</td>\n",
       "      <td>2010-12-01 08:26:00</td>\n",
       "      <td>2.55</td>\n",
       "      <td>17850</td>\n",
       "      <td>United Kingdom</td>\n",
       "      <td>85123A</td>\n",
       "      <td>WHITE HANGING HEART T-LIGHT HOLDER</td>\n",
       "      <td>6</td>\n",
       "      <td>15.30</td>\n",
       "    </tr>\n",
       "    <tr>\n",
       "      <th>1</th>\n",
       "      <td>536365</td>\n",
       "      <td>2010-12-01 08:26:00</td>\n",
       "      <td>3.39</td>\n",
       "      <td>17850</td>\n",
       "      <td>United Kingdom</td>\n",
       "      <td>71053</td>\n",
       "      <td>WHITE METAL LANTERN</td>\n",
       "      <td>6</td>\n",
       "      <td>20.34</td>\n",
       "    </tr>\n",
       "    <tr>\n",
       "      <th>2</th>\n",
       "      <td>536365</td>\n",
       "      <td>2010-12-01 08:26:00</td>\n",
       "      <td>2.75</td>\n",
       "      <td>17850</td>\n",
       "      <td>United Kingdom</td>\n",
       "      <td>84406B</td>\n",
       "      <td>CREAM CUPID HEARTS COAT HANGER</td>\n",
       "      <td>8</td>\n",
       "      <td>22.00</td>\n",
       "    </tr>\n",
       "  </tbody>\n",
       "</table>\n",
       "</div>"
      ],
      "text/plain": [
       "   BasketID          BasketDate  Sale  CustomerID CustomerCountry  ProdID  \\\n",
       "0    536365 2010-12-01 08:26:00  2.55       17850  United Kingdom  85123A   \n",
       "1    536365 2010-12-01 08:26:00  3.39       17850  United Kingdom   71053   \n",
       "2    536365 2010-12-01 08:26:00  2.75       17850  United Kingdom  84406B   \n",
       "\n",
       "                            ProdDescr  Qta  Spending  \n",
       "0  WHITE HANGING HEART T-LIGHT HOLDER    6     15.30  \n",
       "1                 WHITE METAL LANTERN    6     20.34  \n",
       "2      CREAM CUPID HEARTS COAT HANGER    8     22.00  "
      ]
     },
     "execution_count": 40,
     "metadata": {},
     "output_type": "execute_result"
    }
   ],
   "source": [
    "acquisti.head(3)"
   ]
  },
  {
   "cell_type": "markdown",
   "metadata": {},
   "source": [
    "Il dataframe che utilizzeremo per l'analisi sarà acquisti. Esporto il dataframe acquisti in formato csv."
   ]
  },
  {
   "cell_type": "code",
   "execution_count": 41,
   "metadata": {},
   "outputs": [],
   "source": [
    "acquisti.to_csv('acquisti.csv')"
   ]
  }
 ],
 "metadata": {
  "kernelspec": {
   "display_name": "Python 3",
   "language": "python",
   "name": "python3"
  },
  "language_info": {
   "codemirror_mode": {
    "name": "ipython",
    "version": 3
   },
   "file_extension": ".py",
   "mimetype": "text/x-python",
   "name": "python",
   "nbconvert_exporter": "python",
   "pygments_lexer": "ipython3",
   "version": "3.8.3"
  }
 },
 "nbformat": 4,
 "nbformat_minor": 4
}
