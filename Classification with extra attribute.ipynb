{
 "cells": [
  {
   "cell_type": "code",
   "execution_count": 130,
   "metadata": {},
   "outputs": [],
   "source": [
    "# Promemoria: aggiungere nuovo attributo: ad esempio spesa Smax (spesa massima effettuata in un solo carrello dall'utente)"
   ]
  },
  {
   "cell_type": "code",
   "execution_count": 39,
   "metadata": {},
   "outputs": [],
   "source": [
    "%matplotlib inline\n",
    "import pandas as pd\n",
    "import numpy as np\n",
    "import matplotlib.pyplot as plt\n",
    "from sklearn.model_selection import GridSearchCV\n",
    "from scipy.stats import randint as sp_randint\n",
    "from sklearn.metrics import make_scorer\n",
    "from sklearn.metrics import accuracy_score\n",
    "from sklearn.model_selection import train_test_split\n",
    "from sklearn.metrics import classification_report\n",
    "from sklearn import metrics\n",
    "\n",
    "plt.style.use('seaborn-white')"
   ]
  },
  {
   "cell_type": "code",
   "execution_count": 40,
   "metadata": {},
   "outputs": [
    {
     "data": {
      "text/html": [
       "<div>\n",
       "<style scoped>\n",
       "    .dataframe tbody tr th:only-of-type {\n",
       "        vertical-align: middle;\n",
       "    }\n",
       "\n",
       "    .dataframe tbody tr th {\n",
       "        vertical-align: top;\n",
       "    }\n",
       "\n",
       "    .dataframe thead th {\n",
       "        text-align: right;\n",
       "    }\n",
       "</style>\n",
       "<table border=\"1\" class=\"dataframe\">\n",
       "  <thead>\n",
       "    <tr style=\"text-align: right;\">\n",
       "      <th></th>\n",
       "      <th>Imax</th>\n",
       "      <th>Recency</th>\n",
       "      <th>Frequency</th>\n",
       "      <th>MonetaryValue</th>\n",
       "      <th>EntropyProducts</th>\n",
       "    </tr>\n",
       "    <tr>\n",
       "      <th>CustomerID</th>\n",
       "      <th></th>\n",
       "      <th></th>\n",
       "      <th></th>\n",
       "      <th></th>\n",
       "      <th></th>\n",
       "    </tr>\n",
       "  </thead>\n",
       "  <tbody>\n",
       "    <tr>\n",
       "      <th>12347</th>\n",
       "      <td>676</td>\n",
       "      <td>1</td>\n",
       "      <td>182</td>\n",
       "      <td>4310.00</td>\n",
       "      <td>4.464578</td>\n",
       "    </tr>\n",
       "    <tr>\n",
       "      <th>12348</th>\n",
       "      <td>1248</td>\n",
       "      <td>74</td>\n",
       "      <td>27</td>\n",
       "      <td>1437.24</td>\n",
       "      <td>2.987771</td>\n",
       "    </tr>\n",
       "    <tr>\n",
       "      <th>12349</th>\n",
       "      <td>630</td>\n",
       "      <td>18</td>\n",
       "      <td>72</td>\n",
       "      <td>1457.55</td>\n",
       "      <td>4.276666</td>\n",
       "    </tr>\n",
       "  </tbody>\n",
       "</table>\n",
       "</div>"
      ],
      "text/plain": [
       "            Imax  Recency  Frequency  MonetaryValue  EntropyProducts\n",
       "CustomerID                                                          \n",
       "12347        676        1        182        4310.00         4.464578\n",
       "12348       1248       74         27        1437.24         2.987771\n",
       "12349        630       18         72        1457.55         4.276666"
      ]
     },
     "execution_count": 40,
     "metadata": {},
     "output_type": "execute_result"
    }
   ],
   "source": [
    "# Leggiamo il dataframe dal file csv 'clienti.csv'\n",
    "clienti = pd.read_csv('clienti.csv', sep=',', index_col='CustomerID')\n",
    "clienti.head(3)"
   ]
  },
  {
   "cell_type": "code",
   "execution_count": 41,
   "metadata": {},
   "outputs": [
    {
     "data": {
      "text/html": [
       "<div>\n",
       "<style scoped>\n",
       "    .dataframe tbody tr th:only-of-type {\n",
       "        vertical-align: middle;\n",
       "    }\n",
       "\n",
       "    .dataframe tbody tr th {\n",
       "        vertical-align: top;\n",
       "    }\n",
       "\n",
       "    .dataframe thead th {\n",
       "        text-align: right;\n",
       "    }\n",
       "</style>\n",
       "<table border=\"1\" class=\"dataframe\">\n",
       "  <thead>\n",
       "    <tr style=\"text-align: right;\">\n",
       "      <th></th>\n",
       "      <th>BasketID</th>\n",
       "      <th>BasketDate</th>\n",
       "      <th>Sale</th>\n",
       "      <th>CustomerID</th>\n",
       "      <th>CustomerCountry</th>\n",
       "      <th>ProdID</th>\n",
       "      <th>ProdDescr</th>\n",
       "      <th>Qta</th>\n",
       "      <th>Spending</th>\n",
       "    </tr>\n",
       "  </thead>\n",
       "  <tbody>\n",
       "    <tr>\n",
       "      <th>0</th>\n",
       "      <td>536365</td>\n",
       "      <td>2010-12-01 08:26:00</td>\n",
       "      <td>2.55</td>\n",
       "      <td>17850</td>\n",
       "      <td>United Kingdom</td>\n",
       "      <td>85123A</td>\n",
       "      <td>WHITE HANGING HEART T-LIGHT HOLDER</td>\n",
       "      <td>6</td>\n",
       "      <td>15.30</td>\n",
       "    </tr>\n",
       "    <tr>\n",
       "      <th>1</th>\n",
       "      <td>536365</td>\n",
       "      <td>2010-12-01 08:26:00</td>\n",
       "      <td>3.39</td>\n",
       "      <td>17850</td>\n",
       "      <td>United Kingdom</td>\n",
       "      <td>71053</td>\n",
       "      <td>WHITE METAL LANTERN</td>\n",
       "      <td>6</td>\n",
       "      <td>20.34</td>\n",
       "    </tr>\n",
       "    <tr>\n",
       "      <th>2</th>\n",
       "      <td>536365</td>\n",
       "      <td>2010-12-01 08:26:00</td>\n",
       "      <td>2.75</td>\n",
       "      <td>17850</td>\n",
       "      <td>United Kingdom</td>\n",
       "      <td>84406B</td>\n",
       "      <td>CREAM CUPID HEARTS COAT HANGER</td>\n",
       "      <td>8</td>\n",
       "      <td>22.00</td>\n",
       "    </tr>\n",
       "  </tbody>\n",
       "</table>\n",
       "</div>"
      ],
      "text/plain": [
       "   BasketID           BasketDate  Sale  CustomerID CustomerCountry  ProdID  \\\n",
       "0    536365  2010-12-01 08:26:00  2.55       17850  United Kingdom  85123A   \n",
       "1    536365  2010-12-01 08:26:00  3.39       17850  United Kingdom   71053   \n",
       "2    536365  2010-12-01 08:26:00  2.75       17850  United Kingdom  84406B   \n",
       "\n",
       "                            ProdDescr  Qta  Spending  \n",
       "0  WHITE HANGING HEART T-LIGHT HOLDER    6     15.30  \n",
       "1                 WHITE METAL LANTERN    6     20.34  \n",
       "2      CREAM CUPID HEARTS COAT HANGER    8     22.00  "
      ]
     },
     "execution_count": 41,
     "metadata": {},
     "output_type": "execute_result"
    }
   ],
   "source": [
    "acquisti = pd.read_csv('acquisti.csv', sep=',')\n",
    "acquisti.drop(columns=['Unnamed: 0'], inplace=True)\n",
    "acquisti.head(3)"
   ]
  },
  {
   "cell_type": "code",
   "execution_count": 42,
   "metadata": {},
   "outputs": [],
   "source": [
    "df_sum = acquisti.groupby(['CustomerID', 'BasketID']).aggregate({'Spending':'sum'}).reset_index(level='CustomerID')"
   ]
  },
  {
   "cell_type": "code",
   "execution_count": 43,
   "metadata": {},
   "outputs": [
    {
     "data": {
      "text/html": [
       "<div>\n",
       "<style scoped>\n",
       "    .dataframe tbody tr th:only-of-type {\n",
       "        vertical-align: middle;\n",
       "    }\n",
       "\n",
       "    .dataframe tbody tr th {\n",
       "        vertical-align: top;\n",
       "    }\n",
       "\n",
       "    .dataframe thead th {\n",
       "        text-align: right;\n",
       "    }\n",
       "</style>\n",
       "<table border=\"1\" class=\"dataframe\">\n",
       "  <thead>\n",
       "    <tr style=\"text-align: right;\">\n",
       "      <th></th>\n",
       "      <th>Imax</th>\n",
       "      <th>Recency</th>\n",
       "      <th>Frequency</th>\n",
       "      <th>MonetaryValue</th>\n",
       "      <th>EntropyProducts</th>\n",
       "      <th>Smax</th>\n",
       "    </tr>\n",
       "    <tr>\n",
       "      <th>CustomerID</th>\n",
       "      <th></th>\n",
       "      <th></th>\n",
       "      <th></th>\n",
       "      <th></th>\n",
       "      <th></th>\n",
       "      <th></th>\n",
       "    </tr>\n",
       "  </thead>\n",
       "  <tbody>\n",
       "    <tr>\n",
       "      <th>12347</th>\n",
       "      <td>676</td>\n",
       "      <td>1</td>\n",
       "      <td>182</td>\n",
       "      <td>4310.00</td>\n",
       "      <td>4.464578</td>\n",
       "      <td>1294.32</td>\n",
       "    </tr>\n",
       "    <tr>\n",
       "      <th>12348</th>\n",
       "      <td>1248</td>\n",
       "      <td>74</td>\n",
       "      <td>27</td>\n",
       "      <td>1437.24</td>\n",
       "      <td>2.987771</td>\n",
       "      <td>652.80</td>\n",
       "    </tr>\n",
       "    <tr>\n",
       "      <th>12349</th>\n",
       "      <td>630</td>\n",
       "      <td>18</td>\n",
       "      <td>72</td>\n",
       "      <td>1457.55</td>\n",
       "      <td>4.276666</td>\n",
       "      <td>1457.55</td>\n",
       "    </tr>\n",
       "  </tbody>\n",
       "</table>\n",
       "</div>"
      ],
      "text/plain": [
       "            Imax  Recency  Frequency  MonetaryValue  EntropyProducts     Smax\n",
       "CustomerID                                                                   \n",
       "12347        676        1        182        4310.00         4.464578  1294.32\n",
       "12348       1248       74         27        1437.24         2.987771   652.80\n",
       "12349        630       18         72        1457.55         4.276666  1457.55"
      ]
     },
     "execution_count": 43,
     "metadata": {},
     "output_type": "execute_result"
    }
   ],
   "source": [
    "df_Smax = df_sum.groupby('CustomerID').aggregate({'Spending':'max'})\n",
    "clienti['Smax'] = df_Smax['Spending']\n",
    "clienti.head(3)"
   ]
  },
  {
   "cell_type": "code",
   "execution_count": 44,
   "metadata": {},
   "outputs": [],
   "source": [
    "n_days = 373 # Periodo di osservazione del dataset\n",
    "spending_per_day = clienti['MonetaryValue'] / n_days\n",
    "basket_per_day = clienti['Frequency'] / n_days\n",
    "\n",
    "clienti['SpendingPerDay'] = spending_per_day\n",
    "clienti['BasketPerDay'] = basket_per_day\n",
    "clienti.drop(columns=['MonetaryValue', 'Frequency'], inplace=True)"
   ]
  },
  {
   "cell_type": "code",
   "execution_count": 45,
   "metadata": {},
   "outputs": [
    {
     "data": {
      "text/html": [
       "<div>\n",
       "<style scoped>\n",
       "    .dataframe tbody tr th:only-of-type {\n",
       "        vertical-align: middle;\n",
       "    }\n",
       "\n",
       "    .dataframe tbody tr th {\n",
       "        vertical-align: top;\n",
       "    }\n",
       "\n",
       "    .dataframe thead th {\n",
       "        text-align: right;\n",
       "    }\n",
       "</style>\n",
       "<table border=\"1\" class=\"dataframe\">\n",
       "  <thead>\n",
       "    <tr style=\"text-align: right;\">\n",
       "      <th></th>\n",
       "      <th>Imax</th>\n",
       "      <th>Recency</th>\n",
       "      <th>EntropyProducts</th>\n",
       "      <th>Smax</th>\n",
       "      <th>SpendingPerDay</th>\n",
       "      <th>BasketPerDay</th>\n",
       "    </tr>\n",
       "  </thead>\n",
       "  <tbody>\n",
       "    <tr>\n",
       "      <th>count</th>\n",
       "      <td>4324.000000</td>\n",
       "      <td>4324.000000</td>\n",
       "      <td>4324.000000</td>\n",
       "      <td>4324.000000</td>\n",
       "      <td>4324.000000</td>\n",
       "      <td>4324.000000</td>\n",
       "    </tr>\n",
       "    <tr>\n",
       "      <th>mean</th>\n",
       "      <td>360.635060</td>\n",
       "      <td>91.966698</td>\n",
       "      <td>3.428550</td>\n",
       "      <td>567.157475</td>\n",
       "      <td>5.053721</td>\n",
       "      <td>0.240090</td>\n",
       "    </tr>\n",
       "    <tr>\n",
       "      <th>std</th>\n",
       "      <td>653.166449</td>\n",
       "      <td>100.364060</td>\n",
       "      <td>1.186899</td>\n",
       "      <td>1092.380361</td>\n",
       "      <td>21.887908</td>\n",
       "      <td>0.589625</td>\n",
       "    </tr>\n",
       "    <tr>\n",
       "      <th>min</th>\n",
       "      <td>1.000000</td>\n",
       "      <td>0.000000</td>\n",
       "      <td>0.000000</td>\n",
       "      <td>2.900000</td>\n",
       "      <td>0.007775</td>\n",
       "      <td>0.002681</td>\n",
       "    </tr>\n",
       "    <tr>\n",
       "      <th>25%</th>\n",
       "      <td>120.000000</td>\n",
       "      <td>17.000000</td>\n",
       "      <td>2.708050</td>\n",
       "      <td>215.590000</td>\n",
       "      <td>0.803391</td>\n",
       "      <td>0.045576</td>\n",
       "    </tr>\n",
       "    <tr>\n",
       "      <th>50%</th>\n",
       "      <td>221.500000</td>\n",
       "      <td>50.000000</td>\n",
       "      <td>3.515740</td>\n",
       "      <td>356.830000</td>\n",
       "      <td>1.750054</td>\n",
       "      <td>0.107239</td>\n",
       "    </tr>\n",
       "    <tr>\n",
       "      <th>75%</th>\n",
       "      <td>401.250000</td>\n",
       "      <td>143.000000</td>\n",
       "      <td>4.276078</td>\n",
       "      <td>598.807500</td>\n",
       "      <td>4.293532</td>\n",
       "      <td>0.260054</td>\n",
       "    </tr>\n",
       "    <tr>\n",
       "      <th>max</th>\n",
       "      <td>14964.000000</td>\n",
       "      <td>373.000000</td>\n",
       "      <td>7.185612</td>\n",
       "      <td>27872.800000</td>\n",
       "      <td>743.861716</td>\n",
       "      <td>19.576408</td>\n",
       "    </tr>\n",
       "  </tbody>\n",
       "</table>\n",
       "</div>"
      ],
      "text/plain": [
       "               Imax      Recency  EntropyProducts          Smax  \\\n",
       "count   4324.000000  4324.000000      4324.000000   4324.000000   \n",
       "mean     360.635060    91.966698         3.428550    567.157475   \n",
       "std      653.166449   100.364060         1.186899   1092.380361   \n",
       "min        1.000000     0.000000         0.000000      2.900000   \n",
       "25%      120.000000    17.000000         2.708050    215.590000   \n",
       "50%      221.500000    50.000000         3.515740    356.830000   \n",
       "75%      401.250000   143.000000         4.276078    598.807500   \n",
       "max    14964.000000   373.000000         7.185612  27872.800000   \n",
       "\n",
       "       SpendingPerDay  BasketPerDay  \n",
       "count     4324.000000   4324.000000  \n",
       "mean         5.053721      0.240090  \n",
       "std         21.887908      0.589625  \n",
       "min          0.007775      0.002681  \n",
       "25%          0.803391      0.045576  \n",
       "50%          1.750054      0.107239  \n",
       "75%          4.293532      0.260054  \n",
       "max        743.861716     19.576408  "
      ]
     },
     "execution_count": 45,
     "metadata": {},
     "output_type": "execute_result"
    }
   ],
   "source": [
    "clienti.describe()"
   ]
  },
  {
   "cell_type": "markdown",
   "metadata": {},
   "source": [
    "## Creazione dei label usando l'attributo MonetaryValue"
   ]
  },
  {
   "cell_type": "markdown",
   "metadata": {},
   "source": [
    "Suddividiamo i clienti in tre gruppi distinti, in base al valore dell'attributo MonetaryValue. Se un cliente ha MonetaryValue $\\leq$ 0.80 allora è considerato \"low-spending\", se ha 0.80 $<$ MonetaryValue $\\leq$ 4.29 allora è considerato \"medium-spending\" altrimenti, se ha MonetaryValue $>$ 4.29 allora è considerato \"high-spending\"."
   ]
  },
  {
   "cell_type": "code",
   "execution_count": 46,
   "metadata": {},
   "outputs": [],
   "source": [
    "# Questa funzione dato il valore di SpendingPerDay, restituisce la corrispondende etichetta\n",
    "def calculate_label(m):\n",
    "    if m <= 0.80:\n",
    "        return 0 # low-spending\n",
    "    if 0.80 < m <= 4.29:\n",
    "        return 1 # medium-spending\n",
    "    if m > 4.29:\n",
    "        return 2 # high-spending\n",
    "    \n",
    "labels = clienti['SpendingPerDay'].apply(calculate_label)"
   ]
  },
  {
   "cell_type": "code",
   "execution_count": 47,
   "metadata": {},
   "outputs": [
    {
     "data": {
      "text/plain": [
       "1    2167\n",
       "2    1082\n",
       "0    1075\n",
       "Name: SpendingPerDay, dtype: int64"
      ]
     },
     "execution_count": 47,
     "metadata": {},
     "output_type": "execute_result"
    }
   ],
   "source": [
    "labels.value_counts()"
   ]
  },
  {
   "cell_type": "code",
   "execution_count": 48,
   "metadata": {},
   "outputs": [],
   "source": [
    "# Eliminiamo la colonna SpendingPerDay, in quanto utilizzata per fare binning \n",
    "clienti.drop(columns=['SpendingPerDay'], inplace=True)"
   ]
  },
  {
   "cell_type": "code",
   "execution_count": 49,
   "metadata": {},
   "outputs": [
    {
     "data": {
      "text/html": [
       "<div>\n",
       "<style scoped>\n",
       "    .dataframe tbody tr th:only-of-type {\n",
       "        vertical-align: middle;\n",
       "    }\n",
       "\n",
       "    .dataframe tbody tr th {\n",
       "        vertical-align: top;\n",
       "    }\n",
       "\n",
       "    .dataframe thead th {\n",
       "        text-align: right;\n",
       "    }\n",
       "</style>\n",
       "<table border=\"1\" class=\"dataframe\">\n",
       "  <thead>\n",
       "    <tr style=\"text-align: right;\">\n",
       "      <th></th>\n",
       "      <th>Imax</th>\n",
       "      <th>Recency</th>\n",
       "      <th>EntropyProducts</th>\n",
       "      <th>Smax</th>\n",
       "      <th>BasketPerDay</th>\n",
       "    </tr>\n",
       "    <tr>\n",
       "      <th>CustomerID</th>\n",
       "      <th></th>\n",
       "      <th></th>\n",
       "      <th></th>\n",
       "      <th></th>\n",
       "      <th></th>\n",
       "    </tr>\n",
       "  </thead>\n",
       "  <tbody>\n",
       "    <tr>\n",
       "      <th>12347</th>\n",
       "      <td>676</td>\n",
       "      <td>1</td>\n",
       "      <td>4.464578</td>\n",
       "      <td>1294.32</td>\n",
       "      <td>0.487936</td>\n",
       "    </tr>\n",
       "    <tr>\n",
       "      <th>12348</th>\n",
       "      <td>1248</td>\n",
       "      <td>74</td>\n",
       "      <td>2.987771</td>\n",
       "      <td>652.80</td>\n",
       "      <td>0.072386</td>\n",
       "    </tr>\n",
       "    <tr>\n",
       "      <th>12349</th>\n",
       "      <td>630</td>\n",
       "      <td>18</td>\n",
       "      <td>4.276666</td>\n",
       "      <td>1457.55</td>\n",
       "      <td>0.193029</td>\n",
       "    </tr>\n",
       "  </tbody>\n",
       "</table>\n",
       "</div>"
      ],
      "text/plain": [
       "            Imax  Recency  EntropyProducts     Smax  BasketPerDay\n",
       "CustomerID                                                       \n",
       "12347        676        1         4.464578  1294.32      0.487936\n",
       "12348       1248       74         2.987771   652.80      0.072386\n",
       "12349        630       18         4.276666  1457.55      0.193029"
      ]
     },
     "execution_count": 49,
     "metadata": {},
     "output_type": "execute_result"
    }
   ],
   "source": [
    "clienti.head(3)"
   ]
  },
  {
   "cell_type": "markdown",
   "metadata": {},
   "source": [
    "## Creazione del Training Set e Test Set"
   ]
  },
  {
   "cell_type": "markdown",
   "metadata": {},
   "source": [
    "Creiamo quattro dataframe che rappresentano il training set, il test set e i rispettivi labels."
   ]
  },
  {
   "cell_type": "code",
   "execution_count": 50,
   "metadata": {},
   "outputs": [],
   "source": [
    "train_set, test_set, train_label, test_label = train_test_split(clienti, labels, stratify=labels, test_size=0.30)"
   ]
  },
  {
   "cell_type": "markdown",
   "metadata": {},
   "source": [
    "Inoltre definiamo due funzioni che ci serviranno per stampare i risultati ottenuti dalla classificazione."
   ]
  },
  {
   "cell_type": "markdown",
   "metadata": {},
   "source": [
    "## Definizione di funzioni utilità"
   ]
  },
  {
   "cell_type": "code",
   "execution_count": 51,
   "metadata": {},
   "outputs": [],
   "source": [
    "# Funzioni che useremo per stampare i risultati della classificazione\n",
    "def report_scores(test_label, test_pred):\n",
    "    print(classification_report(test_label, \n",
    "                            test_pred, \n",
    "                            target_names=['low-spending', 'medium-spending', 'high-spending']))\n",
    "    \n",
    "\n",
    "def print_metrics(train_label, train_pred_dt, test_label, test_pred_dt):\n",
    "    print('Accuracy train set ', metrics.accuracy_score(train_label, train_pred_dt))\n",
    "    print('Accuracy test set ', metrics.accuracy_score(test_label, test_pred_dt))\n",
    "    print('Precision train set ', metrics.precision_score(train_label, train_pred_dt, average='weighted'))\n",
    "    print('Recall train set ', metrics.recall_score(train_label, train_pred_dt, average='weighted'))\n",
    "    print('F1 score train set ', metrics.f1_score(train_label, train_pred_dt, average='weighted'))\n",
    "    print('Support train set ', metrics.precision_recall_fscore_support(train_label, train_pred_dt))"
   ]
  },
  {
   "cell_type": "markdown",
   "metadata": {},
   "source": [
    "# Standardizzazione del dataset"
   ]
  },
  {
   "cell_type": "markdown",
   "metadata": {},
   "source": [
    "In seguito standardizziamo il dataset, che utilizzeremo se l'algoritmo di classificazione necessita di un dataset standardizzato."
   ]
  },
  {
   "cell_type": "code",
   "execution_count": 52,
   "metadata": {},
   "outputs": [],
   "source": [
    "from sklearn.preprocessing import StandardScaler\n",
    "scaler = StandardScaler()\n",
    "clienti_normalized = scaler.fit_transform(clienti.values)\n",
    "train_set_normalized, test_set_normalized, train_label_normalized , test_label_normalized = train_test_split(clienti_normalized, labels, stratify=labels, test_size=0.30)"
   ]
  },
  {
   "cell_type": "markdown",
   "metadata": {},
   "source": [
    "# Decision Tree"
   ]
  },
  {
   "cell_type": "code",
   "execution_count": 145,
   "metadata": {},
   "outputs": [],
   "source": [
    "from sklearn import tree"
   ]
  },
  {
   "cell_type": "markdown",
   "metadata": {},
   "source": [
    "## Grid Search per la scelta dei parametri del Decision Tree"
   ]
  },
  {
   "cell_type": "markdown",
   "metadata": {},
   "source": [
    "Applichiamo la Grid Search per la scelta dei migliori parametri per il Decision Tree."
   ]
  },
  {
   "cell_type": "code",
   "execution_count": 146,
   "metadata": {},
   "outputs": [
    {
     "name": "stdout",
     "output_type": "stream",
     "text": [
      "Migliori parametri:\n",
      "   * criterion = entropy\n",
      "   * max_depth = 12\n",
      "   * min_samples_leaf = 6\n",
      "   * min_samples_split = 6\n",
      "   * splitter = best\n"
     ]
    }
   ],
   "source": [
    "# Dizionario che contiene il valore i parametri da testare e i rispettivi valori\n",
    "dict_parametri = {\n",
    "    \"criterion\": ['gini', 'entropy'],\n",
    "    \"splitter\" : ['best'],\n",
    "    \"max_depth\": [2, 4, 6, 8, 10, 12, None],\n",
    "    \"min_samples_split\": [1, 2, 4, 6], # Non funziona se faccio come la prof, ma questi sono valori a caso\n",
    "    \"min_samples_leaf\": [1, 2, 4, 6] # Non funziona se faccio come la prof, ma questi sono valori a caso\n",
    "}\n",
    "# Massimo grado di parallelismo (così usa tutti i processori)\n",
    "n_jobs= -1\n",
    "# Creiamo il modello\n",
    "classifier = tree.DecisionTreeClassifier()\n",
    "# Indica il numero di folds da fare per la cross-validation\n",
    "cv = 5\n",
    "# Creiamo la grid search\n",
    "grid_search = GridSearchCV(estimator=classifier,\n",
    "                           param_grid=dict_parametri,\n",
    "                           scoring=make_scorer(accuracy_score),\n",
    "                           n_jobs=n_jobs,\n",
    "                           cv=cv)\n",
    "# Facciamo la grid search sul train_set\n",
    "grid_search.fit(train_set, train_label)\n",
    "# La variabile best_params contiene i miglior parametri trovati usando la grid seatch\n",
    "best_params = grid_search.best_params_\n",
    "\n",
    "print(\"Migliori parametri:\")\n",
    "for param in best_params:\n",
    "    print(\"   *\", param, \"=\", best_params[param])"
   ]
  },
  {
   "cell_type": "markdown",
   "metadata": {},
   "source": [
    "Applichiamo il Decision Tree usando i parametri trovati e lo alleniamo sul training set."
   ]
  },
  {
   "cell_type": "code",
   "execution_count": 147,
   "metadata": {},
   "outputs": [],
   "source": [
    "decision_tree = tree.DecisionTreeClassifier()\n",
    "# Usiamo i parametri trovati con la grid seatch\n",
    "decision_tree.set_params(**best_params)\n",
    "\n",
    "# Alleniamo il modello sul training set\n",
    "decision_tree = decision_tree.fit(train_set, train_label)"
   ]
  },
  {
   "cell_type": "markdown",
   "metadata": {},
   "source": [
    "Applichiamo il Decision Tree al training set e al test set."
   ]
  },
  {
   "cell_type": "code",
   "execution_count": 148,
   "metadata": {},
   "outputs": [],
   "source": [
    "# Labels ottenuti facendo predizione sul training set\n",
    "train_prediction_decision_tree = decision_tree.predict(train_set)\n",
    "# Labels ottenuti facendo predizione sul test set\n",
    "test_prediction_decision_tree = decision_tree.predict(test_set)"
   ]
  },
  {
   "cell_type": "markdown",
   "metadata": {},
   "source": [
    "## Evaluation: metriche e confusion matrix"
   ]
  },
  {
   "cell_type": "code",
   "execution_count": 149,
   "metadata": {},
   "outputs": [
    {
     "name": "stdout",
     "output_type": "stream",
     "text": [
      "Accuracy train set  0.9302709847984137\n",
      "Accuracy test set  0.8451463790446841\n",
      "Precision train set  0.9302960781648151\n",
      "Recall train set  0.9302709847984137\n",
      "F1 score train set  0.9302707476126143\n",
      "Support train set  (array([0.93691275, 0.92735602, 0.92961487]), array([0.92819149, 0.93408042, 0.92470277]), array([0.93253173, 0.93070608, 0.92715232]), array([ 752, 1517,  757], dtype=int64))\n"
     ]
    }
   ],
   "source": [
    "print_metrics(train_label, train_prediction_decision_tree, test_label, test_prediction_decision_tree)"
   ]
  },
  {
   "cell_type": "code",
   "execution_count": 150,
   "metadata": {},
   "outputs": [
    {
     "name": "stdout",
     "output_type": "stream",
     "text": [
      "                 precision    recall  f1-score   support\n",
      "\n",
      "   low-spending       0.87      0.88      0.88       323\n",
      "medium-spending       0.84      0.85      0.85       650\n",
      "  high-spending       0.82      0.81      0.81       325\n",
      "\n",
      "       accuracy                           0.85      1298\n",
      "      macro avg       0.85      0.84      0.84      1298\n",
      "   weighted avg       0.84      0.85      0.85      1298\n",
      "\n"
     ]
    }
   ],
   "source": [
    "report_scores(test_label, test_prediction_decision_tree)"
   ]
  },
  {
   "cell_type": "markdown",
   "metadata": {},
   "source": [
    "Visualizziamo la Confusion Matrix."
   ]
  },
  {
   "cell_type": "code",
   "execution_count": 151,
   "metadata": {},
   "outputs": [
    {
     "data": {
      "image/png": "[encoded data removed]",
      "text/plain": [
       "<Figure size 432x288 with 2 Axes>"
      ]
     },
     "metadata": {},
     "output_type": "display_data"
    }
   ],
   "source": [
    "from sklearn.metrics import confusion_matrix\n",
    "from sklearn.metrics import plot_confusion_matrix\n",
    "\n",
    "plot_confusion_matrix(decision_tree, test_set, test_label)\n",
    "plt.show() "
   ]
  },
  {
   "cell_type": "markdown",
   "metadata": {},
   "source": [
    "# KNN"
   ]
  },
  {
   "cell_type": "code",
   "execution_count": 15,
   "metadata": {},
   "outputs": [],
   "source": [
    "from sklearn.neighbors import KNeighborsClassifier"
   ]
  },
  {
   "cell_type": "markdown",
   "metadata": {},
   "source": [
    "# KNN con dataset standardizzato"
   ]
  },
  {
   "cell_type": "code",
   "execution_count": 53,
   "metadata": {},
   "outputs": [
    {
     "name": "stdout",
     "output_type": "stream",
     "text": [
      "Migliori parametri:\n",
      "   * algorithm = ball_tree\n",
      "   * metric = minkowski\n",
      "   * n_jobs = -1\n",
      "   * n_neighbors = 10\n",
      "   * p = 1\n",
      "   * weights = distance\n"
     ]
    }
   ],
   "source": [
    "# Dizionario che contiene il valore i parametri da testare e i rispettivi valori\n",
    "# Ha senso scegliere weights, p e algorithm diversi?\n",
    "\n",
    "dict_parametri = {\n",
    "    \"n_neighbors\" : [2, 4, 6, 8, 10],\n",
    "    \"weights\" : ['uniform', 'distance'], # vedi documentazione\n",
    "    \"algorithm\" : ['ball_tree', 'kd_tree'], # Alternative: auto (sceglie lui il migliore), brute -> fa brute-force search\n",
    "    \"metric\" : ['minkowski'], # è usata di default, lo metto per chiarezza. il tipo di distanza cambia in base al valore di p\n",
    "    \"p\" : [1, 2], # 1 -> manhattan distance, 2 -> eclidean distance, \n",
    "    \"n_jobs\" : [-1] # Così usa il massimo grado di parallelismo possibile per fare KNN\n",
    "}\n",
    "# Massimo grado di parallelismo (così usa tutti i processori)\n",
    "n_jobs= -1\n",
    "# Creiamo il modello\n",
    "classifier = KNeighborsClassifier()\n",
    "# Indica il numero di folds da fare per la cross-validation\n",
    "cv = 5\n",
    "# Creiamo la grid search\n",
    "grid_search = GridSearchCV(estimator=classifier,\n",
    "                           param_grid=dict_parametri,\n",
    "                           scoring=make_scorer(accuracy_score),\n",
    "                           n_jobs=n_jobs,\n",
    "                           cv=cv)\n",
    "# Facciamo la grid search sul train_set\n",
    "grid_search.fit(train_set_normalized, train_label_normalized)\n",
    "# La variabile best_params contiene i miglior parametri trovati usando la grid seatch\n",
    "best_params = grid_search.best_params_\n",
    "\n",
    "print(\"Migliori parametri:\")\n",
    "for param in best_params:\n",
    "    print(\"   *\", param, \"=\", best_params[param])"
   ]
  },
  {
   "cell_type": "code",
   "execution_count": 54,
   "metadata": {},
   "outputs": [
    {
     "data": {
      "text/plain": [
       "KNeighborsClassifier(algorithm='ball_tree', n_jobs=-1, n_neighbors=10, p=1,\n",
       "                     weights='distance')"
      ]
     },
     "execution_count": 54,
     "metadata": {},
     "output_type": "execute_result"
    }
   ],
   "source": [
    "knn = KNeighborsClassifier()\n",
    "# Usiamo i parametri trovati con la grid seatch\n",
    "knn.set_params(**best_params)\n",
    "knn.fit(train_set_normalized, train_label_normalized)"
   ]
  },
  {
   "cell_type": "code",
   "execution_count": 55,
   "metadata": {},
   "outputs": [],
   "source": [
    "# Labels ottenuti facendo predizione sul test set\n",
    "train_prediction_knn = knn.predict(train_set_normalized)\n",
    "test_prediction_knn = knn.predict(test_set_normalized)"
   ]
  },
  {
   "cell_type": "code",
   "execution_count": 56,
   "metadata": {},
   "outputs": [
    {
     "name": "stdout",
     "output_type": "stream",
     "text": [
      "Accuracy train set  1.0\n",
      "Accuracy test set  0.7996918335901386\n",
      "Precision train set  1.0\n",
      "Recall train set  1.0\n",
      "F1 score train set  1.0\n",
      "Support train set  (array([1., 1., 1.]), array([1., 1., 1.]), array([1., 1., 1.]), array([ 752, 1517,  757], dtype=int64))\n"
     ]
    }
   ],
   "source": [
    "print_metrics(train_label_normalized, train_prediction_knn, test_label_normalized, test_prediction_knn)"
   ]
  },
  {
   "cell_type": "code",
   "execution_count": 57,
   "metadata": {},
   "outputs": [
    {
     "name": "stdout",
     "output_type": "stream",
     "text": [
      "                 precision    recall  f1-score   support\n",
      "\n",
      "   low-spending       0.75      0.81      0.78       323\n",
      "medium-spending       0.80      0.81      0.80       650\n",
      "  high-spending       0.87      0.76      0.81       325\n",
      "\n",
      "       accuracy                           0.80      1298\n",
      "      macro avg       0.81      0.80      0.80      1298\n",
      "   weighted avg       0.80      0.80      0.80      1298\n",
      "\n"
     ]
    }
   ],
   "source": [
    "report_scores(test_label_normalized, test_prediction_knn)"
   ]
  },
  {
   "cell_type": "code",
   "execution_count": 58,
   "metadata": {},
   "outputs": [
    {
     "data": {
      "image/png": "[encoded data removed]",
      "text/plain": [
       "<Figure size 432x288 with 2 Axes>"
      ]
     },
     "metadata": {},
     "output_type": "display_data"
    }
   ],
   "source": [
    "from sklearn.metrics import confusion_matrix\n",
    "from sklearn.metrics import plot_confusion_matrix\n",
    "\n",
    "plot_confusion_matrix(knn, test_set_normalized, test_label_normalized)\n",
    "plt.show() "
   ]
  },
  {
   "cell_type": "markdown",
   "metadata": {},
   "source": [
    "# Naive Bayesian Classifier"
   ]
  },
  {
   "cell_type": "markdown",
   "metadata": {},
   "source": [
    "Dato che il Naive Bayesian Classifier non necessita di particolari parametri, non occorre effettuale la grid search."
   ]
  },
  {
   "cell_type": "code",
   "execution_count": 59,
   "metadata": {},
   "outputs": [],
   "source": [
    "from sklearn.naive_bayes import GaussianNB\n",
    "gnb = GaussianNB()\n",
    "# Alleniamo il modello sul training set\n",
    "gnb.fit(train_set, train_label)\n",
    "# Perché qui la prof non prova a fare predizione sul training set?\n",
    "# Labels ottenuti facendo predizione sul test set\n",
    "test_prediction_gnb = gnb.predict(test_set)\n",
    "train_prediction_gnb =gnb.predict(train_set)"
   ]
  },
  {
   "cell_type": "markdown",
   "metadata": {},
   "source": [
    "## Evaluation: metriche e confusion matrix"
   ]
  },
  {
   "cell_type": "code",
   "execution_count": 60,
   "metadata": {},
   "outputs": [
    {
     "name": "stdout",
     "output_type": "stream",
     "text": [
      "Accuracy train set  0.7815598149372108\n",
      "Accuracy test set  0.7711864406779662\n",
      "Precision train set  0.7914770577697483\n",
      "Recall train set  0.7815598149372108\n",
      "F1 score train set  0.7766880865727939\n",
      "Support train set  (array([0.75911602, 0.764343  , 0.878     ]), array([0.91356383, 0.81674357, 0.57992074]), array([0.82920941, 0.78967495, 0.69848846]), array([ 752, 1517,  757], dtype=int64))\n"
     ]
    }
   ],
   "source": [
    "print_metrics(train_label, train_prediction_gnb, test_label, test_prediction_gnb)"
   ]
  },
  {
   "cell_type": "code",
   "execution_count": 61,
   "metadata": {},
   "outputs": [
    {
     "name": "stdout",
     "output_type": "stream",
     "text": [
      "                 precision    recall  f1-score   support\n",
      "\n",
      "   low-spending       0.75      0.90      0.82       323\n",
      "medium-spending       0.75      0.81      0.78       650\n",
      "  high-spending       0.86      0.57      0.68       325\n",
      "\n",
      "       accuracy                           0.77      1298\n",
      "      macro avg       0.79      0.76      0.76      1298\n",
      "   weighted avg       0.78      0.77      0.77      1298\n",
      "\n"
     ]
    }
   ],
   "source": [
    "report_scores(test_label, test_prediction_gnb)"
   ]
  },
  {
   "cell_type": "markdown",
   "metadata": {},
   "source": [
    "Visualizziamo la Confusion Matrix."
   ]
  },
  {
   "cell_type": "code",
   "execution_count": 62,
   "metadata": {},
   "outputs": [
    {
     "data": {
      "image/png": "[encoded data removed]",
      "text/plain": [
       "<Figure size 432x288 with 2 Axes>"
      ]
     },
     "metadata": {},
     "output_type": "display_data"
    }
   ],
   "source": [
    "from sklearn.metrics import confusion_matrix\n",
    "from sklearn.metrics import plot_confusion_matrix\n",
    "# Perché la prof la calcola se poi non la usa?\n",
    "confusion_matrix = confusion_matrix(test_label, test_prediction_knn)\n",
    "\n",
    "plot_confusion_matrix(gnb, test_set, test_label)\n",
    "plt.show() "
   ]
  },
  {
   "cell_type": "markdown",
   "metadata": {},
   "source": [
    "# Random Forest"
   ]
  },
  {
   "cell_type": "code",
   "execution_count": 166,
   "metadata": {},
   "outputs": [],
   "source": [
    "from sklearn.ensemble import RandomForestClassifier"
   ]
  },
  {
   "cell_type": "markdown",
   "metadata": {},
   "source": [
    "## Grid Search per la scelta dei parametri di Random Forest"
   ]
  },
  {
   "cell_type": "code",
   "execution_count": 167,
   "metadata": {},
   "outputs": [
    {
     "name": "stdout",
     "output_type": "stream",
     "text": [
      "Migliori parametri:\n",
      "   * criterion = entropy\n",
      "   * max_depth = 16\n",
      "   * min_samples_leaf = 2\n",
      "   * min_samples_split = 4\n",
      "   * n_estimators = 100\n",
      "   * n_jobs = -1\n"
     ]
    }
   ],
   "source": [
    "# Dizionario che contiene il valore i parametri da testare e i rispettivi valori\n",
    "dict_parametri = {\n",
    "    \"n_estimators\" : [100],\n",
    "    \"criterion\" : ['gini', 'entropy'],\n",
    "    \"max_depth\": [8, 16, 32, None],\n",
    "    \"min_samples_split\": [1, 2, 4, 6],\n",
    "    \"min_samples_leaf\": [1, 2, 4, 6],\n",
    "    \"n_jobs\" : [-1]\n",
    "}\n",
    "# Massimo grado di parallelismo (così usa tutti i processori)\n",
    "n_jobs= -1\n",
    "# Creiamo il modello\n",
    "classifier = RandomForestClassifier()\n",
    "# Indica il numero di folds da fare per la cross-validation\n",
    "cv = 5\n",
    "# Creiamo la grid search\n",
    "grid_search = GridSearchCV(estimator=classifier,\n",
    "                           param_grid=dict_parametri,\n",
    "                           scoring=make_scorer(accuracy_score),\n",
    "                           n_jobs=n_jobs,\n",
    "                           cv=cv)\n",
    "# Facciamo la grid search sul train_set\n",
    "grid_search.fit(train_set, train_label)\n",
    "# La variabile best_params contiene i miglior parametri trovati usando la grid seatch\n",
    "best_params = grid_search.best_params_\n",
    "\n",
    "print(\"Migliori parametri:\")\n",
    "for param in best_params:\n",
    "    print(\"   *\", param, \"=\", best_params[param])"
   ]
  },
  {
   "cell_type": "markdown",
   "metadata": {},
   "source": [
    "Applichiamo la Random Forest usando i parametri trovati e lo alleniamo sul training set."
   ]
  },
  {
   "cell_type": "code",
   "execution_count": 168,
   "metadata": {},
   "outputs": [],
   "source": [
    "random_forest = RandomForestClassifier()\n",
    "# Usiamo i parametri trovati con la grid seatch\n",
    "random_forest.set_params(**best_params)\n",
    "\n",
    "# Alleniamo il modello sul training set\n",
    "random_forest = random_forest.fit(train_set, train_label)"
   ]
  },
  {
   "cell_type": "code",
   "execution_count": 169,
   "metadata": {},
   "outputs": [],
   "source": [
    "# Labels ottenuti facendo predizione sul training set\n",
    "train_prediction_random_forest = random_forest.predict(train_set)\n",
    "# Labels ottenuti facendo predizione sul test set\n",
    "test_prediction_random_forest = random_forest.predict(test_set)"
   ]
  },
  {
   "cell_type": "markdown",
   "metadata": {},
   "source": [
    "## Evaluation: metriche e confusion matrix"
   ]
  },
  {
   "cell_type": "code",
   "execution_count": 170,
   "metadata": {},
   "outputs": [
    {
     "name": "stdout",
     "output_type": "stream",
     "text": [
      "Accuracy train set  0.9890945142101785\n",
      "Accuracy test set  0.8659476117103235\n",
      "Precision train set  0.98910019622456\n",
      "Recall train set  0.9890945142101785\n",
      "F1 score train set  0.9890945975939494\n",
      "Support train set  (array([0.99198932, 0.98751643, 0.98940397]), array([0.98803191, 0.99077126, 0.98678996]), array([0.99000666, 0.98914116, 0.98809524]), array([ 752, 1517,  757], dtype=int64))\n"
     ]
    }
   ],
   "source": [
    "print_metrics(train_label, train_prediction_random_forest, test_label, test_prediction_random_forest)"
   ]
  },
  {
   "cell_type": "code",
   "execution_count": 171,
   "metadata": {},
   "outputs": [
    {
     "name": "stdout",
     "output_type": "stream",
     "text": [
      "                 precision    recall  f1-score   support\n",
      "\n",
      "   low-spending       0.89      0.91      0.90       323\n",
      "medium-spending       0.87      0.87      0.87       650\n",
      "  high-spending       0.85      0.82      0.83       325\n",
      "\n",
      "       accuracy                           0.87      1298\n",
      "      macro avg       0.87      0.87      0.87      1298\n",
      "   weighted avg       0.87      0.87      0.87      1298\n",
      "\n"
     ]
    }
   ],
   "source": [
    "report_scores(test_label, test_prediction_random_forest)"
   ]
  },
  {
   "cell_type": "markdown",
   "metadata": {},
   "source": [
    "Visualizziamo la Confusion Matrix."
   ]
  },
  {
   "cell_type": "code",
   "execution_count": 172,
   "metadata": {},
   "outputs": [
    {
     "data": {
      "image/png": "[encoded data removed]",
      "text/plain": [
       "<Figure size 432x288 with 2 Axes>"
      ]
     },
     "metadata": {},
     "output_type": "display_data"
    }
   ],
   "source": [
    "from sklearn.metrics import confusion_matrix\n",
    "from sklearn.metrics import plot_confusion_matrix\n",
    "# Perché la prof la calcola se poi non la usa?\n",
    "confusion_matrix = confusion_matrix(test_label, test_prediction_random_forest)\n",
    "\n",
    "plot_confusion_matrix(random_forest, test_set, test_label)\n",
    "plt.show() "
   ]
  },
  {
   "cell_type": "markdown",
   "metadata": {},
   "source": [
    "# SVM"
   ]
  },
  {
   "cell_type": "code",
   "execution_count": 200,
   "metadata": {},
   "outputs": [],
   "source": [
    "from sklearn.svm import SVC"
   ]
  },
  {
   "cell_type": "markdown",
   "metadata": {},
   "source": [
    "# SVM con dataset standardizzato"
   ]
  },
  {
   "cell_type": "markdown",
   "metadata": {},
   "source": [
    "## Grid Search per la scelta dei parametri di SVM"
   ]
  },
  {
   "cell_type": "code",
   "execution_count": 211,
   "metadata": {},
   "outputs": [
    {
     "name": "stdout",
     "output_type": "stream",
     "text": [
      "Migliori parametri:\n",
      "   * C = 100\n",
      "   * gamma = auto\n",
      "   * kernel = rbf\n"
     ]
    }
   ],
   "source": [
    "# Dizionario che contiene il valore i parametri da testare e i rispettivi valori\n",
    "dict_parametri = {\n",
    "    \"C\" : [1, 10, 100],\n",
    "    \"kernel\" : ['rbf', 'sigmoid'],\n",
    "    \"gamma\" : ['scale', 'auto']\n",
    "}\n",
    "\n",
    "# Massimo grado di parallelismo (così usa tutti i processori)\n",
    "n_jobs= -1\n",
    "# Creiamo il modello\n",
    "classifier = SVC()\n",
    "# Indica il numero di folds da fare per la cross-validation\n",
    "cv = 5\n",
    "# Creiamo la grid search\n",
    "grid_search = GridSearchCV(estimator=classifier,\n",
    "                           param_grid=dict_parametri,\n",
    "                           scoring=make_scorer(accuracy_score),\n",
    "                           n_jobs=n_jobs,\n",
    "                           cv=cv)\n",
    "# Facciamo la grid search sul train_set\n",
    "grid_search.fit(train_set_normalized, train_label_normalized)\n",
    "# La variabile best_params contiene i miglior parametri trovati usando la grid seatch\n",
    "best_params_svm_1 = grid_search.best_params_\n",
    "\n",
    "print(\"Migliori parametri:\")\n",
    "for param in best_params_svm_1:\n",
    "    print(\"   *\", param, \"=\", best_params_svm_1[param])"
   ]
  },
  {
   "cell_type": "markdown",
   "metadata": {},
   "source": [
    "Applichiamo l'SVM usando i parametri trovati e lo alleniamo sul training set."
   ]
  },
  {
   "cell_type": "code",
   "execution_count": 212,
   "metadata": {},
   "outputs": [],
   "source": [
    "svm = SVC()\n",
    "# Usiamo i parametri trovati con la grid seatch\n",
    "svm.set_params(**best_params_svm_1)\n",
    "\n",
    "# Alleniamo il modello sul training set\n",
    "svm = svm.fit(train_set_normalized, train_label_normalized)"
   ]
  },
  {
   "cell_type": "code",
   "execution_count": 213,
   "metadata": {},
   "outputs": [],
   "source": [
    "# Labels ottenuti facendo predizione sul training set\n",
    "train_prediction_svm = svm.predict(train_set_normalized)\n",
    "# Labels ottenuti facendo predizione sul test set\n",
    "test_prediction_svm = svm.predict(test_set_normalized)"
   ]
  },
  {
   "cell_type": "code",
   "execution_count": 214,
   "metadata": {},
   "outputs": [
    {
     "name": "stdout",
     "output_type": "stream",
     "text": [
      "Accuracy train set  0.8972240581625909\n",
      "Accuracy test set  0.8767334360554699\n",
      "Precision train set  0.8975616900085195\n",
      "Recall train set  0.8972240581625909\n",
      "F1 score train set  0.897215644016284\n",
      "Support train set  (array([0.89480692, 0.88853093, 0.91839557]), array([0.89361702, 0.90903098, 0.87714663]), array([0.89421158, 0.89866406, 0.8972973 ]), array([ 752, 1517,  757], dtype=int64))\n"
     ]
    }
   ],
   "source": [
    "print_metrics(train_label_normalized, train_prediction_svm, test_label_normalized, test_prediction_svm)"
   ]
  },
  {
   "cell_type": "code",
   "execution_count": 215,
   "metadata": {},
   "outputs": [
    {
     "name": "stdout",
     "output_type": "stream",
     "text": [
      "                 precision    recall  f1-score   support\n",
      "\n",
      "   low-spending       0.88      0.89      0.89       323\n",
      "medium-spending       0.87      0.89      0.88       650\n",
      "  high-spending       0.89      0.84      0.87       325\n",
      "\n",
      "       accuracy                           0.88      1298\n",
      "      macro avg       0.88      0.87      0.88      1298\n",
      "   weighted avg       0.88      0.88      0.88      1298\n",
      "\n"
     ]
    }
   ],
   "source": [
    "report_scores(test_label_normalized, test_prediction_svm)"
   ]
  },
  {
   "cell_type": "markdown",
   "metadata": {},
   "source": [
    "Visualizziamo la Confusion Matrix."
   ]
  },
  {
   "cell_type": "code",
   "execution_count": 216,
   "metadata": {},
   "outputs": [
    {
     "data": {
      "image/png": "[encoded data removed]",
      "text/plain": [
       "<Figure size 432x288 with 2 Axes>"
      ]
     },
     "metadata": {},
     "output_type": "display_data"
    }
   ],
   "source": [
    "from sklearn.metrics import confusion_matrix\n",
    "from sklearn.metrics import plot_confusion_matrix\n",
    "\n",
    "plot_confusion_matrix(svm, test_set_normalized, test_label_normalized)\n",
    "plt.show() "
   ]
  },
  {
   "cell_type": "markdown",
   "metadata": {},
   "source": [
    "# MODELLO MIGLIORE: SVM"
   ]
  },
  {
   "cell_type": "code",
   "execution_count": 225,
   "metadata": {},
   "outputs": [
    {
     "name": "stdout",
     "output_type": "stream",
     "text": [
      "Fit time  0.20787568092346193\n",
      "Score time  0.022001266479492188\n",
      "Test score  0.8767335688289446\n",
      "Train score  0.8946000631677102\n"
     ]
    }
   ],
   "source": [
    "from sklearn.model_selection import cross_validate\n",
    "import statistics\n",
    "scores = cross_validate(SVC(**best_params_svm_1), clienti_normalized, labels, cv=5, return_train_score= True)\n",
    "print('Fit time ', statistics.mean(scores['fit_time']))\n",
    "print('Score time ', statistics.mean(scores['score_time']))\n",
    "print('Test score ', statistics.mean(scores['test_score']))\n",
    "print('Train score ', statistics.mean(scores['train_score']))"
   ]
  },
  {
   "cell_type": "code",
   "execution_count": null,
   "metadata": {},
   "outputs": [],
   "source": []
  }
 ],
 "metadata": {
  "kernelspec": {
   "display_name": "Python 3",
   "language": "python",
   "name": "python3"
  },
  "language_info": {
   "codemirror_mode": {
    "name": "ipython",
    "version": 3
   },
   "file_extension": ".py",
   "mimetype": "text/x-python",
   "name": "python",
   "nbconvert_exporter": "python",
   "pygments_lexer": "ipython3",
   "version": "3.8.3"
  }
 },
 "nbformat": 4,
 "nbformat_minor": 4
}
