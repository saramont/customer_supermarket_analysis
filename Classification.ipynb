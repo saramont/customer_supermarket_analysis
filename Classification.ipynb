{
 "cells": [
  {
   "cell_type": "code",
   "execution_count": 2,
   "metadata": {},
   "outputs": [],
   "source": [
    "%matplotlib inline\n",
    "import pandas as pd\n",
    "import numpy as np\n",
    "import matplotlib.pyplot as plt\n",
    "from sklearn.model_selection import GridSearchCV\n",
    "from scipy.stats import randint as sp_randint\n",
    "from sklearn.metrics import make_scorer\n",
    "from sklearn.metrics import accuracy_score\n",
    "from sklearn.model_selection import train_test_split\n",
    "from sklearn.metrics import classification_report\n",
    "from sklearn import metrics\n",
    "\n",
    "plt.style.use('seaborn-white')"
   ]
  },
  {
   "cell_type": "code",
   "execution_count": 3,
   "metadata": {},
   "outputs": [
    {
     "data": {
      "text/html": [
       "<div>\n",
       "<style scoped>\n",
       "    .dataframe tbody tr th:only-of-type {\n",
       "        vertical-align: middle;\n",
       "    }\n",
       "\n",
       "    .dataframe tbody tr th {\n",
       "        vertical-align: top;\n",
       "    }\n",
       "\n",
       "    .dataframe thead th {\n",
       "        text-align: right;\n",
       "    }\n",
       "</style>\n",
       "<table border=\"1\" class=\"dataframe\">\n",
       "  <thead>\n",
       "    <tr style=\"text-align: right;\">\n",
       "      <th></th>\n",
       "      <th>Imax</th>\n",
       "      <th>Recency</th>\n",
       "      <th>Frequency</th>\n",
       "      <th>MonetaryValue</th>\n",
       "      <th>EntropyProducts</th>\n",
       "    </tr>\n",
       "    <tr>\n",
       "      <th>CustomerID</th>\n",
       "      <th></th>\n",
       "      <th></th>\n",
       "      <th></th>\n",
       "      <th></th>\n",
       "      <th></th>\n",
       "    </tr>\n",
       "  </thead>\n",
       "  <tbody>\n",
       "    <tr>\n",
       "      <th>12347</th>\n",
       "      <td>676</td>\n",
       "      <td>1</td>\n",
       "      <td>182</td>\n",
       "      <td>4310.00</td>\n",
       "      <td>4.464578</td>\n",
       "    </tr>\n",
       "    <tr>\n",
       "      <th>12348</th>\n",
       "      <td>1248</td>\n",
       "      <td>74</td>\n",
       "      <td>27</td>\n",
       "      <td>1437.24</td>\n",
       "      <td>2.987771</td>\n",
       "    </tr>\n",
       "    <tr>\n",
       "      <th>12349</th>\n",
       "      <td>630</td>\n",
       "      <td>18</td>\n",
       "      <td>72</td>\n",
       "      <td>1457.55</td>\n",
       "      <td>4.276666</td>\n",
       "    </tr>\n",
       "  </tbody>\n",
       "</table>\n",
       "</div>"
      ],
      "text/plain": [
       "            Imax  Recency  Frequency  MonetaryValue  EntropyProducts\n",
       "CustomerID                                                          \n",
       "12347        676        1        182        4310.00         4.464578\n",
       "12348       1248       74         27        1437.24         2.987771\n",
       "12349        630       18         72        1457.55         4.276666"
      ]
     },
     "execution_count": 3,
     "metadata": {},
     "output_type": "execute_result"
    }
   ],
   "source": [
    "# Leggiamo il dataframe dal file csv 'clienti.csv'\n",
    "clienti = pd.read_csv('clienti.csv', sep=',', index_col='CustomerID')\n",
    "clienti.head(3)"
   ]
  },
  {
   "cell_type": "code",
   "execution_count": 4,
   "metadata": {},
   "outputs": [
    {
     "data": {
      "text/html": [
       "<div>\n",
       "<style scoped>\n",
       "    .dataframe tbody tr th:only-of-type {\n",
       "        vertical-align: middle;\n",
       "    }\n",
       "\n",
       "    .dataframe tbody tr th {\n",
       "        vertical-align: top;\n",
       "    }\n",
       "\n",
       "    .dataframe thead th {\n",
       "        text-align: right;\n",
       "    }\n",
       "</style>\n",
       "<table border=\"1\" class=\"dataframe\">\n",
       "  <thead>\n",
       "    <tr style=\"text-align: right;\">\n",
       "      <th></th>\n",
       "      <th>BasketID</th>\n",
       "      <th>BasketDate</th>\n",
       "      <th>Sale</th>\n",
       "      <th>CustomerID</th>\n",
       "      <th>CustomerCountry</th>\n",
       "      <th>ProdID</th>\n",
       "      <th>ProdDescr</th>\n",
       "      <th>Qta</th>\n",
       "      <th>Spending</th>\n",
       "    </tr>\n",
       "  </thead>\n",
       "  <tbody>\n",
       "    <tr>\n",
       "      <th>0</th>\n",
       "      <td>536365</td>\n",
       "      <td>2010-12-01 08:26:00</td>\n",
       "      <td>2.55</td>\n",
       "      <td>17850</td>\n",
       "      <td>United Kingdom</td>\n",
       "      <td>85123A</td>\n",
       "      <td>WHITE HANGING HEART T-LIGHT HOLDER</td>\n",
       "      <td>6</td>\n",
       "      <td>15.30</td>\n",
       "    </tr>\n",
       "    <tr>\n",
       "      <th>1</th>\n",
       "      <td>536365</td>\n",
       "      <td>2010-12-01 08:26:00</td>\n",
       "      <td>3.39</td>\n",
       "      <td>17850</td>\n",
       "      <td>United Kingdom</td>\n",
       "      <td>71053</td>\n",
       "      <td>WHITE METAL LANTERN</td>\n",
       "      <td>6</td>\n",
       "      <td>20.34</td>\n",
       "    </tr>\n",
       "    <tr>\n",
       "      <th>2</th>\n",
       "      <td>536365</td>\n",
       "      <td>2010-12-01 08:26:00</td>\n",
       "      <td>2.75</td>\n",
       "      <td>17850</td>\n",
       "      <td>United Kingdom</td>\n",
       "      <td>84406B</td>\n",
       "      <td>CREAM CUPID HEARTS COAT HANGER</td>\n",
       "      <td>8</td>\n",
       "      <td>22.00</td>\n",
       "    </tr>\n",
       "  </tbody>\n",
       "</table>\n",
       "</div>"
      ],
      "text/plain": [
       "   BasketID           BasketDate  Sale  CustomerID CustomerCountry  ProdID  \\\n",
       "0    536365  2010-12-01 08:26:00  2.55       17850  United Kingdom  85123A   \n",
       "1    536365  2010-12-01 08:26:00  3.39       17850  United Kingdom   71053   \n",
       "2    536365  2010-12-01 08:26:00  2.75       17850  United Kingdom  84406B   \n",
       "\n",
       "                            ProdDescr  Qta  Spending  \n",
       "0  WHITE HANGING HEART T-LIGHT HOLDER    6     15.30  \n",
       "1                 WHITE METAL LANTERN    6     20.34  \n",
       "2      CREAM CUPID HEARTS COAT HANGER    8     22.00  "
      ]
     },
     "execution_count": 4,
     "metadata": {},
     "output_type": "execute_result"
    }
   ],
   "source": [
    "acquisti = pd.read_csv('acquisti.csv', sep=',')\n",
    "acquisti.drop(columns=['Unnamed: 0'], inplace=True)\n",
    "acquisti.head(3)"
   ]
  },
  {
   "cell_type": "code",
   "execution_count": 5,
   "metadata": {},
   "outputs": [],
   "source": [
    "n_days = 373 # Periodo di osservazione del dataset\n",
    "spending_per_day = clienti['MonetaryValue'] / n_days\n",
    "basket_per_day = clienti['Frequency'] / n_days\n",
    "\n",
    "clienti['SpendingPerDay'] = spending_per_day\n",
    "clienti['BasketPerDay'] = basket_per_day\n",
    "clienti.drop(columns=['MonetaryValue', 'Frequency'], inplace=True)"
   ]
  },
  {
   "cell_type": "code",
   "execution_count": 6,
   "metadata": {},
   "outputs": [
    {
     "data": {
      "text/html": [
       "<div>\n",
       "<style scoped>\n",
       "    .dataframe tbody tr th:only-of-type {\n",
       "        vertical-align: middle;\n",
       "    }\n",
       "\n",
       "    .dataframe tbody tr th {\n",
       "        vertical-align: top;\n",
       "    }\n",
       "\n",
       "    .dataframe thead th {\n",
       "        text-align: right;\n",
       "    }\n",
       "</style>\n",
       "<table border=\"1\" class=\"dataframe\">\n",
       "  <thead>\n",
       "    <tr style=\"text-align: right;\">\n",
       "      <th></th>\n",
       "      <th>Imax</th>\n",
       "      <th>Recency</th>\n",
       "      <th>EntropyProducts</th>\n",
       "      <th>SpendingPerDay</th>\n",
       "      <th>BasketPerDay</th>\n",
       "    </tr>\n",
       "  </thead>\n",
       "  <tbody>\n",
       "    <tr>\n",
       "      <th>count</th>\n",
       "      <td>4324.000000</td>\n",
       "      <td>4324.000000</td>\n",
       "      <td>4324.000000</td>\n",
       "      <td>4324.000000</td>\n",
       "      <td>4324.000000</td>\n",
       "    </tr>\n",
       "    <tr>\n",
       "      <th>mean</th>\n",
       "      <td>360.635060</td>\n",
       "      <td>91.966698</td>\n",
       "      <td>3.428550</td>\n",
       "      <td>5.053721</td>\n",
       "      <td>0.240090</td>\n",
       "    </tr>\n",
       "    <tr>\n",
       "      <th>std</th>\n",
       "      <td>653.166449</td>\n",
       "      <td>100.364060</td>\n",
       "      <td>1.186899</td>\n",
       "      <td>21.887908</td>\n",
       "      <td>0.589625</td>\n",
       "    </tr>\n",
       "    <tr>\n",
       "      <th>min</th>\n",
       "      <td>1.000000</td>\n",
       "      <td>0.000000</td>\n",
       "      <td>0.000000</td>\n",
       "      <td>0.007775</td>\n",
       "      <td>0.002681</td>\n",
       "    </tr>\n",
       "    <tr>\n",
       "      <th>25%</th>\n",
       "      <td>120.000000</td>\n",
       "      <td>17.000000</td>\n",
       "      <td>2.708050</td>\n",
       "      <td>0.803391</td>\n",
       "      <td>0.045576</td>\n",
       "    </tr>\n",
       "    <tr>\n",
       "      <th>50%</th>\n",
       "      <td>221.500000</td>\n",
       "      <td>50.000000</td>\n",
       "      <td>3.515740</td>\n",
       "      <td>1.750054</td>\n",
       "      <td>0.107239</td>\n",
       "    </tr>\n",
       "    <tr>\n",
       "      <th>75%</th>\n",
       "      <td>401.250000</td>\n",
       "      <td>143.000000</td>\n",
       "      <td>4.276078</td>\n",
       "      <td>4.293532</td>\n",
       "      <td>0.260054</td>\n",
       "    </tr>\n",
       "    <tr>\n",
       "      <th>max</th>\n",
       "      <td>14964.000000</td>\n",
       "      <td>373.000000</td>\n",
       "      <td>7.185612</td>\n",
       "      <td>743.861716</td>\n",
       "      <td>19.576408</td>\n",
       "    </tr>\n",
       "  </tbody>\n",
       "</table>\n",
       "</div>"
      ],
      "text/plain": [
       "               Imax      Recency  EntropyProducts  SpendingPerDay  \\\n",
       "count   4324.000000  4324.000000      4324.000000     4324.000000   \n",
       "mean     360.635060    91.966698         3.428550        5.053721   \n",
       "std      653.166449   100.364060         1.186899       21.887908   \n",
       "min        1.000000     0.000000         0.000000        0.007775   \n",
       "25%      120.000000    17.000000         2.708050        0.803391   \n",
       "50%      221.500000    50.000000         3.515740        1.750054   \n",
       "75%      401.250000   143.000000         4.276078        4.293532   \n",
       "max    14964.000000   373.000000         7.185612      743.861716   \n",
       "\n",
       "       BasketPerDay  \n",
       "count   4324.000000  \n",
       "mean       0.240090  \n",
       "std        0.589625  \n",
       "min        0.002681  \n",
       "25%        0.045576  \n",
       "50%        0.107239  \n",
       "75%        0.260054  \n",
       "max       19.576408  "
      ]
     },
     "execution_count": 6,
     "metadata": {},
     "output_type": "execute_result"
    }
   ],
   "source": [
    "clienti.describe()"
   ]
  },
  {
   "cell_type": "markdown",
   "metadata": {},
   "source": [
    "## Creazione dei label usando l'attributo MonetaryValue"
   ]
  },
  {
   "cell_type": "markdown",
   "metadata": {},
   "source": [
    "Suddividiamo i clienti in tre gruppi distinti, in base al valore dell'attributo MonetaryValue. Se un cliente ha MonetaryValue $\\leq$ 0.80 allora è considerato \"low-spending\", se ha 0.80 $<$ MonetaryValue $\\leq$ 4.29 allora è considerato \"medium-spending\" altrimenti, se ha MonetaryValue $>$ 4.29 allora è considerato \"high-spending\"."
   ]
  },
  {
   "cell_type": "code",
   "execution_count": 7,
   "metadata": {},
   "outputs": [],
   "source": [
    "# Questa funzione dato il valore di SpendingPerDay, restituisce la corrispondende etichetta\n",
    "def calculate_label(m):\n",
    "    if m <= 0.80:\n",
    "        return 0 # low-spending\n",
    "    if 0.80 < m <= 4.29:\n",
    "        return 1 # medium-spending\n",
    "    if m > 4.29:\n",
    "        return 2 # high-spending\n",
    "    \n",
    "labels = clienti['SpendingPerDay'].apply(calculate_label)"
   ]
  },
  {
   "cell_type": "code",
   "execution_count": 8,
   "metadata": {},
   "outputs": [
    {
     "data": {
      "text/plain": [
       "1    2167\n",
       "2    1082\n",
       "0    1075\n",
       "Name: SpendingPerDay, dtype: int64"
      ]
     },
     "execution_count": 8,
     "metadata": {},
     "output_type": "execute_result"
    }
   ],
   "source": [
    "labels.value_counts()"
   ]
  },
  {
   "cell_type": "code",
   "execution_count": 9,
   "metadata": {},
   "outputs": [],
   "source": [
    "# Eliminiamo la colonna SpendingPerDay, in quanto utilizzata per fare binning \n",
    "clienti.drop(columns=['SpendingPerDay'], inplace=True)"
   ]
  },
  {
   "cell_type": "code",
   "execution_count": 10,
   "metadata": {},
   "outputs": [
    {
     "data": {
      "text/html": [
       "<div>\n",
       "<style scoped>\n",
       "    .dataframe tbody tr th:only-of-type {\n",
       "        vertical-align: middle;\n",
       "    }\n",
       "\n",
       "    .dataframe tbody tr th {\n",
       "        vertical-align: top;\n",
       "    }\n",
       "\n",
       "    .dataframe thead th {\n",
       "        text-align: right;\n",
       "    }\n",
       "</style>\n",
       "<table border=\"1\" class=\"dataframe\">\n",
       "  <thead>\n",
       "    <tr style=\"text-align: right;\">\n",
       "      <th></th>\n",
       "      <th>Imax</th>\n",
       "      <th>Recency</th>\n",
       "      <th>EntropyProducts</th>\n",
       "      <th>BasketPerDay</th>\n",
       "    </tr>\n",
       "    <tr>\n",
       "      <th>CustomerID</th>\n",
       "      <th></th>\n",
       "      <th></th>\n",
       "      <th></th>\n",
       "      <th></th>\n",
       "    </tr>\n",
       "  </thead>\n",
       "  <tbody>\n",
       "    <tr>\n",
       "      <th>12347</th>\n",
       "      <td>676</td>\n",
       "      <td>1</td>\n",
       "      <td>4.464578</td>\n",
       "      <td>0.487936</td>\n",
       "    </tr>\n",
       "    <tr>\n",
       "      <th>12348</th>\n",
       "      <td>1248</td>\n",
       "      <td>74</td>\n",
       "      <td>2.987771</td>\n",
       "      <td>0.072386</td>\n",
       "    </tr>\n",
       "    <tr>\n",
       "      <th>12349</th>\n",
       "      <td>630</td>\n",
       "      <td>18</td>\n",
       "      <td>4.276666</td>\n",
       "      <td>0.193029</td>\n",
       "    </tr>\n",
       "  </tbody>\n",
       "</table>\n",
       "</div>"
      ],
      "text/plain": [
       "            Imax  Recency  EntropyProducts  BasketPerDay\n",
       "CustomerID                                              \n",
       "12347        676        1         4.464578      0.487936\n",
       "12348       1248       74         2.987771      0.072386\n",
       "12349        630       18         4.276666      0.193029"
      ]
     },
     "execution_count": 10,
     "metadata": {},
     "output_type": "execute_result"
    }
   ],
   "source": [
    "clienti.head(3)"
   ]
  },
  {
   "cell_type": "markdown",
   "metadata": {},
   "source": [
    "## Creazione del Training Set e Test Set"
   ]
  },
  {
   "cell_type": "markdown",
   "metadata": {},
   "source": [
    "Creiamo quattro dataframe che rappresentano il training set, il test set e i rispettivi labels."
   ]
  },
  {
   "cell_type": "code",
   "execution_count": 11,
   "metadata": {},
   "outputs": [],
   "source": [
    "train_set, test_set, train_label, test_label = train_test_split(clienti, labels, stratify=labels, test_size=0.30)"
   ]
  },
  {
   "cell_type": "markdown",
   "metadata": {},
   "source": [
    "Inoltre definiamo due funzioni che ci serviranno per stampare i risultati ottenuti dalla classificazione."
   ]
  },
  {
   "cell_type": "markdown",
   "metadata": {},
   "source": [
    "## Definizione di funzioni utilità"
   ]
  },
  {
   "cell_type": "code",
   "execution_count": 12,
   "metadata": {},
   "outputs": [],
   "source": [
    "# Funzioni che useremo per stampare i risultati della classificazione\n",
    "def report_scores(test_label, test_pred):\n",
    "    print(classification_report(test_label, \n",
    "                            test_pred, \n",
    "                            target_names=['low-spending', 'medium-spending', 'high-spending']))\n",
    "    \n",
    "\n",
    "def print_metrics(train_label, train_pred_dt, test_label, test_pred_dt):\n",
    "    print('Accuracy train set ', metrics.accuracy_score(train_label, train_pred_dt))\n",
    "    print('Accuracy test set ', metrics.accuracy_score(test_label, test_pred_dt))\n",
    "    print('Precision train set ', metrics.precision_score(train_label, train_pred_dt, average='weighted'))\n",
    "    print('Recall train set ', metrics.recall_score(train_label, train_pred_dt, average='weighted'))\n",
    "    print('F1 score train set ', metrics.f1_score(train_label, train_pred_dt, average='weighted'))\n",
    "    print('Support train set ', metrics.precision_recall_fscore_support(train_label, train_pred_dt))"
   ]
  },
  {
   "cell_type": "markdown",
   "metadata": {},
   "source": [
    "# Standardizzazione del dataset"
   ]
  },
  {
   "cell_type": "markdown",
   "metadata": {},
   "source": [
    "In seguito standardizziamo il dataset, che utilizzeremo se l'algoritmo di classificazione necessita di un dataset standardizzato."
   ]
  },
  {
   "cell_type": "code",
   "execution_count": 13,
   "metadata": {},
   "outputs": [],
   "source": [
    "from sklearn.preprocessing import StandardScaler\n",
    "scaler = StandardScaler()\n",
    "clienti_normalized = scaler.fit_transform(clienti.values)\n",
    "train_set_normalized, test_set_normalized, train_label_normalized , test_label_normalized = train_test_split(clienti_normalized, labels, stratify=labels, test_size=0.30)"
   ]
  },
  {
   "cell_type": "markdown",
   "metadata": {},
   "source": [
    "# Decision Tree"
   ]
  },
  {
   "cell_type": "code",
   "execution_count": 14,
   "metadata": {},
   "outputs": [],
   "source": [
    "from sklearn import tree"
   ]
  },
  {
   "cell_type": "markdown",
   "metadata": {},
   "source": [
    "## Grid Search per la scelta dei parametri del Decision Tree"
   ]
  },
  {
   "cell_type": "markdown",
   "metadata": {},
   "source": [
    "Applichiamo la Grid Search per la scelta dei migliori parametri per il Decision Tree."
   ]
  },
  {
   "cell_type": "code",
   "execution_count": 15,
   "metadata": {},
   "outputs": [
    {
     "name": "stdout",
     "output_type": "stream",
     "text": [
      "Migliori parametri:\n",
      "   * criterion = entropy\n",
      "   * max_depth = 6\n",
      "   * min_samples_leaf = 4\n",
      "   * min_samples_split = 2\n",
      "   * splitter = best\n"
     ]
    }
   ],
   "source": [
    "# Dizionario che contiene il valore i parametri da testare e i rispettivi valori\n",
    "dict_parametri = {\n",
    "    \"criterion\": ['gini', 'entropy'],\n",
    "    \"splitter\" : ['best'],\n",
    "    \"max_depth\": [2, 4, 6, 8, 10, 12, None],\n",
    "    \"min_samples_split\": [1, 2, 4, 6], # Non funziona se faccio come la prof, ma questi sono valori a caso\n",
    "    \"min_samples_leaf\": [1, 2, 4, 6] # Non funziona se faccio come la prof, ma questi sono valori a caso\n",
    "}\n",
    "# Massimo grado di parallelismo (così usa tutti i processori)\n",
    "n_jobs= -1\n",
    "# Creiamo il modello\n",
    "classifier = tree.DecisionTreeClassifier()\n",
    "# Indica il numero di folds da fare per la cross-validation\n",
    "cv = 5\n",
    "# Creiamo la grid search\n",
    "grid_search = GridSearchCV(estimator=classifier,\n",
    "                           param_grid=dict_parametri,\n",
    "                           scoring=make_scorer(accuracy_score),\n",
    "                           n_jobs=n_jobs,\n",
    "                           cv=cv)\n",
    "# Facciamo la grid search sul train_set\n",
    "grid_search.fit(train_set, train_label)\n",
    "# La variabile best_params contiene i miglior parametri trovati usando la grid seatch\n",
    "best_params = grid_search.best_params_\n",
    "\n",
    "print(\"Migliori parametri:\")\n",
    "for param in best_params:\n",
    "    print(\"   *\", param, \"=\", best_params[param])"
   ]
  },
  {
   "cell_type": "markdown",
   "metadata": {},
   "source": [
    "Applichiamo il Decision Tree usando i parametri trovati e lo alleniamo sul training set."
   ]
  },
  {
   "cell_type": "code",
   "execution_count": 16,
   "metadata": {},
   "outputs": [],
   "source": [
    "decision_tree = tree.DecisionTreeClassifier()\n",
    "# Usiamo i parametri trovati con la grid seatch\n",
    "decision_tree.set_params(**best_params)\n",
    "\n",
    "# Alleniamo il modello sul training set\n",
    "decision_tree = decision_tree.fit(train_set, train_label)"
   ]
  },
  {
   "cell_type": "markdown",
   "metadata": {},
   "source": [
    "Applichiamo il Decision Tree al training set e al test set."
   ]
  },
  {
   "cell_type": "code",
   "execution_count": 17,
   "metadata": {},
   "outputs": [],
   "source": [
    "# Labels ottenuti facendo predizione sul training set\n",
    "train_prediction_decision_tree = decision_tree.predict(train_set)\n",
    "# Labels ottenuti facendo predizione sul test set\n",
    "test_prediction_decision_tree = decision_tree.predict(test_set)"
   ]
  },
  {
   "cell_type": "markdown",
   "metadata": {},
   "source": [
    "## Evaluation: metriche e confusion matrix"
   ]
  },
  {
   "cell_type": "code",
   "execution_count": 18,
   "metadata": {},
   "outputs": [
    {
     "name": "stdout",
     "output_type": "stream",
     "text": [
      "Accuracy train set  0.8122934567085262\n",
      "Accuracy test set  0.773497688751926\n",
      "Precision train set  0.8207411189285003\n",
      "Recall train set  0.8122934567085262\n",
      "F1 score train set  0.8102902970971992\n",
      "Support train set  (array([0.86254296, 0.76823064, 0.88444444]), array([0.66755319, 0.89584707, 0.78863937]), array([0.75262369, 0.82714547, 0.83379888]), array([ 752, 1517,  757], dtype=int64))\n"
     ]
    }
   ],
   "source": [
    "print_metrics(train_label, train_prediction_decision_tree, test_label, test_prediction_decision_tree)"
   ]
  },
  {
   "cell_type": "code",
   "execution_count": 19,
   "metadata": {},
   "outputs": [
    {
     "name": "stdout",
     "output_type": "stream",
     "text": [
      "                 precision    recall  f1-score   support\n",
      "\n",
      "   low-spending       0.81      0.60      0.69       323\n",
      "medium-spending       0.74      0.86      0.79       650\n",
      "  high-spending       0.83      0.78      0.80       325\n",
      "\n",
      "       accuracy                           0.77      1298\n",
      "      macro avg       0.79      0.75      0.76      1298\n",
      "   weighted avg       0.78      0.77      0.77      1298\n",
      "\n"
     ]
    }
   ],
   "source": [
    "report_scores(test_label, test_prediction_decision_tree)"
   ]
  },
  {
   "cell_type": "markdown",
   "metadata": {},
   "source": [
    "Visualizziamo la Confusion Matrix."
   ]
  },
  {
   "cell_type": "code",
   "execution_count": 20,
   "metadata": {},
   "outputs": [
    {
     "data": {
      "image/png": "[encoded data removed]",
      "text/plain": [
       "<Figure size 432x288 with 2 Axes>"
      ]
     },
     "metadata": {},
     "output_type": "display_data"
    }
   ],
   "source": [
    "from sklearn.metrics import confusion_matrix\n",
    "from sklearn.metrics import plot_confusion_matrix\n",
    "\n",
    "plot_confusion_matrix(decision_tree, test_set, test_label)\n",
    "plt.show() "
   ]
  },
  {
   "cell_type": "markdown",
   "metadata": {},
   "source": [
    "# KNN"
   ]
  },
  {
   "cell_type": "code",
   "execution_count": 21,
   "metadata": {},
   "outputs": [],
   "source": [
    "from sklearn.neighbors import KNeighborsClassifier"
   ]
  },
  {
   "cell_type": "markdown",
   "metadata": {},
   "source": [
    "## Grid Search per la scelta dei parametri di KNN"
   ]
  },
  {
   "cell_type": "code",
   "execution_count": 22,
   "metadata": {},
   "outputs": [
    {
     "name": "stdout",
     "output_type": "stream",
     "text": [
      "Migliori parametri:\n",
      "   * algorithm = ball_tree\n",
      "   * metric = minkowski\n",
      "   * n_jobs = -1\n",
      "   * n_neighbors = 10\n",
      "   * p = 1\n",
      "   * weights = uniform\n"
     ]
    }
   ],
   "source": [
    "# Dizionario che contiene il valore i parametri da testare e i rispettivi valori\n",
    "# Ha senso scegliere weights, p e algorithm diversi?\n",
    "\n",
    "dict_parametri = {\n",
    "    \"n_neighbors\" : [2, 4, 6, 8, 10],\n",
    "    \"weights\" : ['uniform', 'distance'], # vedi documentazione\n",
    "    \"algorithm\" : ['ball_tree', 'kd_tree'], # Alternative: auto (sceglie lui il migliore), brute -> fa brute-force search\n",
    "    \"metric\" : ['minkowski'], # è usata di default, lo metto per chiarezza. il tipo di distanza cambia in base al valore di p\n",
    "    \"p\" : [1, 2], # 1 -> manhattan distance, 2 -> eclidean distance, \n",
    "    \"n_jobs\" : [-1] # Così usa il massimo grado di parallelismo possibile per fare KNN\n",
    "}\n",
    "# Massimo grado di parallelismo (così usa tutti i processori)\n",
    "n_jobs= -1\n",
    "# Creiamo il modello\n",
    "classifier = KNeighborsClassifier()\n",
    "# Indica il numero di folds da fare per la cross-validation\n",
    "cv = 5\n",
    "# Creiamo la grid search\n",
    "grid_search = GridSearchCV(estimator=classifier,\n",
    "                           param_grid=dict_parametri,\n",
    "                           scoring=make_scorer(accuracy_score),\n",
    "                           n_jobs=n_jobs,\n",
    "                           cv=cv)\n",
    "# Facciamo la grid search sul train_set\n",
    "grid_search.fit(train_set, train_label)\n",
    "# La variabile best_params contiene i miglior parametri trovati usando la grid seatch\n",
    "best_params = grid_search.best_params_\n",
    "\n",
    "print(\"Migliori parametri:\")\n",
    "for param in best_params:\n",
    "    print(\"   *\", param, \"=\", best_params[param])"
   ]
  },
  {
   "cell_type": "markdown",
   "metadata": {},
   "source": [
    "Applichiamo KNN usando i parametri trovati e lo alleniamo sul training set."
   ]
  },
  {
   "cell_type": "code",
   "execution_count": 23,
   "metadata": {},
   "outputs": [
    {
     "data": {
      "text/plain": [
       "KNeighborsClassifier(algorithm='ball_tree', n_jobs=-1, n_neighbors=10, p=1)"
      ]
     },
     "execution_count": 23,
     "metadata": {},
     "output_type": "execute_result"
    }
   ],
   "source": [
    "knn = KNeighborsClassifier()\n",
    "# Usiamo i parametri trovati con la grid seatch\n",
    "knn.set_params(**best_params)\n",
    "knn.fit(train_set, train_label)"
   ]
  },
  {
   "cell_type": "markdown",
   "metadata": {},
   "source": [
    "Applichiamo il KNN al training set e al test set."
   ]
  },
  {
   "cell_type": "code",
   "execution_count": 24,
   "metadata": {},
   "outputs": [],
   "source": [
    "# Labels ottenuti facendo predizione sul test set\n",
    "test_prediction_knn = knn.predict(test_set)"
   ]
  },
  {
   "cell_type": "markdown",
   "metadata": {},
   "source": [
    "## Evaluation: metriche e confusion matrix"
   ]
  },
  {
   "cell_type": "code",
   "execution_count": 25,
   "metadata": {},
   "outputs": [
    {
     "name": "stdout",
     "output_type": "stream",
     "text": [
      "                 precision    recall  f1-score   support\n",
      "\n",
      "   low-spending       0.69      0.67      0.68       323\n",
      "medium-spending       0.68      0.74      0.71       650\n",
      "  high-spending       0.71      0.62      0.66       325\n",
      "\n",
      "       accuracy                           0.69      1298\n",
      "      macro avg       0.70      0.68      0.68      1298\n",
      "   weighted avg       0.69      0.69      0.69      1298\n",
      "\n"
     ]
    }
   ],
   "source": [
    "report_scores(test_label, test_prediction_knn)"
   ]
  },
  {
   "cell_type": "markdown",
   "metadata": {},
   "source": [
    "Visualizziamo la Confusion Matrix."
   ]
  },
  {
   "cell_type": "code",
   "execution_count": 26,
   "metadata": {},
   "outputs": [
    {
     "data": {
      "image/png": "[encoded data removed]",
      "text/plain": [
       "<Figure size 432x288 with 2 Axes>"
      ]
     },
     "metadata": {},
     "output_type": "display_data"
    }
   ],
   "source": [
    "from sklearn.metrics import confusion_matrix\n",
    "from sklearn.metrics import plot_confusion_matrix\n",
    "\n",
    "plot_confusion_matrix(knn, test_set, test_label)\n",
    "plt.show() "
   ]
  },
  {
   "cell_type": "markdown",
   "metadata": {},
   "source": [
    "# KNN con dataset standardizzato"
   ]
  },
  {
   "cell_type": "code",
   "execution_count": 27,
   "metadata": {},
   "outputs": [
    {
     "name": "stdout",
     "output_type": "stream",
     "text": [
      "Migliori parametri:\n",
      "   * algorithm = ball_tree\n",
      "   * metric = minkowski\n",
      "   * n_jobs = -1\n",
      "   * n_neighbors = 10\n",
      "   * p = 1\n",
      "   * weights = distance\n"
     ]
    }
   ],
   "source": [
    "# Dizionario che contiene il valore i parametri da testare e i rispettivi valori\n",
    "# Ha senso scegliere weights, p e algorithm diversi?\n",
    "\n",
    "dict_parametri = {\n",
    "    \"n_neighbors\" : [2, 4, 6, 8, 10],\n",
    "    \"weights\" : ['uniform', 'distance'], # vedi documentazione\n",
    "    \"algorithm\" : ['ball_tree', 'kd_tree'], # Alternative: auto (sceglie lui il migliore), brute -> fa brute-force search\n",
    "    \"metric\" : ['minkowski'], # è usata di default, lo metto per chiarezza. il tipo di distanza cambia in base al valore di p\n",
    "    \"p\" : [1, 2], # 1 -> manhattan distance, 2 -> eclidean distance, \n",
    "    \"n_jobs\" : [-1] # Così usa il massimo grado di parallelismo possibile per fare KNN\n",
    "}\n",
    "# Massimo grado di parallelismo (così usa tutti i processori)\n",
    "n_jobs= -1\n",
    "# Creiamo il modello\n",
    "classifier = KNeighborsClassifier()\n",
    "# Indica il numero di folds da fare per la cross-validation\n",
    "cv = 5\n",
    "# Creiamo la grid search\n",
    "grid_search = GridSearchCV(estimator=classifier,\n",
    "                           param_grid=dict_parametri,\n",
    "                           scoring=make_scorer(accuracy_score),\n",
    "                           n_jobs=n_jobs,\n",
    "                           cv=cv)\n",
    "# Facciamo la grid search sul train_set\n",
    "grid_search.fit(train_set_normalized, train_label_normalized)\n",
    "# La variabile best_params contiene i miglior parametri trovati usando la grid seatch\n",
    "best_params = grid_search.best_params_\n",
    "\n",
    "print(\"Migliori parametri:\")\n",
    "for param in best_params:\n",
    "    print(\"   *\", param, \"=\", best_params[param])"
   ]
  },
  {
   "cell_type": "code",
   "execution_count": 28,
   "metadata": {},
   "outputs": [
    {
     "data": {
      "text/plain": [
       "KNeighborsClassifier(algorithm='ball_tree', n_jobs=-1, n_neighbors=10, p=1,\n",
       "                     weights='distance')"
      ]
     },
     "execution_count": 28,
     "metadata": {},
     "output_type": "execute_result"
    }
   ],
   "source": [
    "knn = KNeighborsClassifier()\n",
    "# Usiamo i parametri trovati con la grid seatch\n",
    "knn.set_params(**best_params)\n",
    "knn.fit(train_set_normalized, train_label_normalized)"
   ]
  },
  {
   "cell_type": "code",
   "execution_count": 29,
   "metadata": {},
   "outputs": [],
   "source": [
    "# Labels ottenuti facendo predizione sul test set\n",
    "test_prediction_knn = knn.predict(test_set_normalized)"
   ]
  },
  {
   "cell_type": "code",
   "execution_count": 30,
   "metadata": {},
   "outputs": [
    {
     "name": "stdout",
     "output_type": "stream",
     "text": [
      "                 precision    recall  f1-score   support\n",
      "\n",
      "   low-spending       0.70      0.72      0.71       323\n",
      "medium-spending       0.74      0.79      0.77       650\n",
      "  high-spending       0.84      0.71      0.77       325\n",
      "\n",
      "       accuracy                           0.75      1298\n",
      "      macro avg       0.76      0.74      0.75      1298\n",
      "   weighted avg       0.76      0.75      0.75      1298\n",
      "\n"
     ]
    }
   ],
   "source": [
    "report_scores(test_label_normalized, test_prediction_knn)"
   ]
  },
  {
   "cell_type": "code",
   "execution_count": 31,
   "metadata": {},
   "outputs": [
    {
     "data": {
      "image/png": "[encoded data removed]",
      "text/plain": [
       "<Figure size 432x288 with 2 Axes>"
      ]
     },
     "metadata": {},
     "output_type": "display_data"
    }
   ],
   "source": [
    "from sklearn.metrics import confusion_matrix\n",
    "from sklearn.metrics import plot_confusion_matrix\n",
    "\n",
    "plot_confusion_matrix(knn, test_set_normalized, test_label_normalized)\n",
    "plt.show() "
   ]
  },
  {
   "cell_type": "markdown",
   "metadata": {},
   "source": [
    "# Naive Bayesian Classifier"
   ]
  },
  {
   "cell_type": "markdown",
   "metadata": {},
   "source": [
    "Dato che il Naive Bayesian Classifier non necessita di particolari parametri, non occorre effettuale la grid search."
   ]
  },
  {
   "cell_type": "code",
   "execution_count": 32,
   "metadata": {},
   "outputs": [],
   "source": [
    "from sklearn.naive_bayes import GaussianNB\n",
    "gnb = GaussianNB()\n",
    "# Alleniamo il modello sul training set\n",
    "gnb.fit(train_set, train_label)\n",
    "# Perché qui la prof non prova a fare predizione sul training set?\n",
    "# Labels ottenuti facendo predizione sul test set\n",
    "test_prediction_gnb = gnb.predict(test_set)"
   ]
  },
  {
   "cell_type": "markdown",
   "metadata": {},
   "source": [
    "## Evaluation: metriche e confusion matrix"
   ]
  },
  {
   "cell_type": "code",
   "execution_count": 33,
   "metadata": {},
   "outputs": [
    {
     "name": "stdout",
     "output_type": "stream",
     "text": [
      "                 precision    recall  f1-score   support\n",
      "\n",
      "   low-spending       0.62      0.88      0.73       323\n",
      "medium-spending       0.74      0.67      0.70       650\n",
      "  high-spending       0.83      0.64      0.72       325\n",
      "\n",
      "       accuracy                           0.71      1298\n",
      "      macro avg       0.73      0.73      0.72      1298\n",
      "   weighted avg       0.73      0.71      0.71      1298\n",
      "\n"
     ]
    }
   ],
   "source": [
    "report_scores(test_label, test_prediction_gnb)"
   ]
  },
  {
   "cell_type": "markdown",
   "metadata": {},
   "source": [
    "Visualizziamo la Confusion Matrix."
   ]
  },
  {
   "cell_type": "code",
   "execution_count": 34,
   "metadata": {},
   "outputs": [
    {
     "data": {
      "image/png": "[encoded data removed]",
      "text/plain": [
       "<Figure size 432x288 with 2 Axes>"
      ]
     },
     "metadata": {},
     "output_type": "display_data"
    }
   ],
   "source": [
    "from sklearn.metrics import confusion_matrix\n",
    "from sklearn.metrics import plot_confusion_matrix\n",
    "# Perché la prof la calcola se poi non la usa?\n",
    "confusion_matrix = confusion_matrix(test_label, test_prediction_knn)\n",
    "\n",
    "plot_confusion_matrix(gnb, test_set, test_label)\n",
    "plt.show() "
   ]
  },
  {
   "cell_type": "markdown",
   "metadata": {},
   "source": [
    "# Random Forest"
   ]
  },
  {
   "cell_type": "code",
   "execution_count": 35,
   "metadata": {},
   "outputs": [],
   "source": [
    "from sklearn.ensemble import RandomForestClassifier"
   ]
  },
  {
   "cell_type": "markdown",
   "metadata": {},
   "source": [
    "## Grid Search per la scelta dei parametri di Random Forest"
   ]
  },
  {
   "cell_type": "code",
   "execution_count": 36,
   "metadata": {},
   "outputs": [
    {
     "name": "stdout",
     "output_type": "stream",
     "text": [
      "Migliori parametri:\n",
      "   * criterion = gini\n",
      "   * max_depth = 16\n",
      "   * min_samples_leaf = 4\n",
      "   * min_samples_split = 6\n",
      "   * n_estimators = 100\n",
      "   * n_jobs = -1\n"
     ]
    }
   ],
   "source": [
    "# Dizionario che contiene il valore i parametri da testare e i rispettivi valori\n",
    "dict_parametri = {\n",
    "    \"n_estimators\" : [100],\n",
    "    \"criterion\" : ['gini', 'entropy'],\n",
    "    \"max_depth\": [8, 16, 32, None],\n",
    "    \"min_samples_split\": [1, 2, 4, 6],\n",
    "    \"min_samples_leaf\": [1, 2, 4, 6],\n",
    "    \"n_jobs\" : [-1]\n",
    "}\n",
    "# Massimo grado di parallelismo (così usa tutti i processori)\n",
    "n_jobs= -1\n",
    "# Creiamo il modello\n",
    "classifier = RandomForestClassifier()\n",
    "# Indica il numero di folds da fare per la cross-validation\n",
    "cv = 5\n",
    "# Creiamo la grid search\n",
    "grid_search = GridSearchCV(estimator=classifier,\n",
    "                           param_grid=dict_parametri,\n",
    "                           scoring=make_scorer(accuracy_score),\n",
    "                           n_jobs=n_jobs,\n",
    "                           cv=cv)\n",
    "# Facciamo la grid search sul train_set\n",
    "grid_search.fit(train_set, train_label)\n",
    "# La variabile best_params contiene i miglior parametri trovati usando la grid seatch\n",
    "best_params = grid_search.best_params_\n",
    "\n",
    "print(\"Migliori parametri:\")\n",
    "for param in best_params:\n",
    "    print(\"   *\", param, \"=\", best_params[param])"
   ]
  },
  {
   "cell_type": "markdown",
   "metadata": {},
   "source": [
    "Applichiamo la Random Forest usando i parametri trovati e lo alleniamo sul training set."
   ]
  },
  {
   "cell_type": "code",
   "execution_count": 37,
   "metadata": {},
   "outputs": [],
   "source": [
    "random_forest = RandomForestClassifier()\n",
    "# Usiamo i parametri trovati con la grid seatch\n",
    "random_forest.set_params(**best_params)\n",
    "\n",
    "# Alleniamo il modello sul training set\n",
    "random_forest = random_forest.fit(train_set, train_label)"
   ]
  },
  {
   "cell_type": "code",
   "execution_count": 38,
   "metadata": {},
   "outputs": [],
   "source": [
    "# Labels ottenuti facendo predizione sul training set\n",
    "train_prediction_random_forest = random_forest.predict(train_set)\n",
    "# Labels ottenuti facendo predizione sul test set\n",
    "test_prediction_random_forest = random_forest.predict(test_set)"
   ]
  },
  {
   "cell_type": "markdown",
   "metadata": {},
   "source": [
    "## Evaluation: metriche e confusion matrix"
   ]
  },
  {
   "cell_type": "code",
   "execution_count": 39,
   "metadata": {},
   "outputs": [
    {
     "name": "stdout",
     "output_type": "stream",
     "text": [
      "Accuracy train set  0.8949107732980833\n",
      "Accuracy test set  0.8073959938366718\n",
      "Precision train set  0.8956578590099167\n",
      "Recall train set  0.8949107732980833\n",
      "F1 score train set  0.8947636556182516\n",
      "Support train set  (array([0.90469417, 0.87775677, 0.92255435]), array([0.84574468, 0.91825972, 0.89696169]), array([0.8742268 , 0.89755155, 0.90957803]), array([ 752, 1517,  757], dtype=int64))\n"
     ]
    }
   ],
   "source": [
    "print_metrics(train_label, train_prediction_random_forest, test_label, test_prediction_random_forest)"
   ]
  },
  {
   "cell_type": "code",
   "execution_count": 40,
   "metadata": {},
   "outputs": [
    {
     "name": "stdout",
     "output_type": "stream",
     "text": [
      "                 precision    recall  f1-score   support\n",
      "\n",
      "   low-spending       0.76      0.72      0.74       323\n",
      "medium-spending       0.81      0.82      0.81       650\n",
      "  high-spending       0.86      0.88      0.87       325\n",
      "\n",
      "       accuracy                           0.81      1298\n",
      "      macro avg       0.81      0.80      0.81      1298\n",
      "   weighted avg       0.81      0.81      0.81      1298\n",
      "\n"
     ]
    }
   ],
   "source": [
    "report_scores(test_label, test_prediction_random_forest)"
   ]
  },
  {
   "cell_type": "markdown",
   "metadata": {},
   "source": [
    "Visualizziamo la Confusion Matrix."
   ]
  },
  {
   "cell_type": "code",
   "execution_count": 41,
   "metadata": {},
   "outputs": [
    {
     "data": {
      "image/png": "[encoded data removed]",
      "text/plain": [
       "<Figure size 432x288 with 2 Axes>"
      ]
     },
     "metadata": {},
     "output_type": "display_data"
    }
   ],
   "source": [
    "from sklearn.metrics import confusion_matrix\n",
    "from sklearn.metrics import plot_confusion_matrix\n",
    "# Perché la prof la calcola se poi non la usa?\n",
    "confusion_matrix = confusion_matrix(test_label, test_prediction_random_forest)\n",
    "\n",
    "plot_confusion_matrix(random_forest, test_set, test_label)\n",
    "plt.show() "
   ]
  },
  {
   "cell_type": "markdown",
   "metadata": {},
   "source": [
    "# SVM"
   ]
  },
  {
   "cell_type": "code",
   "execution_count": 42,
   "metadata": {},
   "outputs": [],
   "source": [
    "from sklearn.svm import SVC"
   ]
  },
  {
   "cell_type": "markdown",
   "metadata": {},
   "source": [
    "## Grid Search per la scelta dei parametri di SVM"
   ]
  },
  {
   "cell_type": "code",
   "execution_count": 43,
   "metadata": {},
   "outputs": [
    {
     "name": "stdout",
     "output_type": "stream",
     "text": [
      "Migliori parametri:\n",
      "   * C = 100\n",
      "   * gamma = scale\n",
      "   * kernel = rbf\n"
     ]
    }
   ],
   "source": [
    "# Dizionario che contiene il valore i parametri da testare e i rispettivi valori\n",
    "dict_parametri = {\n",
    "    \"C\" : [1, 10, 100],\n",
    "    \"kernel\" : ['rbf', 'sigmoid'],\n",
    "    \"gamma\" : ['scale', 'auto']\n",
    "}\n",
    "\n",
    "# Massimo grado di parallelismo (così usa tutti i processori)\n",
    "n_jobs= -1\n",
    "# Creiamo il modello\n",
    "classifier = SVC()\n",
    "# Indica il numero di folds da fare per la cross-validation\n",
    "cv = 5\n",
    "# Creiamo la grid search\n",
    "grid_search = GridSearchCV(estimator=classifier,\n",
    "                           param_grid=dict_parametri,\n",
    "                           scoring=make_scorer(accuracy_score),\n",
    "                           n_jobs=n_jobs,\n",
    "                           cv=cv)\n",
    "# Facciamo la grid search sul train_set\n",
    "grid_search.fit(train_set, train_label)\n",
    "# La variabile best_params contiene i miglior parametri trovati usando la grid seatch\n",
    "best_params = grid_search.best_params_\n",
    "\n",
    "print(\"Migliori parametri:\")\n",
    "for param in best_params:\n",
    "    print(\"   *\", param, \"=\", best_params[param])"
   ]
  },
  {
   "cell_type": "markdown",
   "metadata": {},
   "source": [
    "Applichiamo l'SVM usando i parametri trovati e lo alleniamo sul training set."
   ]
  },
  {
   "cell_type": "code",
   "execution_count": 44,
   "metadata": {},
   "outputs": [],
   "source": [
    "svm = SVC()\n",
    "# Usiamo i parametri trovati con la grid seatch\n",
    "svm.set_params(**best_params)\n",
    "\n",
    "# Alleniamo il modello sul training set\n",
    "svm = svm.fit(train_set, train_label)"
   ]
  },
  {
   "cell_type": "code",
   "execution_count": 45,
   "metadata": {},
   "outputs": [],
   "source": [
    "# Labels ottenuti facendo predizione sul training set\n",
    "train_prediction_svm = svm.predict(train_set)\n",
    "# Labels ottenuti facendo predizione sul test set\n",
    "test_prediction_svm = svm.predict(test_set)"
   ]
  },
  {
   "cell_type": "markdown",
   "metadata": {},
   "source": [
    "## Evaluation: metriche e confusion matrix"
   ]
  },
  {
   "cell_type": "code",
   "execution_count": 46,
   "metadata": {},
   "outputs": [
    {
     "name": "stdout",
     "output_type": "stream",
     "text": [
      "Accuracy train set  0.7115003304692663\n",
      "Accuracy test set  0.7033898305084746\n",
      "Precision train set  0.7202810715864868\n",
      "Recall train set  0.7115003304692663\n",
      "F1 score train set  0.7082964389697982\n",
      "Support train set  (array([0.76342282, 0.67726027, 0.76363636]), array([0.60505319, 0.81476599, 0.61030383]), array([0.67507418, 0.73967684, 0.6784141 ]), array([ 752, 1517,  757], dtype=int64))\n"
     ]
    }
   ],
   "source": [
    "print_metrics(train_label, train_prediction_svm, test_label, test_prediction_svm)"
   ]
  },
  {
   "cell_type": "code",
   "execution_count": 47,
   "metadata": {},
   "outputs": [
    {
     "name": "stdout",
     "output_type": "stream",
     "text": [
      "                 precision    recall  f1-score   support\n",
      "\n",
      "   low-spending       0.76      0.61      0.68       323\n",
      "medium-spending       0.67      0.80      0.73       650\n",
      "  high-spending       0.73      0.60      0.66       325\n",
      "\n",
      "       accuracy                           0.70      1298\n",
      "      macro avg       0.72      0.67      0.69      1298\n",
      "   weighted avg       0.71      0.70      0.70      1298\n",
      "\n"
     ]
    }
   ],
   "source": [
    "report_scores(test_label, test_prediction_svm)"
   ]
  },
  {
   "cell_type": "markdown",
   "metadata": {},
   "source": [
    "Notiamo che le classi low-spending e high-spending hanno recall più bassa, quindi proviamo a migliorare la capacità predittiva del modello aggiungendo dei pesi alle classi."
   ]
  },
  {
   "cell_type": "code",
   "execution_count": 48,
   "metadata": {},
   "outputs": [],
   "source": [
    "class_weights = {\n",
    "    0 : 0.375,\n",
    "    1 : 0.25,\n",
    "    2 : 0.375,\n",
    "}\n",
    "svm = SVC()\n",
    "# Usiamo i parametri trovati con la grid seatch\n",
    "svm.set_params(**best_params, class_weight=class_weights)\n",
    "\n",
    "# Alleniamo il modello sul training set\n",
    "svm = svm.fit(train_set, train_label)"
   ]
  },
  {
   "cell_type": "code",
   "execution_count": 49,
   "metadata": {},
   "outputs": [],
   "source": [
    "# Labels ottenuti facendo predizione sul training set\n",
    "train_prediction_svm = svm.predict(train_set)\n",
    "# Labels ottenuti facendo predizione sul test set\n",
    "test_prediction_svm = svm.predict(test_set)"
   ]
  },
  {
   "cell_type": "markdown",
   "metadata": {},
   "source": [
    "## Evaluation SVM (pesi alle classi): metriche e confusion matrix"
   ]
  },
  {
   "cell_type": "code",
   "execution_count": 50,
   "metadata": {},
   "outputs": [
    {
     "name": "stdout",
     "output_type": "stream",
     "text": [
      "Accuracy train set  0.7005948446794448\n",
      "Accuracy test set  0.7010785824345146\n",
      "Precision train set  0.7007109987307916\n",
      "Recall train set  0.7005948446794448\n",
      "F1 score train set  0.7005923206877983\n",
      "Support train set  (array([0.69109948, 0.70718603, 0.69728331]), array([0.70212766, 0.69413316, 0.71202114]), array([0.69656992, 0.7005988 , 0.70457516]), array([ 752, 1517,  757], dtype=int64))\n"
     ]
    }
   ],
   "source": [
    "print_metrics(train_label, train_prediction_svm, test_label, test_prediction_svm)"
   ]
  },
  {
   "cell_type": "code",
   "execution_count": 51,
   "metadata": {},
   "outputs": [
    {
     "name": "stdout",
     "output_type": "stream",
     "text": [
      "                 precision    recall  f1-score   support\n",
      "\n",
      "   low-spending       0.69      0.72      0.71       323\n",
      "medium-spending       0.72      0.68      0.70       650\n",
      "  high-spending       0.69      0.72      0.70       325\n",
      "\n",
      "       accuracy                           0.70      1298\n",
      "      macro avg       0.70      0.71      0.70      1298\n",
      "   weighted avg       0.70      0.70      0.70      1298\n",
      "\n"
     ]
    }
   ],
   "source": [
    "report_scores(test_label, test_prediction_svm)"
   ]
  },
  {
   "cell_type": "markdown",
   "metadata": {},
   "source": [
    "Visualizziamo la Confusion Matrix."
   ]
  },
  {
   "cell_type": "code",
   "execution_count": 52,
   "metadata": {},
   "outputs": [
    {
     "data": {
      "image/png": "[encoded data removed]",
      "text/plain": [
       "<Figure size 432x288 with 2 Axes>"
      ]
     },
     "metadata": {},
     "output_type": "display_data"
    }
   ],
   "source": [
    "from sklearn.metrics import confusion_matrix\n",
    "from sklearn.metrics import plot_confusion_matrix\n",
    "\n",
    "plot_confusion_matrix(svm, test_set, test_label)\n",
    "plt.show() "
   ]
  },
  {
   "cell_type": "markdown",
   "metadata": {},
   "source": [
    "# SVM con dataset standardizzato"
   ]
  },
  {
   "cell_type": "markdown",
   "metadata": {},
   "source": [
    "## Grid Search per la scelta dei parametri di SVM"
   ]
  },
  {
   "cell_type": "code",
   "execution_count": 53,
   "metadata": {},
   "outputs": [
    {
     "name": "stdout",
     "output_type": "stream",
     "text": [
      "Migliori parametri:\n",
      "   * C = 100\n",
      "   * gamma = auto\n",
      "   * kernel = rbf\n"
     ]
    }
   ],
   "source": [
    "# Dizionario che contiene il valore i parametri da testare e i rispettivi valori\n",
    "dict_parametri = {\n",
    "    \"C\" : [1, 10, 100],\n",
    "    \"kernel\" : ['rbf', 'sigmoid'],\n",
    "    \"gamma\" : ['scale', 'auto']\n",
    "}\n",
    "\n",
    "# Massimo grado di parallelismo (così usa tutti i processori)\n",
    "n_jobs= -1\n",
    "# Creiamo il modello\n",
    "classifier = SVC()\n",
    "# Indica il numero di folds da fare per la cross-validation\n",
    "cv = 5\n",
    "# Creiamo la grid search\n",
    "grid_search = GridSearchCV(estimator=classifier,\n",
    "                           param_grid=dict_parametri,\n",
    "                           scoring=make_scorer(accuracy_score),\n",
    "                           n_jobs=n_jobs,\n",
    "                           cv=cv)\n",
    "# Facciamo la grid search sul train_set\n",
    "grid_search.fit(train_set_normalized, train_label_normalized)\n",
    "# La variabile best_params contiene i miglior parametri trovati usando la grid seatch\n",
    "best_params_svm_1 = grid_search.best_params_\n",
    "\n",
    "print(\"Migliori parametri:\")\n",
    "for param in best_params_svm_1:\n",
    "    print(\"   *\", param, \"=\", best_params_svm_1[param])"
   ]
  },
  {
   "cell_type": "markdown",
   "metadata": {},
   "source": [
    "Applichiamo l'SVM usando i parametri trovati e lo alleniamo sul training set."
   ]
  },
  {
   "cell_type": "code",
   "execution_count": 54,
   "metadata": {},
   "outputs": [],
   "source": [
    "svm = SVC()\n",
    "# Usiamo i parametri trovati con la grid seatch\n",
    "svm.set_params(**best_params_svm_1)\n",
    "\n",
    "# Alleniamo il modello sul training set\n",
    "svm = svm.fit(train_set_normalized, train_label_normalized)"
   ]
  },
  {
   "cell_type": "code",
   "execution_count": 55,
   "metadata": {},
   "outputs": [],
   "source": [
    "# Labels ottenuti facendo predizione sul training set\n",
    "train_prediction_svm = svm.predict(train_set_normalized)\n",
    "# Labels ottenuti facendo predizione sul test set\n",
    "test_prediction_svm = svm.predict(test_set_normalized)"
   ]
  },
  {
   "cell_type": "code",
   "execution_count": 56,
   "metadata": {},
   "outputs": [
    {
     "name": "stdout",
     "output_type": "stream",
     "text": [
      "Accuracy train set  0.8132848645076008\n",
      "Accuracy test set  0.8066255778120185\n",
      "Precision train set  0.8146010681941279\n",
      "Recall train set  0.8132848645076008\n",
      "F1 score train set  0.8129978653889518\n",
      "Support train set  (array([0.79340029, 0.79382716, 0.87729196]), array([0.73537234, 0.84772577, 0.82166446]), array([0.76328502, 0.81989162, 0.84856753]), array([ 752, 1517,  757], dtype=int64))\n"
     ]
    }
   ],
   "source": [
    "print_metrics(train_label_normalized, train_prediction_svm, test_label_normalized, test_prediction_svm)"
   ]
  },
  {
   "cell_type": "code",
   "execution_count": 57,
   "metadata": {},
   "outputs": [
    {
     "name": "stdout",
     "output_type": "stream",
     "text": [
      "                 precision    recall  f1-score   support\n",
      "\n",
      "   low-spending       0.79      0.74      0.76       323\n",
      "medium-spending       0.79      0.84      0.81       650\n",
      "  high-spending       0.87      0.80      0.83       325\n",
      "\n",
      "       accuracy                           0.81      1298\n",
      "      macro avg       0.82      0.79      0.80      1298\n",
      "   weighted avg       0.81      0.81      0.81      1298\n",
      "\n"
     ]
    }
   ],
   "source": [
    "report_scores(test_label_normalized, test_prediction_svm)"
   ]
  },
  {
   "cell_type": "markdown",
   "metadata": {},
   "source": [
    "Visualizziamo la Confusion Matrix."
   ]
  },
  {
   "cell_type": "code",
   "execution_count": 58,
   "metadata": {},
   "outputs": [
    {
     "data": {
      "image/png": "[encoded data removed]",
      "text/plain": [
       "<Figure size 432x288 with 2 Axes>"
      ]
     },
     "metadata": {},
     "output_type": "display_data"
    }
   ],
   "source": [
    "from sklearn.metrics import confusion_matrix\n",
    "from sklearn.metrics import plot_confusion_matrix\n",
    "\n",
    "plot_confusion_matrix(svm, test_set_normalized, test_label_normalized)\n",
    "plt.show() "
   ]
  },
  {
   "cell_type": "markdown",
   "metadata": {},
   "source": [
    "# SVM con dataset normalizzato (con pesi alle classi)"
   ]
  },
  {
   "cell_type": "code",
   "execution_count": 59,
   "metadata": {},
   "outputs": [],
   "source": [
    "svm = SVC()\n",
    "# Usiamo i parametri trovati con la grid seatch\n",
    "class_weights = {\n",
    "    0 : 0.375,\n",
    "    1 : 0.25,\n",
    "    2 : 0.375,\n",
    "}\n",
    "svm.set_params(**best_params, class_weight=class_weights)\n",
    "\n",
    "# Alleniamo il modello sul training set\n",
    "svm = svm.fit(train_set_normalized, train_label_normalized)"
   ]
  },
  {
   "cell_type": "code",
   "execution_count": 60,
   "metadata": {},
   "outputs": [],
   "source": [
    "# Labels ottenuti facendo predizione sul training set\n",
    "train_prediction_svm = svm.predict(train_set_normalized)\n",
    "# Labels ottenuti facendo predizione sul test set\n",
    "test_prediction_svm = svm.predict(test_set_normalized)"
   ]
  },
  {
   "cell_type": "code",
   "execution_count": 61,
   "metadata": {},
   "outputs": [
    {
     "name": "stdout",
     "output_type": "stream",
     "text": [
      "Accuracy train set  0.7888301387970919\n",
      "Accuracy test set  0.7981510015408321\n",
      "Precision train set  0.7918694184614486\n",
      "Recall train set  0.7888301387970919\n",
      "F1 score train set  0.7892459198795523\n",
      "Support train set  (array([0.70427553, 0.81104034, 0.84046693]), array([0.78856383, 0.75543837, 0.85601057]), array([0.74404015, 0.78225256, 0.84816754]), array([ 752, 1517,  757], dtype=int64))\n"
     ]
    }
   ],
   "source": [
    "print_metrics(train_label_normalized, train_prediction_svm, test_label_normalized, test_prediction_svm)"
   ]
  },
  {
   "cell_type": "code",
   "execution_count": 62,
   "metadata": {},
   "outputs": [
    {
     "name": "stdout",
     "output_type": "stream",
     "text": [
      "                 precision    recall  f1-score   support\n",
      "\n",
      "   low-spending       0.72      0.83      0.77       323\n",
      "medium-spending       0.82      0.76      0.79       650\n",
      "  high-spending       0.84      0.84      0.84       325\n",
      "\n",
      "       accuracy                           0.80      1298\n",
      "      macro avg       0.79      0.81      0.80      1298\n",
      "   weighted avg       0.80      0.80      0.80      1298\n",
      "\n"
     ]
    }
   ],
   "source": [
    "report_scores(test_label_normalized, test_prediction_svm)"
   ]
  },
  {
   "cell_type": "markdown",
   "metadata": {},
   "source": [
    "Visualizziamo la Confusion Matrix."
   ]
  },
  {
   "cell_type": "code",
   "execution_count": 63,
   "metadata": {},
   "outputs": [
    {
     "data": {
      "image/png": "[encoded data removed]",
      "text/plain": [
       "<Figure size 432x288 with 2 Axes>"
      ]
     },
     "metadata": {},
     "output_type": "display_data"
    }
   ],
   "source": [
    "from sklearn.metrics import confusion_matrix\n",
    "from sklearn.metrics import plot_confusion_matrix\n",
    "\n",
    "plot_confusion_matrix(svm, test_set_normalized, test_label_normalized)\n",
    "plt.show() "
   ]
  },
  {
   "cell_type": "markdown",
   "metadata": {},
   "source": [
    "# MODELLO MIGLIORE: SVM (dataset standardizzato, senza pesi alle classi)"
   ]
  },
  {
   "cell_type": "code",
   "execution_count": 64,
   "metadata": {},
   "outputs": [
    {
     "name": "stdout",
     "output_type": "stream",
     "text": [
      "Fit time  0.4537317752838135\n",
      "Score time  0.04158935546875\n",
      "Test score  0.7999507600085635\n",
      "Train score  0.8146388996118027\n"
     ]
    }
   ],
   "source": [
    "from sklearn.model_selection import cross_validate\n",
    "import statistics\n",
    "scores = cross_validate(SVC(**best_params_svm_1), clienti_normalized, labels, cv=5, return_train_score= True)\n",
    "print('Fit time ', statistics.mean(scores['fit_time']))\n",
    "print('Score time ', statistics.mean(scores['score_time']))\n",
    "print('Test score ', statistics.mean(scores['test_score']))\n",
    "print('Train score ', statistics.mean(scores['train_score']))"
   ]
  },
  {
   "cell_type": "code",
   "execution_count": null,
   "metadata": {},
   "outputs": [],
   "source": []
  }
 ],
 "metadata": {
  "kernelspec": {
   "display_name": "Python 3",
   "language": "python",
   "name": "python3"
  },
  "language_info": {
   "codemirror_mode": {
    "name": "ipython",
    "version": 3
   },
   "file_extension": ".py",
   "mimetype": "text/x-python",
   "name": "python",
   "nbconvert_exporter": "python",
   "pygments_lexer": "ipython3",
   "version": "3.8.3"
  }
 },
 "nbformat": 4,
 "nbformat_minor": 4
}
