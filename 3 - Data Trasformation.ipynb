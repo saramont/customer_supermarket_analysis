{
 "cells": [
  {
   "cell_type": "markdown",
   "metadata": {},
   "source": [
    "## Data Trasformation"
   ]
  },
  {
   "cell_type": "code",
   "execution_count": 1,
   "metadata": {},
   "outputs": [],
   "source": [
    "%matplotlib inline\n",
    "import pandas as pd\n",
    "import numpy as np\n",
    "import matplotlib.pyplot as plt\n",
    "from scipy.stats import entropy\n",
    "plt.style.use('seaborn-white')"
   ]
  },
  {
   "cell_type": "code",
   "execution_count": 2,
   "metadata": {},
   "outputs": [
    {
     "data": {
      "text/html": [
       "<div>\n",
       "<style scoped>\n",
       "    .dataframe tbody tr th:only-of-type {\n",
       "        vertical-align: middle;\n",
       "    }\n",
       "\n",
       "    .dataframe tbody tr th {\n",
       "        vertical-align: top;\n",
       "    }\n",
       "\n",
       "    .dataframe thead th {\n",
       "        text-align: right;\n",
       "    }\n",
       "</style>\n",
       "<table border=\"1\" class=\"dataframe\">\n",
       "  <thead>\n",
       "    <tr style=\"text-align: right;\">\n",
       "      <th></th>\n",
       "      <th>BasketID</th>\n",
       "      <th>BasketDate</th>\n",
       "      <th>Sale</th>\n",
       "      <th>CustomerID</th>\n",
       "      <th>CustomerCountry</th>\n",
       "      <th>ProdID</th>\n",
       "      <th>ProdDescr</th>\n",
       "      <th>Qta</th>\n",
       "      <th>Spending</th>\n",
       "    </tr>\n",
       "  </thead>\n",
       "  <tbody>\n",
       "    <tr>\n",
       "      <th>0</th>\n",
       "      <td>536365</td>\n",
       "      <td>2010-12-01 08:26:00</td>\n",
       "      <td>2.55</td>\n",
       "      <td>17850</td>\n",
       "      <td>United Kingdom</td>\n",
       "      <td>85123A</td>\n",
       "      <td>WHITE HANGING HEART T-LIGHT HOLDER</td>\n",
       "      <td>6</td>\n",
       "      <td>15.30</td>\n",
       "    </tr>\n",
       "    <tr>\n",
       "      <th>1</th>\n",
       "      <td>536365</td>\n",
       "      <td>2010-12-01 08:26:00</td>\n",
       "      <td>3.39</td>\n",
       "      <td>17850</td>\n",
       "      <td>United Kingdom</td>\n",
       "      <td>71053</td>\n",
       "      <td>WHITE METAL LANTERN</td>\n",
       "      <td>6</td>\n",
       "      <td>20.34</td>\n",
       "    </tr>\n",
       "    <tr>\n",
       "      <th>2</th>\n",
       "      <td>536365</td>\n",
       "      <td>2010-12-01 08:26:00</td>\n",
       "      <td>2.75</td>\n",
       "      <td>17850</td>\n",
       "      <td>United Kingdom</td>\n",
       "      <td>84406B</td>\n",
       "      <td>CREAM CUPID HEARTS COAT HANGER</td>\n",
       "      <td>8</td>\n",
       "      <td>22.00</td>\n",
       "    </tr>\n",
       "  </tbody>\n",
       "</table>\n",
       "</div>"
      ],
      "text/plain": [
       "   BasketID           BasketDate  Sale  CustomerID CustomerCountry  ProdID  \\\n",
       "0    536365  2010-12-01 08:26:00  2.55       17850  United Kingdom  85123A   \n",
       "1    536365  2010-12-01 08:26:00  3.39       17850  United Kingdom   71053   \n",
       "2    536365  2010-12-01 08:26:00  2.75       17850  United Kingdom  84406B   \n",
       "\n",
       "                            ProdDescr  Qta  Spending  \n",
       "0  WHITE HANGING HEART T-LIGHT HOLDER    6     15.30  \n",
       "1                 WHITE METAL LANTERN    6     20.34  \n",
       "2      CREAM CUPID HEARTS COAT HANGER    8     22.00  "
      ]
     },
     "execution_count": 2,
     "metadata": {},
     "output_type": "execute_result"
    }
   ],
   "source": [
    "# Leggiamo il dataframe dal file csv 'acquisti.csv'\n",
    "acquisti = pd.read_csv('acquisti.csv', sep=',')\n",
    "acquisti.drop(columns=['Unnamed: 0'], inplace=True)\n",
    "acquisti.head(3)"
   ]
  },
  {
   "cell_type": "code",
   "execution_count": 3,
   "metadata": {},
   "outputs": [],
   "source": [
    "# I valori della colonna BasketDate sono in formato stringa, per comodità le trasformiamo in formato datetime\n",
    "acquisti['BasketDate'] = pd.to_datetime(acquisti['BasketDate'], format=\"%Y-%m-%d %H:%M:%S\")"
   ]
  },
  {
   "cell_type": "markdown",
   "metadata": {},
   "source": [
    "## Attributi"
   ]
  },
  {
   "cell_type": "markdown",
   "metadata": {},
   "source": [
    "Per ogni cliente mi calcolo i seguenti attributi:\n",
    "* *I*: è il numero totale di oggetti acquistati dal cliente durante l'intero periodo di osservazione.\n",
    "* *Iu*: è il numero di oggetti distinti acquisti dal cliente durante l'intero periodo di osservazione.\n",
    "* *Imax*: è il massimo numero di oggetti acquistati da un cliente in un carrello (shopping session = carello)."
   ]
  },
  {
   "cell_type": "markdown",
   "metadata": {},
   "source": [
    "### Attributi I e Iu"
   ]
  },
  {
   "cell_type": "code",
   "execution_count": 4,
   "metadata": {},
   "outputs": [],
   "source": [
    "# Raggruppiamo per CustomerID, quindi sommiamo i valori della colonna Qta e contiamo quanti valori diversi\n",
    "# della colonna ProdID ci sono\n",
    "df_I_Iu = acquisti.groupby('CustomerID').aggregate({'Qta':'sum', 'ProdID':'nunique'})\n",
    "# Rinominiamo le colonne: Qta -> I e ProdID -> Iu\n",
    "df_I_Iu.rename(columns={'Qta':'I', 'ProdID':'Iu'}, inplace=True)"
   ]
  },
  {
   "cell_type": "markdown",
   "metadata": {},
   "source": [
    "### Attributo Imax"
   ]
  },
  {
   "cell_type": "code",
   "execution_count": 5,
   "metadata": {},
   "outputs": [],
   "source": [
    "# Raggruppiamo per CustomerID e BasketID, quindi sommiamo i valori della colonna Qta\n",
    "df_sum = acquisti.groupby(['CustomerID', 'BasketID']).aggregate({'Qta':'sum'}).reset_index(level='CustomerID')\n",
    "# Raggruppiamo per CustomerID e ci calcoliamo il valore massimo della colonna Qta\n",
    "df_Imax = df_sum.groupby('CustomerID').aggregate({'Qta':'max'})\n",
    "# Rinominiamo la colonna Qta -> Imax\n",
    "df_Imax.rename(columns={'Qta':'Imax'}, inplace=True)"
   ]
  },
  {
   "cell_type": "markdown",
   "metadata": {},
   "source": [
    "### Creazione del dataframe clienti"
   ]
  },
  {
   "cell_type": "markdown",
   "metadata": {},
   "source": [
    "Partendo dai tre dataframe calcolati sopra, creaiamo il dataframe dove ogni riga rappresenta un cliente."
   ]
  },
  {
   "cell_type": "code",
   "execution_count": 6,
   "metadata": {},
   "outputs": [],
   "source": [
    "clienti = pd.merge(df_I_Iu, df_Imax, on='CustomerID')"
   ]
  },
  {
   "cell_type": "code",
   "execution_count": 7,
   "metadata": {},
   "outputs": [
    {
     "data": {
      "text/html": [
       "<div>\n",
       "<style scoped>\n",
       "    .dataframe tbody tr th:only-of-type {\n",
       "        vertical-align: middle;\n",
       "    }\n",
       "\n",
       "    .dataframe tbody tr th {\n",
       "        vertical-align: top;\n",
       "    }\n",
       "\n",
       "    .dataframe thead th {\n",
       "        text-align: right;\n",
       "    }\n",
       "</style>\n",
       "<table border=\"1\" class=\"dataframe\">\n",
       "  <thead>\n",
       "    <tr style=\"text-align: right;\">\n",
       "      <th></th>\n",
       "      <th>I</th>\n",
       "      <th>Iu</th>\n",
       "      <th>Imax</th>\n",
       "    </tr>\n",
       "    <tr>\n",
       "      <th>CustomerID</th>\n",
       "      <th></th>\n",
       "      <th></th>\n",
       "      <th></th>\n",
       "    </tr>\n",
       "  </thead>\n",
       "  <tbody>\n",
       "    <tr>\n",
       "      <th>12347</th>\n",
       "      <td>2458</td>\n",
       "      <td>103</td>\n",
       "      <td>676</td>\n",
       "    </tr>\n",
       "    <tr>\n",
       "      <th>12348</th>\n",
       "      <td>2332</td>\n",
       "      <td>21</td>\n",
       "      <td>1248</td>\n",
       "    </tr>\n",
       "    <tr>\n",
       "      <th>12349</th>\n",
       "      <td>630</td>\n",
       "      <td>72</td>\n",
       "      <td>630</td>\n",
       "    </tr>\n",
       "  </tbody>\n",
       "</table>\n",
       "</div>"
      ],
      "text/plain": [
       "               I   Iu  Imax\n",
       "CustomerID                 \n",
       "12347       2458  103   676\n",
       "12348       2332   21  1248\n",
       "12349        630   72   630"
      ]
     },
     "execution_count": 7,
     "metadata": {},
     "output_type": "execute_result"
    }
   ],
   "source": [
    "clienti.head(3)"
   ]
  },
  {
   "cell_type": "markdown",
   "metadata": {},
   "source": [
    "### Attributi aggiuntivi"
   ]
  },
  {
   "cell_type": "markdown",
   "metadata": {},
   "source": [
    "Per ogni cliente calcoliamo i seguenti attributi aggiuntivi:\n",
    "- **NumBasket**: Il numero totale di carrelli che il cliente ha fatto durante il periodo di osservazione. \n",
    "- **Recency**: la recency indica il numero di giorni che il cliente è stato inattivo, con riferimento alla data più recente contenuta nel dataset.\n",
    "- **Frequency**: il numero tatale di ordini fatti dal cliente, durante l'intero periodo di osservazione.\n",
    "- **MonetaryValue**: quanto  il cliente ha speso in totale, durante l'intero periodo di osservazione."
   ]
  },
  {
   "cell_type": "markdown",
   "metadata": {},
   "source": [
    "### Attributo NumBasket"
   ]
  },
  {
   "cell_type": "code",
   "execution_count": 8,
   "metadata": {},
   "outputs": [],
   "source": [
    "# Raggruppiamo per CustomerID, quindi contiamo quanti valori di BasketID diversi ci sono\n",
    "df_numBasket = acquisti.groupby('CustomerID').aggregate({'BasketID':'nunique'})\n",
    "# Rinominiamo la colonna BasketID -> NumBasket\n",
    "df_numBasket.rename(columns={'BasketID':'NumBasket'}, inplace=True)\n",
    "# Creiamo nel dataframe clienti una nuova colonna 'NumBasket' e ci assegniamo i valori della rispettiva colonna \n",
    "# del dataframe df_numBasket\n",
    "clienti['NumBasket'] = df_numBasket['NumBasket']"
   ]
  },
  {
   "cell_type": "code",
   "execution_count": 9,
   "metadata": {},
   "outputs": [
    {
     "data": {
      "text/html": [
       "<div>\n",
       "<style scoped>\n",
       "    .dataframe tbody tr th:only-of-type {\n",
       "        vertical-align: middle;\n",
       "    }\n",
       "\n",
       "    .dataframe tbody tr th {\n",
       "        vertical-align: top;\n",
       "    }\n",
       "\n",
       "    .dataframe thead th {\n",
       "        text-align: right;\n",
       "    }\n",
       "</style>\n",
       "<table border=\"1\" class=\"dataframe\">\n",
       "  <thead>\n",
       "    <tr style=\"text-align: right;\">\n",
       "      <th></th>\n",
       "      <th>I</th>\n",
       "      <th>Iu</th>\n",
       "      <th>Imax</th>\n",
       "      <th>NumBasket</th>\n",
       "    </tr>\n",
       "    <tr>\n",
       "      <th>CustomerID</th>\n",
       "      <th></th>\n",
       "      <th></th>\n",
       "      <th></th>\n",
       "      <th></th>\n",
       "    </tr>\n",
       "  </thead>\n",
       "  <tbody>\n",
       "    <tr>\n",
       "      <th>12347</th>\n",
       "      <td>2458</td>\n",
       "      <td>103</td>\n",
       "      <td>676</td>\n",
       "      <td>7</td>\n",
       "    </tr>\n",
       "    <tr>\n",
       "      <th>12348</th>\n",
       "      <td>2332</td>\n",
       "      <td>21</td>\n",
       "      <td>1248</td>\n",
       "      <td>4</td>\n",
       "    </tr>\n",
       "    <tr>\n",
       "      <th>12349</th>\n",
       "      <td>630</td>\n",
       "      <td>72</td>\n",
       "      <td>630</td>\n",
       "      <td>1</td>\n",
       "    </tr>\n",
       "  </tbody>\n",
       "</table>\n",
       "</div>"
      ],
      "text/plain": [
       "               I   Iu  Imax  NumBasket\n",
       "CustomerID                            \n",
       "12347       2458  103   676          7\n",
       "12348       2332   21  1248          4\n",
       "12349        630   72   630          1"
      ]
     },
     "execution_count": 9,
     "metadata": {},
     "output_type": "execute_result"
    }
   ],
   "source": [
    "clienti.head(3)"
   ]
  },
  {
   "cell_type": "markdown",
   "metadata": {},
   "source": [
    "### Attributo Recency"
   ]
  },
  {
   "cell_type": "code",
   "execution_count": 10,
   "metadata": {},
   "outputs": [],
   "source": [
    "# Raggruppiamo per CustomerID e quindi ci calcoliamo il valore (cioè la data) più recente della colonna BasketDate\n",
    "df_max_date = acquisti.groupby('CustomerID').aggregate({'BasketDate':'max'})\n",
    "# Calcoliamo la recency\n",
    "recency = (acquisti['BasketDate'].max() - df_max_date['BasketDate']).dt.days\n",
    "# Creiamo nel dataframe una nuova colonna e ci assegniamo i valori di recency\n",
    "clienti['Recency'] = recency"
   ]
  },
  {
   "cell_type": "code",
   "execution_count": 11,
   "metadata": {},
   "outputs": [
    {
     "data": {
      "text/html": [
       "<div>\n",
       "<style scoped>\n",
       "    .dataframe tbody tr th:only-of-type {\n",
       "        vertical-align: middle;\n",
       "    }\n",
       "\n",
       "    .dataframe tbody tr th {\n",
       "        vertical-align: top;\n",
       "    }\n",
       "\n",
       "    .dataframe thead th {\n",
       "        text-align: right;\n",
       "    }\n",
       "</style>\n",
       "<table border=\"1\" class=\"dataframe\">\n",
       "  <thead>\n",
       "    <tr style=\"text-align: right;\">\n",
       "      <th></th>\n",
       "      <th>I</th>\n",
       "      <th>Iu</th>\n",
       "      <th>Imax</th>\n",
       "      <th>NumBasket</th>\n",
       "      <th>Recency</th>\n",
       "    </tr>\n",
       "    <tr>\n",
       "      <th>CustomerID</th>\n",
       "      <th></th>\n",
       "      <th></th>\n",
       "      <th></th>\n",
       "      <th></th>\n",
       "      <th></th>\n",
       "    </tr>\n",
       "  </thead>\n",
       "  <tbody>\n",
       "    <tr>\n",
       "      <th>12347</th>\n",
       "      <td>2458</td>\n",
       "      <td>103</td>\n",
       "      <td>676</td>\n",
       "      <td>7</td>\n",
       "      <td>1</td>\n",
       "    </tr>\n",
       "    <tr>\n",
       "      <th>12348</th>\n",
       "      <td>2332</td>\n",
       "      <td>21</td>\n",
       "      <td>1248</td>\n",
       "      <td>4</td>\n",
       "      <td>74</td>\n",
       "    </tr>\n",
       "    <tr>\n",
       "      <th>12349</th>\n",
       "      <td>630</td>\n",
       "      <td>72</td>\n",
       "      <td>630</td>\n",
       "      <td>1</td>\n",
       "      <td>18</td>\n",
       "    </tr>\n",
       "  </tbody>\n",
       "</table>\n",
       "</div>"
      ],
      "text/plain": [
       "               I   Iu  Imax  NumBasket  Recency\n",
       "CustomerID                                     \n",
       "12347       2458  103   676          7        1\n",
       "12348       2332   21  1248          4       74\n",
       "12349        630   72   630          1       18"
      ]
     },
     "execution_count": 11,
     "metadata": {},
     "output_type": "execute_result"
    }
   ],
   "source": [
    "clienti.head(3)"
   ]
  },
  {
   "cell_type": "markdown",
   "metadata": {},
   "source": [
    "### Attributo Frequency"
   ]
  },
  {
   "cell_type": "code",
   "execution_count": 12,
   "metadata": {},
   "outputs": [],
   "source": [
    "# Raggruppiamo per CustomerID e quindi contiamo il numero di basket\n",
    "df_frequency = acquisti.groupby('CustomerID').aggregate({'BasketID':'count'})\n",
    "# Calcoliamo la frequency\n",
    "frequency = df_frequency['BasketID']\n",
    "# Creiamo nel dataframe una nuova colonna e ci assegniamo i valori di frequency\n",
    "clienti['Frequency'] = frequency"
   ]
  },
  {
   "cell_type": "code",
   "execution_count": 13,
   "metadata": {},
   "outputs": [
    {
     "data": {
      "text/html": [
       "<div>\n",
       "<style scoped>\n",
       "    .dataframe tbody tr th:only-of-type {\n",
       "        vertical-align: middle;\n",
       "    }\n",
       "\n",
       "    .dataframe tbody tr th {\n",
       "        vertical-align: top;\n",
       "    }\n",
       "\n",
       "    .dataframe thead th {\n",
       "        text-align: right;\n",
       "    }\n",
       "</style>\n",
       "<table border=\"1\" class=\"dataframe\">\n",
       "  <thead>\n",
       "    <tr style=\"text-align: right;\">\n",
       "      <th></th>\n",
       "      <th>I</th>\n",
       "      <th>Iu</th>\n",
       "      <th>Imax</th>\n",
       "      <th>NumBasket</th>\n",
       "      <th>Recency</th>\n",
       "      <th>Frequency</th>\n",
       "    </tr>\n",
       "    <tr>\n",
       "      <th>CustomerID</th>\n",
       "      <th></th>\n",
       "      <th></th>\n",
       "      <th></th>\n",
       "      <th></th>\n",
       "      <th></th>\n",
       "      <th></th>\n",
       "    </tr>\n",
       "  </thead>\n",
       "  <tbody>\n",
       "    <tr>\n",
       "      <th>12347</th>\n",
       "      <td>2458</td>\n",
       "      <td>103</td>\n",
       "      <td>676</td>\n",
       "      <td>7</td>\n",
       "      <td>1</td>\n",
       "      <td>182</td>\n",
       "    </tr>\n",
       "    <tr>\n",
       "      <th>12348</th>\n",
       "      <td>2332</td>\n",
       "      <td>21</td>\n",
       "      <td>1248</td>\n",
       "      <td>4</td>\n",
       "      <td>74</td>\n",
       "      <td>27</td>\n",
       "    </tr>\n",
       "    <tr>\n",
       "      <th>12349</th>\n",
       "      <td>630</td>\n",
       "      <td>72</td>\n",
       "      <td>630</td>\n",
       "      <td>1</td>\n",
       "      <td>18</td>\n",
       "      <td>72</td>\n",
       "    </tr>\n",
       "  </tbody>\n",
       "</table>\n",
       "</div>"
      ],
      "text/plain": [
       "               I   Iu  Imax  NumBasket  Recency  Frequency\n",
       "CustomerID                                                \n",
       "12347       2458  103   676          7        1        182\n",
       "12348       2332   21  1248          4       74         27\n",
       "12349        630   72   630          1       18         72"
      ]
     },
     "execution_count": 13,
     "metadata": {},
     "output_type": "execute_result"
    }
   ],
   "source": [
    "clienti.head(3)"
   ]
  },
  {
   "cell_type": "markdown",
   "metadata": {},
   "source": [
    "### Attributo MonetaryValue"
   ]
  },
  {
   "cell_type": "code",
   "execution_count": 14,
   "metadata": {},
   "outputs": [],
   "source": [
    "# Raggruppiamo per CustomerID e quindi sommiamo i valori della colonna Spending\n",
    "df_monetaryValue = acquisti.groupby('CustomerID').aggregate({'Spending':'sum'})\n",
    "# Rinominiamo la colonna Spending -> MonetaryValue\n",
    "df_monetaryValue.rename(columns={'Spending':'MonetaryValue'}, inplace=True)\n",
    "# Creiamo nel dataframe clienti una nuova colonna 'MonetaryValue' e ci assegniamo i valori della rispettiva colonna \n",
    "# del dataframe df_monetaryValue\n",
    "clienti['MonetaryValue'] = df_monetaryValue['MonetaryValue']"
   ]
  },
  {
   "cell_type": "code",
   "execution_count": 15,
   "metadata": {},
   "outputs": [
    {
     "data": {
      "text/html": [
       "<div>\n",
       "<style scoped>\n",
       "    .dataframe tbody tr th:only-of-type {\n",
       "        vertical-align: middle;\n",
       "    }\n",
       "\n",
       "    .dataframe tbody tr th {\n",
       "        vertical-align: top;\n",
       "    }\n",
       "\n",
       "    .dataframe thead th {\n",
       "        text-align: right;\n",
       "    }\n",
       "</style>\n",
       "<table border=\"1\" class=\"dataframe\">\n",
       "  <thead>\n",
       "    <tr style=\"text-align: right;\">\n",
       "      <th></th>\n",
       "      <th>I</th>\n",
       "      <th>Iu</th>\n",
       "      <th>Imax</th>\n",
       "      <th>NumBasket</th>\n",
       "      <th>Recency</th>\n",
       "      <th>Frequency</th>\n",
       "      <th>MonetaryValue</th>\n",
       "    </tr>\n",
       "    <tr>\n",
       "      <th>CustomerID</th>\n",
       "      <th></th>\n",
       "      <th></th>\n",
       "      <th></th>\n",
       "      <th></th>\n",
       "      <th></th>\n",
       "      <th></th>\n",
       "      <th></th>\n",
       "    </tr>\n",
       "  </thead>\n",
       "  <tbody>\n",
       "    <tr>\n",
       "      <th>12347</th>\n",
       "      <td>2458</td>\n",
       "      <td>103</td>\n",
       "      <td>676</td>\n",
       "      <td>7</td>\n",
       "      <td>1</td>\n",
       "      <td>182</td>\n",
       "      <td>4310.00</td>\n",
       "    </tr>\n",
       "    <tr>\n",
       "      <th>12348</th>\n",
       "      <td>2332</td>\n",
       "      <td>21</td>\n",
       "      <td>1248</td>\n",
       "      <td>4</td>\n",
       "      <td>74</td>\n",
       "      <td>27</td>\n",
       "      <td>1437.24</td>\n",
       "    </tr>\n",
       "    <tr>\n",
       "      <th>12349</th>\n",
       "      <td>630</td>\n",
       "      <td>72</td>\n",
       "      <td>630</td>\n",
       "      <td>1</td>\n",
       "      <td>18</td>\n",
       "      <td>72</td>\n",
       "      <td>1457.55</td>\n",
       "    </tr>\n",
       "  </tbody>\n",
       "</table>\n",
       "</div>"
      ],
      "text/plain": [
       "               I   Iu  Imax  NumBasket  Recency  Frequency  MonetaryValue\n",
       "CustomerID                                                               \n",
       "12347       2458  103   676          7        1        182        4310.00\n",
       "12348       2332   21  1248          4       74         27        1437.24\n",
       "12349        630   72   630          1       18         72        1457.55"
      ]
     },
     "execution_count": 15,
     "metadata": {},
     "output_type": "execute_result"
    }
   ],
   "source": [
    "clienti.head(3)"
   ]
  },
  {
   "cell_type": "markdown",
   "metadata": {},
   "source": [
    "### Calcolo dell'Entropia di Shannon"
   ]
  },
  {
   "cell_type": "code",
   "execution_count": 16,
   "metadata": {},
   "outputs": [],
   "source": [
    "# Questa funzione restituisce l'entropia di una serie presa in input\n",
    "def calculate_entropy(series):\n",
    "    return entropy(series.value_counts())"
   ]
  },
  {
   "cell_type": "markdown",
   "metadata": {},
   "source": [
    "Per ogni cliente calcolo l'entropia di Shannon rispetto alla spesa totale per ordine."
   ]
  },
  {
   "cell_type": "code",
   "execution_count": 17,
   "metadata": {},
   "outputs": [],
   "source": [
    "df_spending_entropy = acquisti.groupby('CustomerID').aggregate({'Spending': calculate_entropy})"
   ]
  },
  {
   "cell_type": "markdown",
   "metadata": {},
   "source": [
    "Calcoliamo l'entropia di Shannon rispetto al giorno della settimana in cui l'utente fa acquisti."
   ]
  },
  {
   "cell_type": "code",
   "execution_count": 18,
   "metadata": {},
   "outputs": [],
   "source": [
    "df_days_entropy = acquisti.groupby('CustomerID').aggregate({'BasketDate': lambda s: calculate_entropy(s.dt.dayofweek)})"
   ]
  },
  {
   "cell_type": "markdown",
   "metadata": {},
   "source": [
    "Calcoliamo l'entropia di Shannon rispetto ai prodotti acquistati dall'utente. Il valore rappresenta quanto il cliente tende ad acquistare sempre gli stessi prodotti."
   ]
  },
  {
   "cell_type": "code",
   "execution_count": 19,
   "metadata": {},
   "outputs": [],
   "source": [
    "df_products_entropy = acquisti.groupby('CustomerID').aggregate({'ProdID': calculate_entropy})"
   ]
  },
  {
   "cell_type": "code",
   "execution_count": 20,
   "metadata": {},
   "outputs": [],
   "source": [
    "# Aggiungiamo quindi tre nuove colonne al dataframe clienti\n",
    "clienti['EntropySpending'] = df_spending_entropy['Spending']\n",
    "clienti['EntropyDays'] = df_days_entropy['BasketDate']\n",
    "clienti['EntropyProducts'] = df_products_entropy['ProdID']"
   ]
  },
  {
   "cell_type": "code",
   "execution_count": 21,
   "metadata": {},
   "outputs": [
    {
     "data": {
      "text/html": [
       "<div>\n",
       "<style scoped>\n",
       "    .dataframe tbody tr th:only-of-type {\n",
       "        vertical-align: middle;\n",
       "    }\n",
       "\n",
       "    .dataframe tbody tr th {\n",
       "        vertical-align: top;\n",
       "    }\n",
       "\n",
       "    .dataframe thead th {\n",
       "        text-align: right;\n",
       "    }\n",
       "</style>\n",
       "<table border=\"1\" class=\"dataframe\">\n",
       "  <thead>\n",
       "    <tr style=\"text-align: right;\">\n",
       "      <th></th>\n",
       "      <th>I</th>\n",
       "      <th>Iu</th>\n",
       "      <th>Imax</th>\n",
       "      <th>NumBasket</th>\n",
       "      <th>Recency</th>\n",
       "      <th>Frequency</th>\n",
       "      <th>MonetaryValue</th>\n",
       "      <th>EntropySpending</th>\n",
       "      <th>EntropyDays</th>\n",
       "      <th>EntropyProducts</th>\n",
       "    </tr>\n",
       "    <tr>\n",
       "      <th>CustomerID</th>\n",
       "      <th></th>\n",
       "      <th></th>\n",
       "      <th></th>\n",
       "      <th></th>\n",
       "      <th></th>\n",
       "      <th></th>\n",
       "      <th></th>\n",
       "      <th></th>\n",
       "      <th></th>\n",
       "      <th></th>\n",
       "    </tr>\n",
       "  </thead>\n",
       "  <tbody>\n",
       "    <tr>\n",
       "      <th>12347</th>\n",
       "      <td>2458</td>\n",
       "      <td>103</td>\n",
       "      <td>676</td>\n",
       "      <td>7</td>\n",
       "      <td>1</td>\n",
       "      <td>182</td>\n",
       "      <td>4310.00</td>\n",
       "      <td>3.487932</td>\n",
       "      <td>1.380272</td>\n",
       "      <td>4.464578</td>\n",
       "    </tr>\n",
       "    <tr>\n",
       "      <th>12348</th>\n",
       "      <td>2332</td>\n",
       "      <td>21</td>\n",
       "      <td>1248</td>\n",
       "      <td>4</td>\n",
       "      <td>74</td>\n",
       "      <td>27</td>\n",
       "      <td>1437.24</td>\n",
       "      <td>2.384226</td>\n",
       "      <td>0.869069</td>\n",
       "      <td>2.987771</td>\n",
       "    </tr>\n",
       "    <tr>\n",
       "      <th>12349</th>\n",
       "      <td>630</td>\n",
       "      <td>72</td>\n",
       "      <td>630</td>\n",
       "      <td>1</td>\n",
       "      <td>18</td>\n",
       "      <td>72</td>\n",
       "      <td>1457.55</td>\n",
       "      <td>3.468828</td>\n",
       "      <td>0.000000</td>\n",
       "      <td>4.276666</td>\n",
       "    </tr>\n",
       "  </tbody>\n",
       "</table>\n",
       "</div>"
      ],
      "text/plain": [
       "               I   Iu  Imax  NumBasket  Recency  Frequency  MonetaryValue  \\\n",
       "CustomerID                                                                  \n",
       "12347       2458  103   676          7        1        182        4310.00   \n",
       "12348       2332   21  1248          4       74         27        1437.24   \n",
       "12349        630   72   630          1       18         72        1457.55   \n",
       "\n",
       "            EntropySpending  EntropyDays  EntropyProducts  \n",
       "CustomerID                                                 \n",
       "12347              3.487932     1.380272         4.464578  \n",
       "12348              2.384226     0.869069         2.987771  \n",
       "12349              3.468828     0.000000         4.276666  "
      ]
     },
     "execution_count": 21,
     "metadata": {},
     "output_type": "execute_result"
    }
   ],
   "source": [
    "clienti.head(3)"
   ]
  },
  {
   "cell_type": "markdown",
   "metadata": {},
   "source": [
    "### Analisi Statistica"
   ]
  },
  {
   "cell_type": "code",
   "execution_count": 22,
   "metadata": {},
   "outputs": [
    {
     "data": {
      "text/html": [
       "<div>\n",
       "<style scoped>\n",
       "    .dataframe tbody tr th:only-of-type {\n",
       "        vertical-align: middle;\n",
       "    }\n",
       "\n",
       "    .dataframe tbody tr th {\n",
       "        vertical-align: top;\n",
       "    }\n",
       "\n",
       "    .dataframe thead th {\n",
       "        text-align: right;\n",
       "    }\n",
       "</style>\n",
       "<table border=\"1\" class=\"dataframe\">\n",
       "  <thead>\n",
       "    <tr style=\"text-align: right;\">\n",
       "      <th></th>\n",
       "      <th>I</th>\n",
       "      <th>Iu</th>\n",
       "      <th>Imax</th>\n",
       "      <th>NumBasket</th>\n",
       "      <th>Recency</th>\n",
       "      <th>Frequency</th>\n",
       "      <th>MonetaryValue</th>\n",
       "      <th>EntropySpending</th>\n",
       "      <th>EntropyDays</th>\n",
       "      <th>EntropyProducts</th>\n",
       "    </tr>\n",
       "  </thead>\n",
       "  <tbody>\n",
       "    <tr>\n",
       "      <th>count</th>\n",
       "      <td>4324.000000</td>\n",
       "      <td>4324.000000</td>\n",
       "      <td>4324.000000</td>\n",
       "      <td>4324.000000</td>\n",
       "      <td>4324.000000</td>\n",
       "      <td>4324.000000</td>\n",
       "      <td>4324.000000</td>\n",
       "      <td>4324.000000</td>\n",
       "      <td>4324.000000</td>\n",
       "      <td>4324.000000</td>\n",
       "    </tr>\n",
       "    <tr>\n",
       "      <th>mean</th>\n",
       "      <td>1120.090194</td>\n",
       "      <td>61.190333</td>\n",
       "      <td>360.635060</td>\n",
       "      <td>4.219935</td>\n",
       "      <td>91.966698</td>\n",
       "      <td>89.553654</td>\n",
       "      <td>1885.037886</td>\n",
       "      <td>2.796559</td>\n",
       "      <td>0.548564</td>\n",
       "      <td>3.428550</td>\n",
       "    </tr>\n",
       "    <tr>\n",
       "      <th>std</th>\n",
       "      <td>4626.431036</td>\n",
       "      <td>84.901527</td>\n",
       "      <td>653.166449</td>\n",
       "      <td>7.545342</td>\n",
       "      <td>100.364060</td>\n",
       "      <td>219.930129</td>\n",
       "      <td>8164.189549</td>\n",
       "      <td>0.931674</td>\n",
       "      <td>0.539534</td>\n",
       "      <td>1.186899</td>\n",
       "    </tr>\n",
       "    <tr>\n",
       "      <th>min</th>\n",
       "      <td>1.000000</td>\n",
       "      <td>1.000000</td>\n",
       "      <td>1.000000</td>\n",
       "      <td>1.000000</td>\n",
       "      <td>0.000000</td>\n",
       "      <td>1.000000</td>\n",
       "      <td>2.900000</td>\n",
       "      <td>0.000000</td>\n",
       "      <td>0.000000</td>\n",
       "      <td>0.000000</td>\n",
       "    </tr>\n",
       "    <tr>\n",
       "      <th>25%</th>\n",
       "      <td>157.000000</td>\n",
       "      <td>16.000000</td>\n",
       "      <td>120.000000</td>\n",
       "      <td>1.000000</td>\n",
       "      <td>17.000000</td>\n",
       "      <td>17.000000</td>\n",
       "      <td>299.665000</td>\n",
       "      <td>2.267633</td>\n",
       "      <td>0.000000</td>\n",
       "      <td>2.708050</td>\n",
       "    </tr>\n",
       "    <tr>\n",
       "      <th>50%</th>\n",
       "      <td>371.000000</td>\n",
       "      <td>35.000000</td>\n",
       "      <td>221.500000</td>\n",
       "      <td>2.000000</td>\n",
       "      <td>50.000000</td>\n",
       "      <td>40.000000</td>\n",
       "      <td>652.770000</td>\n",
       "      <td>2.903676</td>\n",
       "      <td>0.595870</td>\n",
       "      <td>3.515740</td>\n",
       "    </tr>\n",
       "    <tr>\n",
       "      <th>75%</th>\n",
       "      <td>975.750000</td>\n",
       "      <td>77.000000</td>\n",
       "      <td>401.250000</td>\n",
       "      <td>5.000000</td>\n",
       "      <td>143.000000</td>\n",
       "      <td>97.000000</td>\n",
       "      <td>1601.487500</td>\n",
       "      <td>3.452392</td>\n",
       "      <td>1.013540</td>\n",
       "      <td>4.276078</td>\n",
       "    </tr>\n",
       "    <tr>\n",
       "      <th>max</th>\n",
       "      <td>195692.000000</td>\n",
       "      <td>1754.000000</td>\n",
       "      <td>14964.000000</td>\n",
       "      <td>202.000000</td>\n",
       "      <td>373.000000</td>\n",
       "      <td>7302.000000</td>\n",
       "      <td>277460.420000</td>\n",
       "      <td>5.536579</td>\n",
       "      <td>1.772973</td>\n",
       "      <td>7.185612</td>\n",
       "    </tr>\n",
       "  </tbody>\n",
       "</table>\n",
       "</div>"
      ],
      "text/plain": [
       "                   I           Iu          Imax    NumBasket      Recency  \\\n",
       "count    4324.000000  4324.000000   4324.000000  4324.000000  4324.000000   \n",
       "mean     1120.090194    61.190333    360.635060     4.219935    91.966698   \n",
       "std      4626.431036    84.901527    653.166449     7.545342   100.364060   \n",
       "min         1.000000     1.000000      1.000000     1.000000     0.000000   \n",
       "25%       157.000000    16.000000    120.000000     1.000000    17.000000   \n",
       "50%       371.000000    35.000000    221.500000     2.000000    50.000000   \n",
       "75%       975.750000    77.000000    401.250000     5.000000   143.000000   \n",
       "max    195692.000000  1754.000000  14964.000000   202.000000   373.000000   \n",
       "\n",
       "         Frequency  MonetaryValue  EntropySpending  EntropyDays  \\\n",
       "count  4324.000000    4324.000000      4324.000000  4324.000000   \n",
       "mean     89.553654    1885.037886         2.796559     0.548564   \n",
       "std     219.930129    8164.189549         0.931674     0.539534   \n",
       "min       1.000000       2.900000         0.000000     0.000000   \n",
       "25%      17.000000     299.665000         2.267633     0.000000   \n",
       "50%      40.000000     652.770000         2.903676     0.595870   \n",
       "75%      97.000000    1601.487500         3.452392     1.013540   \n",
       "max    7302.000000  277460.420000         5.536579     1.772973   \n",
       "\n",
       "       EntropyProducts  \n",
       "count      4324.000000  \n",
       "mean          3.428550  \n",
       "std           1.186899  \n",
       "min           0.000000  \n",
       "25%           2.708050  \n",
       "50%           3.515740  \n",
       "75%           4.276078  \n",
       "max           7.185612  "
      ]
     },
     "execution_count": 22,
     "metadata": {},
     "output_type": "execute_result"
    }
   ],
   "source": [
    "clienti.describe()"
   ]
  },
  {
   "cell_type": "markdown",
   "metadata": {},
   "source": [
    "Gli attributi che hanno deviazione standard più alta sono **I**, **Imax**, **Frequency** e **MonetaryValue**. Per quanto riguarda l'attributo I, ci sono dei clienti che che ha effettuato un numero di acquisti molto elevato rispetto al resto dei clienti. Lo stesso ragionamento vale per l'attributo Imax, ossia ci sono alcuni clienti hanno comprato molti più oggetti di uno stesso tipo rispetto al resto dei clienti. Per l'attributo MonetaryValue, ci sono alcuni clienti che  hanno speso molti più soldi rispetto al resto dei clienti. Per quanto riguarda l'attributo Frequency, ci sono alcuni clienti che hanno effettuato molti più ordini rispetto al resto dei clienti.\n",
    "\n",
    "Con riferimento all'attributo I, possiamo osservare che il massimo numero di oggetti acquistati da un utente è 195692 mentre il 75% dei clienti ha acquistato meno di 976 oggetti. Inoltre, 976 è inferiore al numero di oggetti acquistati in media dai clienti (circa 1120). Questo conferma quanto osservato sopra, ossia che c'è un numero esiguo di clienti che ha acquistato un numero di oggetti molto superiore al resto dei clienti.\n",
    "\n",
    "Osservazioni analoghe si possono fare per gli attributi Imax, Frequency e MonetaryValue. Ovvero, c'è un piccolo gruppo di clienti che ha valore dell'attributo molto più alto rispetto al resto dei clienti.\n",
    "\n"
   ]
  },
  {
   "cell_type": "markdown",
   "metadata": {},
   "source": [
    "Per quanto riguarda l'attributo **NumBasket**, che indica il numero di carelli (ossia shopping session) effettuati da un utente, si nota che il 75% dei clienti ha effettuato meno di 6 carrelli durante l'intero periodo di ossevazione (circa un anno). Dato che il numero medio di carelli effettuati dai clienti è basso (circa 4 carrelli), abbiamo scelto di non calcolare attributi che si basano sul numero di carelli effettuati dagli utenti, come ad esempio la spesa media per carrello o il numero medio di carrelli effetuati al mese, perché poco significativi."
   ]
  },
  {
   "cell_type": "markdown",
   "metadata": {},
   "source": [
    "Per quanto riguarda l'attributo **Recency** possiamo notare che in media i clienti non acquistano da 89 giorni (rispetto alla data più recente del dataset). Questo unisto al fatto che il numero di carelli effettuati da molti clienti è basso, potrebbe indicare che la maggior parte dei clienti non sono abituali."
   ]
  },
  {
   "cell_type": "markdown",
   "metadata": {},
   "source": [
    "Per quanto riguarda l'attributo **Iu**, possiamo notare che in media ogni cliente ha acquistato circa 84 prodotti diversi durante l'intero periodo di osservazione. Anche in questo caso la deviazione standard è un po' alta, questo è dovuto al fatto che ci sono alcuni clienti che hanno acquistato un numero di prodotti diversi molto più alto rispetto al resto dei clienti. Ad esempio, il cliente che ha acquistato più prodotti diversi ne ha aquistati 1754."
   ]
  },
  {
   "cell_type": "markdown",
   "metadata": {},
   "source": [
    "L'attributo **EntropyDays** ha un valore medio di circa 0.54. Questo significa che in media i clienti tendono a fare acquisti sempre lo stesso giorno. Tuttavia, questo valore è influenzato dal fatto che ci sono molti clienti che hanno fatto un solo acquisto durante il periodo di osservazione e quindi hanno entropia uguale a zero."
   ]
  },
  {
   "cell_type": "markdown",
   "metadata": {},
   "source": [
    "L'attributo **EntropySpending** AGGIUNGERE ROBA"
   ]
  },
  {
   "cell_type": "markdown",
   "metadata": {},
   "source": [
    "L'attributo **EntropyProducts** AGGIUNGERE ROBA"
   ]
  },
  {
   "cell_type": "markdown",
   "metadata": {},
   "source": [
    "## Attributo I"
   ]
  },
  {
   "cell_type": "code",
   "execution_count": 23,
   "metadata": {},
   "outputs": [
    {
     "data": {
      "text/plain": [
       "2082.2000000000016"
      ]
     },
     "execution_count": 23,
     "metadata": {},
     "output_type": "execute_result"
    }
   ],
   "source": [
    "clienti['I'].quantile(.90)"
   ]
  },
  {
   "cell_type": "markdown",
   "metadata": {},
   "source": [
    "Dato che il 90% dei valori ottenuti è minore o uguale a 2082.2, scegliamo per l'istogramma range =[0, 2100] e bin=150"
   ]
  },
  {
   "cell_type": "code",
   "execution_count": 24,
   "metadata": {},
   "outputs": [
    {
     "data": {
      "text/plain": [
       "<matplotlib.axes._subplots.AxesSubplot at 0x1ed02e37250>"
      ]
     },
     "execution_count": 24,
     "metadata": {},
     "output_type": "execute_result"
    },
    {
     "data": {
      "image/png": "[encoded data removed]",
      "text/plain": [
       "<Figure size 1152x360 with 2 Axes>"
      ]
     },
     "metadata": {},
     "output_type": "display_data"
    }
   ],
   "source": [
    "fig, axes = plt.subplots(nrows=1, ncols=2)\n",
    "fig.set_figheight(5)\n",
    "fig.set_figwidth(16)\n",
    "clienti.hist(ax=axes[0], column='I', bins=150, range=[0, 2100])\n",
    "clienti.boxplot(ax=axes[1], column='I')"
   ]
  },
  {
   "cell_type": "markdown",
   "metadata": {},
   "source": [
    "## Attributo Iu"
   ]
  },
  {
   "cell_type": "code",
   "execution_count": 25,
   "metadata": {},
   "outputs": [
    {
     "data": {
      "text/plain": [
       "142.70000000000027"
      ]
     },
     "execution_count": 25,
     "metadata": {},
     "output_type": "execute_result"
    }
   ],
   "source": [
    "clienti['Iu'].quantile(.90)"
   ]
  },
  {
   "cell_type": "markdown",
   "metadata": {},
   "source": [
    "Dato che il 90% dei valori ottenuti è minore o uguale a 147.7, scegliamo per l'istogramma range =[0, 150] e bin=75"
   ]
  },
  {
   "cell_type": "code",
   "execution_count": 26,
   "metadata": {},
   "outputs": [
    {
     "data": {
      "text/plain": [
       "<matplotlib.axes._subplots.AxesSubplot at 0x1ed033a73a0>"
      ]
     },
     "execution_count": 26,
     "metadata": {},
     "output_type": "execute_result"
    },
    {
     "data": {
      "image/png": "[encoded data removed]",
      "text/plain": [
       "<Figure size 1152x360 with 2 Axes>"
      ]
     },
     "metadata": {},
     "output_type": "display_data"
    }
   ],
   "source": [
    "fig, axes = plt.subplots(nrows=1, ncols=2)\n",
    "fig.set_figheight(5)\n",
    "fig.set_figwidth(16)\n",
    "clienti.hist(ax=axes[0], column='Iu', bins=75, range=[0, 150])\n",
    "clienti.boxplot(ax=axes[1], column='Iu')"
   ]
  },
  {
   "cell_type": "markdown",
   "metadata": {},
   "source": [
    "## Attributo Imax"
   ]
  },
  {
   "cell_type": "code",
   "execution_count": 27,
   "metadata": {},
   "outputs": [
    {
     "data": {
      "text/plain": [
       "675.7000000000003"
      ]
     },
     "execution_count": 27,
     "metadata": {},
     "output_type": "execute_result"
    }
   ],
   "source": [
    "clienti['Imax'].quantile(.90)"
   ]
  },
  {
   "cell_type": "markdown",
   "metadata": {},
   "source": [
    "Dato che il 90% dei valori ottenuti è minore o uguale a 675.7, scegliamo per l'istogramma range =[0, 700] e bin=100"
   ]
  },
  {
   "cell_type": "code",
   "execution_count": 28,
   "metadata": {},
   "outputs": [
    {
     "data": {
      "text/plain": [
       "<matplotlib.axes._subplots.AxesSubplot at 0x1ed036faaf0>"
      ]
     },
     "execution_count": 28,
     "metadata": {},
     "output_type": "execute_result"
    },
    {
     "data": {
      "image/png": "[encoded data removed]",
      "text/plain": [
       "<Figure size 1152x360 with 2 Axes>"
      ]
     },
     "metadata": {},
     "output_type": "display_data"
    }
   ],
   "source": [
    "fig, axes = plt.subplots(nrows=1, ncols=2)\n",
    "fig.set_figheight(5)\n",
    "fig.set_figwidth(16)\n",
    "clienti.hist(ax=axes[0], column='Imax', bins=100, range=[0, 700])\n",
    "clienti.boxplot(ax=axes[1], column='Imax')"
   ]
  },
  {
   "cell_type": "markdown",
   "metadata": {},
   "source": [
    "## Attributo NumBasket"
   ]
  },
  {
   "cell_type": "code",
   "execution_count": 29,
   "metadata": {},
   "outputs": [
    {
     "data": {
      "text/plain": [
       "9.0"
      ]
     },
     "execution_count": 29,
     "metadata": {},
     "output_type": "execute_result"
    }
   ],
   "source": [
    "clienti['NumBasket'].quantile(.90)"
   ]
  },
  {
   "cell_type": "markdown",
   "metadata": {},
   "source": [
    "Dato che il 90% dei valori ottenuti è minore o uguale a 9, scegliamo per l'istogramma range =[1, 9] e bin=8"
   ]
  },
  {
   "cell_type": "code",
   "execution_count": 30,
   "metadata": {},
   "outputs": [
    {
     "data": {
      "text/plain": [
       "<matplotlib.axes._subplots.AxesSubplot at 0x1ed03b99100>"
      ]
     },
     "execution_count": 30,
     "metadata": {},
     "output_type": "execute_result"
    },
    {
     "data": {
      "image/png": "[encoded data removed]",
      "text/plain": [
       "<Figure size 1152x360 with 2 Axes>"
      ]
     },
     "metadata": {},
     "output_type": "display_data"
    }
   ],
   "source": [
    "fig, axes = plt.subplots(nrows=1, ncols=2)\n",
    "fig.set_figheight(5)\n",
    "fig.set_figwidth(16)\n",
    "clienti.hist(ax=axes[0], column='NumBasket', bins=8, range=[1,9])\n",
    "clienti.boxplot(ax=axes[1], column='NumBasket')"
   ]
  },
  {
   "cell_type": "markdown",
   "metadata": {},
   "source": [
    "## Attributo Recency"
   ]
  },
  {
   "cell_type": "code",
   "execution_count": 31,
   "metadata": {},
   "outputs": [
    {
     "data": {
      "text/plain": [
       "263.0"
      ]
     },
     "execution_count": 31,
     "metadata": {},
     "output_type": "execute_result"
    }
   ],
   "source": [
    "clienti['Recency'].quantile(.90)"
   ]
  },
  {
   "cell_type": "markdown",
   "metadata": {},
   "source": [
    "Dato che il 90% dei valori ottenuti è minore o uguale a 263, scegliamo per l'istogramma range =[0, 270] e bin=30"
   ]
  },
  {
   "cell_type": "code",
   "execution_count": 32,
   "metadata": {},
   "outputs": [
    {
     "data": {
      "text/plain": [
       "<matplotlib.axes._subplots.AxesSubplot at 0x1ed03a84130>"
      ]
     },
     "execution_count": 32,
     "metadata": {},
     "output_type": "execute_result"
    },
    {
     "data": {
      "image/png": "[encoded data removed]",
      "text/plain": [
       "<Figure size 1152x360 with 2 Axes>"
      ]
     },
     "metadata": {},
     "output_type": "display_data"
    }
   ],
   "source": [
    "fig, axes = plt.subplots(nrows=1, ncols=2)\n",
    "fig.set_figheight(5)\n",
    "fig.set_figwidth(16)\n",
    "clienti.hist(ax=axes[0], column='Recency', bins=30, range=[0,270])\n",
    "clienti.boxplot(ax=axes[1], column='Recency')"
   ]
  },
  {
   "cell_type": "markdown",
   "metadata": {},
   "source": [
    "## Attributo Frequency."
   ]
  },
  {
   "cell_type": "code",
   "execution_count": 33,
   "metadata": {},
   "outputs": [
    {
     "data": {
      "text/plain": [
       "200.70000000000027"
      ]
     },
     "execution_count": 33,
     "metadata": {},
     "output_type": "execute_result"
    }
   ],
   "source": [
    "clienti['Frequency'].quantile(.90)"
   ]
  },
  {
   "cell_type": "markdown",
   "metadata": {},
   "source": [
    "Dato che il 90% dei valori ottenuti è minore o uguale a 200.7, scegliamo per l'istogramma range =[0, 210] e bin=70"
   ]
  },
  {
   "cell_type": "code",
   "execution_count": 34,
   "metadata": {},
   "outputs": [
    {
     "data": {
      "text/plain": [
       "<matplotlib.axes._subplots.AxesSubplot at 0x1ed03fb1c40>"
      ]
     },
     "execution_count": 34,
     "metadata": {},
     "output_type": "execute_result"
    },
    {
     "data": {
      "image/png": "[encoded data removed]",
      "text/plain": [
       "<Figure size 1152x360 with 2 Axes>"
      ]
     },
     "metadata": {},
     "output_type": "display_data"
    }
   ],
   "source": [
    "fig, axes = plt.subplots(nrows=1, ncols=2)\n",
    "fig.set_figheight(5)\n",
    "fig.set_figwidth(16)\n",
    "clienti.hist(ax=axes[0], column='Frequency', bins=70, range=[0,210])\n",
    "clienti.boxplot(ax=axes[1], column='Frequency')"
   ]
  },
  {
   "cell_type": "markdown",
   "metadata": {},
   "source": [
    "## Attributo MonetaryValue."
   ]
  },
  {
   "cell_type": "code",
   "execution_count": 35,
   "metadata": {},
   "outputs": [
    {
     "data": {
      "text/plain": [
       "3440.051000000004"
      ]
     },
     "execution_count": 35,
     "metadata": {},
     "output_type": "execute_result"
    }
   ],
   "source": [
    "clienti['MonetaryValue'].quantile(.90)"
   ]
  },
  {
   "cell_type": "markdown",
   "metadata": {},
   "source": [
    "Dato che il 90% dei valori ottenuti è minore o uguale a 3440.05, scegliamo per l'istogramma range =[0, 3450] e bin=150"
   ]
  },
  {
   "cell_type": "code",
   "execution_count": 36,
   "metadata": {},
   "outputs": [
    {
     "data": {
      "text/plain": [
       "<matplotlib.axes._subplots.AxesSubplot at 0x1ed03b6c400>"
      ]
     },
     "execution_count": 36,
     "metadata": {},
     "output_type": "execute_result"
    },
    {
     "data": {
      "image/png": "[encoded data removed]",
      "text/plain": [
       "<Figure size 1152x360 with 2 Axes>"
      ]
     },
     "metadata": {},
     "output_type": "display_data"
    }
   ],
   "source": [
    "fig, axes = plt.subplots(nrows=1, ncols=2)\n",
    "fig.set_figheight(5)\n",
    "fig.set_figwidth(16)\n",
    "clienti.hist(ax=axes[0], column='MonetaryValue', bins=150, range=[0, 3450])\n",
    "clienti.boxplot(ax=axes[1], column='MonetaryValue')"
   ]
  },
  {
   "cell_type": "markdown",
   "metadata": {},
   "source": [
    "Si nota che gli istrogrammi degli attributi **I, Iu, Imax, NumBasket, Recency, Frequency** e **Monetary Value** hanno distribuzioni simili (uno/due picchi iniziali e poi una diminuzione drastica all'aumentare dei valori degli attributi). Inoltre, si nota dai boxplot degli attributi che ci sono diversi valori che potrebbero essere degli outliers rispetto al singolo attributo."
   ]
  },
  {
   "cell_type": "markdown",
   "metadata": {},
   "source": [
    "## Attributo EntropySpending."
   ]
  },
  {
   "cell_type": "code",
   "execution_count": 37,
   "metadata": {},
   "outputs": [
    {
     "data": {
      "text/plain": [
       "<matplotlib.axes._subplots.AxesSubplot at 0x1ed045c0250>"
      ]
     },
     "execution_count": 37,
     "metadata": {},
     "output_type": "execute_result"
    },
    {
     "data": {
      "image/png": "[encoded data removed]",
      "text/plain": [
       "<Figure size 1152x360 with 2 Axes>"
      ]
     },
     "metadata": {},
     "output_type": "display_data"
    }
   ],
   "source": [
    "fig, axes = plt.subplots(nrows=1, ncols=2)\n",
    "fig.set_figheight(5)\n",
    "fig.set_figwidth(16)\n",
    "clienti.hist(ax=axes[0], column='EntropySpending', bins=20)\n",
    "clienti.boxplot(ax=axes[1], column='EntropySpending')"
   ]
  },
  {
   "cell_type": "markdown",
   "metadata": {},
   "source": [
    "## Attributo EntropyDays."
   ]
  },
  {
   "cell_type": "code",
   "execution_count": 38,
   "metadata": {},
   "outputs": [
    {
     "data": {
      "text/plain": [
       "<matplotlib.axes._subplots.AxesSubplot at 0x1ed04a97580>"
      ]
     },
     "execution_count": 38,
     "metadata": {},
     "output_type": "execute_result"
    },
    {
     "data": {
      "image/png": "[encoded data removed]",
      "text/plain": [
       "<Figure size 1152x360 with 2 Axes>"
      ]
     },
     "metadata": {},
     "output_type": "display_data"
    }
   ],
   "source": [
    "fig, axes = plt.subplots(nrows=1, ncols=2)\n",
    "fig.set_figheight(5)\n",
    "fig.set_figwidth(16)\n",
    "clienti.hist(ax=axes[0], column='EntropyDays', bins=20)\n",
    "clienti.boxplot(ax=axes[1], column='EntropyDays')"
   ]
  },
  {
   "cell_type": "markdown",
   "metadata": {},
   "source": [
    "## Attributo EntropyProducts."
   ]
  },
  {
   "cell_type": "code",
   "execution_count": 39,
   "metadata": {},
   "outputs": [
    {
     "data": {
      "text/plain": [
       "<matplotlib.axes._subplots.AxesSubplot at 0x1ed04d303d0>"
      ]
     },
     "execution_count": 39,
     "metadata": {},
     "output_type": "execute_result"
    },
    {
     "data": {
      "image/png": "[encoded data removed]",
      "text/plain": [
       "<Figure size 1152x360 with 2 Axes>"
      ]
     },
     "metadata": {},
     "output_type": "display_data"
    }
   ],
   "source": [
    "fig, axes = plt.subplots(nrows=1, ncols=2)\n",
    "fig.set_figheight(5)\n",
    "fig.set_figwidth(16)\n",
    "clienti.hist(ax=axes[0], column='EntropyProducts', bins=20)\n",
    "clienti.boxplot(ax=axes[1], column='EntropyProducts')"
   ]
  },
  {
   "cell_type": "markdown",
   "metadata": {},
   "source": [
    "Gli istrogrammi degli attributi **EntropySpending** e **EntropyProducts** hanno una forma simile ad una distribuzione normale. Mentre per quanto riguarda l'attributo **EntropyDays** si nota un picco iniziale in corrispondenza del primo bin dell'istogramma. Dai bloxplot si nota che gli attributi EntropySpending e EntropyProducts hanno pochi valori \"outliers\", mentre l'attributo EntropyDays nessuno."
   ]
  },
  {
   "cell_type": "markdown",
   "metadata": {},
   "source": [
    "## Correlazione"
   ]
  },
  {
   "cell_type": "markdown",
   "metadata": {},
   "source": [
    "Controlliamo se alcune colonne sono correlate tra loro. Quindi, riduciamo la dimensione (cioè il numero di colonne) del dataframe eliminando alcune di esse."
   ]
  },
  {
   "cell_type": "code",
   "execution_count": 40,
   "metadata": {
    "scrolled": true
   },
   "outputs": [
    {
     "data": {
      "text/html": [
       "<div>\n",
       "<style scoped>\n",
       "    .dataframe tbody tr th:only-of-type {\n",
       "        vertical-align: middle;\n",
       "    }\n",
       "\n",
       "    .dataframe tbody tr th {\n",
       "        vertical-align: top;\n",
       "    }\n",
       "\n",
       "    .dataframe thead th {\n",
       "        text-align: right;\n",
       "    }\n",
       "</style>\n",
       "<table border=\"1\" class=\"dataframe\">\n",
       "  <thead>\n",
       "    <tr style=\"text-align: right;\">\n",
       "      <th></th>\n",
       "      <th>I</th>\n",
       "      <th>Iu</th>\n",
       "      <th>Imax</th>\n",
       "      <th>NumBasket</th>\n",
       "      <th>Recency</th>\n",
       "      <th>Frequency</th>\n",
       "      <th>MonetaryValue</th>\n",
       "      <th>EntropySpending</th>\n",
       "      <th>EntropyDays</th>\n",
       "      <th>EntropyProducts</th>\n",
       "    </tr>\n",
       "  </thead>\n",
       "  <tbody>\n",
       "    <tr>\n",
       "      <th>I</th>\n",
       "      <td>1.000000</td>\n",
       "      <td>0.436924</td>\n",
       "      <td>0.772563</td>\n",
       "      <td>0.579933</td>\n",
       "      <td>-0.135328</td>\n",
       "      <td>0.458389</td>\n",
       "      <td>0.919603</td>\n",
       "      <td>0.238293</td>\n",
       "      <td>0.257291</td>\n",
       "      <td>0.210610</td>\n",
       "    </tr>\n",
       "    <tr>\n",
       "      <th>Iu</th>\n",
       "      <td>0.436924</td>\n",
       "      <td>1.000000</td>\n",
       "      <td>0.328927</td>\n",
       "      <td>0.691131</td>\n",
       "      <td>-0.301515</td>\n",
       "      <td>0.881194</td>\n",
       "      <td>0.401292</td>\n",
       "      <td>0.606284</td>\n",
       "      <td>0.448861</td>\n",
       "      <td>0.692048</td>\n",
       "    </tr>\n",
       "    <tr>\n",
       "      <th>Imax</th>\n",
       "      <td>0.772563</td>\n",
       "      <td>0.328927</td>\n",
       "      <td>1.000000</td>\n",
       "      <td>0.357745</td>\n",
       "      <td>-0.141372</td>\n",
       "      <td>0.281231</td>\n",
       "      <td>0.698852</td>\n",
       "      <td>0.252888</td>\n",
       "      <td>0.223264</td>\n",
       "      <td>0.228958</td>\n",
       "    </tr>\n",
       "    <tr>\n",
       "      <th>NumBasket</th>\n",
       "      <td>0.579933</td>\n",
       "      <td>0.691131</td>\n",
       "      <td>0.357745</td>\n",
       "      <td>1.000000</td>\n",
       "      <td>-0.262649</td>\n",
       "      <td>0.757551</td>\n",
       "      <td>0.566480</td>\n",
       "      <td>0.381922</td>\n",
       "      <td>0.515844</td>\n",
       "      <td>0.367022</td>\n",
       "    </tr>\n",
       "    <tr>\n",
       "      <th>Recency</th>\n",
       "      <td>-0.135328</td>\n",
       "      <td>-0.301515</td>\n",
       "      <td>-0.141372</td>\n",
       "      <td>-0.262649</td>\n",
       "      <td>1.000000</td>\n",
       "      <td>-0.209449</td>\n",
       "      <td>-0.129813</td>\n",
       "      <td>-0.419610</td>\n",
       "      <td>-0.477236</td>\n",
       "      <td>-0.403872</td>\n",
       "    </tr>\n",
       "    <tr>\n",
       "      <th>Frequency</th>\n",
       "      <td>0.458389</td>\n",
       "      <td>0.881194</td>\n",
       "      <td>0.281231</td>\n",
       "      <td>0.757551</td>\n",
       "      <td>-0.209449</td>\n",
       "      <td>1.000000</td>\n",
       "      <td>0.435431</td>\n",
       "      <td>0.397072</td>\n",
       "      <td>0.346264</td>\n",
       "      <td>0.455077</td>\n",
       "    </tr>\n",
       "    <tr>\n",
       "      <th>MonetaryValue</th>\n",
       "      <td>0.919603</td>\n",
       "      <td>0.401292</td>\n",
       "      <td>0.698852</td>\n",
       "      <td>0.566480</td>\n",
       "      <td>-0.129813</td>\n",
       "      <td>0.435431</td>\n",
       "      <td>1.000000</td>\n",
       "      <td>0.239564</td>\n",
       "      <td>0.249570</td>\n",
       "      <td>0.202970</td>\n",
       "    </tr>\n",
       "    <tr>\n",
       "      <th>EntropySpending</th>\n",
       "      <td>0.238293</td>\n",
       "      <td>0.606284</td>\n",
       "      <td>0.252888</td>\n",
       "      <td>0.381922</td>\n",
       "      <td>-0.419610</td>\n",
       "      <td>0.397072</td>\n",
       "      <td>0.239564</td>\n",
       "      <td>1.000000</td>\n",
       "      <td>0.532429</td>\n",
       "      <td>0.929430</td>\n",
       "    </tr>\n",
       "    <tr>\n",
       "      <th>EntropyDays</th>\n",
       "      <td>0.257291</td>\n",
       "      <td>0.448861</td>\n",
       "      <td>0.223264</td>\n",
       "      <td>0.515844</td>\n",
       "      <td>-0.477236</td>\n",
       "      <td>0.346264</td>\n",
       "      <td>0.249570</td>\n",
       "      <td>0.532429</td>\n",
       "      <td>1.000000</td>\n",
       "      <td>0.514594</td>\n",
       "    </tr>\n",
       "    <tr>\n",
       "      <th>EntropyProducts</th>\n",
       "      <td>0.210610</td>\n",
       "      <td>0.692048</td>\n",
       "      <td>0.228958</td>\n",
       "      <td>0.367022</td>\n",
       "      <td>-0.403872</td>\n",
       "      <td>0.455077</td>\n",
       "      <td>0.202970</td>\n",
       "      <td>0.929430</td>\n",
       "      <td>0.514594</td>\n",
       "      <td>1.000000</td>\n",
       "    </tr>\n",
       "  </tbody>\n",
       "</table>\n",
       "</div>"
      ],
      "text/plain": [
       "                        I        Iu      Imax  NumBasket   Recency  Frequency  \\\n",
       "I                1.000000  0.436924  0.772563   0.579933 -0.135328   0.458389   \n",
       "Iu               0.436924  1.000000  0.328927   0.691131 -0.301515   0.881194   \n",
       "Imax             0.772563  0.328927  1.000000   0.357745 -0.141372   0.281231   \n",
       "NumBasket        0.579933  0.691131  0.357745   1.000000 -0.262649   0.757551   \n",
       "Recency         -0.135328 -0.301515 -0.141372  -0.262649  1.000000  -0.209449   \n",
       "Frequency        0.458389  0.881194  0.281231   0.757551 -0.209449   1.000000   \n",
       "MonetaryValue    0.919603  0.401292  0.698852   0.566480 -0.129813   0.435431   \n",
       "EntropySpending  0.238293  0.606284  0.252888   0.381922 -0.419610   0.397072   \n",
       "EntropyDays      0.257291  0.448861  0.223264   0.515844 -0.477236   0.346264   \n",
       "EntropyProducts  0.210610  0.692048  0.228958   0.367022 -0.403872   0.455077   \n",
       "\n",
       "                 MonetaryValue  EntropySpending  EntropyDays  EntropyProducts  \n",
       "I                     0.919603         0.238293     0.257291         0.210610  \n",
       "Iu                    0.401292         0.606284     0.448861         0.692048  \n",
       "Imax                  0.698852         0.252888     0.223264         0.228958  \n",
       "NumBasket             0.566480         0.381922     0.515844         0.367022  \n",
       "Recency              -0.129813        -0.419610    -0.477236        -0.403872  \n",
       "Frequency             0.435431         0.397072     0.346264         0.455077  \n",
       "MonetaryValue         1.000000         0.239564     0.249570         0.202970  \n",
       "EntropySpending       0.239564         1.000000     0.532429         0.929430  \n",
       "EntropyDays           0.249570         0.532429     1.000000         0.514594  \n",
       "EntropyProducts       0.202970         0.929430     0.514594         1.000000  "
      ]
     },
     "execution_count": 40,
     "metadata": {},
     "output_type": "execute_result"
    }
   ],
   "source": [
    "clienti.corr()"
   ]
  },
  {
   "cell_type": "markdown",
   "metadata": {},
   "source": [
    "Eliminiamo gli attributi **I, Iu, NumBasket** e **EntropySpending** in quanto hanno un'alta correlazione con i restanti attributi. Eliminiamo anche l'attributo **EntropyDays**, perché ritenuto poco significativo, poiché ci sono molti clienti che hanno fatto un solo acquisto."
   ]
  },
  {
   "cell_type": "code",
   "execution_count": 41,
   "metadata": {},
   "outputs": [
    {
     "data": {
      "text/html": [
       "<div>\n",
       "<style scoped>\n",
       "    .dataframe tbody tr th:only-of-type {\n",
       "        vertical-align: middle;\n",
       "    }\n",
       "\n",
       "    .dataframe tbody tr th {\n",
       "        vertical-align: top;\n",
       "    }\n",
       "\n",
       "    .dataframe thead th {\n",
       "        text-align: right;\n",
       "    }\n",
       "</style>\n",
       "<table border=\"1\" class=\"dataframe\">\n",
       "  <thead>\n",
       "    <tr style=\"text-align: right;\">\n",
       "      <th></th>\n",
       "      <th>Imax</th>\n",
       "      <th>Recency</th>\n",
       "      <th>Frequency</th>\n",
       "      <th>MonetaryValue</th>\n",
       "      <th>EntropyProducts</th>\n",
       "    </tr>\n",
       "    <tr>\n",
       "      <th>CustomerID</th>\n",
       "      <th></th>\n",
       "      <th></th>\n",
       "      <th></th>\n",
       "      <th></th>\n",
       "      <th></th>\n",
       "    </tr>\n",
       "  </thead>\n",
       "  <tbody>\n",
       "    <tr>\n",
       "      <th>12347</th>\n",
       "      <td>676</td>\n",
       "      <td>1</td>\n",
       "      <td>182</td>\n",
       "      <td>4310.00</td>\n",
       "      <td>4.464578</td>\n",
       "    </tr>\n",
       "    <tr>\n",
       "      <th>12348</th>\n",
       "      <td>1248</td>\n",
       "      <td>74</td>\n",
       "      <td>27</td>\n",
       "      <td>1437.24</td>\n",
       "      <td>2.987771</td>\n",
       "    </tr>\n",
       "    <tr>\n",
       "      <th>12349</th>\n",
       "      <td>630</td>\n",
       "      <td>18</td>\n",
       "      <td>72</td>\n",
       "      <td>1457.55</td>\n",
       "      <td>4.276666</td>\n",
       "    </tr>\n",
       "  </tbody>\n",
       "</table>\n",
       "</div>"
      ],
      "text/plain": [
       "            Imax  Recency  Frequency  MonetaryValue  EntropyProducts\n",
       "CustomerID                                                          \n",
       "12347        676        1        182        4310.00         4.464578\n",
       "12348       1248       74         27        1437.24         2.987771\n",
       "12349        630       18         72        1457.55         4.276666"
      ]
     },
     "execution_count": 41,
     "metadata": {},
     "output_type": "execute_result"
    }
   ],
   "source": [
    "# Eliminiamo le colonne I, Iu, NumBasket, EntropySpending e EntropyDays\n",
    "clienti.drop(columns=['I','Iu', 'NumBasket', 'EntropySpending', 'EntropyDays'], inplace=True)\n",
    "clienti.head(3)"
   ]
  },
  {
   "cell_type": "markdown",
   "metadata": {},
   "source": [
    "In seguito sono riportati gli scatter plot bidimensionali per ogni possibile coppia di attributi."
   ]
  },
  {
   "cell_type": "code",
   "execution_count": 42,
   "metadata": {},
   "outputs": [
    {
     "data": {
      "text/plain": [
       "<matplotlib.axes._subplots.AxesSubplot at 0x1ed0526ba30>"
      ]
     },
     "execution_count": 42,
     "metadata": {},
     "output_type": "execute_result"
    },
    {
     "data": {
      "image/png": "[encoded data removed]",
      "text/plain": [
       "<Figure size 1152x720 with 4 Axes>"
      ]
     },
     "metadata": {},
     "output_type": "display_data"
    }
   ],
   "source": [
    "fig, axes = plt.subplots(nrows=2, ncols=2)\n",
    "fig.set_figheight(10)\n",
    "fig.set_figwidth(16)\n",
    "clienti.plot.scatter(ax=axes[0,0], x='Imax', y='Recency')\n",
    "clienti.plot.scatter(ax=axes[0,1], x='Imax', y='Frequency')\n",
    "clienti.plot.scatter(ax=axes[1,0], x='Imax', y='MonetaryValue')\n",
    "clienti.plot.scatter(ax=axes[1,1], x='Imax', y='EntropyProducts')"
   ]
  },
  {
   "cell_type": "code",
   "execution_count": 43,
   "metadata": {},
   "outputs": [
    {
     "data": {
      "image/png": "[encoded data removed]",
      "text/plain": [
       "<Figure size 1152x720 with 3 Axes>"
      ]
     },
     "metadata": {},
     "output_type": "display_data"
    }
   ],
   "source": [
    "fig, axes = plt.subplots(nrows=2, ncols=2)\n",
    "fig.set_figheight(10)\n",
    "fig.set_figwidth(16)\n",
    "clienti.plot.scatter(ax=axes[0,0], x='Recency', y='Frequency')\n",
    "clienti.plot.scatter(ax=axes[0,1], x='Recency', y='MonetaryValue')\n",
    "clienti.plot.scatter(ax=axes[1,0], x='Recency', y='EntropyProducts')\n",
    "fig.delaxes(axes[1][1])"
   ]
  },
  {
   "cell_type": "code",
   "execution_count": 44,
   "metadata": {},
   "outputs": [
    {
     "data": {
      "text/plain": [
       "<matplotlib.axes._subplots.AxesSubplot at 0x1ed04541580>"
      ]
     },
     "execution_count": 44,
     "metadata": {},
     "output_type": "execute_result"
    },
    {
     "data": {
      "image/png": "[encoded data removed]",
      "text/plain": [
       "<Figure size 1152x360 with 2 Axes>"
      ]
     },
     "metadata": {},
     "output_type": "display_data"
    }
   ],
   "source": [
    "fig, axes = plt.subplots(nrows=1, ncols=2)\n",
    "fig.set_figheight(5)\n",
    "fig.set_figwidth(16)\n",
    "clienti.plot.scatter(ax=axes[0], x='Frequency', y='MonetaryValue')\n",
    "clienti.plot.scatter(ax=axes[1], x='Frequency', y='EntropyProducts')"
   ]
  },
  {
   "cell_type": "code",
   "execution_count": 45,
   "metadata": {},
   "outputs": [
    {
     "data": {
      "text/plain": [
       "<matplotlib.axes._subplots.AxesSubplot at 0x1ed047c4160>"
      ]
     },
     "execution_count": 45,
     "metadata": {},
     "output_type": "execute_result"
    },
    {
     "data": {
      "image/png": "[encoded data removed]",
      "text/plain": [
       "<Figure size 504x360 with 1 Axes>"
      ]
     },
     "metadata": {},
     "output_type": "display_data"
    }
   ],
   "source": [
    "clienti.plot.scatter(x='MonetaryValue', y='EntropyProducts', figsize=(7,5))"
   ]
  },
  {
   "cell_type": "markdown",
   "metadata": {},
   "source": [
    "Il dataframe che utilizzeremo per il clustering sarà clienti, quindi esporto il dataframe in formato csv."
   ]
  },
  {
   "cell_type": "code",
   "execution_count": 46,
   "metadata": {},
   "outputs": [],
   "source": [
    "clienti.to_csv('clienti.csv')"
   ]
  }
 ],
 "metadata": {
  "kernelspec": {
   "display_name": "Python 3",
   "language": "python",
   "name": "python3"
  },
  "language_info": {
   "codemirror_mode": {
    "name": "ipython",
    "version": 3
   },
   "file_extension": ".py",
   "mimetype": "text/x-python",
   "name": "python",
   "nbconvert_exporter": "python",
   "pygments_lexer": "ipython3",
   "version": "3.8.3"
  }
 },
 "nbformat": 4,
 "nbformat_minor": 4
}
