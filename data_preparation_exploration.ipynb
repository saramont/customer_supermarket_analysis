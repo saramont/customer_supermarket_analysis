{
 "cells": [
  {
   "cell_type": "code",
   "execution_count": 1,
   "metadata": {},
   "outputs": [],
   "source": [
    "%matplotlib inline\n",
    "import pandas as pd\n",
    "import numpy as np\n",
    "import matplotlib.pyplot as plt\n",
    "import squarify\n",
    "plt.style.use('seaborn-white')"
   ]
  },
  {
   "cell_type": "markdown",
   "metadata": {},
   "source": [
    "## Data preparation"
   ]
  },
  {
   "cell_type": "code",
   "execution_count": 2,
   "metadata": {
    "scrolled": true
   },
   "outputs": [
    {
     "data": {
      "text/html": [
       "<div>\n",
       "<style scoped>\n",
       "    .dataframe tbody tr th:only-of-type {\n",
       "        vertical-align: middle;\n",
       "    }\n",
       "\n",
       "    .dataframe tbody tr th {\n",
       "        vertical-align: top;\n",
       "    }\n",
       "\n",
       "    .dataframe thead th {\n",
       "        text-align: right;\n",
       "    }\n",
       "</style>\n",
       "<table border=\"1\" class=\"dataframe\">\n",
       "  <thead>\n",
       "    <tr style=\"text-align: right;\">\n",
       "      <th></th>\n",
       "      <th>BasketID</th>\n",
       "      <th>BasketDate</th>\n",
       "      <th>Sale</th>\n",
       "      <th>CustomerID</th>\n",
       "      <th>CustomerCountry</th>\n",
       "      <th>ProdID</th>\n",
       "      <th>ProdDescr</th>\n",
       "      <th>Qta</th>\n",
       "    </tr>\n",
       "  </thead>\n",
       "  <tbody>\n",
       "    <tr>\n",
       "      <th>0</th>\n",
       "      <td>536365</td>\n",
       "      <td>01/12/10 08:26</td>\n",
       "      <td>2,55</td>\n",
       "      <td>17850.0</td>\n",
       "      <td>United Kingdom</td>\n",
       "      <td>85123A</td>\n",
       "      <td>WHITE HANGING HEART T-LIGHT HOLDER</td>\n",
       "      <td>6</td>\n",
       "    </tr>\n",
       "    <tr>\n",
       "      <th>1</th>\n",
       "      <td>536365</td>\n",
       "      <td>01/12/10 08:26</td>\n",
       "      <td>3,39</td>\n",
       "      <td>17850.0</td>\n",
       "      <td>United Kingdom</td>\n",
       "      <td>71053</td>\n",
       "      <td>WHITE METAL LANTERN</td>\n",
       "      <td>6</td>\n",
       "    </tr>\n",
       "    <tr>\n",
       "      <th>2</th>\n",
       "      <td>536365</td>\n",
       "      <td>01/12/10 08:26</td>\n",
       "      <td>2,75</td>\n",
       "      <td>17850.0</td>\n",
       "      <td>United Kingdom</td>\n",
       "      <td>84406B</td>\n",
       "      <td>CREAM CUPID HEARTS COAT HANGER</td>\n",
       "      <td>8</td>\n",
       "    </tr>\n",
       "    <tr>\n",
       "      <th>3</th>\n",
       "      <td>536365</td>\n",
       "      <td>01/12/10 08:26</td>\n",
       "      <td>3,39</td>\n",
       "      <td>17850.0</td>\n",
       "      <td>United Kingdom</td>\n",
       "      <td>84029G</td>\n",
       "      <td>KNITTED UNION FLAG HOT WATER BOTTLE</td>\n",
       "      <td>6</td>\n",
       "    </tr>\n",
       "    <tr>\n",
       "      <th>4</th>\n",
       "      <td>536365</td>\n",
       "      <td>01/12/10 08:26</td>\n",
       "      <td>3,39</td>\n",
       "      <td>17850.0</td>\n",
       "      <td>United Kingdom</td>\n",
       "      <td>84029E</td>\n",
       "      <td>RED WOOLLY HOTTIE WHITE HEART.</td>\n",
       "      <td>6</td>\n",
       "    </tr>\n",
       "    <tr>\n",
       "      <th>...</th>\n",
       "      <td>...</td>\n",
       "      <td>...</td>\n",
       "      <td>...</td>\n",
       "      <td>...</td>\n",
       "      <td>...</td>\n",
       "      <td>...</td>\n",
       "      <td>...</td>\n",
       "      <td>...</td>\n",
       "    </tr>\n",
       "    <tr>\n",
       "      <th>471905</th>\n",
       "      <td>581587</td>\n",
       "      <td>09/12/11 12:50</td>\n",
       "      <td>2,1</td>\n",
       "      <td>12680.0</td>\n",
       "      <td>France</td>\n",
       "      <td>22899</td>\n",
       "      <td>CHILDREN'S APRON DOLLY GIRL</td>\n",
       "      <td>6</td>\n",
       "    </tr>\n",
       "    <tr>\n",
       "      <th>471906</th>\n",
       "      <td>581587</td>\n",
       "      <td>09/12/11 12:50</td>\n",
       "      <td>4,15</td>\n",
       "      <td>12680.0</td>\n",
       "      <td>France</td>\n",
       "      <td>23254</td>\n",
       "      <td>CHILDRENS CUTLERY DOLLY GIRL</td>\n",
       "      <td>4</td>\n",
       "    </tr>\n",
       "    <tr>\n",
       "      <th>471907</th>\n",
       "      <td>581587</td>\n",
       "      <td>09/12/11 12:50</td>\n",
       "      <td>4,15</td>\n",
       "      <td>12680.0</td>\n",
       "      <td>France</td>\n",
       "      <td>23255</td>\n",
       "      <td>CHILDRENS CUTLERY CIRCUS PARADE</td>\n",
       "      <td>4</td>\n",
       "    </tr>\n",
       "    <tr>\n",
       "      <th>471908</th>\n",
       "      <td>581587</td>\n",
       "      <td>09/12/11 12:50</td>\n",
       "      <td>4,95</td>\n",
       "      <td>12680.0</td>\n",
       "      <td>France</td>\n",
       "      <td>22138</td>\n",
       "      <td>BAKING SET 9 PIECE RETROSPOT</td>\n",
       "      <td>3</td>\n",
       "    </tr>\n",
       "    <tr>\n",
       "      <th>471909</th>\n",
       "      <td>581587</td>\n",
       "      <td>09/12/11 12:50</td>\n",
       "      <td>18</td>\n",
       "      <td>12680.0</td>\n",
       "      <td>France</td>\n",
       "      <td>POST</td>\n",
       "      <td>POSTAGE</td>\n",
       "      <td>1</td>\n",
       "    </tr>\n",
       "  </tbody>\n",
       "</table>\n",
       "<p>471910 rows × 8 columns</p>\n",
       "</div>"
      ],
      "text/plain": [
       "       BasketID      BasketDate  Sale  CustomerID CustomerCountry  ProdID  \\\n",
       "0        536365  01/12/10 08:26  2,55     17850.0  United Kingdom  85123A   \n",
       "1        536365  01/12/10 08:26  3,39     17850.0  United Kingdom   71053   \n",
       "2        536365  01/12/10 08:26  2,75     17850.0  United Kingdom  84406B   \n",
       "3        536365  01/12/10 08:26  3,39     17850.0  United Kingdom  84029G   \n",
       "4        536365  01/12/10 08:26  3,39     17850.0  United Kingdom  84029E   \n",
       "...         ...             ...   ...         ...             ...     ...   \n",
       "471905   581587  09/12/11 12:50   2,1     12680.0          France   22899   \n",
       "471906   581587  09/12/11 12:50  4,15     12680.0          France   23254   \n",
       "471907   581587  09/12/11 12:50  4,15     12680.0          France   23255   \n",
       "471908   581587  09/12/11 12:50  4,95     12680.0          France   22138   \n",
       "471909   581587  09/12/11 12:50    18     12680.0          France    POST   \n",
       "\n",
       "                                  ProdDescr  Qta  \n",
       "0        WHITE HANGING HEART T-LIGHT HOLDER    6  \n",
       "1                       WHITE METAL LANTERN    6  \n",
       "2            CREAM CUPID HEARTS COAT HANGER    8  \n",
       "3       KNITTED UNION FLAG HOT WATER BOTTLE    6  \n",
       "4            RED WOOLLY HOTTIE WHITE HEART.    6  \n",
       "...                                     ...  ...  \n",
       "471905         CHILDREN'S APRON DOLLY GIRL     6  \n",
       "471906        CHILDRENS CUTLERY DOLLY GIRL     4  \n",
       "471907      CHILDRENS CUTLERY CIRCUS PARADE    4  \n",
       "471908        BAKING SET 9 PIECE RETROSPOT     3  \n",
       "471909                              POSTAGE    1  \n",
       "\n",
       "[471910 rows x 8 columns]"
      ]
     },
     "execution_count": 2,
     "metadata": {},
     "output_type": "execute_result"
    }
   ],
   "source": [
    "df = pd.read_csv('customer_supermarket.csv', sep='\\t')\n",
    "df.drop(columns=['Unnamed: 0'], inplace=True)\n",
    "df"
   ]
  },
  {
   "cell_type": "code",
   "execution_count": 3,
   "metadata": {
    "scrolled": false
   },
   "outputs": [
    {
     "name": "stdout",
     "output_type": "stream",
     "text": [
      "<class 'pandas.core.frame.DataFrame'>\n",
      "RangeIndex: 471910 entries, 0 to 471909\n",
      "Data columns (total 8 columns):\n",
      " #   Column           Non-Null Count   Dtype  \n",
      "---  ------           --------------   -----  \n",
      " 0   BasketID         471910 non-null  object \n",
      " 1   BasketDate       471910 non-null  object \n",
      " 2   Sale             471910 non-null  object \n",
      " 3   CustomerID       406830 non-null  float64\n",
      " 4   CustomerCountry  471910 non-null  object \n",
      " 5   ProdID           471910 non-null  object \n",
      " 6   ProdDescr        471157 non-null  object \n",
      " 7   Qta              471910 non-null  int64  \n",
      "dtypes: float64(1), int64(1), object(6)\n",
      "memory usage: 28.8+ MB\n"
     ]
    }
   ],
   "source": [
    "df.info()"
   ]
  },
  {
   "cell_type": "markdown",
   "metadata": {},
   "source": [
    "BasketID è una stringa, contiene lettere C che indicano la cancellazione. Eliminiamo le righe corrispondenti. "
   ]
  },
  {
   "cell_type": "code",
   "execution_count": 4,
   "metadata": {},
   "outputs": [
    {
     "data": {
      "text/html": [
       "<div>\n",
       "<style scoped>\n",
       "    .dataframe tbody tr th:only-of-type {\n",
       "        vertical-align: middle;\n",
       "    }\n",
       "\n",
       "    .dataframe tbody tr th {\n",
       "        vertical-align: top;\n",
       "    }\n",
       "\n",
       "    .dataframe thead th {\n",
       "        text-align: right;\n",
       "    }\n",
       "</style>\n",
       "<table border=\"1\" class=\"dataframe\">\n",
       "  <thead>\n",
       "    <tr style=\"text-align: right;\">\n",
       "      <th></th>\n",
       "      <th>BasketID</th>\n",
       "      <th>BasketDate</th>\n",
       "      <th>Sale</th>\n",
       "      <th>CustomerID</th>\n",
       "      <th>CustomerCountry</th>\n",
       "      <th>ProdID</th>\n",
       "      <th>ProdDescr</th>\n",
       "      <th>Qta</th>\n",
       "    </tr>\n",
       "  </thead>\n",
       "  <tbody>\n",
       "    <tr>\n",
       "      <th>141</th>\n",
       "      <td>C536379</td>\n",
       "      <td>01/12/10 09:41</td>\n",
       "      <td>27,5</td>\n",
       "      <td>14527.0</td>\n",
       "      <td>United Kingdom</td>\n",
       "      <td>D</td>\n",
       "      <td>Discount</td>\n",
       "      <td>-1</td>\n",
       "    </tr>\n",
       "    <tr>\n",
       "      <th>154</th>\n",
       "      <td>C536383</td>\n",
       "      <td>01/12/10 09:49</td>\n",
       "      <td>4,65</td>\n",
       "      <td>15311.0</td>\n",
       "      <td>United Kingdom</td>\n",
       "      <td>35004C</td>\n",
       "      <td>SET OF 3 COLOURED  FLYING DUCKS</td>\n",
       "      <td>-1</td>\n",
       "    </tr>\n",
       "    <tr>\n",
       "      <th>235</th>\n",
       "      <td>C536391</td>\n",
       "      <td>01/12/10 10:24</td>\n",
       "      <td>1,65</td>\n",
       "      <td>17548.0</td>\n",
       "      <td>United Kingdom</td>\n",
       "      <td>22556</td>\n",
       "      <td>PLASTERS IN TIN CIRCUS PARADE</td>\n",
       "      <td>-12</td>\n",
       "    </tr>\n",
       "    <tr>\n",
       "      <th>236</th>\n",
       "      <td>C536391</td>\n",
       "      <td>01/12/10 10:24</td>\n",
       "      <td>0,29</td>\n",
       "      <td>17548.0</td>\n",
       "      <td>United Kingdom</td>\n",
       "      <td>21984</td>\n",
       "      <td>PACK OF 12 PINK PAISLEY TISSUES</td>\n",
       "      <td>-24</td>\n",
       "    </tr>\n",
       "    <tr>\n",
       "      <th>237</th>\n",
       "      <td>C536391</td>\n",
       "      <td>01/12/10 10:24</td>\n",
       "      <td>0,29</td>\n",
       "      <td>17548.0</td>\n",
       "      <td>United Kingdom</td>\n",
       "      <td>21983</td>\n",
       "      <td>PACK OF 12 BLUE PAISLEY TISSUES</td>\n",
       "      <td>-24</td>\n",
       "    </tr>\n",
       "    <tr>\n",
       "      <th>...</th>\n",
       "      <td>...</td>\n",
       "      <td>...</td>\n",
       "      <td>...</td>\n",
       "      <td>...</td>\n",
       "      <td>...</td>\n",
       "      <td>...</td>\n",
       "      <td>...</td>\n",
       "      <td>...</td>\n",
       "    </tr>\n",
       "    <tr>\n",
       "      <th>470979</th>\n",
       "      <td>C581490</td>\n",
       "      <td>09/12/11 09:57</td>\n",
       "      <td>0,83</td>\n",
       "      <td>14397.0</td>\n",
       "      <td>United Kingdom</td>\n",
       "      <td>23144</td>\n",
       "      <td>ZINC T-LIGHT HOLDER STARS SMALL</td>\n",
       "      <td>-11</td>\n",
       "    </tr>\n",
       "    <tr>\n",
       "      <th>471541</th>\n",
       "      <td>C581499</td>\n",
       "      <td>09/12/11 10:28</td>\n",
       "      <td>224,69</td>\n",
       "      <td>15498.0</td>\n",
       "      <td>United Kingdom</td>\n",
       "      <td>M</td>\n",
       "      <td>Manual</td>\n",
       "      <td>-1</td>\n",
       "    </tr>\n",
       "    <tr>\n",
       "      <th>471715</th>\n",
       "      <td>C581568</td>\n",
       "      <td>09/12/11 11:57</td>\n",
       "      <td>10,95</td>\n",
       "      <td>15311.0</td>\n",
       "      <td>United Kingdom</td>\n",
       "      <td>21258</td>\n",
       "      <td>VICTORIAN SEWING BOX LARGE</td>\n",
       "      <td>-5</td>\n",
       "    </tr>\n",
       "    <tr>\n",
       "      <th>471716</th>\n",
       "      <td>C581569</td>\n",
       "      <td>09/12/11 11:58</td>\n",
       "      <td>1,25</td>\n",
       "      <td>17315.0</td>\n",
       "      <td>United Kingdom</td>\n",
       "      <td>84978</td>\n",
       "      <td>HANGING HEART JAR T-LIGHT HOLDER</td>\n",
       "      <td>-1</td>\n",
       "    </tr>\n",
       "    <tr>\n",
       "      <th>471717</th>\n",
       "      <td>C581569</td>\n",
       "      <td>09/12/11 11:58</td>\n",
       "      <td>1,25</td>\n",
       "      <td>17315.0</td>\n",
       "      <td>United Kingdom</td>\n",
       "      <td>20979</td>\n",
       "      <td>36 PENCILS TUBE RED RETROSPOT</td>\n",
       "      <td>-5</td>\n",
       "    </tr>\n",
       "  </tbody>\n",
       "</table>\n",
       "<p>9086 rows × 8 columns</p>\n",
       "</div>"
      ],
      "text/plain": [
       "       BasketID      BasketDate    Sale  CustomerID CustomerCountry  ProdID  \\\n",
       "141     C536379  01/12/10 09:41    27,5     14527.0  United Kingdom       D   \n",
       "154     C536383  01/12/10 09:49    4,65     15311.0  United Kingdom  35004C   \n",
       "235     C536391  01/12/10 10:24    1,65     17548.0  United Kingdom   22556   \n",
       "236     C536391  01/12/10 10:24    0,29     17548.0  United Kingdom   21984   \n",
       "237     C536391  01/12/10 10:24    0,29     17548.0  United Kingdom   21983   \n",
       "...         ...             ...     ...         ...             ...     ...   \n",
       "470979  C581490  09/12/11 09:57    0,83     14397.0  United Kingdom   23144   \n",
       "471541  C581499  09/12/11 10:28  224,69     15498.0  United Kingdom       M   \n",
       "471715  C581568  09/12/11 11:57   10,95     15311.0  United Kingdom   21258   \n",
       "471716  C581569  09/12/11 11:58    1,25     17315.0  United Kingdom   84978   \n",
       "471717  C581569  09/12/11 11:58    1,25     17315.0  United Kingdom   20979   \n",
       "\n",
       "                               ProdDescr  Qta  \n",
       "141                             Discount   -1  \n",
       "154      SET OF 3 COLOURED  FLYING DUCKS   -1  \n",
       "235       PLASTERS IN TIN CIRCUS PARADE   -12  \n",
       "236     PACK OF 12 PINK PAISLEY TISSUES   -24  \n",
       "237     PACK OF 12 BLUE PAISLEY TISSUES   -24  \n",
       "...                                  ...  ...  \n",
       "470979   ZINC T-LIGHT HOLDER STARS SMALL  -11  \n",
       "471541                            Manual   -1  \n",
       "471715        VICTORIAN SEWING BOX LARGE   -5  \n",
       "471716  HANGING HEART JAR T-LIGHT HOLDER   -1  \n",
       "471717     36 PENCILS TUBE RED RETROSPOT   -5  \n",
       "\n",
       "[9086 rows x 8 columns]"
      ]
     },
     "execution_count": 4,
     "metadata": {},
     "output_type": "execute_result"
    }
   ],
   "source": [
    "import re\n",
    "\n",
    "def search_letters(the_string):\n",
    "    if re.search('[a-zA-Z]', the_string) is None:\n",
    "        return False\n",
    "    return True\n",
    "\n",
    "df[df['BasketID'].apply(search_letters)]"
   ]
  },
  {
   "cell_type": "code",
   "execution_count": 5,
   "metadata": {},
   "outputs": [
    {
     "data": {
      "text/html": [
       "<div>\n",
       "<style scoped>\n",
       "    .dataframe tbody tr th:only-of-type {\n",
       "        vertical-align: middle;\n",
       "    }\n",
       "\n",
       "    .dataframe tbody tr th {\n",
       "        vertical-align: top;\n",
       "    }\n",
       "\n",
       "    .dataframe thead th {\n",
       "        text-align: right;\n",
       "    }\n",
       "</style>\n",
       "<table border=\"1\" class=\"dataframe\">\n",
       "  <thead>\n",
       "    <tr style=\"text-align: right;\">\n",
       "      <th></th>\n",
       "      <th>BasketID</th>\n",
       "      <th>BasketDate</th>\n",
       "      <th>Sale</th>\n",
       "      <th>CustomerID</th>\n",
       "      <th>CustomerCountry</th>\n",
       "      <th>ProdID</th>\n",
       "      <th>ProdDescr</th>\n",
       "      <th>Qta</th>\n",
       "    </tr>\n",
       "  </thead>\n",
       "  <tbody>\n",
       "    <tr>\n",
       "      <th>141</th>\n",
       "      <td>C536379</td>\n",
       "      <td>01/12/10 09:41</td>\n",
       "      <td>27,5</td>\n",
       "      <td>14527.0</td>\n",
       "      <td>United Kingdom</td>\n",
       "      <td>D</td>\n",
       "      <td>Discount</td>\n",
       "      <td>-1</td>\n",
       "    </tr>\n",
       "    <tr>\n",
       "      <th>154</th>\n",
       "      <td>C536383</td>\n",
       "      <td>01/12/10 09:49</td>\n",
       "      <td>4,65</td>\n",
       "      <td>15311.0</td>\n",
       "      <td>United Kingdom</td>\n",
       "      <td>35004C</td>\n",
       "      <td>SET OF 3 COLOURED  FLYING DUCKS</td>\n",
       "      <td>-1</td>\n",
       "    </tr>\n",
       "    <tr>\n",
       "      <th>235</th>\n",
       "      <td>C536391</td>\n",
       "      <td>01/12/10 10:24</td>\n",
       "      <td>1,65</td>\n",
       "      <td>17548.0</td>\n",
       "      <td>United Kingdom</td>\n",
       "      <td>22556</td>\n",
       "      <td>PLASTERS IN TIN CIRCUS PARADE</td>\n",
       "      <td>-12</td>\n",
       "    </tr>\n",
       "    <tr>\n",
       "      <th>236</th>\n",
       "      <td>C536391</td>\n",
       "      <td>01/12/10 10:24</td>\n",
       "      <td>0,29</td>\n",
       "      <td>17548.0</td>\n",
       "      <td>United Kingdom</td>\n",
       "      <td>21984</td>\n",
       "      <td>PACK OF 12 PINK PAISLEY TISSUES</td>\n",
       "      <td>-24</td>\n",
       "    </tr>\n",
       "    <tr>\n",
       "      <th>237</th>\n",
       "      <td>C536391</td>\n",
       "      <td>01/12/10 10:24</td>\n",
       "      <td>0,29</td>\n",
       "      <td>17548.0</td>\n",
       "      <td>United Kingdom</td>\n",
       "      <td>21983</td>\n",
       "      <td>PACK OF 12 BLUE PAISLEY TISSUES</td>\n",
       "      <td>-24</td>\n",
       "    </tr>\n",
       "    <tr>\n",
       "      <th>...</th>\n",
       "      <td>...</td>\n",
       "      <td>...</td>\n",
       "      <td>...</td>\n",
       "      <td>...</td>\n",
       "      <td>...</td>\n",
       "      <td>...</td>\n",
       "      <td>...</td>\n",
       "      <td>...</td>\n",
       "    </tr>\n",
       "    <tr>\n",
       "      <th>470979</th>\n",
       "      <td>C581490</td>\n",
       "      <td>09/12/11 09:57</td>\n",
       "      <td>0,83</td>\n",
       "      <td>14397.0</td>\n",
       "      <td>United Kingdom</td>\n",
       "      <td>23144</td>\n",
       "      <td>ZINC T-LIGHT HOLDER STARS SMALL</td>\n",
       "      <td>-11</td>\n",
       "    </tr>\n",
       "    <tr>\n",
       "      <th>471541</th>\n",
       "      <td>C581499</td>\n",
       "      <td>09/12/11 10:28</td>\n",
       "      <td>224,69</td>\n",
       "      <td>15498.0</td>\n",
       "      <td>United Kingdom</td>\n",
       "      <td>M</td>\n",
       "      <td>Manual</td>\n",
       "      <td>-1</td>\n",
       "    </tr>\n",
       "    <tr>\n",
       "      <th>471715</th>\n",
       "      <td>C581568</td>\n",
       "      <td>09/12/11 11:57</td>\n",
       "      <td>10,95</td>\n",
       "      <td>15311.0</td>\n",
       "      <td>United Kingdom</td>\n",
       "      <td>21258</td>\n",
       "      <td>VICTORIAN SEWING BOX LARGE</td>\n",
       "      <td>-5</td>\n",
       "    </tr>\n",
       "    <tr>\n",
       "      <th>471716</th>\n",
       "      <td>C581569</td>\n",
       "      <td>09/12/11 11:58</td>\n",
       "      <td>1,25</td>\n",
       "      <td>17315.0</td>\n",
       "      <td>United Kingdom</td>\n",
       "      <td>84978</td>\n",
       "      <td>HANGING HEART JAR T-LIGHT HOLDER</td>\n",
       "      <td>-1</td>\n",
       "    </tr>\n",
       "    <tr>\n",
       "      <th>471717</th>\n",
       "      <td>C581569</td>\n",
       "      <td>09/12/11 11:58</td>\n",
       "      <td>1,25</td>\n",
       "      <td>17315.0</td>\n",
       "      <td>United Kingdom</td>\n",
       "      <td>20979</td>\n",
       "      <td>36 PENCILS TUBE RED RETROSPOT</td>\n",
       "      <td>-5</td>\n",
       "    </tr>\n",
       "  </tbody>\n",
       "</table>\n",
       "<p>9084 rows × 8 columns</p>\n",
       "</div>"
      ],
      "text/plain": [
       "       BasketID      BasketDate    Sale  CustomerID CustomerCountry  ProdID  \\\n",
       "141     C536379  01/12/10 09:41    27,5     14527.0  United Kingdom       D   \n",
       "154     C536383  01/12/10 09:49    4,65     15311.0  United Kingdom  35004C   \n",
       "235     C536391  01/12/10 10:24    1,65     17548.0  United Kingdom   22556   \n",
       "236     C536391  01/12/10 10:24    0,29     17548.0  United Kingdom   21984   \n",
       "237     C536391  01/12/10 10:24    0,29     17548.0  United Kingdom   21983   \n",
       "...         ...             ...     ...         ...             ...     ...   \n",
       "470979  C581490  09/12/11 09:57    0,83     14397.0  United Kingdom   23144   \n",
       "471541  C581499  09/12/11 10:28  224,69     15498.0  United Kingdom       M   \n",
       "471715  C581568  09/12/11 11:57   10,95     15311.0  United Kingdom   21258   \n",
       "471716  C581569  09/12/11 11:58    1,25     17315.0  United Kingdom   84978   \n",
       "471717  C581569  09/12/11 11:58    1,25     17315.0  United Kingdom   20979   \n",
       "\n",
       "                               ProdDescr  Qta  \n",
       "141                             Discount   -1  \n",
       "154      SET OF 3 COLOURED  FLYING DUCKS   -1  \n",
       "235       PLASTERS IN TIN CIRCUS PARADE   -12  \n",
       "236     PACK OF 12 PINK PAISLEY TISSUES   -24  \n",
       "237     PACK OF 12 BLUE PAISLEY TISSUES   -24  \n",
       "...                                  ...  ...  \n",
       "470979   ZINC T-LIGHT HOLDER STARS SMALL  -11  \n",
       "471541                            Manual   -1  \n",
       "471715        VICTORIAN SEWING BOX LARGE   -5  \n",
       "471716  HANGING HEART JAR T-LIGHT HOLDER   -1  \n",
       "471717     36 PENCILS TUBE RED RETROSPOT   -5  \n",
       "\n",
       "[9084 rows x 8 columns]"
      ]
     },
     "execution_count": 5,
     "metadata": {},
     "output_type": "execute_result"
    }
   ],
   "source": [
    "def search_letter_C(the_string):\n",
    "    if re.search('[C]', the_string) is None:\n",
    "        return False\n",
    "    return True\n",
    "\n",
    "df[df['BasketID'].apply(search_letter_C)]"
   ]
  },
  {
   "cell_type": "code",
   "execution_count": 6,
   "metadata": {
    "scrolled": true
   },
   "outputs": [
    {
     "data": {
      "text/html": [
       "<div>\n",
       "<style scoped>\n",
       "    .dataframe tbody tr th:only-of-type {\n",
       "        vertical-align: middle;\n",
       "    }\n",
       "\n",
       "    .dataframe tbody tr th {\n",
       "        vertical-align: top;\n",
       "    }\n",
       "\n",
       "    .dataframe thead th {\n",
       "        text-align: right;\n",
       "    }\n",
       "</style>\n",
       "<table border=\"1\" class=\"dataframe\">\n",
       "  <thead>\n",
       "    <tr style=\"text-align: right;\">\n",
       "      <th></th>\n",
       "      <th>BasketID</th>\n",
       "      <th>BasketDate</th>\n",
       "      <th>Sale</th>\n",
       "      <th>CustomerID</th>\n",
       "      <th>CustomerCountry</th>\n",
       "      <th>ProdID</th>\n",
       "      <th>ProdDescr</th>\n",
       "      <th>Qta</th>\n",
       "    </tr>\n",
       "  </thead>\n",
       "  <tbody>\n",
       "    <tr>\n",
       "      <th>256523</th>\n",
       "      <td>A563186</td>\n",
       "      <td>12/08/11 14:51</td>\n",
       "      <td>-11062,06</td>\n",
       "      <td>NaN</td>\n",
       "      <td>United Kingdom</td>\n",
       "      <td>B</td>\n",
       "      <td>Adjust bad debt</td>\n",
       "      <td>1</td>\n",
       "    </tr>\n",
       "    <tr>\n",
       "      <th>256524</th>\n",
       "      <td>A563187</td>\n",
       "      <td>12/08/11 14:52</td>\n",
       "      <td>-11062,06</td>\n",
       "      <td>NaN</td>\n",
       "      <td>United Kingdom</td>\n",
       "      <td>B</td>\n",
       "      <td>Adjust bad debt</td>\n",
       "      <td>1</td>\n",
       "    </tr>\n",
       "  </tbody>\n",
       "</table>\n",
       "</div>"
      ],
      "text/plain": [
       "       BasketID      BasketDate       Sale  CustomerID CustomerCountry ProdID  \\\n",
       "256523  A563186  12/08/11 14:51  -11062,06         NaN  United Kingdom      B   \n",
       "256524  A563187  12/08/11 14:52  -11062,06         NaN  United Kingdom      B   \n",
       "\n",
       "              ProdDescr  Qta  \n",
       "256523  Adjust bad debt    1  \n",
       "256524  Adjust bad debt    1  "
      ]
     },
     "execution_count": 6,
     "metadata": {},
     "output_type": "execute_result"
    }
   ],
   "source": [
    "def search_letters_noC(the_string):\n",
    "    if re.search('[a-zA-Z]', the_string) is None:\n",
    "        return False\n",
    "    elif re.search('[C]', the_string) is None:\n",
    "        return True\n",
    "    return False\n",
    "\n",
    "df[df['BasketID'].apply(search_letters_noC)]"
   ]
  },
  {
   "cell_type": "code",
   "execution_count": 7,
   "metadata": {
    "scrolled": true
   },
   "outputs": [],
   "source": [
    "tmp = df[df['BasketID'].apply(lambda s: not search_letters(s))]\n",
    "df = tmp.copy()"
   ]
  },
  {
   "cell_type": "markdown",
   "metadata": {},
   "source": [
    "Abbiamo eliminato 9086 righe (tutte quelle che hanno la lettera C o A davanti a BasketID)."
   ]
  },
  {
   "cell_type": "code",
   "execution_count": 8,
   "metadata": {},
   "outputs": [
    {
     "name": "stdout",
     "output_type": "stream",
     "text": [
      "<class 'pandas.core.frame.DataFrame'>\n",
      "Int64Index: 462824 entries, 0 to 471909\n",
      "Data columns (total 8 columns):\n",
      " #   Column           Non-Null Count   Dtype  \n",
      "---  ------           --------------   -----  \n",
      " 0   BasketID         462824 non-null  object \n",
      " 1   BasketDate       462824 non-null  object \n",
      " 2   Sale             462824 non-null  object \n",
      " 3   CustomerID       397925 non-null  float64\n",
      " 4   CustomerCountry  462824 non-null  object \n",
      " 5   ProdID           462824 non-null  object \n",
      " 6   ProdDescr        462071 non-null  object \n",
      " 7   Qta              462824 non-null  int64  \n",
      "dtypes: float64(1), int64(1), object(6)\n",
      "memory usage: 31.8+ MB\n"
     ]
    }
   ],
   "source": [
    "df.info()"
   ]
  },
  {
   "cell_type": "markdown",
   "metadata": {},
   "source": [
    "Trasformo BasketID in intero."
   ]
  },
  {
   "cell_type": "code",
   "execution_count": 9,
   "metadata": {},
   "outputs": [],
   "source": [
    "df['BasketID'] = df['BasketID'].astype(int).copy()"
   ]
  },
  {
   "cell_type": "code",
   "execution_count": 10,
   "metadata": {},
   "outputs": [
    {
     "name": "stdout",
     "output_type": "stream",
     "text": [
      "<class 'pandas.core.frame.DataFrame'>\n",
      "Int64Index: 462824 entries, 0 to 471909\n",
      "Data columns (total 8 columns):\n",
      " #   Column           Non-Null Count   Dtype  \n",
      "---  ------           --------------   -----  \n",
      " 0   BasketID         462824 non-null  int64  \n",
      " 1   BasketDate       462824 non-null  object \n",
      " 2   Sale             462824 non-null  object \n",
      " 3   CustomerID       397925 non-null  float64\n",
      " 4   CustomerCountry  462824 non-null  object \n",
      " 5   ProdID           462824 non-null  object \n",
      " 6   ProdDescr        462071 non-null  object \n",
      " 7   Qta              462824 non-null  int64  \n",
      "dtypes: float64(1), int64(2), object(5)\n",
      "memory usage: 31.8+ MB\n"
     ]
    }
   ],
   "source": [
    "df.info()"
   ]
  },
  {
   "cell_type": "code",
   "execution_count": 11,
   "metadata": {},
   "outputs": [
    {
     "data": {
      "text/html": [
       "<div>\n",
       "<style scoped>\n",
       "    .dataframe tbody tr th:only-of-type {\n",
       "        vertical-align: middle;\n",
       "    }\n",
       "\n",
       "    .dataframe tbody tr th {\n",
       "        vertical-align: top;\n",
       "    }\n",
       "\n",
       "    .dataframe thead th {\n",
       "        text-align: right;\n",
       "    }\n",
       "</style>\n",
       "<table border=\"1\" class=\"dataframe\">\n",
       "  <thead>\n",
       "    <tr style=\"text-align: right;\">\n",
       "      <th></th>\n",
       "      <th>BasketID</th>\n",
       "      <th>BasketDate</th>\n",
       "      <th>Sale</th>\n",
       "      <th>CustomerID</th>\n",
       "      <th>CustomerCountry</th>\n",
       "      <th>ProdID</th>\n",
       "      <th>ProdDescr</th>\n",
       "      <th>Qta</th>\n",
       "    </tr>\n",
       "  </thead>\n",
       "  <tbody>\n",
       "    <tr>\n",
       "      <th>3738</th>\n",
       "      <td>536764</td>\n",
       "      <td>02/12/10 14:42</td>\n",
       "      <td>0</td>\n",
       "      <td>NaN</td>\n",
       "      <td>United Kingdom</td>\n",
       "      <td>84952C</td>\n",
       "      <td>NaN</td>\n",
       "      <td>-38</td>\n",
       "    </tr>\n",
       "    <tr>\n",
       "      <th>6029</th>\n",
       "      <td>536996</td>\n",
       "      <td>03/12/10 15:30</td>\n",
       "      <td>0</td>\n",
       "      <td>NaN</td>\n",
       "      <td>United Kingdom</td>\n",
       "      <td>22712</td>\n",
       "      <td>NaN</td>\n",
       "      <td>-20</td>\n",
       "    </tr>\n",
       "    <tr>\n",
       "      <th>6030</th>\n",
       "      <td>537000</td>\n",
       "      <td>03/12/10 15:32</td>\n",
       "      <td>0</td>\n",
       "      <td>NaN</td>\n",
       "      <td>United Kingdom</td>\n",
       "      <td>21414</td>\n",
       "      <td>NaN</td>\n",
       "      <td>-22</td>\n",
       "    </tr>\n",
       "    <tr>\n",
       "      <th>6031</th>\n",
       "      <td>537001</td>\n",
       "      <td>03/12/10 15:33</td>\n",
       "      <td>0</td>\n",
       "      <td>NaN</td>\n",
       "      <td>United Kingdom</td>\n",
       "      <td>21653</td>\n",
       "      <td>NaN</td>\n",
       "      <td>-6</td>\n",
       "    </tr>\n",
       "    <tr>\n",
       "      <th>6032</th>\n",
       "      <td>537003</td>\n",
       "      <td>03/12/10 15:33</td>\n",
       "      <td>0</td>\n",
       "      <td>NaN</td>\n",
       "      <td>United Kingdom</td>\n",
       "      <td>85126</td>\n",
       "      <td>NaN</td>\n",
       "      <td>-2</td>\n",
       "    </tr>\n",
       "    <tr>\n",
       "      <th>...</th>\n",
       "      <td>...</td>\n",
       "      <td>...</td>\n",
       "      <td>...</td>\n",
       "      <td>...</td>\n",
       "      <td>...</td>\n",
       "      <td>...</td>\n",
       "      <td>...</td>\n",
       "      <td>...</td>\n",
       "    </tr>\n",
       "    <tr>\n",
       "      <th>467098</th>\n",
       "      <td>581198</td>\n",
       "      <td>07/12/11 18:26</td>\n",
       "      <td>0</td>\n",
       "      <td>NaN</td>\n",
       "      <td>United Kingdom</td>\n",
       "      <td>22025</td>\n",
       "      <td>check</td>\n",
       "      <td>-30</td>\n",
       "    </tr>\n",
       "    <tr>\n",
       "      <th>467099</th>\n",
       "      <td>581199</td>\n",
       "      <td>07/12/11 18:26</td>\n",
       "      <td>0</td>\n",
       "      <td>NaN</td>\n",
       "      <td>United Kingdom</td>\n",
       "      <td>84581</td>\n",
       "      <td>NaN</td>\n",
       "      <td>-2</td>\n",
       "    </tr>\n",
       "    <tr>\n",
       "      <th>467100</th>\n",
       "      <td>581201</td>\n",
       "      <td>07/12/11 18:30</td>\n",
       "      <td>0</td>\n",
       "      <td>NaN</td>\n",
       "      <td>United Kingdom</td>\n",
       "      <td>22217</td>\n",
       "      <td>damages?</td>\n",
       "      <td>-155</td>\n",
       "    </tr>\n",
       "    <tr>\n",
       "      <th>467103</th>\n",
       "      <td>581205</td>\n",
       "      <td>07/12/11 18:32</td>\n",
       "      <td>0</td>\n",
       "      <td>NaN</td>\n",
       "      <td>United Kingdom</td>\n",
       "      <td>20893</td>\n",
       "      <td>damages</td>\n",
       "      <td>-55</td>\n",
       "    </tr>\n",
       "    <tr>\n",
       "      <th>467106</th>\n",
       "      <td>581212</td>\n",
       "      <td>07/12/11 18:38</td>\n",
       "      <td>0</td>\n",
       "      <td>NaN</td>\n",
       "      <td>United Kingdom</td>\n",
       "      <td>22578</td>\n",
       "      <td>lost</td>\n",
       "      <td>-1050</td>\n",
       "    </tr>\n",
       "  </tbody>\n",
       "</table>\n",
       "<p>668 rows × 8 columns</p>\n",
       "</div>"
      ],
      "text/plain": [
       "        BasketID      BasketDate Sale  CustomerID CustomerCountry  ProdID  \\\n",
       "3738      536764  02/12/10 14:42    0         NaN  United Kingdom  84952C   \n",
       "6029      536996  03/12/10 15:30    0         NaN  United Kingdom   22712   \n",
       "6030      537000  03/12/10 15:32    0         NaN  United Kingdom   21414   \n",
       "6031      537001  03/12/10 15:33    0         NaN  United Kingdom   21653   \n",
       "6032      537003  03/12/10 15:33    0         NaN  United Kingdom   85126   \n",
       "...          ...             ...  ...         ...             ...     ...   \n",
       "467098    581198  07/12/11 18:26    0         NaN  United Kingdom   22025   \n",
       "467099    581199  07/12/11 18:26    0         NaN  United Kingdom   84581   \n",
       "467100    581201  07/12/11 18:30    0         NaN  United Kingdom   22217   \n",
       "467103    581205  07/12/11 18:32    0         NaN  United Kingdom   20893   \n",
       "467106    581212  07/12/11 18:38    0         NaN  United Kingdom   22578   \n",
       "\n",
       "       ProdDescr   Qta  \n",
       "3738         NaN   -38  \n",
       "6029         NaN   -20  \n",
       "6030         NaN   -22  \n",
       "6031         NaN    -6  \n",
       "6032         NaN    -2  \n",
       "...          ...   ...  \n",
       "467098     check   -30  \n",
       "467099       NaN    -2  \n",
       "467100  damages?  -155  \n",
       "467103   damages   -55  \n",
       "467106      lost -1050  \n",
       "\n",
       "[668 rows x 8 columns]"
      ]
     },
     "execution_count": 11,
     "metadata": {},
     "output_type": "execute_result"
    }
   ],
   "source": [
    "df[df['Qta'] <= 0]"
   ]
  },
  {
   "cell_type": "code",
   "execution_count": 12,
   "metadata": {},
   "outputs": [
    {
     "data": {
      "text/plain": [
       "0    668\n",
       "Name: Sale, dtype: int64"
      ]
     },
     "execution_count": 12,
     "metadata": {},
     "output_type": "execute_result"
    }
   ],
   "source": [
    "df[df['Qta'] < 0]['Sale'].value_counts()"
   ]
  },
  {
   "cell_type": "markdown",
   "metadata": {},
   "source": [
    "Tutti i record con Qta negativa hanno Sale = 0, allora gli eliminiamo in quanto non sono interessati per l'analisi. Inoltre sono solamente 668 righe."
   ]
  },
  {
   "cell_type": "code",
   "execution_count": 13,
   "metadata": {},
   "outputs": [],
   "source": [
    "df = df[df['Qta'] > 0].copy()"
   ]
  },
  {
   "cell_type": "code",
   "execution_count": 14,
   "metadata": {},
   "outputs": [
    {
     "data": {
      "text/plain": [
       "(462156, 8)"
      ]
     },
     "execution_count": 14,
     "metadata": {},
     "output_type": "execute_result"
    }
   ],
   "source": [
    "df.shape"
   ]
  },
  {
   "cell_type": "code",
   "execution_count": 15,
   "metadata": {},
   "outputs": [],
   "source": [
    "def convert_to_float(s):\n",
    "    comma_pos = s.find(',')\n",
    "    if comma_pos >= 0:\n",
    "        s = s[: comma_pos] + '.' + s[comma_pos+1 :]\n",
    "    return float(s)\n",
    "\n",
    "df['Sale'] = df['Sale'].apply(convert_to_float).copy()"
   ]
  },
  {
   "cell_type": "code",
   "execution_count": 16,
   "metadata": {},
   "outputs": [
    {
     "name": "stdout",
     "output_type": "stream",
     "text": [
      "<class 'pandas.core.frame.DataFrame'>\n",
      "Int64Index: 462156 entries, 0 to 471909\n",
      "Data columns (total 8 columns):\n",
      " #   Column           Non-Null Count   Dtype  \n",
      "---  ------           --------------   -----  \n",
      " 0   BasketID         462156 non-null  int64  \n",
      " 1   BasketDate       462156 non-null  object \n",
      " 2   Sale             462156 non-null  float64\n",
      " 3   CustomerID       397925 non-null  float64\n",
      " 4   CustomerCountry  462156 non-null  object \n",
      " 5   ProdID           462156 non-null  object \n",
      " 6   ProdDescr        461850 non-null  object \n",
      " 7   Qta              462156 non-null  int64  \n",
      "dtypes: float64(2), int64(2), object(4)\n",
      "memory usage: 31.7+ MB\n"
     ]
    }
   ],
   "source": [
    "df.info()"
   ]
  },
  {
   "cell_type": "code",
   "execution_count": 17,
   "metadata": {},
   "outputs": [
    {
     "data": {
      "text/plain": [
       "(461545, 8)"
      ]
     },
     "execution_count": 17,
     "metadata": {},
     "output_type": "execute_result"
    }
   ],
   "source": [
    "df = df[df['Sale'] > 0].copy()\n",
    "df.shape"
   ]
  },
  {
   "cell_type": "code",
   "execution_count": 18,
   "metadata": {},
   "outputs": [
    {
     "data": {
      "text/html": [
       "<div>\n",
       "<style scoped>\n",
       "    .dataframe tbody tr th:only-of-type {\n",
       "        vertical-align: middle;\n",
       "    }\n",
       "\n",
       "    .dataframe tbody tr th {\n",
       "        vertical-align: top;\n",
       "    }\n",
       "\n",
       "    .dataframe thead th {\n",
       "        text-align: right;\n",
       "    }\n",
       "</style>\n",
       "<table border=\"1\" class=\"dataframe\">\n",
       "  <thead>\n",
       "    <tr style=\"text-align: right;\">\n",
       "      <th></th>\n",
       "      <th>BasketID</th>\n",
       "      <th>BasketDate</th>\n",
       "      <th>Sale</th>\n",
       "      <th>CustomerID</th>\n",
       "      <th>CustomerCountry</th>\n",
       "      <th>ProdID</th>\n",
       "      <th>ProdDescr</th>\n",
       "      <th>Qta</th>\n",
       "    </tr>\n",
       "  </thead>\n",
       "  <tbody>\n",
       "    <tr>\n",
       "      <th>45</th>\n",
       "      <td>536370</td>\n",
       "      <td>01/12/10 08:45</td>\n",
       "      <td>18.00</td>\n",
       "      <td>12583.0</td>\n",
       "      <td>France</td>\n",
       "      <td>POST</td>\n",
       "      <td>POSTAGE</td>\n",
       "      <td>3</td>\n",
       "    </tr>\n",
       "    <tr>\n",
       "      <th>386</th>\n",
       "      <td>536403</td>\n",
       "      <td>01/12/10 11:27</td>\n",
       "      <td>15.00</td>\n",
       "      <td>12791.0</td>\n",
       "      <td>Netherlands</td>\n",
       "      <td>POST</td>\n",
       "      <td>POSTAGE</td>\n",
       "      <td>1</td>\n",
       "    </tr>\n",
       "    <tr>\n",
       "      <th>1122</th>\n",
       "      <td>536527</td>\n",
       "      <td>01/12/10 13:04</td>\n",
       "      <td>18.00</td>\n",
       "      <td>12662.0</td>\n",
       "      <td>Germany</td>\n",
       "      <td>POST</td>\n",
       "      <td>POSTAGE</td>\n",
       "      <td>1</td>\n",
       "    </tr>\n",
       "    <tr>\n",
       "      <th>1976</th>\n",
       "      <td>536569</td>\n",
       "      <td>01/12/10 15:35</td>\n",
       "      <td>1.25</td>\n",
       "      <td>16274.0</td>\n",
       "      <td>United Kingdom</td>\n",
       "      <td>M</td>\n",
       "      <td>Manual</td>\n",
       "      <td>1</td>\n",
       "    </tr>\n",
       "    <tr>\n",
       "      <th>1987</th>\n",
       "      <td>536569</td>\n",
       "      <td>01/12/10 15:35</td>\n",
       "      <td>18.95</td>\n",
       "      <td>16274.0</td>\n",
       "      <td>United Kingdom</td>\n",
       "      <td>M</td>\n",
       "      <td>Manual</td>\n",
       "      <td>1</td>\n",
       "    </tr>\n",
       "    <tr>\n",
       "      <th>...</th>\n",
       "      <td>...</td>\n",
       "      <td>...</td>\n",
       "      <td>...</td>\n",
       "      <td>...</td>\n",
       "      <td>...</td>\n",
       "      <td>...</td>\n",
       "      <td>...</td>\n",
       "      <td>...</td>\n",
       "    </tr>\n",
       "    <tr>\n",
       "      <th>471540</th>\n",
       "      <td>581498</td>\n",
       "      <td>09/12/11 10:26</td>\n",
       "      <td>1714.17</td>\n",
       "      <td>NaN</td>\n",
       "      <td>United Kingdom</td>\n",
       "      <td>DOT</td>\n",
       "      <td>DOTCOM POSTAGE</td>\n",
       "      <td>1</td>\n",
       "    </tr>\n",
       "    <tr>\n",
       "      <th>471730</th>\n",
       "      <td>581570</td>\n",
       "      <td>09/12/11 11:59</td>\n",
       "      <td>18.00</td>\n",
       "      <td>12662.0</td>\n",
       "      <td>Germany</td>\n",
       "      <td>POST</td>\n",
       "      <td>POSTAGE</td>\n",
       "      <td>1</td>\n",
       "    </tr>\n",
       "    <tr>\n",
       "      <th>471767</th>\n",
       "      <td>581574</td>\n",
       "      <td>09/12/11 12:09</td>\n",
       "      <td>18.00</td>\n",
       "      <td>12526.0</td>\n",
       "      <td>Germany</td>\n",
       "      <td>POST</td>\n",
       "      <td>POSTAGE</td>\n",
       "      <td>2</td>\n",
       "    </tr>\n",
       "    <tr>\n",
       "      <th>471768</th>\n",
       "      <td>581578</td>\n",
       "      <td>09/12/11 12:16</td>\n",
       "      <td>18.00</td>\n",
       "      <td>12713.0</td>\n",
       "      <td>Germany</td>\n",
       "      <td>POST</td>\n",
       "      <td>POSTAGE</td>\n",
       "      <td>3</td>\n",
       "    </tr>\n",
       "    <tr>\n",
       "      <th>471909</th>\n",
       "      <td>581587</td>\n",
       "      <td>09/12/11 12:50</td>\n",
       "      <td>18.00</td>\n",
       "      <td>12680.0</td>\n",
       "      <td>France</td>\n",
       "      <td>POST</td>\n",
       "      <td>POSTAGE</td>\n",
       "      <td>1</td>\n",
       "    </tr>\n",
       "  </tbody>\n",
       "</table>\n",
       "<p>1758 rows × 8 columns</p>\n",
       "</div>"
      ],
      "text/plain": [
       "        BasketID      BasketDate     Sale  CustomerID CustomerCountry ProdID  \\\n",
       "45        536370  01/12/10 08:45    18.00     12583.0          France   POST   \n",
       "386       536403  01/12/10 11:27    15.00     12791.0     Netherlands   POST   \n",
       "1122      536527  01/12/10 13:04    18.00     12662.0         Germany   POST   \n",
       "1976      536569  01/12/10 15:35     1.25     16274.0  United Kingdom      M   \n",
       "1987      536569  01/12/10 15:35    18.95     16274.0  United Kingdom      M   \n",
       "...          ...             ...      ...         ...             ...    ...   \n",
       "471540    581498  09/12/11 10:26  1714.17         NaN  United Kingdom    DOT   \n",
       "471730    581570  09/12/11 11:59    18.00     12662.0         Germany   POST   \n",
       "471767    581574  09/12/11 12:09    18.00     12526.0         Germany   POST   \n",
       "471768    581578  09/12/11 12:16    18.00     12713.0         Germany   POST   \n",
       "471909    581587  09/12/11 12:50    18.00     12680.0          France   POST   \n",
       "\n",
       "             ProdDescr  Qta  \n",
       "45             POSTAGE    3  \n",
       "386            POSTAGE    1  \n",
       "1122           POSTAGE    1  \n",
       "1976            Manual    1  \n",
       "1987            Manual    1  \n",
       "...                ...  ...  \n",
       "471540  DOTCOM POSTAGE    1  \n",
       "471730         POSTAGE    1  \n",
       "471767         POSTAGE    2  \n",
       "471768         POSTAGE    3  \n",
       "471909         POSTAGE    1  \n",
       "\n",
       "[1758 rows x 8 columns]"
      ]
     },
     "execution_count": 18,
     "metadata": {},
     "output_type": "execute_result"
    }
   ],
   "source": [
    "df[df['ProdID'].apply(str.isalpha)]"
   ]
  },
  {
   "cell_type": "markdown",
   "metadata": {},
   "source": [
    "1758 record hanno 'ProdID' con solo lettere e non rappresentano veri e propri acquisti."
   ]
  },
  {
   "cell_type": "code",
   "execution_count": 19,
   "metadata": {},
   "outputs": [
    {
     "data": {
      "text/plain": [
       "POST         1111\n",
       "DOT           335\n",
       "M             296\n",
       "DCGSSBOY        6\n",
       "DCGSSGIRL       4\n",
       "PADS            3\n",
       "AMAZONFEE       1\n",
       "S               1\n",
       "m               1\n",
       "Name: ProdID, dtype: int64"
      ]
     },
     "execution_count": 19,
     "metadata": {},
     "output_type": "execute_result"
    }
   ],
   "source": [
    "df[df['ProdID'].apply(str.isalpha)]['ProdID'].value_counts()"
   ]
  },
  {
   "cell_type": "code",
   "execution_count": 20,
   "metadata": {},
   "outputs": [],
   "source": [
    "df = df[df['ProdID'].apply(lambda s: not s.isalpha())].copy()"
   ]
  },
  {
   "cell_type": "code",
   "execution_count": 21,
   "metadata": {
    "scrolled": false
   },
   "outputs": [
    {
     "data": {
      "text/plain": [
       "array(['47566b', '15056n', '84509a', '72349b', '84997c', '82494l',\n",
       "       '84997a', '84997b', '84997d', '85123a', '15056bl', '84970s',\n",
       "       '84970l', '84030e', '85049g', '47591d', '85049a', '84510a',\n",
       "       '85049e', '72801d', '85039a', '84884a', '85040a', '15056p',\n",
       "       '85114c', '85014b', '85114b', '84993a', '47559b', '84872a',\n",
       "       '84559a', '84509c', '84989a', '84559b', '84660c', '84510c',\n",
       "       '84796a', '72801c', '18098c', '85114a', '85132b', '82001s',\n",
       "       '85099f', '85014a', '84596f', '72351a', '47590b', 'gift_0001_30',\n",
       "       '84968e', '84596b', '85132a', '47518f', '35809a', '84596e',\n",
       "       'gift_0001_10', '84968a', 'gift_0001_40', '85231g', '79066k',\n",
       "       'gift_0001_20', '72807c', '84795b', 'gift_0001_50', '72807b',\n",
       "       '84509b', '84536a', '48173c', '85049d', '85231b', '84660b',\n",
       "       '46776e', '51014c', '72807a', '90184c', '84661b', '84536b',\n",
       "       '85035b', '84971l', '85036a', '85184c', '82613b', '85034a',\n",
       "       '84031b', '47570b', '84968d', '84031a', '85035a', '84509g',\n",
       "       '85035c', '15060b', '84661a', '84596l'], dtype=object)"
      ]
     },
     "execution_count": 21,
     "metadata": {},
     "output_type": "execute_result"
    }
   ],
   "source": [
    "def search_letters(the_string):\n",
    "    if re.search('[a-z]', the_string) is None:\n",
    "        return False\n",
    "    return True\n",
    "\n",
    "strange_prodID = df['ProdID'].apply(search_letters)\n",
    "df[df['ProdID'].apply(search_letters)]['ProdID'].value_counts().index.values"
   ]
  },
  {
   "cell_type": "code",
   "execution_count": 22,
   "metadata": {
    "scrolled": false
   },
   "outputs": [
    {
     "data": {
      "text/html": [
       "<div>\n",
       "<style scoped>\n",
       "    .dataframe tbody tr th:only-of-type {\n",
       "        vertical-align: middle;\n",
       "    }\n",
       "\n",
       "    .dataframe tbody tr th {\n",
       "        vertical-align: top;\n",
       "    }\n",
       "\n",
       "    .dataframe thead th {\n",
       "        text-align: right;\n",
       "    }\n",
       "</style>\n",
       "<table border=\"1\" class=\"dataframe\">\n",
       "  <thead>\n",
       "    <tr style=\"text-align: right;\">\n",
       "      <th></th>\n",
       "      <th>BasketID</th>\n",
       "      <th>BasketDate</th>\n",
       "      <th>Sale</th>\n",
       "      <th>CustomerID</th>\n",
       "      <th>CustomerCountry</th>\n",
       "      <th>ProdID</th>\n",
       "      <th>ProdDescr</th>\n",
       "      <th>Qta</th>\n",
       "    </tr>\n",
       "  </thead>\n",
       "  <tbody>\n",
       "    <tr>\n",
       "      <th>0</th>\n",
       "      <td>536365</td>\n",
       "      <td>01/12/10 08:26</td>\n",
       "      <td>2.55</td>\n",
       "      <td>17850.0</td>\n",
       "      <td>United Kingdom</td>\n",
       "      <td>85123A</td>\n",
       "      <td>WHITE HANGING HEART T-LIGHT HOLDER</td>\n",
       "      <td>6</td>\n",
       "    </tr>\n",
       "    <tr>\n",
       "      <th>1</th>\n",
       "      <td>536365</td>\n",
       "      <td>01/12/10 08:26</td>\n",
       "      <td>3.39</td>\n",
       "      <td>17850.0</td>\n",
       "      <td>United Kingdom</td>\n",
       "      <td>71053</td>\n",
       "      <td>WHITE METAL LANTERN</td>\n",
       "      <td>6</td>\n",
       "    </tr>\n",
       "    <tr>\n",
       "      <th>2</th>\n",
       "      <td>536365</td>\n",
       "      <td>01/12/10 08:26</td>\n",
       "      <td>2.75</td>\n",
       "      <td>17850.0</td>\n",
       "      <td>United Kingdom</td>\n",
       "      <td>84406B</td>\n",
       "      <td>CREAM CUPID HEARTS COAT HANGER</td>\n",
       "      <td>8</td>\n",
       "    </tr>\n",
       "    <tr>\n",
       "      <th>3</th>\n",
       "      <td>536365</td>\n",
       "      <td>01/12/10 08:26</td>\n",
       "      <td>3.39</td>\n",
       "      <td>17850.0</td>\n",
       "      <td>United Kingdom</td>\n",
       "      <td>84029G</td>\n",
       "      <td>KNITTED UNION FLAG HOT WATER BOTTLE</td>\n",
       "      <td>6</td>\n",
       "    </tr>\n",
       "    <tr>\n",
       "      <th>4</th>\n",
       "      <td>536365</td>\n",
       "      <td>01/12/10 08:26</td>\n",
       "      <td>3.39</td>\n",
       "      <td>17850.0</td>\n",
       "      <td>United Kingdom</td>\n",
       "      <td>84029E</td>\n",
       "      <td>RED WOOLLY HOTTIE WHITE HEART.</td>\n",
       "      <td>6</td>\n",
       "    </tr>\n",
       "    <tr>\n",
       "      <th>...</th>\n",
       "      <td>...</td>\n",
       "      <td>...</td>\n",
       "      <td>...</td>\n",
       "      <td>...</td>\n",
       "      <td>...</td>\n",
       "      <td>...</td>\n",
       "      <td>...</td>\n",
       "      <td>...</td>\n",
       "    </tr>\n",
       "    <tr>\n",
       "      <th>471904</th>\n",
       "      <td>581587</td>\n",
       "      <td>09/12/11 12:50</td>\n",
       "      <td>0.85</td>\n",
       "      <td>12680.0</td>\n",
       "      <td>France</td>\n",
       "      <td>22613</td>\n",
       "      <td>PACK OF 20 SPACEBOY NAPKINS</td>\n",
       "      <td>12</td>\n",
       "    </tr>\n",
       "    <tr>\n",
       "      <th>471905</th>\n",
       "      <td>581587</td>\n",
       "      <td>09/12/11 12:50</td>\n",
       "      <td>2.10</td>\n",
       "      <td>12680.0</td>\n",
       "      <td>France</td>\n",
       "      <td>22899</td>\n",
       "      <td>CHILDREN'S APRON DOLLY GIRL</td>\n",
       "      <td>6</td>\n",
       "    </tr>\n",
       "    <tr>\n",
       "      <th>471906</th>\n",
       "      <td>581587</td>\n",
       "      <td>09/12/11 12:50</td>\n",
       "      <td>4.15</td>\n",
       "      <td>12680.0</td>\n",
       "      <td>France</td>\n",
       "      <td>23254</td>\n",
       "      <td>CHILDRENS CUTLERY DOLLY GIRL</td>\n",
       "      <td>4</td>\n",
       "    </tr>\n",
       "    <tr>\n",
       "      <th>471907</th>\n",
       "      <td>581587</td>\n",
       "      <td>09/12/11 12:50</td>\n",
       "      <td>4.15</td>\n",
       "      <td>12680.0</td>\n",
       "      <td>France</td>\n",
       "      <td>23255</td>\n",
       "      <td>CHILDRENS CUTLERY CIRCUS PARADE</td>\n",
       "      <td>4</td>\n",
       "    </tr>\n",
       "    <tr>\n",
       "      <th>471908</th>\n",
       "      <td>581587</td>\n",
       "      <td>09/12/11 12:50</td>\n",
       "      <td>4.95</td>\n",
       "      <td>12680.0</td>\n",
       "      <td>France</td>\n",
       "      <td>22138</td>\n",
       "      <td>BAKING SET 9 PIECE RETROSPOT</td>\n",
       "      <td>3</td>\n",
       "    </tr>\n",
       "  </tbody>\n",
       "</table>\n",
       "<p>459772 rows × 8 columns</p>\n",
       "</div>"
      ],
      "text/plain": [
       "        BasketID      BasketDate  Sale  CustomerID CustomerCountry  ProdID  \\\n",
       "0         536365  01/12/10 08:26  2.55     17850.0  United Kingdom  85123A   \n",
       "1         536365  01/12/10 08:26  3.39     17850.0  United Kingdom   71053   \n",
       "2         536365  01/12/10 08:26  2.75     17850.0  United Kingdom  84406B   \n",
       "3         536365  01/12/10 08:26  3.39     17850.0  United Kingdom  84029G   \n",
       "4         536365  01/12/10 08:26  3.39     17850.0  United Kingdom  84029E   \n",
       "...          ...             ...   ...         ...             ...     ...   \n",
       "471904    581587  09/12/11 12:50  0.85     12680.0          France   22613   \n",
       "471905    581587  09/12/11 12:50  2.10     12680.0          France   22899   \n",
       "471906    581587  09/12/11 12:50  4.15     12680.0          France   23254   \n",
       "471907    581587  09/12/11 12:50  4.15     12680.0          France   23255   \n",
       "471908    581587  09/12/11 12:50  4.95     12680.0          France   22138   \n",
       "\n",
       "                                  ProdDescr  Qta  \n",
       "0        WHITE HANGING HEART T-LIGHT HOLDER    6  \n",
       "1                       WHITE METAL LANTERN    6  \n",
       "2            CREAM CUPID HEARTS COAT HANGER    8  \n",
       "3       KNITTED UNION FLAG HOT WATER BOTTLE    6  \n",
       "4            RED WOOLLY HOTTIE WHITE HEART.    6  \n",
       "...                                     ...  ...  \n",
       "471904          PACK OF 20 SPACEBOY NAPKINS   12  \n",
       "471905         CHILDREN'S APRON DOLLY GIRL     6  \n",
       "471906        CHILDRENS CUTLERY DOLLY GIRL     4  \n",
       "471907      CHILDRENS CUTLERY CIRCUS PARADE    4  \n",
       "471908        BAKING SET 9 PIECE RETROSPOT     3  \n",
       "\n",
       "[459772 rows x 8 columns]"
      ]
     },
     "execution_count": 22,
     "metadata": {},
     "output_type": "execute_result"
    }
   ],
   "source": [
    "df = df[df['ProdID'].apply(lambda s: s.find('gift_0001_') == -1)].copy()\n",
    "df"
   ]
  },
  {
   "cell_type": "code",
   "execution_count": 23,
   "metadata": {},
   "outputs": [
    {
     "data": {
      "text/plain": [
       "WHITE HANGING HEART T-LIGHT HOLDER    2169\n",
       "JUMBO BAG RED RETROSPOT               1871\n",
       "REGENCY CAKESTAND 3 TIER              1859\n",
       "PARTY BUNTING                         1548\n",
       "ASSORTED COLOUR BIRD ORNAMENT         1459\n",
       "                                      ... \n",
       "GREEN CRYSTAL DROP EARRINGS              1\n",
       "WRAP  PINK FLOCK                         1\n",
       "SET 10 MINI SANTA & SNOWMAN  17087       1\n",
       "ORANGE FLOWER MUG                        1\n",
       "WHITE SILVER NECKLACE SHELL GLASS        1\n",
       "Name: ProdDescr, Length: 3977, dtype: int64"
      ]
     },
     "execution_count": 23,
     "metadata": {},
     "output_type": "execute_result"
    }
   ],
   "source": [
    "df['ProdDescr'].value_counts()"
   ]
  },
  {
   "cell_type": "code",
   "execution_count": 24,
   "metadata": {},
   "outputs": [
    {
     "data": {
      "text/html": [
       "<div>\n",
       "<style scoped>\n",
       "    .dataframe tbody tr th:only-of-type {\n",
       "        vertical-align: middle;\n",
       "    }\n",
       "\n",
       "    .dataframe tbody tr th {\n",
       "        vertical-align: top;\n",
       "    }\n",
       "\n",
       "    .dataframe thead th {\n",
       "        text-align: right;\n",
       "    }\n",
       "</style>\n",
       "<table border=\"1\" class=\"dataframe\">\n",
       "  <thead>\n",
       "    <tr style=\"text-align: right;\">\n",
       "      <th></th>\n",
       "      <th>BasketID</th>\n",
       "      <th>BasketDate</th>\n",
       "      <th>Sale</th>\n",
       "      <th>CustomerID</th>\n",
       "      <th>CustomerCountry</th>\n",
       "      <th>ProdID</th>\n",
       "      <th>ProdDescr</th>\n",
       "      <th>Qta</th>\n",
       "    </tr>\n",
       "  </thead>\n",
       "  <tbody>\n",
       "    <tr>\n",
       "      <th>1422</th>\n",
       "      <td>536540</td>\n",
       "      <td>01/12/10 14:05</td>\n",
       "      <td>50.0</td>\n",
       "      <td>14911.0</td>\n",
       "      <td>EIRE</td>\n",
       "      <td>C2</td>\n",
       "      <td>CARRIAGE</td>\n",
       "      <td>1</td>\n",
       "    </tr>\n",
       "    <tr>\n",
       "      <th>10319</th>\n",
       "      <td>537368</td>\n",
       "      <td>06/12/10 12:40</td>\n",
       "      <td>50.0</td>\n",
       "      <td>14911.0</td>\n",
       "      <td>EIRE</td>\n",
       "      <td>C2</td>\n",
       "      <td>CARRIAGE</td>\n",
       "      <td>1</td>\n",
       "    </tr>\n",
       "    <tr>\n",
       "      <th>10652</th>\n",
       "      <td>537378</td>\n",
       "      <td>06/12/10 13:06</td>\n",
       "      <td>50.0</td>\n",
       "      <td>14911.0</td>\n",
       "      <td>EIRE</td>\n",
       "      <td>C2</td>\n",
       "      <td>CARRIAGE</td>\n",
       "      <td>1</td>\n",
       "    </tr>\n",
       "    <tr>\n",
       "      <th>16525</th>\n",
       "      <td>537963</td>\n",
       "      <td>09/12/10 11:30</td>\n",
       "      <td>50.0</td>\n",
       "      <td>13369.0</td>\n",
       "      <td>United Kingdom</td>\n",
       "      <td>C2</td>\n",
       "      <td>CARRIAGE</td>\n",
       "      <td>1</td>\n",
       "    </tr>\n",
       "    <tr>\n",
       "      <th>16564</th>\n",
       "      <td>538002</td>\n",
       "      <td>09/12/10 11:48</td>\n",
       "      <td>50.0</td>\n",
       "      <td>14932.0</td>\n",
       "      <td>Channel Islands</td>\n",
       "      <td>C2</td>\n",
       "      <td>CARRIAGE</td>\n",
       "      <td>1</td>\n",
       "    </tr>\n",
       "    <tr>\n",
       "      <th>...</th>\n",
       "      <td>...</td>\n",
       "      <td>...</td>\n",
       "      <td>...</td>\n",
       "      <td>...</td>\n",
       "      <td>...</td>\n",
       "      <td>...</td>\n",
       "      <td>...</td>\n",
       "      <td>...</td>\n",
       "    </tr>\n",
       "    <tr>\n",
       "      <th>447963</th>\n",
       "      <td>579539</td>\n",
       "      <td>30/11/11 10:06</td>\n",
       "      <td>50.0</td>\n",
       "      <td>14911.0</td>\n",
       "      <td>EIRE</td>\n",
       "      <td>C2</td>\n",
       "      <td>CARRIAGE</td>\n",
       "      <td>1</td>\n",
       "    </tr>\n",
       "    <tr>\n",
       "      <th>449563</th>\n",
       "      <td>579768</td>\n",
       "      <td>30/11/11 15:08</td>\n",
       "      <td>50.0</td>\n",
       "      <td>14911.0</td>\n",
       "      <td>EIRE</td>\n",
       "      <td>C2</td>\n",
       "      <td>CARRIAGE</td>\n",
       "      <td>1</td>\n",
       "    </tr>\n",
       "    <tr>\n",
       "      <th>450596</th>\n",
       "      <td>579910</td>\n",
       "      <td>01/12/11 08:52</td>\n",
       "      <td>50.0</td>\n",
       "      <td>14911.0</td>\n",
       "      <td>EIRE</td>\n",
       "      <td>C2</td>\n",
       "      <td>CARRIAGE</td>\n",
       "      <td>1</td>\n",
       "    </tr>\n",
       "    <tr>\n",
       "      <th>452666</th>\n",
       "      <td>580127</td>\n",
       "      <td>01/12/11 17:51</td>\n",
       "      <td>50.0</td>\n",
       "      <td>14911.0</td>\n",
       "      <td>EIRE</td>\n",
       "      <td>C2</td>\n",
       "      <td>CARRIAGE</td>\n",
       "      <td>1</td>\n",
       "    </tr>\n",
       "    <tr>\n",
       "      <th>457721</th>\n",
       "      <td>580555</td>\n",
       "      <td>05/12/11 10:18</td>\n",
       "      <td>50.0</td>\n",
       "      <td>14911.0</td>\n",
       "      <td>EIRE</td>\n",
       "      <td>C2</td>\n",
       "      <td>CARRIAGE</td>\n",
       "      <td>1</td>\n",
       "    </tr>\n",
       "  </tbody>\n",
       "</table>\n",
       "<p>139 rows × 8 columns</p>\n",
       "</div>"
      ],
      "text/plain": [
       "        BasketID      BasketDate  Sale  CustomerID  CustomerCountry ProdID  \\\n",
       "1422      536540  01/12/10 14:05  50.0     14911.0             EIRE     C2   \n",
       "10319     537368  06/12/10 12:40  50.0     14911.0             EIRE     C2   \n",
       "10652     537378  06/12/10 13:06  50.0     14911.0             EIRE     C2   \n",
       "16525     537963  09/12/10 11:30  50.0     13369.0   United Kingdom     C2   \n",
       "16564     538002  09/12/10 11:48  50.0     14932.0  Channel Islands     C2   \n",
       "...          ...             ...   ...         ...              ...    ...   \n",
       "447963    579539  30/11/11 10:06  50.0     14911.0             EIRE     C2   \n",
       "449563    579768  30/11/11 15:08  50.0     14911.0             EIRE     C2   \n",
       "450596    579910  01/12/11 08:52  50.0     14911.0             EIRE     C2   \n",
       "452666    580127  01/12/11 17:51  50.0     14911.0             EIRE     C2   \n",
       "457721    580555  05/12/11 10:18  50.0     14911.0             EIRE     C2   \n",
       "\n",
       "       ProdDescr  Qta  \n",
       "1422    CARRIAGE    1  \n",
       "10319   CARRIAGE    1  \n",
       "10652   CARRIAGE    1  \n",
       "16525   CARRIAGE    1  \n",
       "16564   CARRIAGE    1  \n",
       "...          ...  ...  \n",
       "447963  CARRIAGE    1  \n",
       "449563  CARRIAGE    1  \n",
       "450596  CARRIAGE    1  \n",
       "452666  CARRIAGE    1  \n",
       "457721  CARRIAGE    1  \n",
       "\n",
       "[139 rows x 8 columns]"
      ]
     },
     "execution_count": 24,
     "metadata": {},
     "output_type": "execute_result"
    }
   ],
   "source": [
    "df[df['ProdID'] == 'C2']"
   ]
  },
  {
   "cell_type": "code",
   "execution_count": 25,
   "metadata": {},
   "outputs": [
    {
     "data": {
      "text/plain": [
       "(459633, 8)"
      ]
     },
     "execution_count": 25,
     "metadata": {},
     "output_type": "execute_result"
    }
   ],
   "source": [
    "df = df[df['ProdID'] != 'C2'].copy()\n",
    "df.shape"
   ]
  },
  {
   "cell_type": "code",
   "execution_count": 26,
   "metadata": {},
   "outputs": [
    {
     "name": "stdout",
     "output_type": "stream",
     "text": [
      "<class 'pandas.core.frame.DataFrame'>\n",
      "Int64Index: 459633 entries, 0 to 471908\n",
      "Data columns (total 8 columns):\n",
      " #   Column           Non-Null Count   Dtype  \n",
      "---  ------           --------------   -----  \n",
      " 0   BasketID         459633 non-null  int64  \n",
      " 1   BasketDate       459633 non-null  object \n",
      " 2   Sale             459633 non-null  float64\n",
      " 3   CustomerID       396349 non-null  float64\n",
      " 4   CustomerCountry  459633 non-null  object \n",
      " 5   ProdID           459633 non-null  object \n",
      " 6   ProdDescr        459633 non-null  object \n",
      " 7   Qta              459633 non-null  int64  \n",
      "dtypes: float64(2), int64(2), object(4)\n",
      "memory usage: 31.6+ MB\n"
     ]
    }
   ],
   "source": [
    "df.info()"
   ]
  },
  {
   "cell_type": "code",
   "execution_count": 27,
   "metadata": {},
   "outputs": [
    {
     "data": {
      "text/plain": [
       "0         True\n",
       "1         True\n",
       "2         True\n",
       "3         True\n",
       "4         True\n",
       "          ... \n",
       "471904    True\n",
       "471905    True\n",
       "471906    True\n",
       "471907    True\n",
       "471908    True\n",
       "Name: BasketDate, Length: 459633, dtype: bool"
      ]
     },
     "execution_count": 27,
     "metadata": {},
     "output_type": "execute_result"
    }
   ],
   "source": [
    "from dateutil.parser import parse\n",
    "\n",
    "def is_date(string, fuzzy=False):\n",
    "    \"\"\"\n",
    "    Return whether the string can be interpreted as a date.\n",
    "\n",
    "    :param string: str, string to check for date\n",
    "    :param fuzzy: bool, ignore unknown tokens in string if True\n",
    "    \"\"\"\n",
    "    try: \n",
    "        parse(string, fuzzy=fuzzy)\n",
    "        return True\n",
    "\n",
    "    except ValueError:\n",
    "        return False\n",
    "\n",
    "\n",
    "is_date_output = df['BasketDate'].apply(is_date)\n",
    "is_date_output"
   ]
  },
  {
   "cell_type": "code",
   "execution_count": 28,
   "metadata": {},
   "outputs": [
    {
     "data": {
      "text/plain": [
       "True    459633\n",
       "Name: BasketDate, dtype: int64"
      ]
     },
     "execution_count": 28,
     "metadata": {},
     "output_type": "execute_result"
    }
   ],
   "source": [
    "is_date_output.value_counts()"
   ]
  },
  {
   "cell_type": "markdown",
   "metadata": {},
   "source": [
    "All dates are well formatted."
   ]
  },
  {
   "cell_type": "code",
   "execution_count": 29,
   "metadata": {},
   "outputs": [
    {
     "data": {
      "text/plain": [
       "True    459633\n",
       "Name: BasketDate, dtype: int64"
      ]
     },
     "execution_count": 29,
     "metadata": {},
     "output_type": "execute_result"
    }
   ],
   "source": [
    "import datetime\n",
    "\n",
    "def validate(date_text):\n",
    "    try:\n",
    "        datetime.datetime.strptime(date_text, '%d/%m/%y %H:%M')\n",
    "        return True\n",
    "    except ValueError:\n",
    "        return False\n",
    "\n",
    "    \n",
    "correct_date_format = df['BasketDate'].apply(validate)\n",
    "correct_date_format.value_counts()"
   ]
  },
  {
   "cell_type": "markdown",
   "metadata": {},
   "source": [
    "All dates are in the same format."
   ]
  },
  {
   "cell_type": "code",
   "execution_count": 30,
   "metadata": {},
   "outputs": [],
   "source": [
    "df['BasketDate'] = pd.to_datetime(df['BasketDate'], format=\"%d/%m/%y %H:%M\").copy()"
   ]
  },
  {
   "cell_type": "code",
   "execution_count": 31,
   "metadata": {},
   "outputs": [
    {
     "name": "stdout",
     "output_type": "stream",
     "text": [
      "<class 'pandas.core.frame.DataFrame'>\n",
      "Int64Index: 459633 entries, 0 to 471908\n",
      "Data columns (total 8 columns):\n",
      " #   Column           Non-Null Count   Dtype         \n",
      "---  ------           --------------   -----         \n",
      " 0   BasketID         459633 non-null  int64         \n",
      " 1   BasketDate       459633 non-null  datetime64[ns]\n",
      " 2   Sale             459633 non-null  float64       \n",
      " 3   CustomerID       396349 non-null  float64       \n",
      " 4   CustomerCountry  459633 non-null  object        \n",
      " 5   ProdID           459633 non-null  object        \n",
      " 6   ProdDescr        459633 non-null  object        \n",
      " 7   Qta              459633 non-null  int64         \n",
      "dtypes: datetime64[ns](1), float64(2), int64(2), object(3)\n",
      "memory usage: 31.6+ MB\n"
     ]
    }
   ],
   "source": [
    "df.info()"
   ]
  },
  {
   "cell_type": "code",
   "execution_count": 32,
   "metadata": {},
   "outputs": [
    {
     "data": {
      "text/html": [
       "<div>\n",
       "<style scoped>\n",
       "    .dataframe tbody tr th:only-of-type {\n",
       "        vertical-align: middle;\n",
       "    }\n",
       "\n",
       "    .dataframe tbody tr th {\n",
       "        vertical-align: top;\n",
       "    }\n",
       "\n",
       "    .dataframe thead th {\n",
       "        text-align: right;\n",
       "    }\n",
       "</style>\n",
       "<table border=\"1\" class=\"dataframe\">\n",
       "  <thead>\n",
       "    <tr style=\"text-align: right;\">\n",
       "      <th></th>\n",
       "      <th>BasketID</th>\n",
       "      <th>BasketDate</th>\n",
       "      <th>Sale</th>\n",
       "      <th>CustomerID</th>\n",
       "      <th>CustomerCountry</th>\n",
       "      <th>ProdID</th>\n",
       "      <th>ProdDescr</th>\n",
       "      <th>Qta</th>\n",
       "    </tr>\n",
       "  </thead>\n",
       "  <tbody>\n",
       "    <tr>\n",
       "      <th>128523</th>\n",
       "      <td>549687</td>\n",
       "      <td>2011-04-11 13:29:00</td>\n",
       "      <td>7.95</td>\n",
       "      <td>12363.0</td>\n",
       "      <td>Unspecified</td>\n",
       "      <td>20685</td>\n",
       "      <td>DOORMAT RED RETROSPOT</td>\n",
       "      <td>2</td>\n",
       "    </tr>\n",
       "    <tr>\n",
       "      <th>128524</th>\n",
       "      <td>549687</td>\n",
       "      <td>2011-04-11 13:29:00</td>\n",
       "      <td>7.95</td>\n",
       "      <td>12363.0</td>\n",
       "      <td>Unspecified</td>\n",
       "      <td>22691</td>\n",
       "      <td>DOORMAT WELCOME SUNRISE</td>\n",
       "      <td>2</td>\n",
       "    </tr>\n",
       "    <tr>\n",
       "      <th>128525</th>\n",
       "      <td>549687</td>\n",
       "      <td>2011-04-11 13:29:00</td>\n",
       "      <td>7.95</td>\n",
       "      <td>12363.0</td>\n",
       "      <td>Unspecified</td>\n",
       "      <td>48116</td>\n",
       "      <td>DOORMAT MULTICOLOUR STRIPE</td>\n",
       "      <td>2</td>\n",
       "    </tr>\n",
       "    <tr>\n",
       "      <th>128526</th>\n",
       "      <td>549687</td>\n",
       "      <td>2011-04-11 13:29:00</td>\n",
       "      <td>0.55</td>\n",
       "      <td>12363.0</td>\n",
       "      <td>Unspecified</td>\n",
       "      <td>21213</td>\n",
       "      <td>PACK OF 72 SKULL CAKE CASES</td>\n",
       "      <td>24</td>\n",
       "    </tr>\n",
       "    <tr>\n",
       "      <th>128527</th>\n",
       "      <td>549687</td>\n",
       "      <td>2011-04-11 13:29:00</td>\n",
       "      <td>0.55</td>\n",
       "      <td>12363.0</td>\n",
       "      <td>Unspecified</td>\n",
       "      <td>21977</td>\n",
       "      <td>PACK OF 60 PINK PAISLEY CAKE CASES</td>\n",
       "      <td>24</td>\n",
       "    </tr>\n",
       "    <tr>\n",
       "      <th>...</th>\n",
       "      <td>...</td>\n",
       "      <td>...</td>\n",
       "      <td>...</td>\n",
       "      <td>...</td>\n",
       "      <td>...</td>\n",
       "      <td>...</td>\n",
       "      <td>...</td>\n",
       "      <td>...</td>\n",
       "    </tr>\n",
       "    <tr>\n",
       "      <th>435421</th>\n",
       "      <td>578539</td>\n",
       "      <td>2011-11-24 14:55:00</td>\n",
       "      <td>4.95</td>\n",
       "      <td>NaN</td>\n",
       "      <td>Unspecified</td>\n",
       "      <td>23569</td>\n",
       "      <td>TRADTIONAL ALPHABET STAMP SET</td>\n",
       "      <td>4</td>\n",
       "    </tr>\n",
       "    <tr>\n",
       "      <th>435422</th>\n",
       "      <td>578539</td>\n",
       "      <td>2011-11-24 14:55:00</td>\n",
       "      <td>0.42</td>\n",
       "      <td>NaN</td>\n",
       "      <td>Unspecified</td>\n",
       "      <td>23507</td>\n",
       "      <td>MINI PLAYING CARDS BUFFALO BILL</td>\n",
       "      <td>20</td>\n",
       "    </tr>\n",
       "    <tr>\n",
       "      <th>435423</th>\n",
       "      <td>578539</td>\n",
       "      <td>2011-11-24 14:55:00</td>\n",
       "      <td>1.25</td>\n",
       "      <td>NaN</td>\n",
       "      <td>Unspecified</td>\n",
       "      <td>23570</td>\n",
       "      <td>TRADITIONAL PICK UP STICKS GAME</td>\n",
       "      <td>12</td>\n",
       "    </tr>\n",
       "    <tr>\n",
       "      <th>435424</th>\n",
       "      <td>578539</td>\n",
       "      <td>2011-11-24 14:55:00</td>\n",
       "      <td>1.65</td>\n",
       "      <td>NaN</td>\n",
       "      <td>Unspecified</td>\n",
       "      <td>23571</td>\n",
       "      <td>TRADITIONAL NAUGHTS &amp; CROSSES</td>\n",
       "      <td>12</td>\n",
       "    </tr>\n",
       "    <tr>\n",
       "      <th>435425</th>\n",
       "      <td>578539</td>\n",
       "      <td>2011-11-24 14:55:00</td>\n",
       "      <td>0.55</td>\n",
       "      <td>NaN</td>\n",
       "      <td>Unspecified</td>\n",
       "      <td>23309</td>\n",
       "      <td>SET OF 60 I LOVE LONDON CAKE CASES</td>\n",
       "      <td>24</td>\n",
       "    </tr>\n",
       "  </tbody>\n",
       "</table>\n",
       "<p>340 rows × 8 columns</p>\n",
       "</div>"
      ],
      "text/plain": [
       "        BasketID          BasketDate  Sale  CustomerID CustomerCountry ProdID  \\\n",
       "128523    549687 2011-04-11 13:29:00  7.95     12363.0     Unspecified  20685   \n",
       "128524    549687 2011-04-11 13:29:00  7.95     12363.0     Unspecified  22691   \n",
       "128525    549687 2011-04-11 13:29:00  7.95     12363.0     Unspecified  48116   \n",
       "128526    549687 2011-04-11 13:29:00  0.55     12363.0     Unspecified  21213   \n",
       "128527    549687 2011-04-11 13:29:00  0.55     12363.0     Unspecified  21977   \n",
       "...          ...                 ...   ...         ...             ...    ...   \n",
       "435421    578539 2011-11-24 14:55:00  4.95         NaN     Unspecified  23569   \n",
       "435422    578539 2011-11-24 14:55:00  0.42         NaN     Unspecified  23507   \n",
       "435423    578539 2011-11-24 14:55:00  1.25         NaN     Unspecified  23570   \n",
       "435424    578539 2011-11-24 14:55:00  1.65         NaN     Unspecified  23571   \n",
       "435425    578539 2011-11-24 14:55:00  0.55         NaN     Unspecified  23309   \n",
       "\n",
       "                                  ProdDescr  Qta  \n",
       "128523                DOORMAT RED RETROSPOT    2  \n",
       "128524              DOORMAT WELCOME SUNRISE    2  \n",
       "128525           DOORMAT MULTICOLOUR STRIPE    2  \n",
       "128526          PACK OF 72 SKULL CAKE CASES   24  \n",
       "128527   PACK OF 60 PINK PAISLEY CAKE CASES   24  \n",
       "...                                     ...  ...  \n",
       "435421        TRADTIONAL ALPHABET STAMP SET    4  \n",
       "435422     MINI PLAYING CARDS BUFFALO BILL    20  \n",
       "435423     TRADITIONAL PICK UP STICKS GAME    12  \n",
       "435424        TRADITIONAL NAUGHTS & CROSSES   12  \n",
       "435425  SET OF 60 I LOVE LONDON CAKE CASES    24  \n",
       "\n",
       "[340 rows x 8 columns]"
      ]
     },
     "execution_count": 32,
     "metadata": {},
     "output_type": "execute_result"
    }
   ],
   "source": [
    "df[df['CustomerCountry'] == 'Unspecified']"
   ]
  },
  {
   "cell_type": "code",
   "execution_count": 33,
   "metadata": {},
   "outputs": [
    {
     "data": {
      "text/plain": [
       "573585    534\n",
       "580729    357\n",
       "581219    351\n",
       "581492    351\n",
       "558475    330\n",
       "         ... \n",
       "570286      1\n",
       "566761      1\n",
       "541118      1\n",
       "551847      1\n",
       "557610      1\n",
       "Name: BasketID, Length: 1253, dtype: int64"
      ]
     },
     "execution_count": 33,
     "metadata": {},
     "output_type": "execute_result"
    }
   ],
   "source": [
    "null = df[df['CustomerID'].isnull()]['BasketID'].value_counts()\n",
    "null"
   ]
  },
  {
   "cell_type": "code",
   "execution_count": 34,
   "metadata": {},
   "outputs": [
    {
     "data": {
      "text/plain": [
       "576339    541\n",
       "579196    532\n",
       "580727    528\n",
       "578270    441\n",
       "573576    434\n",
       "         ... \n",
       "545448      1\n",
       "571237      1\n",
       "577848      1\n",
       "572085      1\n",
       "556249      1\n",
       "Name: BasketID, Length: 18413, dtype: int64"
      ]
     },
     "execution_count": 34,
     "metadata": {},
     "output_type": "execute_result"
    }
   ],
   "source": [
    "non_null = df.dropna()['BasketID'].value_counts()\n",
    "non_null"
   ]
  },
  {
   "cell_type": "code",
   "execution_count": 35,
   "metadata": {},
   "outputs": [
    {
     "data": {
      "text/plain": [
       "array([573585, 580729, 581219, ..., 541118, 551847, 557610])"
      ]
     },
     "execution_count": 35,
     "metadata": {},
     "output_type": "execute_result"
    }
   ],
   "source": [
    "null.index.values"
   ]
  },
  {
   "cell_type": "code",
   "execution_count": 36,
   "metadata": {},
   "outputs": [
    {
     "data": {
      "text/plain": [
       "array([576339, 579196, 580727, ..., 577848, 572085, 556249])"
      ]
     },
     "execution_count": 36,
     "metadata": {},
     "output_type": "execute_result"
    }
   ],
   "source": [
    "non_null.index.values"
   ]
  },
  {
   "cell_type": "code",
   "execution_count": 37,
   "metadata": {},
   "outputs": [
    {
     "data": {
      "text/plain": [
       "[]"
      ]
     },
     "execution_count": 37,
     "metadata": {},
     "output_type": "execute_result"
    }
   ],
   "source": [
    "def intersection(lst1, lst2): \n",
    "    return list(set(lst1) & set(lst2))\n",
    "\n",
    "intersection(list(null.index.values), list(non_null.index.values))"
   ]
  },
  {
   "cell_type": "markdown",
   "metadata": {},
   "source": [
    "Non si possono recuperare i CustomerID dai BasketID."
   ]
  },
  {
   "cell_type": "code",
   "execution_count": 38,
   "metadata": {},
   "outputs": [
    {
     "data": {
      "text/plain": [
       "17841.0    7838\n",
       "14911.0    5589\n",
       "14096.0    5095\n",
       "12748.0    4580\n",
       "14606.0    2698\n",
       "           ... \n",
       "13302.0       1\n",
       "16738.0       1\n",
       "13106.0       1\n",
       "16257.0       1\n",
       "14424.0       1\n",
       "Name: CustomerID, Length: 4335, dtype: int64"
      ]
     },
     "execution_count": 38,
     "metadata": {},
     "output_type": "execute_result"
    }
   ],
   "source": [
    "df['CustomerID'].value_counts()"
   ]
  },
  {
   "cell_type": "code",
   "execution_count": 39,
   "metadata": {},
   "outputs": [
    {
     "data": {
      "text/plain": [
       "United Kingdom    62634\n",
       "EIRE                297\n",
       "Hong Kong           134\n",
       "Unspecified          96\n",
       "Switzerland          55\n",
       "France               33\n",
       "Israel               19\n",
       "Portugal             15\n",
       "Bahrain               1\n",
       "Name: CustomerCountry, dtype: int64"
      ]
     },
     "execution_count": 39,
     "metadata": {},
     "output_type": "execute_result"
    }
   ],
   "source": [
    "df[df['CustomerID'].isnull()]['CustomerCountry'].value_counts()"
   ]
  },
  {
   "cell_type": "code",
   "execution_count": 40,
   "metadata": {},
   "outputs": [
    {
     "data": {
      "text/plain": [
       "False    454440\n",
       "True       5193\n",
       "dtype: int64"
      ]
     },
     "execution_count": 40,
     "metadata": {},
     "output_type": "execute_result"
    }
   ],
   "source": [
    "df.duplicated().value_counts()"
   ]
  },
  {
   "cell_type": "markdown",
   "metadata": {},
   "source": [
    "Eliminiamo le righe duplicate."
   ]
  },
  {
   "cell_type": "code",
   "execution_count": 41,
   "metadata": {},
   "outputs": [],
   "source": [
    "df.drop_duplicates(inplace=True)"
   ]
  },
  {
   "cell_type": "code",
   "execution_count": 42,
   "metadata": {},
   "outputs": [
    {
     "data": {
      "text/plain": [
       "False    454440\n",
       "dtype: int64"
      ]
     },
     "execution_count": 42,
     "metadata": {},
     "output_type": "execute_result"
    }
   ],
   "source": [
    "df.duplicated().value_counts()"
   ]
  },
  {
   "cell_type": "code",
   "execution_count": 43,
   "metadata": {},
   "outputs": [
    {
     "data": {
      "text/html": [
       "<div>\n",
       "<style scoped>\n",
       "    .dataframe tbody tr th:only-of-type {\n",
       "        vertical-align: middle;\n",
       "    }\n",
       "\n",
       "    .dataframe tbody tr th {\n",
       "        vertical-align: top;\n",
       "    }\n",
       "\n",
       "    .dataframe thead th {\n",
       "        text-align: right;\n",
       "    }\n",
       "</style>\n",
       "<table border=\"1\" class=\"dataframe\">\n",
       "  <thead>\n",
       "    <tr style=\"text-align: right;\">\n",
       "      <th></th>\n",
       "      <th>BasketID</th>\n",
       "      <th>BasketDate</th>\n",
       "      <th>Sale</th>\n",
       "      <th>CustomerID</th>\n",
       "      <th>CustomerCountry</th>\n",
       "      <th>ProdID</th>\n",
       "      <th>ProdDescr</th>\n",
       "      <th>Qta</th>\n",
       "    </tr>\n",
       "  </thead>\n",
       "  <tbody>\n",
       "    <tr>\n",
       "      <th>128523</th>\n",
       "      <td>549687</td>\n",
       "      <td>2011-04-11 13:29:00</td>\n",
       "      <td>7.95</td>\n",
       "      <td>12363.0</td>\n",
       "      <td>Unspecified</td>\n",
       "      <td>20685</td>\n",
       "      <td>DOORMAT RED RETROSPOT</td>\n",
       "      <td>2</td>\n",
       "    </tr>\n",
       "    <tr>\n",
       "      <th>128524</th>\n",
       "      <td>549687</td>\n",
       "      <td>2011-04-11 13:29:00</td>\n",
       "      <td>7.95</td>\n",
       "      <td>12363.0</td>\n",
       "      <td>Unspecified</td>\n",
       "      <td>22691</td>\n",
       "      <td>DOORMAT WELCOME SUNRISE</td>\n",
       "      <td>2</td>\n",
       "    </tr>\n",
       "    <tr>\n",
       "      <th>128525</th>\n",
       "      <td>549687</td>\n",
       "      <td>2011-04-11 13:29:00</td>\n",
       "      <td>7.95</td>\n",
       "      <td>12363.0</td>\n",
       "      <td>Unspecified</td>\n",
       "      <td>48116</td>\n",
       "      <td>DOORMAT MULTICOLOUR STRIPE</td>\n",
       "      <td>2</td>\n",
       "    </tr>\n",
       "    <tr>\n",
       "      <th>128526</th>\n",
       "      <td>549687</td>\n",
       "      <td>2011-04-11 13:29:00</td>\n",
       "      <td>0.55</td>\n",
       "      <td>12363.0</td>\n",
       "      <td>Unspecified</td>\n",
       "      <td>21213</td>\n",
       "      <td>PACK OF 72 SKULL CAKE CASES</td>\n",
       "      <td>24</td>\n",
       "    </tr>\n",
       "    <tr>\n",
       "      <th>128527</th>\n",
       "      <td>549687</td>\n",
       "      <td>2011-04-11 13:29:00</td>\n",
       "      <td>0.55</td>\n",
       "      <td>12363.0</td>\n",
       "      <td>Unspecified</td>\n",
       "      <td>21977</td>\n",
       "      <td>PACK OF 60 PINK PAISLEY CAKE CASES</td>\n",
       "      <td>24</td>\n",
       "    </tr>\n",
       "    <tr>\n",
       "      <th>...</th>\n",
       "      <td>...</td>\n",
       "      <td>...</td>\n",
       "      <td>...</td>\n",
       "      <td>...</td>\n",
       "      <td>...</td>\n",
       "      <td>...</td>\n",
       "      <td>...</td>\n",
       "      <td>...</td>\n",
       "    </tr>\n",
       "    <tr>\n",
       "      <th>435421</th>\n",
       "      <td>578539</td>\n",
       "      <td>2011-11-24 14:55:00</td>\n",
       "      <td>4.95</td>\n",
       "      <td>NaN</td>\n",
       "      <td>Unspecified</td>\n",
       "      <td>23569</td>\n",
       "      <td>TRADTIONAL ALPHABET STAMP SET</td>\n",
       "      <td>4</td>\n",
       "    </tr>\n",
       "    <tr>\n",
       "      <th>435422</th>\n",
       "      <td>578539</td>\n",
       "      <td>2011-11-24 14:55:00</td>\n",
       "      <td>0.42</td>\n",
       "      <td>NaN</td>\n",
       "      <td>Unspecified</td>\n",
       "      <td>23507</td>\n",
       "      <td>MINI PLAYING CARDS BUFFALO BILL</td>\n",
       "      <td>20</td>\n",
       "    </tr>\n",
       "    <tr>\n",
       "      <th>435423</th>\n",
       "      <td>578539</td>\n",
       "      <td>2011-11-24 14:55:00</td>\n",
       "      <td>1.25</td>\n",
       "      <td>NaN</td>\n",
       "      <td>Unspecified</td>\n",
       "      <td>23570</td>\n",
       "      <td>TRADITIONAL PICK UP STICKS GAME</td>\n",
       "      <td>12</td>\n",
       "    </tr>\n",
       "    <tr>\n",
       "      <th>435424</th>\n",
       "      <td>578539</td>\n",
       "      <td>2011-11-24 14:55:00</td>\n",
       "      <td>1.65</td>\n",
       "      <td>NaN</td>\n",
       "      <td>Unspecified</td>\n",
       "      <td>23571</td>\n",
       "      <td>TRADITIONAL NAUGHTS &amp; CROSSES</td>\n",
       "      <td>12</td>\n",
       "    </tr>\n",
       "    <tr>\n",
       "      <th>435425</th>\n",
       "      <td>578539</td>\n",
       "      <td>2011-11-24 14:55:00</td>\n",
       "      <td>0.55</td>\n",
       "      <td>NaN</td>\n",
       "      <td>Unspecified</td>\n",
       "      <td>23309</td>\n",
       "      <td>SET OF 60 I LOVE LONDON CAKE CASES</td>\n",
       "      <td>24</td>\n",
       "    </tr>\n",
       "  </tbody>\n",
       "</table>\n",
       "<p>337 rows × 8 columns</p>\n",
       "</div>"
      ],
      "text/plain": [
       "        BasketID          BasketDate  Sale  CustomerID CustomerCountry ProdID  \\\n",
       "128523    549687 2011-04-11 13:29:00  7.95     12363.0     Unspecified  20685   \n",
       "128524    549687 2011-04-11 13:29:00  7.95     12363.0     Unspecified  22691   \n",
       "128525    549687 2011-04-11 13:29:00  7.95     12363.0     Unspecified  48116   \n",
       "128526    549687 2011-04-11 13:29:00  0.55     12363.0     Unspecified  21213   \n",
       "128527    549687 2011-04-11 13:29:00  0.55     12363.0     Unspecified  21977   \n",
       "...          ...                 ...   ...         ...             ...    ...   \n",
       "435421    578539 2011-11-24 14:55:00  4.95         NaN     Unspecified  23569   \n",
       "435422    578539 2011-11-24 14:55:00  0.42         NaN     Unspecified  23507   \n",
       "435423    578539 2011-11-24 14:55:00  1.25         NaN     Unspecified  23570   \n",
       "435424    578539 2011-11-24 14:55:00  1.65         NaN     Unspecified  23571   \n",
       "435425    578539 2011-11-24 14:55:00  0.55         NaN     Unspecified  23309   \n",
       "\n",
       "                                  ProdDescr  Qta  \n",
       "128523                DOORMAT RED RETROSPOT    2  \n",
       "128524              DOORMAT WELCOME SUNRISE    2  \n",
       "128525           DOORMAT MULTICOLOUR STRIPE    2  \n",
       "128526          PACK OF 72 SKULL CAKE CASES   24  \n",
       "128527   PACK OF 60 PINK PAISLEY CAKE CASES   24  \n",
       "...                                     ...  ...  \n",
       "435421        TRADTIONAL ALPHABET STAMP SET    4  \n",
       "435422     MINI PLAYING CARDS BUFFALO BILL    20  \n",
       "435423     TRADITIONAL PICK UP STICKS GAME    12  \n",
       "435424        TRADITIONAL NAUGHTS & CROSSES   12  \n",
       "435425  SET OF 60 I LOVE LONDON CAKE CASES    24  \n",
       "\n",
       "[337 rows x 8 columns]"
      ]
     },
     "execution_count": 43,
     "metadata": {},
     "output_type": "execute_result"
    }
   ],
   "source": [
    "df[df['CustomerCountry'] == 'Unspecified']"
   ]
  },
  {
   "cell_type": "code",
   "execution_count": 44,
   "metadata": {},
   "outputs": [],
   "source": [
    "df.loc[df['CustomerCountry'] == 'Unspecified','CustomerCountry'] = np.nan"
   ]
  },
  {
   "cell_type": "code",
   "execution_count": 45,
   "metadata": {},
   "outputs": [
    {
     "data": {
      "text/plain": [
       "[]"
      ]
     },
     "execution_count": 45,
     "metadata": {},
     "output_type": "execute_result"
    }
   ],
   "source": [
    "null_country = df[df['CustomerCountry'].isnull()]['CustomerID'].value_counts()\n",
    "non_null_country = df.dropna()['CustomerID'].value_counts()\n",
    "\n",
    "intersection(list(null_country.index.values), list(non_null_country.index.values))"
   ]
  },
  {
   "cell_type": "code",
   "execution_count": 46,
   "metadata": {},
   "outputs": [
    {
     "data": {
      "text/plain": [
       "[]"
      ]
     },
     "execution_count": 46,
     "metadata": {},
     "output_type": "execute_result"
    }
   ],
   "source": [
    "null_country = df[df['CustomerCountry'].isnull()]['BasketID'].value_counts()\n",
    "non_null_country = df.dropna()['BasketID'].value_counts()\n",
    "\n",
    "intersection(list(null_country.index.values), list(non_null_country.index.values))"
   ]
  },
  {
   "cell_type": "code",
   "execution_count": 47,
   "metadata": {},
   "outputs": [],
   "source": [
    "df.dropna(inplace=True, subset=['CustomerCountry'])"
   ]
  },
  {
   "cell_type": "code",
   "execution_count": 48,
   "metadata": {
    "scrolled": true
   },
   "outputs": [
    {
     "name": "stdout",
     "output_type": "stream",
     "text": [
      "<class 'pandas.core.frame.DataFrame'>\n",
      "Int64Index: 454103 entries, 0 to 471908\n",
      "Data columns (total 8 columns):\n",
      " #   Column           Non-Null Count   Dtype         \n",
      "---  ------           --------------   -----         \n",
      " 0   BasketID         454103 non-null  int64         \n",
      " 1   BasketDate       454103 non-null  datetime64[ns]\n",
      " 2   Sale             454103 non-null  float64       \n",
      " 3   CustomerID       390921 non-null  float64       \n",
      " 4   CustomerCountry  454103 non-null  object        \n",
      " 5   ProdID           454103 non-null  object        \n",
      " 6   ProdDescr        454103 non-null  object        \n",
      " 7   Qta              454103 non-null  int64         \n",
      "dtypes: datetime64[ns](1), float64(2), int64(2), object(3)\n",
      "memory usage: 31.2+ MB\n"
     ]
    }
   ],
   "source": [
    "df.info()"
   ]
  },
  {
   "cell_type": "markdown",
   "metadata": {},
   "source": [
    "Data che solo 337 righe hanno country Unspecified possiamo eliminare queste righe."
   ]
  },
  {
   "cell_type": "markdown",
   "metadata": {},
   "source": [
    "## Data exploration"
   ]
  },
  {
   "cell_type": "markdown",
   "metadata": {},
   "source": [
    "### Prodotti più comprati"
   ]
  },
  {
   "cell_type": "code",
   "execution_count": 49,
   "metadata": {
    "scrolled": true
   },
   "outputs": [
    {
     "data": {
      "text/plain": [
       "<matplotlib.axes._subplots.AxesSubplot at 0x7f0185021430>"
      ]
     },
     "execution_count": 49,
     "metadata": {},
     "output_type": "execute_result"
    },
    {
     "data": {
      "image/png": "[encoded data removed]",
      "text/plain": [
       "<Figure size 432x288 with 1 Axes>"
      ]
     },
     "metadata": {},
     "output_type": "display_data"
    }
   ],
   "source": [
    "df['ProdDescr'].value_counts(ascending=True).tail(10).plot(kind='barh', title='10 most bought items')\n"
   ]
  },
  {
   "cell_type": "code",
   "execution_count": 50,
   "metadata": {
    "scrolled": true
   },
   "outputs": [
    {
     "data": {
      "text/plain": [
       "WHITE HANGING HEART T-LIGHT HOLDER    2157\n",
       "JUMBO BAG RED RETROSPOT               1868\n",
       "REGENCY CAKESTAND 3 TIER              1847\n",
       "PARTY BUNTING                         1541\n",
       "ASSORTED COLOUR BIRD ORNAMENT         1443\n",
       "LUNCH BAG RED RETROSPOT               1436\n",
       "SET OF 3 CAKE TINS PANTRY DESIGN      1252\n",
       "PACK OF 72 RETROSPOT CAKE CASES       1193\n",
       "LUNCH BAG  BLACK SKULL.               1187\n",
       "NATURAL SLATE HEART CHALKBOARD        1111\n",
       "Name: ProdDescr, dtype: int64"
      ]
     },
     "execution_count": 50,
     "metadata": {},
     "output_type": "execute_result"
    }
   ],
   "source": [
    "df['ProdDescr'].value_counts().head(10)"
   ]
  },
  {
   "cell_type": "markdown",
   "metadata": {},
   "source": [
    "### Periodi in cui si fanno più acquisti"
   ]
  },
  {
   "cell_type": "code",
   "execution_count": 51,
   "metadata": {},
   "outputs": [
    {
     "data": {
      "text/plain": [
       "Timestamp('2010-12-01 08:26:00')"
      ]
     },
     "execution_count": 51,
     "metadata": {},
     "output_type": "execute_result"
    }
   ],
   "source": [
    "df['BasketDate'].min()"
   ]
  },
  {
   "cell_type": "code",
   "execution_count": 52,
   "metadata": {},
   "outputs": [
    {
     "data": {
      "text/plain": [
       "Timestamp('2011-12-09 12:50:00')"
      ]
     },
     "execution_count": 52,
     "metadata": {},
     "output_type": "execute_result"
    }
   ],
   "source": [
    "df['BasketDate'].max()"
   ]
  },
  {
   "cell_type": "markdown",
   "metadata": {},
   "source": [
    "The purchases in the dataset range from december 2010 to 9th december 2011.\n"
   ]
  },
  {
   "cell_type": "code",
   "execution_count": 53,
   "metadata": {},
   "outputs": [
    {
     "data": {
      "text/plain": [
       "<matplotlib.axes._subplots.AxesSubplot at 0x7f01847a3b50>"
      ]
     },
     "execution_count": 53,
     "metadata": {},
     "output_type": "execute_result"
    },
    {
     "data": {
      "image/png": "[encoded data removed]",
      "text/plain": [
       "<Figure size 432x288 with 1 Axes>"
      ]
     },
     "metadata": {},
     "output_type": "display_data"
    }
   ],
   "source": [
    "df_no_dec_11 = df[df['BasketDate'] < '2011/12/01']\n",
    "df_no_dec_11['BasketDate'].dt.month.value_counts(sort=False).plot(kind='bar', title='Number of purchases per month')"
   ]
  },
  {
   "cell_type": "code",
   "execution_count": 54,
   "metadata": {},
   "outputs": [
    {
     "data": {
      "text/plain": [
       "<matplotlib.axes._subplots.AxesSubplot at 0x7f0184738820>"
      ]
     },
     "execution_count": 54,
     "metadata": {},
     "output_type": "execute_result"
    },
    {
     "data": {
      "image/png": "[encoded data removed]",
      "text/plain": [
       "<Figure size 432x288 with 1 Axes>"
      ]
     },
     "metadata": {},
     "output_type": "display_data"
    }
   ],
   "source": [
    "cats = ['Monday', 'Tuesday', 'Wednesday', 'Thursday', 'Friday', 'Saturday', 'Sunday']\n",
    "df['BasketDate'].dt.day_name().value_counts().reindex(cats).plot(kind='bar', title='Number of purchases per day')"
   ]
  },
  {
   "cell_type": "code",
   "execution_count": 55,
   "metadata": {},
   "outputs": [
    {
     "data": {
      "text/plain": [
       "<matplotlib.axes._subplots.AxesSubplot at 0x7f018467f160>"
      ]
     },
     "execution_count": 55,
     "metadata": {},
     "output_type": "execute_result"
    },
    {
     "data": {
      "image/png": "[encoded data removed]",
      "text/plain": [
       "<Figure size 432x288 with 1 Axes>"
      ]
     },
     "metadata": {},
     "output_type": "display_data"
    }
   ],
   "source": [
    "df['BasketDate'].dt.hour.value_counts(sort=False).plot(kind='bar', title='Number of purchases per hour')"
   ]
  },
  {
   "cell_type": "code",
   "execution_count": 56,
   "metadata": {},
   "outputs": [
    {
     "data": {
      "text/plain": [
       "United Kingdom          411514\n",
       "Germany                   8643\n",
       "France                    8052\n",
       "EIRE                      7423\n",
       "Spain                     2417\n",
       "Netherlands               2322\n",
       "Belgium                   1935\n",
       "Switzerland               1864\n",
       "Portugal                  1431\n",
       "Australia                 1180\n",
       "Norway                    1048\n",
       "Channel Islands            743\n",
       "Italy                      741\n",
       "Finland                    647\n",
       "Cyprus                     601\n",
       "Sweden                     427\n",
       "Austria                    384\n",
       "Denmark                    367\n",
       "Poland                     325\n",
       "Japan                      321\n",
       "Israel                     264\n",
       "Singapore                  215\n",
       "Iceland                    182\n",
       "USA                        179\n",
       "Canada                     150\n",
       "Greece                     142\n",
       "Hong Kong                  133\n",
       "Malta                      109\n",
       "United Arab Emirates        67\n",
       "European Community          57\n",
       "RSA                         57\n",
       "Lebanon                     45\n",
       "Lithuania                   35\n",
       "Brazil                      32\n",
       "Czech Republic              24\n",
       "Bahrain                     18\n",
       "Saudi Arabia                 9\n",
       "Name: CustomerCountry, dtype: int64"
      ]
     },
     "execution_count": 56,
     "metadata": {},
     "output_type": "execute_result"
    }
   ],
   "source": [
    "df['CustomerCountry'].value_counts()"
   ]
  },
  {
   "cell_type": "code",
   "execution_count": 57,
   "metadata": {
    "scrolled": true
   },
   "outputs": [
    {
     "data": {
      "image/png": "[encoded data removed]",
      "text/plain": [
       "<Figure size 792x792 with 1 Axes>"
      ]
     },
     "metadata": {},
     "output_type": "display_data"
    }
   ],
   "source": [
    "color=['#FF3F33','#FFC733','#86FF33','#33FF3F', '#33FFAC', '#33B5FF', '#6833FF', '#FF33EC', '#3C33FF', '#FF336E']\n",
    "#color=['red','blue','green','grey']\n",
    "#color=['red','#1C9FB0','#32A0CE','#1C51B0']\n",
    "fig, ax = plt.subplots(1, figsize = (11,11))\n",
    "squarify.plot(sizes=df['CustomerCountry'].value_counts(), \n",
    "              label=df['CustomerCountry'].value_counts().index[:6], \n",
    "              alpha=0.8, color=color, bar_kwargs=dict(linewidth=1, edgecolor=\"#222222\"))\n",
    "\n",
    "plt.axis('off')\n",
    "plt.show()"
   ]
  },
  {
   "cell_type": "code",
   "execution_count": 58,
   "metadata": {
    "scrolled": true
   },
   "outputs": [
    {
     "data": {
      "text/html": [
       "<div>\n",
       "<style scoped>\n",
       "    .dataframe tbody tr th:only-of-type {\n",
       "        vertical-align: middle;\n",
       "    }\n",
       "\n",
       "    .dataframe tbody tr th {\n",
       "        vertical-align: top;\n",
       "    }\n",
       "\n",
       "    .dataframe thead th {\n",
       "        text-align: right;\n",
       "    }\n",
       "</style>\n",
       "<table border=\"1\" class=\"dataframe\">\n",
       "  <thead>\n",
       "    <tr style=\"text-align: right;\">\n",
       "      <th></th>\n",
       "      <th>Sale</th>\n",
       "      <th>CustomerID</th>\n",
       "      <th>Qta</th>\n",
       "    </tr>\n",
       "    <tr>\n",
       "      <th>BasketID</th>\n",
       "      <th></th>\n",
       "      <th></th>\n",
       "      <th></th>\n",
       "    </tr>\n",
       "  </thead>\n",
       "  <tbody>\n",
       "    <tr>\n",
       "      <th>536365</th>\n",
       "      <td>3.910000</td>\n",
       "      <td>17850.0</td>\n",
       "      <td>5.714286</td>\n",
       "    </tr>\n",
       "    <tr>\n",
       "      <th>536366</th>\n",
       "      <td>1.850000</td>\n",
       "      <td>17850.0</td>\n",
       "      <td>6.000000</td>\n",
       "    </tr>\n",
       "    <tr>\n",
       "      <th>536367</th>\n",
       "      <td>4.853333</td>\n",
       "      <td>13047.0</td>\n",
       "      <td>6.916667</td>\n",
       "    </tr>\n",
       "    <tr>\n",
       "      <th>536368</th>\n",
       "      <td>4.775000</td>\n",
       "      <td>13047.0</td>\n",
       "      <td>3.750000</td>\n",
       "    </tr>\n",
       "    <tr>\n",
       "      <th>536369</th>\n",
       "      <td>5.950000</td>\n",
       "      <td>13047.0</td>\n",
       "      <td>3.000000</td>\n",
       "    </tr>\n",
       "    <tr>\n",
       "      <th>...</th>\n",
       "      <td>...</td>\n",
       "      <td>...</td>\n",
       "      <td>...</td>\n",
       "    </tr>\n",
       "    <tr>\n",
       "      <th>581583</th>\n",
       "      <td>1.650000</td>\n",
       "      <td>13777.0</td>\n",
       "      <td>38.000000</td>\n",
       "    </tr>\n",
       "    <tr>\n",
       "      <th>581584</th>\n",
       "      <td>1.285000</td>\n",
       "      <td>13777.0</td>\n",
       "      <td>60.000000</td>\n",
       "    </tr>\n",
       "    <tr>\n",
       "      <th>581585</th>\n",
       "      <td>1.799048</td>\n",
       "      <td>15804.0</td>\n",
       "      <td>13.238095</td>\n",
       "    </tr>\n",
       "    <tr>\n",
       "      <th>581586</th>\n",
       "      <td>5.057500</td>\n",
       "      <td>13113.0</td>\n",
       "      <td>16.500000</td>\n",
       "    </tr>\n",
       "    <tr>\n",
       "      <th>581587</th>\n",
       "      <td>2.966667</td>\n",
       "      <td>12680.0</td>\n",
       "      <td>7.000000</td>\n",
       "    </tr>\n",
       "  </tbody>\n",
       "</table>\n",
       "<p>19653 rows × 3 columns</p>\n",
       "</div>"
      ],
      "text/plain": [
       "              Sale  CustomerID        Qta\n",
       "BasketID                                 \n",
       "536365    3.910000     17850.0   5.714286\n",
       "536366    1.850000     17850.0   6.000000\n",
       "536367    4.853333     13047.0   6.916667\n",
       "536368    4.775000     13047.0   3.750000\n",
       "536369    5.950000     13047.0   3.000000\n",
       "...            ...         ...        ...\n",
       "581583    1.650000     13777.0  38.000000\n",
       "581584    1.285000     13777.0  60.000000\n",
       "581585    1.799048     15804.0  13.238095\n",
       "581586    5.057500     13113.0  16.500000\n",
       "581587    2.966667     12680.0   7.000000\n",
       "\n",
       "[19653 rows x 3 columns]"
      ]
     },
     "execution_count": 58,
     "metadata": {},
     "output_type": "execute_result"
    }
   ],
   "source": [
    "df_by_basketID_mean = df.groupby('BasketID').mean()\n",
    "df_by_basketID_mean"
   ]
  },
  {
   "cell_type": "code",
   "execution_count": 59,
   "metadata": {
    "scrolled": false
   },
   "outputs": [
    {
     "data": {
      "text/plain": [
       "array([[<matplotlib.axes._subplots.AxesSubplot object at 0x7f01845e1940>]],\n",
       "      dtype=object)"
      ]
     },
     "execution_count": 59,
     "metadata": {},
     "output_type": "execute_result"
    },
    {
     "data": {
      "image/png": "[encoded data removed]",
      "text/plain": [
       "<Figure size 432x288 with 1 Axes>"
      ]
     },
     "metadata": {},
     "output_type": "display_data"
    }
   ],
   "source": [
    "df_by_basketID_mean.hist(column='Qta', bins=150, range=[0,100])"
   ]
  },
  {
   "cell_type": "markdown",
   "metadata": {},
   "source": [
    "Il grafico sopra rappresenta il numero medio di prodotti uguali acquistati per ogni carrello (basket)."
   ]
  },
  {
   "cell_type": "code",
   "execution_count": 60,
   "metadata": {
    "scrolled": true
   },
   "outputs": [
    {
     "data": {
      "text/plain": [
       "array([[<matplotlib.axes._subplots.AxesSubplot object at 0x7f01843c65e0>]],\n",
       "      dtype=object)"
      ]
     },
     "execution_count": 60,
     "metadata": {},
     "output_type": "execute_result"
    },
    {
     "data": {
      "image/png": "[encoded data removed]",
      "text/plain": [
       "<Figure size 432x288 with 1 Axes>"
      ]
     },
     "metadata": {},
     "output_type": "display_data"
    }
   ],
   "source": [
    "df_by_basketID_sum = df.groupby('BasketID').sum()\n",
    "df_by_basketID_sum.hist(column='Qta', bins=150, range=[0,1000])"
   ]
  },
  {
   "cell_type": "markdown",
   "metadata": {},
   "source": [
    "Il grafico sopra rappresenta il quantità totale di prodotti per carrello."
   ]
  },
  {
   "cell_type": "code",
   "execution_count": 61,
   "metadata": {},
   "outputs": [
    {
     "data": {
      "text/html": [
       "<div>\n",
       "<style scoped>\n",
       "    .dataframe tbody tr th:only-of-type {\n",
       "        vertical-align: middle;\n",
       "    }\n",
       "\n",
       "    .dataframe tbody tr th {\n",
       "        vertical-align: top;\n",
       "    }\n",
       "\n",
       "    .dataframe thead th {\n",
       "        text-align: right;\n",
       "    }\n",
       "</style>\n",
       "<table border=\"1\" class=\"dataframe\">\n",
       "  <thead>\n",
       "    <tr style=\"text-align: right;\">\n",
       "      <th></th>\n",
       "      <th>BasketID</th>\n",
       "      <th>BasketDate</th>\n",
       "      <th>Sale</th>\n",
       "      <th>CustomerID</th>\n",
       "      <th>CustomerCountry</th>\n",
       "      <th>ProdID</th>\n",
       "      <th>ProdDescr</th>\n",
       "      <th>Qta</th>\n",
       "      <th>TotSale</th>\n",
       "    </tr>\n",
       "  </thead>\n",
       "  <tbody>\n",
       "    <tr>\n",
       "      <th>0</th>\n",
       "      <td>536365</td>\n",
       "      <td>2010-12-01 08:26:00</td>\n",
       "      <td>2.55</td>\n",
       "      <td>17850.0</td>\n",
       "      <td>United Kingdom</td>\n",
       "      <td>85123A</td>\n",
       "      <td>WHITE HANGING HEART T-LIGHT HOLDER</td>\n",
       "      <td>6</td>\n",
       "      <td>15.30</td>\n",
       "    </tr>\n",
       "    <tr>\n",
       "      <th>1</th>\n",
       "      <td>536365</td>\n",
       "      <td>2010-12-01 08:26:00</td>\n",
       "      <td>3.39</td>\n",
       "      <td>17850.0</td>\n",
       "      <td>United Kingdom</td>\n",
       "      <td>71053</td>\n",
       "      <td>WHITE METAL LANTERN</td>\n",
       "      <td>6</td>\n",
       "      <td>20.34</td>\n",
       "    </tr>\n",
       "    <tr>\n",
       "      <th>2</th>\n",
       "      <td>536365</td>\n",
       "      <td>2010-12-01 08:26:00</td>\n",
       "      <td>2.75</td>\n",
       "      <td>17850.0</td>\n",
       "      <td>United Kingdom</td>\n",
       "      <td>84406B</td>\n",
       "      <td>CREAM CUPID HEARTS COAT HANGER</td>\n",
       "      <td>8</td>\n",
       "      <td>22.00</td>\n",
       "    </tr>\n",
       "    <tr>\n",
       "      <th>3</th>\n",
       "      <td>536365</td>\n",
       "      <td>2010-12-01 08:26:00</td>\n",
       "      <td>3.39</td>\n",
       "      <td>17850.0</td>\n",
       "      <td>United Kingdom</td>\n",
       "      <td>84029G</td>\n",
       "      <td>KNITTED UNION FLAG HOT WATER BOTTLE</td>\n",
       "      <td>6</td>\n",
       "      <td>20.34</td>\n",
       "    </tr>\n",
       "    <tr>\n",
       "      <th>4</th>\n",
       "      <td>536365</td>\n",
       "      <td>2010-12-01 08:26:00</td>\n",
       "      <td>3.39</td>\n",
       "      <td>17850.0</td>\n",
       "      <td>United Kingdom</td>\n",
       "      <td>84029E</td>\n",
       "      <td>RED WOOLLY HOTTIE WHITE HEART.</td>\n",
       "      <td>6</td>\n",
       "      <td>20.34</td>\n",
       "    </tr>\n",
       "    <tr>\n",
       "      <th>...</th>\n",
       "      <td>...</td>\n",
       "      <td>...</td>\n",
       "      <td>...</td>\n",
       "      <td>...</td>\n",
       "      <td>...</td>\n",
       "      <td>...</td>\n",
       "      <td>...</td>\n",
       "      <td>...</td>\n",
       "      <td>...</td>\n",
       "    </tr>\n",
       "    <tr>\n",
       "      <th>471904</th>\n",
       "      <td>581587</td>\n",
       "      <td>2011-12-09 12:50:00</td>\n",
       "      <td>0.85</td>\n",
       "      <td>12680.0</td>\n",
       "      <td>France</td>\n",
       "      <td>22613</td>\n",
       "      <td>PACK OF 20 SPACEBOY NAPKINS</td>\n",
       "      <td>12</td>\n",
       "      <td>10.20</td>\n",
       "    </tr>\n",
       "    <tr>\n",
       "      <th>471905</th>\n",
       "      <td>581587</td>\n",
       "      <td>2011-12-09 12:50:00</td>\n",
       "      <td>2.10</td>\n",
       "      <td>12680.0</td>\n",
       "      <td>France</td>\n",
       "      <td>22899</td>\n",
       "      <td>CHILDREN'S APRON DOLLY GIRL</td>\n",
       "      <td>6</td>\n",
       "      <td>12.60</td>\n",
       "    </tr>\n",
       "    <tr>\n",
       "      <th>471906</th>\n",
       "      <td>581587</td>\n",
       "      <td>2011-12-09 12:50:00</td>\n",
       "      <td>4.15</td>\n",
       "      <td>12680.0</td>\n",
       "      <td>France</td>\n",
       "      <td>23254</td>\n",
       "      <td>CHILDRENS CUTLERY DOLLY GIRL</td>\n",
       "      <td>4</td>\n",
       "      <td>16.60</td>\n",
       "    </tr>\n",
       "    <tr>\n",
       "      <th>471907</th>\n",
       "      <td>581587</td>\n",
       "      <td>2011-12-09 12:50:00</td>\n",
       "      <td>4.15</td>\n",
       "      <td>12680.0</td>\n",
       "      <td>France</td>\n",
       "      <td>23255</td>\n",
       "      <td>CHILDRENS CUTLERY CIRCUS PARADE</td>\n",
       "      <td>4</td>\n",
       "      <td>16.60</td>\n",
       "    </tr>\n",
       "    <tr>\n",
       "      <th>471908</th>\n",
       "      <td>581587</td>\n",
       "      <td>2011-12-09 12:50:00</td>\n",
       "      <td>4.95</td>\n",
       "      <td>12680.0</td>\n",
       "      <td>France</td>\n",
       "      <td>22138</td>\n",
       "      <td>BAKING SET 9 PIECE RETROSPOT</td>\n",
       "      <td>3</td>\n",
       "      <td>14.85</td>\n",
       "    </tr>\n",
       "  </tbody>\n",
       "</table>\n",
       "<p>454103 rows × 9 columns</p>\n",
       "</div>"
      ],
      "text/plain": [
       "        BasketID          BasketDate  Sale  CustomerID CustomerCountry  \\\n",
       "0         536365 2010-12-01 08:26:00  2.55     17850.0  United Kingdom   \n",
       "1         536365 2010-12-01 08:26:00  3.39     17850.0  United Kingdom   \n",
       "2         536365 2010-12-01 08:26:00  2.75     17850.0  United Kingdom   \n",
       "3         536365 2010-12-01 08:26:00  3.39     17850.0  United Kingdom   \n",
       "4         536365 2010-12-01 08:26:00  3.39     17850.0  United Kingdom   \n",
       "...          ...                 ...   ...         ...             ...   \n",
       "471904    581587 2011-12-09 12:50:00  0.85     12680.0          France   \n",
       "471905    581587 2011-12-09 12:50:00  2.10     12680.0          France   \n",
       "471906    581587 2011-12-09 12:50:00  4.15     12680.0          France   \n",
       "471907    581587 2011-12-09 12:50:00  4.15     12680.0          France   \n",
       "471908    581587 2011-12-09 12:50:00  4.95     12680.0          France   \n",
       "\n",
       "        ProdID                            ProdDescr  Qta  TotSale  \n",
       "0       85123A   WHITE HANGING HEART T-LIGHT HOLDER    6    15.30  \n",
       "1        71053                  WHITE METAL LANTERN    6    20.34  \n",
       "2       84406B       CREAM CUPID HEARTS COAT HANGER    8    22.00  \n",
       "3       84029G  KNITTED UNION FLAG HOT WATER BOTTLE    6    20.34  \n",
       "4       84029E       RED WOOLLY HOTTIE WHITE HEART.    6    20.34  \n",
       "...        ...                                  ...  ...      ...  \n",
       "471904   22613          PACK OF 20 SPACEBOY NAPKINS   12    10.20  \n",
       "471905   22899         CHILDREN'S APRON DOLLY GIRL     6    12.60  \n",
       "471906   23254        CHILDRENS CUTLERY DOLLY GIRL     4    16.60  \n",
       "471907   23255      CHILDRENS CUTLERY CIRCUS PARADE    4    16.60  \n",
       "471908   22138        BAKING SET 9 PIECE RETROSPOT     3    14.85  \n",
       "\n",
       "[454103 rows x 9 columns]"
      ]
     },
     "execution_count": 61,
     "metadata": {},
     "output_type": "execute_result"
    }
   ],
   "source": [
    "df['TotSale'] = df['Sale'] * df['Qta']\n",
    "df"
   ]
  },
  {
   "cell_type": "code",
   "execution_count": 62,
   "metadata": {},
   "outputs": [
    {
     "data": {
      "text/html": [
       "<div>\n",
       "<style scoped>\n",
       "    .dataframe tbody tr th:only-of-type {\n",
       "        vertical-align: middle;\n",
       "    }\n",
       "\n",
       "    .dataframe tbody tr th {\n",
       "        vertical-align: top;\n",
       "    }\n",
       "\n",
       "    .dataframe thead th {\n",
       "        text-align: right;\n",
       "    }\n",
       "</style>\n",
       "<table border=\"1\" class=\"dataframe\">\n",
       "  <thead>\n",
       "    <tr style=\"text-align: right;\">\n",
       "      <th></th>\n",
       "      <th>Sale</th>\n",
       "      <th>CustomerID</th>\n",
       "      <th>Qta</th>\n",
       "      <th>TotSale</th>\n",
       "    </tr>\n",
       "    <tr>\n",
       "      <th>BasketID</th>\n",
       "      <th></th>\n",
       "      <th></th>\n",
       "      <th></th>\n",
       "      <th></th>\n",
       "    </tr>\n",
       "  </thead>\n",
       "  <tbody>\n",
       "    <tr>\n",
       "      <th>536365</th>\n",
       "      <td>3.910000</td>\n",
       "      <td>17850.0</td>\n",
       "      <td>5.714286</td>\n",
       "      <td>19.874286</td>\n",
       "    </tr>\n",
       "    <tr>\n",
       "      <th>536366</th>\n",
       "      <td>1.850000</td>\n",
       "      <td>17850.0</td>\n",
       "      <td>6.000000</td>\n",
       "      <td>11.100000</td>\n",
       "    </tr>\n",
       "    <tr>\n",
       "      <th>536367</th>\n",
       "      <td>4.853333</td>\n",
       "      <td>13047.0</td>\n",
       "      <td>6.916667</td>\n",
       "      <td>23.227500</td>\n",
       "    </tr>\n",
       "    <tr>\n",
       "      <th>536368</th>\n",
       "      <td>4.775000</td>\n",
       "      <td>13047.0</td>\n",
       "      <td>3.750000</td>\n",
       "      <td>17.512500</td>\n",
       "    </tr>\n",
       "    <tr>\n",
       "      <th>536369</th>\n",
       "      <td>5.950000</td>\n",
       "      <td>13047.0</td>\n",
       "      <td>3.000000</td>\n",
       "      <td>17.850000</td>\n",
       "    </tr>\n",
       "    <tr>\n",
       "      <th>...</th>\n",
       "      <td>...</td>\n",
       "      <td>...</td>\n",
       "      <td>...</td>\n",
       "      <td>...</td>\n",
       "    </tr>\n",
       "    <tr>\n",
       "      <th>581583</th>\n",
       "      <td>1.650000</td>\n",
       "      <td>13777.0</td>\n",
       "      <td>38.000000</td>\n",
       "      <td>62.300000</td>\n",
       "    </tr>\n",
       "    <tr>\n",
       "      <th>581584</th>\n",
       "      <td>1.285000</td>\n",
       "      <td>13777.0</td>\n",
       "      <td>60.000000</td>\n",
       "      <td>70.320000</td>\n",
       "    </tr>\n",
       "    <tr>\n",
       "      <th>581585</th>\n",
       "      <td>1.799048</td>\n",
       "      <td>15804.0</td>\n",
       "      <td>13.238095</td>\n",
       "      <td>15.669048</td>\n",
       "    </tr>\n",
       "    <tr>\n",
       "      <th>581586</th>\n",
       "      <td>5.057500</td>\n",
       "      <td>13113.0</td>\n",
       "      <td>16.500000</td>\n",
       "      <td>84.800000</td>\n",
       "    </tr>\n",
       "    <tr>\n",
       "      <th>581587</th>\n",
       "      <td>2.966667</td>\n",
       "      <td>12680.0</td>\n",
       "      <td>7.000000</td>\n",
       "      <td>16.630000</td>\n",
       "    </tr>\n",
       "  </tbody>\n",
       "</table>\n",
       "<p>19653 rows × 4 columns</p>\n",
       "</div>"
      ],
      "text/plain": [
       "              Sale  CustomerID        Qta    TotSale\n",
       "BasketID                                            \n",
       "536365    3.910000     17850.0   5.714286  19.874286\n",
       "536366    1.850000     17850.0   6.000000  11.100000\n",
       "536367    4.853333     13047.0   6.916667  23.227500\n",
       "536368    4.775000     13047.0   3.750000  17.512500\n",
       "536369    5.950000     13047.0   3.000000  17.850000\n",
       "...            ...         ...        ...        ...\n",
       "581583    1.650000     13777.0  38.000000  62.300000\n",
       "581584    1.285000     13777.0  60.000000  70.320000\n",
       "581585    1.799048     15804.0  13.238095  15.669048\n",
       "581586    5.057500     13113.0  16.500000  84.800000\n",
       "581587    2.966667     12680.0   7.000000  16.630000\n",
       "\n",
       "[19653 rows x 4 columns]"
      ]
     },
     "execution_count": 62,
     "metadata": {},
     "output_type": "execute_result"
    }
   ],
   "source": [
    "df_by_basketID_mean = df.groupby('BasketID').mean()\n",
    "df_by_basketID_mean"
   ]
  },
  {
   "cell_type": "code",
   "execution_count": 63,
   "metadata": {
    "scrolled": false
   },
   "outputs": [
    {
     "data": {
      "text/plain": [
       "array([[<matplotlib.axes._subplots.AxesSubplot object at 0x7f01843c63a0>]],\n",
       "      dtype=object)"
      ]
     },
     "execution_count": 63,
     "metadata": {},
     "output_type": "execute_result"
    },
    {
     "data": {
      "image/png": "[encoded data removed]",
      "text/plain": [
       "<Figure size 432x288 with 1 Axes>"
      ]
     },
     "metadata": {},
     "output_type": "display_data"
    }
   ],
   "source": [
    "df_by_basketID_mean.hist(column='TotSale', bins=150, range=[0,100])"
   ]
  },
  {
   "cell_type": "markdown",
   "metadata": {},
   "source": [
    "Il grafico sopra rappresenta la spesa media per prodotto acquistato, per carrello."
   ]
  },
  {
   "cell_type": "code",
   "execution_count": 64,
   "metadata": {},
   "outputs": [
    {
     "data": {
      "text/html": [
       "<div>\n",
       "<style scoped>\n",
       "    .dataframe tbody tr th:only-of-type {\n",
       "        vertical-align: middle;\n",
       "    }\n",
       "\n",
       "    .dataframe tbody tr th {\n",
       "        vertical-align: top;\n",
       "    }\n",
       "\n",
       "    .dataframe thead th {\n",
       "        text-align: right;\n",
       "    }\n",
       "</style>\n",
       "<table border=\"1\" class=\"dataframe\">\n",
       "  <thead>\n",
       "    <tr style=\"text-align: right;\">\n",
       "      <th></th>\n",
       "      <th>Sale</th>\n",
       "      <th>CustomerID</th>\n",
       "      <th>Qta</th>\n",
       "      <th>TotSale</th>\n",
       "    </tr>\n",
       "    <tr>\n",
       "      <th>BasketID</th>\n",
       "      <th></th>\n",
       "      <th></th>\n",
       "      <th></th>\n",
       "      <th></th>\n",
       "    </tr>\n",
       "  </thead>\n",
       "  <tbody>\n",
       "    <tr>\n",
       "      <th>536365</th>\n",
       "      <td>27.37</td>\n",
       "      <td>124950.0</td>\n",
       "      <td>40</td>\n",
       "      <td>139.12</td>\n",
       "    </tr>\n",
       "    <tr>\n",
       "      <th>536366</th>\n",
       "      <td>3.70</td>\n",
       "      <td>35700.0</td>\n",
       "      <td>12</td>\n",
       "      <td>22.20</td>\n",
       "    </tr>\n",
       "    <tr>\n",
       "      <th>536367</th>\n",
       "      <td>58.24</td>\n",
       "      <td>156564.0</td>\n",
       "      <td>83</td>\n",
       "      <td>278.73</td>\n",
       "    </tr>\n",
       "    <tr>\n",
       "      <th>536368</th>\n",
       "      <td>19.10</td>\n",
       "      <td>52188.0</td>\n",
       "      <td>15</td>\n",
       "      <td>70.05</td>\n",
       "    </tr>\n",
       "    <tr>\n",
       "      <th>536369</th>\n",
       "      <td>5.95</td>\n",
       "      <td>13047.0</td>\n",
       "      <td>3</td>\n",
       "      <td>17.85</td>\n",
       "    </tr>\n",
       "    <tr>\n",
       "      <th>...</th>\n",
       "      <td>...</td>\n",
       "      <td>...</td>\n",
       "      <td>...</td>\n",
       "      <td>...</td>\n",
       "    </tr>\n",
       "    <tr>\n",
       "      <th>581583</th>\n",
       "      <td>3.30</td>\n",
       "      <td>27554.0</td>\n",
       "      <td>76</td>\n",
       "      <td>124.60</td>\n",
       "    </tr>\n",
       "    <tr>\n",
       "      <th>581584</th>\n",
       "      <td>2.57</td>\n",
       "      <td>27554.0</td>\n",
       "      <td>120</td>\n",
       "      <td>140.64</td>\n",
       "    </tr>\n",
       "    <tr>\n",
       "      <th>581585</th>\n",
       "      <td>37.78</td>\n",
       "      <td>331884.0</td>\n",
       "      <td>278</td>\n",
       "      <td>329.05</td>\n",
       "    </tr>\n",
       "    <tr>\n",
       "      <th>581586</th>\n",
       "      <td>20.23</td>\n",
       "      <td>52452.0</td>\n",
       "      <td>66</td>\n",
       "      <td>339.20</td>\n",
       "    </tr>\n",
       "    <tr>\n",
       "      <th>581587</th>\n",
       "      <td>44.50</td>\n",
       "      <td>190200.0</td>\n",
       "      <td>105</td>\n",
       "      <td>249.45</td>\n",
       "    </tr>\n",
       "  </tbody>\n",
       "</table>\n",
       "<p>19653 rows × 4 columns</p>\n",
       "</div>"
      ],
      "text/plain": [
       "           Sale  CustomerID  Qta  TotSale\n",
       "BasketID                                 \n",
       "536365    27.37    124950.0   40   139.12\n",
       "536366     3.70     35700.0   12    22.20\n",
       "536367    58.24    156564.0   83   278.73\n",
       "536368    19.10     52188.0   15    70.05\n",
       "536369     5.95     13047.0    3    17.85\n",
       "...         ...         ...  ...      ...\n",
       "581583     3.30     27554.0   76   124.60\n",
       "581584     2.57     27554.0  120   140.64\n",
       "581585    37.78    331884.0  278   329.05\n",
       "581586    20.23     52452.0   66   339.20\n",
       "581587    44.50    190200.0  105   249.45\n",
       "\n",
       "[19653 rows x 4 columns]"
      ]
     },
     "execution_count": 64,
     "metadata": {},
     "output_type": "execute_result"
    }
   ],
   "source": [
    "df_by_basketID_sum = df.groupby('BasketID').sum()\n",
    "df_by_basketID_sum"
   ]
  },
  {
   "cell_type": "code",
   "execution_count": 65,
   "metadata": {
    "scrolled": false
   },
   "outputs": [
    {
     "data": {
      "text/plain": [
       "array([[<matplotlib.axes._subplots.AxesSubplot object at 0x7f0181f5ef10>]],\n",
       "      dtype=object)"
      ]
     },
     "execution_count": 65,
     "metadata": {},
     "output_type": "execute_result"
    },
    {
     "data": {
      "image/png": "[encoded data removed]",
      "text/plain": [
       "<Figure size 432x288 with 1 Axes>"
      ]
     },
     "metadata": {},
     "output_type": "display_data"
    }
   ],
   "source": [
    "df_by_basketID_sum.hist(column='TotSale', bins=150, range=[0,1500])"
   ]
  },
  {
   "cell_type": "markdown",
   "metadata": {},
   "source": [
    "Il grafico sopra rappresenta la spesa totale per carrello."
   ]
  },
  {
   "cell_type": "markdown",
   "metadata": {},
   "source": [
    "### Pairwise correlation"
   ]
  },
  {
   "cell_type": "code",
   "execution_count": 66,
   "metadata": {
    "scrolled": true
   },
   "outputs": [
    {
     "data": {
      "text/html": [
       "<div>\n",
       "<style scoped>\n",
       "    .dataframe tbody tr th:only-of-type {\n",
       "        vertical-align: middle;\n",
       "    }\n",
       "\n",
       "    .dataframe tbody tr th {\n",
       "        vertical-align: top;\n",
       "    }\n",
       "\n",
       "    .dataframe thead th {\n",
       "        text-align: right;\n",
       "    }\n",
       "</style>\n",
       "<table border=\"1\" class=\"dataframe\">\n",
       "  <thead>\n",
       "    <tr style=\"text-align: right;\">\n",
       "      <th></th>\n",
       "      <th>BasketID</th>\n",
       "      <th>BasketDate</th>\n",
       "      <th>Sale</th>\n",
       "      <th>CustomerID</th>\n",
       "      <th>CustomerCountry</th>\n",
       "      <th>ProdID</th>\n",
       "      <th>ProdDescr</th>\n",
       "      <th>Qta</th>\n",
       "      <th>TotSale</th>\n",
       "    </tr>\n",
       "  </thead>\n",
       "  <tbody>\n",
       "    <tr>\n",
       "      <th>0</th>\n",
       "      <td>536365</td>\n",
       "      <td>2010-12-01 08:26:00</td>\n",
       "      <td>2.55</td>\n",
       "      <td>17850.0</td>\n",
       "      <td>United Kingdom</td>\n",
       "      <td>85123A</td>\n",
       "      <td>WHITE HANGING HEART T-LIGHT HOLDER</td>\n",
       "      <td>6</td>\n",
       "      <td>15.30</td>\n",
       "    </tr>\n",
       "    <tr>\n",
       "      <th>1</th>\n",
       "      <td>536365</td>\n",
       "      <td>2010-12-01 08:26:00</td>\n",
       "      <td>3.39</td>\n",
       "      <td>17850.0</td>\n",
       "      <td>United Kingdom</td>\n",
       "      <td>71053</td>\n",
       "      <td>WHITE METAL LANTERN</td>\n",
       "      <td>6</td>\n",
       "      <td>20.34</td>\n",
       "    </tr>\n",
       "    <tr>\n",
       "      <th>2</th>\n",
       "      <td>536365</td>\n",
       "      <td>2010-12-01 08:26:00</td>\n",
       "      <td>2.75</td>\n",
       "      <td>17850.0</td>\n",
       "      <td>United Kingdom</td>\n",
       "      <td>84406B</td>\n",
       "      <td>CREAM CUPID HEARTS COAT HANGER</td>\n",
       "      <td>8</td>\n",
       "      <td>22.00</td>\n",
       "    </tr>\n",
       "    <tr>\n",
       "      <th>3</th>\n",
       "      <td>536365</td>\n",
       "      <td>2010-12-01 08:26:00</td>\n",
       "      <td>3.39</td>\n",
       "      <td>17850.0</td>\n",
       "      <td>United Kingdom</td>\n",
       "      <td>84029G</td>\n",
       "      <td>KNITTED UNION FLAG HOT WATER BOTTLE</td>\n",
       "      <td>6</td>\n",
       "      <td>20.34</td>\n",
       "    </tr>\n",
       "    <tr>\n",
       "      <th>4</th>\n",
       "      <td>536365</td>\n",
       "      <td>2010-12-01 08:26:00</td>\n",
       "      <td>3.39</td>\n",
       "      <td>17850.0</td>\n",
       "      <td>United Kingdom</td>\n",
       "      <td>84029E</td>\n",
       "      <td>RED WOOLLY HOTTIE WHITE HEART.</td>\n",
       "      <td>6</td>\n",
       "      <td>20.34</td>\n",
       "    </tr>\n",
       "    <tr>\n",
       "      <th>...</th>\n",
       "      <td>...</td>\n",
       "      <td>...</td>\n",
       "      <td>...</td>\n",
       "      <td>...</td>\n",
       "      <td>...</td>\n",
       "      <td>...</td>\n",
       "      <td>...</td>\n",
       "      <td>...</td>\n",
       "      <td>...</td>\n",
       "    </tr>\n",
       "    <tr>\n",
       "      <th>471904</th>\n",
       "      <td>581587</td>\n",
       "      <td>2011-12-09 12:50:00</td>\n",
       "      <td>0.85</td>\n",
       "      <td>12680.0</td>\n",
       "      <td>France</td>\n",
       "      <td>22613</td>\n",
       "      <td>PACK OF 20 SPACEBOY NAPKINS</td>\n",
       "      <td>12</td>\n",
       "      <td>10.20</td>\n",
       "    </tr>\n",
       "    <tr>\n",
       "      <th>471905</th>\n",
       "      <td>581587</td>\n",
       "      <td>2011-12-09 12:50:00</td>\n",
       "      <td>2.10</td>\n",
       "      <td>12680.0</td>\n",
       "      <td>France</td>\n",
       "      <td>22899</td>\n",
       "      <td>CHILDREN'S APRON DOLLY GIRL</td>\n",
       "      <td>6</td>\n",
       "      <td>12.60</td>\n",
       "    </tr>\n",
       "    <tr>\n",
       "      <th>471906</th>\n",
       "      <td>581587</td>\n",
       "      <td>2011-12-09 12:50:00</td>\n",
       "      <td>4.15</td>\n",
       "      <td>12680.0</td>\n",
       "      <td>France</td>\n",
       "      <td>23254</td>\n",
       "      <td>CHILDRENS CUTLERY DOLLY GIRL</td>\n",
       "      <td>4</td>\n",
       "      <td>16.60</td>\n",
       "    </tr>\n",
       "    <tr>\n",
       "      <th>471907</th>\n",
       "      <td>581587</td>\n",
       "      <td>2011-12-09 12:50:00</td>\n",
       "      <td>4.15</td>\n",
       "      <td>12680.0</td>\n",
       "      <td>France</td>\n",
       "      <td>23255</td>\n",
       "      <td>CHILDRENS CUTLERY CIRCUS PARADE</td>\n",
       "      <td>4</td>\n",
       "      <td>16.60</td>\n",
       "    </tr>\n",
       "    <tr>\n",
       "      <th>471908</th>\n",
       "      <td>581587</td>\n",
       "      <td>2011-12-09 12:50:00</td>\n",
       "      <td>4.95</td>\n",
       "      <td>12680.0</td>\n",
       "      <td>France</td>\n",
       "      <td>22138</td>\n",
       "      <td>BAKING SET 9 PIECE RETROSPOT</td>\n",
       "      <td>3</td>\n",
       "      <td>14.85</td>\n",
       "    </tr>\n",
       "  </tbody>\n",
       "</table>\n",
       "<p>454103 rows × 9 columns</p>\n",
       "</div>"
      ],
      "text/plain": [
       "        BasketID          BasketDate  Sale  CustomerID CustomerCountry  \\\n",
       "0         536365 2010-12-01 08:26:00  2.55     17850.0  United Kingdom   \n",
       "1         536365 2010-12-01 08:26:00  3.39     17850.0  United Kingdom   \n",
       "2         536365 2010-12-01 08:26:00  2.75     17850.0  United Kingdom   \n",
       "3         536365 2010-12-01 08:26:00  3.39     17850.0  United Kingdom   \n",
       "4         536365 2010-12-01 08:26:00  3.39     17850.0  United Kingdom   \n",
       "...          ...                 ...   ...         ...             ...   \n",
       "471904    581587 2011-12-09 12:50:00  0.85     12680.0          France   \n",
       "471905    581587 2011-12-09 12:50:00  2.10     12680.0          France   \n",
       "471906    581587 2011-12-09 12:50:00  4.15     12680.0          France   \n",
       "471907    581587 2011-12-09 12:50:00  4.15     12680.0          France   \n",
       "471908    581587 2011-12-09 12:50:00  4.95     12680.0          France   \n",
       "\n",
       "        ProdID                            ProdDescr  Qta  TotSale  \n",
       "0       85123A   WHITE HANGING HEART T-LIGHT HOLDER    6    15.30  \n",
       "1        71053                  WHITE METAL LANTERN    6    20.34  \n",
       "2       84406B       CREAM CUPID HEARTS COAT HANGER    8    22.00  \n",
       "3       84029G  KNITTED UNION FLAG HOT WATER BOTTLE    6    20.34  \n",
       "4       84029E       RED WOOLLY HOTTIE WHITE HEART.    6    20.34  \n",
       "...        ...                                  ...  ...      ...  \n",
       "471904   22613          PACK OF 20 SPACEBOY NAPKINS   12    10.20  \n",
       "471905   22899         CHILDREN'S APRON DOLLY GIRL     6    12.60  \n",
       "471906   23254        CHILDRENS CUTLERY DOLLY GIRL     4    16.60  \n",
       "471907   23255      CHILDRENS CUTLERY CIRCUS PARADE    4    16.60  \n",
       "471908   22138        BAKING SET 9 PIECE RETROSPOT     3    14.85  \n",
       "\n",
       "[454103 rows x 9 columns]"
      ]
     },
     "execution_count": 66,
     "metadata": {},
     "output_type": "execute_result"
    }
   ],
   "source": [
    "df"
   ]
  },
  {
   "cell_type": "code",
   "execution_count": 67,
   "metadata": {
    "scrolled": true
   },
   "outputs": [
    {
     "data": {
      "text/html": [
       "<div>\n",
       "<style scoped>\n",
       "    .dataframe tbody tr th:only-of-type {\n",
       "        vertical-align: middle;\n",
       "    }\n",
       "\n",
       "    .dataframe tbody tr th {\n",
       "        vertical-align: top;\n",
       "    }\n",
       "\n",
       "    .dataframe thead th {\n",
       "        text-align: right;\n",
       "    }\n",
       "</style>\n",
       "<table border=\"1\" class=\"dataframe\">\n",
       "  <thead>\n",
       "    <tr style=\"text-align: right;\">\n",
       "      <th></th>\n",
       "      <th>Sale</th>\n",
       "      <th>Qta</th>\n",
       "    </tr>\n",
       "  </thead>\n",
       "  <tbody>\n",
       "    <tr>\n",
       "      <th>Sale</th>\n",
       "      <td>1.000000</td>\n",
       "      <td>-0.021333</td>\n",
       "    </tr>\n",
       "    <tr>\n",
       "      <th>Qta</th>\n",
       "      <td>-0.021333</td>\n",
       "      <td>1.000000</td>\n",
       "    </tr>\n",
       "  </tbody>\n",
       "</table>\n",
       "</div>"
      ],
      "text/plain": [
       "          Sale       Qta\n",
       "Sale  1.000000 -0.021333\n",
       "Qta  -0.021333  1.000000"
      ]
     },
     "execution_count": 67,
     "metadata": {},
     "output_type": "execute_result"
    }
   ],
   "source": [
    "df[['Sale', 'Qta']].corr()"
   ]
  },
  {
   "cell_type": "code",
   "execution_count": 74,
   "metadata": {
    "scrolled": true
   },
   "outputs": [
    {
     "data": {
      "text/plain": [
       "18287.0"
      ]
     },
     "execution_count": 74,
     "metadata": {},
     "output_type": "execute_result"
    }
   ],
   "source": [
    "df['CustomerID'].value_counts().index.max()"
   ]
  },
  {
   "cell_type": "code",
   "execution_count": 75,
   "metadata": {
    "scrolled": true
   },
   "outputs": [
    {
     "data": {
      "text/plain": [
       "12346.0"
      ]
     },
     "execution_count": 75,
     "metadata": {},
     "output_type": "execute_result"
    }
   ],
   "source": [
    "df['CustomerID'].value_counts().index.min()"
   ]
  },
  {
   "cell_type": "code",
   "execution_count": 78,
   "metadata": {
    "scrolled": false
   },
   "outputs": [
    {
     "data": {
      "text/plain": [
       "array([[<matplotlib.axes._subplots.AxesSubplot object at 0x7f0180ebdbe0>]],\n",
       "      dtype=object)"
      ]
     },
     "execution_count": 78,
     "metadata": {},
     "output_type": "execute_result"
    },
    {
     "data": {
      "image/png": "[encoded data removed]",
      "text/plain": [
       "<Figure size 432x288 with 1 Axes>"
      ]
     },
     "metadata": {},
     "output_type": "display_data"
    }
   ],
   "source": [
    "df.hist(column='CustomerID', bins=100)"
   ]
  },
  {
   "cell_type": "code",
   "execution_count": 80,
   "metadata": {},
   "outputs": [],
   "source": [
    "df.dropna().to_csv('customer_supermarket_prepared.csv')"
   ]
  },
  {
   "cell_type": "code",
   "execution_count": null,
   "metadata": {},
   "outputs": [],
   "source": []
  }
 ],
 "metadata": {
  "kernelspec": {
   "display_name": "Python 3",
   "language": "python",
   "name": "python3"
  },
  "language_info": {
   "codemirror_mode": {
    "name": "ipython",
    "version": 3
   },
   "file_extension": ".py",
   "mimetype": "text/x-python",
   "name": "python",
   "nbconvert_exporter": "python",
   "pygments_lexer": "ipython3",
   "version": "3.8.3"
  }
 },
 "nbformat": 4,
 "nbformat_minor": 4
}
